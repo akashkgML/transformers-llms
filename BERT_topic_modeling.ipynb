{
 "cells": [
  {
   "cell_type": "markdown",
   "id": "338247d2-5bb3-44d7-8e35-d80290955278",
   "metadata": {},
   "source": [
    "# BERT - Topic Modeling for Research Articles\n",
    "\n",
    "Data <a href='https://www.kaggle.com/datasets/vin1234/janatahack-independence-day-2020-ml-hackathon?select=train.csv'>\n",
    "KAGGLE Topic Modeling Dataset\n",
    "</a>\n",
    "\n",
    "<font color=\"brown\"><b>Author:</b><br>\n",
    "Akash Kumar Gautam<br>\n",
    "IIT Delhi, Mathematics&Computing<br>\n",
    "9+ years of Experience in Data Science + Machine Learning + Artifical Intelligence\n",
    "</font>"
   ]
  },
  {
   "cell_type": "markdown",
   "id": "20dc97cc-2f1f-4b7f-8f0a-83d98943b7f2",
   "metadata": {},
   "source": [
    "## Introduction\n",
    "\n",
    "<b>What is Topic Modeling?</b>\n",
    "\n",
    "Topic modeling is a statistical technique used to uncover the underlying themes or topics present within a collection of documents. By analyzing the text of research articles—specifically the abstract and title—topic modeling algorithms can identify patterns and group articles based on shared themes. This process involves the use of natural language processing (NLP) and machine learning techniques to extract meaningful insights from unstructured text data.\n",
    "\n",
    "#### Notebook Strategy\n",
    "In this Notebook, we will utilize <font color=brown><b>BertForSequenceClassification</b></font>, a model provided by the Transformers library from HuggingFace. This model is built on the BERT architecture and features a classification head, enabling it to perform predictions at the sequence level.\n",
    "\n",
    "This article explores the concept of <font color=blue>transfer learning</font>, which involves initially pre-training a large neural network in an unsupervised manner, followed by fine-tuning the network for a specific task. In this instance, BERT serves as the pre-trained neural network, having been trained on two tasks: masked language modeling and next sentence prediction.\n",
    "\n",
    "Fine-tuning involves supervised learning, which indicates that a labeled dataset is required.\n",
    "\n",
    "Note:\n",
    "\n",
    "This Notebook presupposes that the reader possesses a fundamental understanding of several key concepts and technologies that are essential for effectively engaging with the content presented herein. Specifically, it assumes familiarity with deep learning, which is a subset of machine learning that focuses on algorithms inspired by the structure and function of the brain, particularly artificial neural networks.\n",
    "\n",
    "Additionally, the reader should have a working knowledge of <font color=blue>BERT (Bidirectional Encoder Representations from Transformers)</font>, a state-of-the-art natural language processing model developed by Google. BERT is designed to understand the context of words in a sentence by considering the words that come before and after them, making it particularly effective for tasks such as text classification, question answering, and language inference.\n",
    "\n",
    "Furthermore, proficiency in the <font color=blue>PyTorch</font> framework is also assumed. PyTorch is an open-source machine learning library widely used for applications in deep learning and artificial intelligence. It provides a flexible and dynamic computational graph, which allows for easy experimentation and debugging, making it a popular choice among researchers and practitioners in the field.\n",
    "\n",
    "In summary, this article is intended for individuals who are already well-versed in these foundational topics, as it will build upon this knowledge to explore more advanced concepts and applications related to deep learning, BERT, and the use of PyTorch for implementing various models and techniques.\n",
    "\n",
    "#### Notebook Sections\n",
    "This Notebook is divided into following sections:\n",
    "\n",
    "<b>A. Setting Environment\n",
    "\n",
    "<b>B. Set the Device (cpu or mps)\n",
    "\n",
    "<b>C. Reading Dataset\n",
    "\n",
    "<b>D. Pre-Processing\n",
    "\n",
    "<b>E. Explore Distribution of Labels\n",
    "\n",
    "<b>F. Stratified Splitting\n",
    "\n",
    "<b>G. Explore Distribution of Labels - Training, Validation and Testing Dataset\n",
    "\n",
    "<b>H. Modeling (includes training Loop)\n",
    "\n",
    "<b>I. Evaluation\n",
    "\n",
    "<b>J. Helper Function to make Predictions\n",
    "\n",
    "<b>K. Inference\n",
    "\n",
    "<b>L. Saving and Loading Utilities for Model</b>"
   ]
  },
  {
   "cell_type": "markdown",
   "id": "a39f206a-9654-4d2b-93d8-2ae07e86d49b",
   "metadata": {},
   "source": [
    "## Problem Statement\n",
    "<p>\n",
    "    Researchers can utilize extensive online repositories of scientific literature. However, this abundance of resources has made it increasingly challenging to locate pertinent articles. Implementing tagging or topic modeling offers a method to assign identifiers to research articles, thereby enhancing the recommendation and search processes.\n",
    "\n",
    "Based on the abstract and title of a collection of research articles, forecast the topics for each article within the test set.\n",
    "\n",
    "Note: It is important to recognize that a research article may encompass multiple topics. The abstracts and titles of the research articles are derived from the following six topics:\n",
    "\n",
    "1. Computer Science\n",
    "2. Physics\n",
    "3. Mathematics\n",
    "4. Statistics\n",
    "5. Quantitative Biology\n",
    "6. Quantitative Finance\n",
    "</p>"
   ]
  },
  {
   "cell_type": "markdown",
   "id": "ff5c696c-48da-4874-af7d-3a8b9257e580",
   "metadata": {},
   "source": [
    "## A. Setting Up the Environment and Import Libraries"
   ]
  },
  {
   "cell_type": "code",
   "execution_count": 316,
   "id": "069d045a-2543-404b-a71b-b516418d689d",
   "metadata": {},
   "outputs": [],
   "source": [
    "# Uncomment to install libraries\n",
    "# !pip install pandas\n",
    "# !pip install numpy\n",
    "# !pip install scikit-learn\n",
    "# !pip install torch\n",
    "# !pip install transformers\n",
    "# !pip install matplotlib\n",
    "# !pip install seaborn\n",
    "# !pip install scikit-multilearn\n",
    "# !pip install pylatexenc\n",
    "\n",
    "# Note: For zsh shell remove exclamation (!) mark"
   ]
  },
  {
   "cell_type": "code",
   "execution_count": 2,
   "id": "ff2e0eb2-f7a4-40a1-8a82-791bcf336a69",
   "metadata": {},
   "outputs": [],
   "source": [
    "import collections\n",
    "from itertools import chain\n",
    "import random\n",
    "import copy\n",
    "import itertools\n",
    "import re\n",
    "\n",
    "import pandas as pd\n",
    "import numpy as np\n",
    "\n",
    "\n",
    "from sklearn.model_selection import train_test_split\n",
    "from sklearn.metrics import f1_score, accuracy_score, precision_score, recall_score\n",
    "from sklearn.metrics import confusion_matrix, multilabel_confusion_matrix\n",
    "from sklearn.preprocessing import MultiLabelBinarizer\n",
    "from skmultilearn.model_selection import iterative_train_test_split\n",
    "\n",
    "from pylatexenc.latex2text import LatexNodes2Text\n",
    "\n",
    "import torch\n",
    "from torch import nn\n",
    "from torch.utils.data import Dataset, DataLoader\n",
    "from torch.utils.data import RandomSampler, SequentialSampler\n",
    "from torch.utils.data import TensorDataset, random_split\n",
    "from torch.optim import AdamW\n",
    "\n",
    "from transformers import BertTokenizer\n",
    "from transformers import BertForSequenceClassification\n",
    "from transformers import get_linear_schedule_with_warmup\n",
    "\n",
    "import matplotlib.pyplot as plt\n",
    "import seaborn as sns\n",
    "\n",
    "# set the option to display all columns\n",
    "pd.set_option('display.max_columns', None)"
   ]
  },
  {
   "cell_type": "markdown",
   "id": "9914e856-c156-48fa-b4c2-90bf68619350",
   "metadata": {},
   "source": [
    "## B. Set Device - Check if MPS (Metal Performance Shaders) is available\n",
    "PyTorch uses the new Metal Performance Shaders (MPS) backend for GPU training acceleration. This MPS backend extends the PyTorch framework, providing scripts and capabilities to set up and run operations on Mac."
   ]
  },
  {
   "cell_type": "code",
   "execution_count": 3,
   "id": "3c7d0f70-95ff-45a9-81c9-302077d94165",
   "metadata": {},
   "outputs": [],
   "source": [
    "# Function to get device\n",
    "def get_device(force_cpu_device=False):\n",
    "    \n",
    "    # default device\n",
    "    device = torch.device('cpu')\n",
    "    \n",
    "    # Check that MPS  is available\n",
    "    if not torch.backends.mps.is_available():\n",
    "        if not torch.backends.mps.is_built():\n",
    "            print(\"MPS not available because the current PyTorch install was not \"\n",
    "                  \"built with MPS enabled.\")\n",
    "        else:\n",
    "            print(\"MPS not available because the current MacOS version is not 12.3+ \"\n",
    "                  \"and/or you do not have an MPS-enabled device on this machine.\")\n",
    "\n",
    "    else:\n",
    "        mps_device = torch.device(\"mps\")\n",
    "        device = mps_device\n",
    "        print(\"mps device found\")\n",
    "        \n",
    "    # Force to use the cpu device\n",
    "    if force_cpu_device:\n",
    "        print(\"force to use cpu\")\n",
    "        device = torch.device('cpu')\n",
    "        \n",
    "    return device"
   ]
  },
  {
   "cell_type": "markdown",
   "id": "c57d4588-7fc5-4065-8dcd-72ef88919d31",
   "metadata": {},
   "source": [
    "#### Get the device "
   ]
  },
  {
   "cell_type": "code",
   "execution_count": 4,
   "id": "842f8d33-f8d2-40ab-91e8-457d912a8224",
   "metadata": {},
   "outputs": [
    {
     "name": "stdout",
     "output_type": "stream",
     "text": [
      "mps device found\n",
      "device to be used: mps\n"
     ]
    }
   ],
   "source": [
    "# get the device\n",
    "device = get_device()\n",
    "\n",
    "# device info\n",
    "print(f\"device to be used: {device}\")"
   ]
  },
  {
   "cell_type": "markdown",
   "id": "28033aad-bb44-4535-b7b4-85fb27eda1ee",
   "metadata": {},
   "source": [
    "## C. Reading Dataset\n",
    "Load the training and testing dataset provided from the specified path into a pandas dataframe."
   ]
  },
  {
   "cell_type": "code",
   "execution_count": 6,
   "id": "ee78fc4a-9818-4b85-84a0-f10448fad832",
   "metadata": {},
   "outputs": [],
   "source": [
    "# Note: You can download the data from the Kaggle from the link below:\n",
    "# train - https://www.kaggle.com/datasets/vin1234/janatahack-independence-day-2020-ml-hackathon?select=train.csv\n",
    "# test - https://www.kaggle.com/datasets/vin1234/janatahack-independence-day-2020-ml-hackathon?select=test.csv\n",
    "\n",
    "# set the filepath for KAGGLE train Dataset\n",
    "train_file_path = \"/Users/akg/jupyter/kaggle/article_subject_identification/data/train.csv\"\n",
    "\n",
    "# set the filepath for KAGGLE train Dataset\n",
    "test_file_path = \"/Users/akg/jupyter/kaggle/article_subject_identification/data/test.csv\"\n",
    "\n",
    "# read the raw train data\n",
    "train_data = pd.read_csv(train_file_path, encoding='utf8')\n",
    "\n",
    "# read the raw train data\n",
    "test_data = pd.read_csv(test_file_path, encoding='utf8')"
   ]
  },
  {
   "cell_type": "markdown",
   "id": "0b642a04-7f90-443d-8bfe-53b8a026c3bb",
   "metadata": {},
   "source": [
    "##### Peek into raw training data "
   ]
  },
  {
   "cell_type": "code",
   "execution_count": 7,
   "id": "2515ed39-16e7-4478-9794-591cde500009",
   "metadata": {},
   "outputs": [
    {
     "data": {
      "text/html": [
       "<div>\n",
       "<style scoped>\n",
       "    .dataframe tbody tr th:only-of-type {\n",
       "        vertical-align: middle;\n",
       "    }\n",
       "\n",
       "    .dataframe tbody tr th {\n",
       "        vertical-align: top;\n",
       "    }\n",
       "\n",
       "    .dataframe thead th {\n",
       "        text-align: right;\n",
       "    }\n",
       "</style>\n",
       "<table border=\"1\" class=\"dataframe\">\n",
       "  <thead>\n",
       "    <tr style=\"text-align: right;\">\n",
       "      <th></th>\n",
       "      <th>ID</th>\n",
       "      <th>TITLE</th>\n",
       "      <th>ABSTRACT</th>\n",
       "      <th>Computer Science</th>\n",
       "      <th>Physics</th>\n",
       "      <th>Mathematics</th>\n",
       "      <th>Statistics</th>\n",
       "      <th>Quantitative Biology</th>\n",
       "      <th>Quantitative Finance</th>\n",
       "    </tr>\n",
       "  </thead>\n",
       "  <tbody>\n",
       "    <tr>\n",
       "      <th>0</th>\n",
       "      <td>1</td>\n",
       "      <td>Reconstructing Subject-Specific Effect Maps</td>\n",
       "      <td>Predictive models allow subject-specific inf...</td>\n",
       "      <td>1</td>\n",
       "      <td>0</td>\n",
       "      <td>0</td>\n",
       "      <td>0</td>\n",
       "      <td>0</td>\n",
       "      <td>0</td>\n",
       "    </tr>\n",
       "    <tr>\n",
       "      <th>1</th>\n",
       "      <td>2</td>\n",
       "      <td>Rotation Invariance Neural Network</td>\n",
       "      <td>Rotation invariance and translation invarian...</td>\n",
       "      <td>1</td>\n",
       "      <td>0</td>\n",
       "      <td>0</td>\n",
       "      <td>0</td>\n",
       "      <td>0</td>\n",
       "      <td>0</td>\n",
       "    </tr>\n",
       "    <tr>\n",
       "      <th>2</th>\n",
       "      <td>3</td>\n",
       "      <td>Spherical polyharmonics and Poisson kernels fo...</td>\n",
       "      <td>We introduce and develop the notion of spher...</td>\n",
       "      <td>0</td>\n",
       "      <td>0</td>\n",
       "      <td>1</td>\n",
       "      <td>0</td>\n",
       "      <td>0</td>\n",
       "      <td>0</td>\n",
       "    </tr>\n",
       "    <tr>\n",
       "      <th>3</th>\n",
       "      <td>4</td>\n",
       "      <td>A finite element approximation for the stochas...</td>\n",
       "      <td>The stochastic Landau--Lifshitz--Gilbert (LL...</td>\n",
       "      <td>0</td>\n",
       "      <td>0</td>\n",
       "      <td>1</td>\n",
       "      <td>0</td>\n",
       "      <td>0</td>\n",
       "      <td>0</td>\n",
       "    </tr>\n",
       "    <tr>\n",
       "      <th>4</th>\n",
       "      <td>5</td>\n",
       "      <td>Comparative study of Discrete Wavelet Transfor...</td>\n",
       "      <td>Fourier-transform infra-red (FTIR) spectra o...</td>\n",
       "      <td>1</td>\n",
       "      <td>0</td>\n",
       "      <td>0</td>\n",
       "      <td>1</td>\n",
       "      <td>0</td>\n",
       "      <td>0</td>\n",
       "    </tr>\n",
       "  </tbody>\n",
       "</table>\n",
       "</div>"
      ],
      "text/plain": [
       "   ID                                              TITLE  \\\n",
       "0   1        Reconstructing Subject-Specific Effect Maps   \n",
       "1   2                 Rotation Invariance Neural Network   \n",
       "2   3  Spherical polyharmonics and Poisson kernels fo...   \n",
       "3   4  A finite element approximation for the stochas...   \n",
       "4   5  Comparative study of Discrete Wavelet Transfor...   \n",
       "\n",
       "                                            ABSTRACT  Computer Science  \\\n",
       "0    Predictive models allow subject-specific inf...                 1   \n",
       "1    Rotation invariance and translation invarian...                 1   \n",
       "2    We introduce and develop the notion of spher...                 0   \n",
       "3    The stochastic Landau--Lifshitz--Gilbert (LL...                 0   \n",
       "4    Fourier-transform infra-red (FTIR) spectra o...                 1   \n",
       "\n",
       "   Physics  Mathematics  Statistics  Quantitative Biology  \\\n",
       "0        0            0           0                     0   \n",
       "1        0            0           0                     0   \n",
       "2        0            1           0                     0   \n",
       "3        0            1           0                     0   \n",
       "4        0            0           1                     0   \n",
       "\n",
       "   Quantitative Finance  \n",
       "0                     0  \n",
       "1                     0  \n",
       "2                     0  \n",
       "3                     0  \n",
       "4                     0  "
      ]
     },
     "execution_count": 7,
     "metadata": {},
     "output_type": "execute_result"
    }
   ],
   "source": [
    "train_data.head()"
   ]
  },
  {
   "cell_type": "markdown",
   "id": "38c73894-6883-469d-9a5d-41a06c64e4f5",
   "metadata": {},
   "source": [
    "##### Peek into raw testing data"
   ]
  },
  {
   "cell_type": "code",
   "execution_count": 8,
   "id": "d884c428-98e2-40da-8e11-d8c0417246e3",
   "metadata": {},
   "outputs": [
    {
     "data": {
      "text/html": [
       "<div>\n",
       "<style scoped>\n",
       "    .dataframe tbody tr th:only-of-type {\n",
       "        vertical-align: middle;\n",
       "    }\n",
       "\n",
       "    .dataframe tbody tr th {\n",
       "        vertical-align: top;\n",
       "    }\n",
       "\n",
       "    .dataframe thead th {\n",
       "        text-align: right;\n",
       "    }\n",
       "</style>\n",
       "<table border=\"1\" class=\"dataframe\">\n",
       "  <thead>\n",
       "    <tr style=\"text-align: right;\">\n",
       "      <th></th>\n",
       "      <th>ID</th>\n",
       "      <th>TITLE</th>\n",
       "      <th>ABSTRACT</th>\n",
       "    </tr>\n",
       "  </thead>\n",
       "  <tbody>\n",
       "    <tr>\n",
       "      <th>0</th>\n",
       "      <td>20973</td>\n",
       "      <td>Closed-form Marginal Likelihood in Gamma-Poiss...</td>\n",
       "      <td>We present novel understandings of the Gamma...</td>\n",
       "    </tr>\n",
       "    <tr>\n",
       "      <th>1</th>\n",
       "      <td>20974</td>\n",
       "      <td>Laboratory mid-IR spectra of equilibrated and ...</td>\n",
       "      <td>Meteorites contain minerals from Solar Syste...</td>\n",
       "    </tr>\n",
       "    <tr>\n",
       "      <th>2</th>\n",
       "      <td>20975</td>\n",
       "      <td>Case For Static AMSDU Aggregation in WLANs</td>\n",
       "      <td>Frame aggregation is a mechanism by which mu...</td>\n",
       "    </tr>\n",
       "    <tr>\n",
       "      <th>3</th>\n",
       "      <td>20976</td>\n",
       "      <td>The $Gaia$-ESO Survey: the inner disk intermed...</td>\n",
       "      <td>Milky Way open clusters are very diverse in ...</td>\n",
       "    </tr>\n",
       "    <tr>\n",
       "      <th>4</th>\n",
       "      <td>20977</td>\n",
       "      <td>Witness-Functions versus Interpretation-Functi...</td>\n",
       "      <td>Proving that a cryptographic protocol is cor...</td>\n",
       "    </tr>\n",
       "  </tbody>\n",
       "</table>\n",
       "</div>"
      ],
      "text/plain": [
       "      ID                                              TITLE  \\\n",
       "0  20973  Closed-form Marginal Likelihood in Gamma-Poiss...   \n",
       "1  20974  Laboratory mid-IR spectra of equilibrated and ...   \n",
       "2  20975         Case For Static AMSDU Aggregation in WLANs   \n",
       "3  20976  The $Gaia$-ESO Survey: the inner disk intermed...   \n",
       "4  20977  Witness-Functions versus Interpretation-Functi...   \n",
       "\n",
       "                                            ABSTRACT  \n",
       "0    We present novel understandings of the Gamma...  \n",
       "1    Meteorites contain minerals from Solar Syste...  \n",
       "2    Frame aggregation is a mechanism by which mu...  \n",
       "3    Milky Way open clusters are very diverse in ...  \n",
       "4    Proving that a cryptographic protocol is cor...  "
      ]
     },
     "execution_count": 8,
     "metadata": {},
     "output_type": "execute_result"
    }
   ],
   "source": [
    "test_data.head()"
   ]
  },
  {
   "cell_type": "markdown",
   "id": "5b75be1f-0377-4c1d-b1eb-1911cdbab4d5",
   "metadata": {},
   "source": [
    "## D. Preprocessing Data"
   ]
  },
  {
   "cell_type": "markdown",
   "id": "4711d894-3e2e-4477-b959-d48bd1bf6638",
   "metadata": {},
   "source": [
    "### 1. Raw Statistics of the Training Data + Testing Data"
   ]
  },
  {
   "cell_type": "code",
   "execution_count": 9,
   "id": "90120b0b-ac8a-4228-abf3-343573d36880",
   "metadata": {},
   "outputs": [
    {
     "name": "stdout",
     "output_type": "stream",
     "text": [
      "--- Training Data ---\n",
      "Total columns in raw training dataset:\t 20972\n",
      "Total rows in raw training dataset:\t 9\n",
      "All training columns: ['ID', 'TITLE', 'ABSTRACT', 'Computer Science', 'Physics', 'Mathematics', 'Statistics', 'Quantitative Biology', 'Quantitative Finance']\n",
      "\n",
      "---Testing Data--\n",
      "Total columns in raw testing dataset:\t 8989\n",
      "Total rows in raw testing dataset:\t 3\n",
      "All testing columns: ['ID', 'TITLE', 'ABSTRACT']\n"
     ]
    }
   ],
   "source": [
    "# ---- Training Data ----------\n",
    "# num of rows\n",
    "train_num_rows = train_data.shape[0]\n",
    "# num of cols\n",
    "train_num_cols = train_data.shape[1]\n",
    "# get the list of all columns\n",
    "all_train_cols = list(train_data.columns)\n",
    "\n",
    "# ---- Testing Data ----------\n",
    "# num of rows\n",
    "test_num_rows = test_data.shape[0]\n",
    "# num of cols\n",
    "test_num_cols = test_data.shape[1]\n",
    "# get the list of all columns\n",
    "all_test_cols = list(test_data.columns)\n",
    "\n",
    "print(\"--- Training Data ---\")\n",
    "print(f\"Total columns in raw training dataset:\\t {train_num_rows}\")\n",
    "print(f\"Total rows in raw training dataset:\\t {train_num_cols}\")\n",
    "print(f\"All training columns: {all_train_cols}\")\n",
    "\n",
    "print(\"\\n---Testing Data--\")\n",
    "print(f\"Total columns in raw testing dataset:\\t {test_num_rows}\")\n",
    "print(f\"Total rows in raw testing dataset:\\t {test_num_cols}\")\n",
    "print(f\"All testing columns: {all_test_cols}\")"
   ]
  },
  {
   "cell_type": "markdown",
   "id": "e6fc7858-4e9a-45e9-b9d3-a482ee2bd860",
   "metadata": {},
   "source": [
    "### 2. Analyze the <font color=blue>raw training dataset</font> to perform some basic necessary checks to validate the data "
   ]
  },
  {
   "cell_type": "markdown",
   "id": "c6505f1a-2a3e-430d-b780-31298b3165fd",
   "metadata": {},
   "source": [
    "#### 2.1 Check for duplicate IDs\n",
    "<p>\n",
    "    Check if the <b>ID</b> column have <font color=brown><b>unique</b></font> values in raw training dataset. We are doing this step just to make sure and double\n",
    "    check that ID do not have any duplicate values.\n",
    "</p>"
   ]
  },
  {
   "cell_type": "code",
   "execution_count": 10,
   "id": "7c3dbb84-b605-4cda-b044-016d6006d386",
   "metadata": {},
   "outputs": [
    {
     "name": "stdout",
     "output_type": "stream",
     "text": [
      "Does IDs in training data have duplicate values? False\n"
     ]
    }
   ],
   "source": [
    "# check if ID have duplication in Training data\n",
    "train_id_check_ = train_data['ID'].duplicated().any()\n",
    "print(f\"Does IDs in training data have duplicate values? {train_id_check_}\")"
   ]
  },
  {
   "cell_type": "markdown",
   "id": "cc76f5aa-e077-42b4-8cf7-87938b0c5766",
   "metadata": {},
   "source": [
    "### 3. Set the target Columns\n",
    "<p> <b>Set</b> the <font color=brown><b>Target</b></font> variable from the raw training data</p>"
   ]
  },
  {
   "cell_type": "code",
   "execution_count": 11,
   "id": "c98767f3-02dc-4ab3-be1d-1d2038e2ac76",
   "metadata": {},
   "outputs": [],
   "source": [
    "targets = ['Computer Science', 'Physics', 'Mathematics', 'Statistics', 'Quantitative Biology', 'Quantitative Finance']"
   ]
  },
  {
   "cell_type": "markdown",
   "id": "77bddc08-48a6-4d28-bfa8-626e0743f7c3",
   "metadata": {},
   "source": [
    "### 4. Convert Latex encodd text into plain text + replace newline character by a space ' '\n",
    "<p>\n",
    "    Generally, Research paper includes latex encoded text to create equations. So we need to decode to this\n",
    "    encoded latex into plain text. For example <b>\\$\\\\\\theta$</b> should get resolve into <b>θ</b>. Also, it can be see that there is a newline character '\\n'\n",
    "    present inside the text. So we need to remove this by a space ' '.\n",
    "</p>"
   ]
  },
  {
   "cell_type": "markdown",
   "id": "d80c6b2c-5ef3-4980-a861-65818109aff2",
   "metadata": {},
   "source": [
    "#### 4.1. Lets peek into a random text"
   ]
  },
  {
   "cell_type": "code",
   "execution_count": 12,
   "id": "20e2b151-9421-4999-9b3c-53552f4cf07d",
   "metadata": {},
   "outputs": [
    {
     "data": {
      "text/plain": [
       "'  The stochastic Landau--Lifshitz--Gilbert (LLG) equation coupled with the\\nMaxwell equations (the so called stochastic MLLG system) describes the creation\\nof domain walls and vortices (fundamental objects for the novel nanostructured\\nmagnetic memories). We first reformulate the stochastic LLG equation into an\\nequation with time-differentiable solutions. We then propose a convergent\\n$\\\\theta$-linear scheme to approximate the solutions of the reformulated system.\\nAs a consequence, we prove convergence of the approximate solutions, with no or\\nminor conditions on time and space steps (depending on the value of $\\\\theta$).\\nHence, we prove the existence of weak martingale solutions of the stochastic\\nMLLG system. Numerical results are presented to show applicability of the\\nmethod.\\n'"
      ]
     },
     "execution_count": 12,
     "metadata": {},
     "output_type": "execute_result"
    }
   ],
   "source": [
    "train_data.iloc[3]['ABSTRACT']"
   ]
  },
  {
   "cell_type": "markdown",
   "id": "54017ff8-351e-4844-9ad0-d04e1b501623",
   "metadata": {},
   "source": [
    "#### 4.2. Convert latext text to plain text "
   ]
  },
  {
   "cell_type": "code",
   "execution_count": 13,
   "id": "59ae7773-0be9-4cee-88a6-4189a99f713c",
   "metadata": {},
   "outputs": [
    {
     "name": "stderr",
     "output_type": "stream",
     "text": [
      "WARNING: Error in configuration: macro '\\frac' failed its substitution!\n"
     ]
    }
   ],
   "source": [
    "train_data['TITLE'] = train_data['TITLE'].apply(lambda x: LatexNodes2Text().latex_to_text(x.replace('\\n', ' ')))\n",
    "train_data['ABSTRACT'] = train_data['ABSTRACT'].apply(lambda x: LatexNodes2Text().latex_to_text(x.replace('\\n', ' ')))"
   ]
  },
  {
   "cell_type": "markdown",
   "id": "2182c921-3b54-443f-90dc-931b96572c79",
   "metadata": {},
   "source": [
    "### 5. Set the feature 'text' column\n",
    "<p>In our research paper, we incorporate both a title and an abstract, each presented in a textual format. The title serves as a concise representation of the main topic or focus of the research, while the abstract provides a brief summary of the key objectives, methodologies, findings, and implications of the study. To enhance our analysis and improve the effectiveness of our feature extraction process, we will merge these two elements into a single, cohesive set of textual data. This unified dataset will allow us to leverage the combined information from both the title and the abstract, facilitating a more comprehensive understanding of the research content. By treating the merged text as a singular feature, we aim to capture the essence of the research more effectively, which can be beneficial for various applications such as text classification, information retrieval, and machine learning models. This approach not only streamlines our data processing but also enriches the contextual information available for further analysis.</p>"
   ]
  },
  {
   "cell_type": "code",
   "execution_count": 14,
   "id": "4bbb9835-6ada-404b-9212-654144e8fa5b",
   "metadata": {},
   "outputs": [],
   "source": [
    "# create a 'text' column by combining the textual information from title + abstract data\n",
    "train_data['text'] = train_data['TITLE'] + train_data['ABSTRACT']"
   ]
  },
  {
   "cell_type": "markdown",
   "id": "3bc6cae0-f234-4d09-a6c2-f341a607e688",
   "metadata": {},
   "source": [
    "#### 5.1. Peek into the text column "
   ]
  },
  {
   "cell_type": "code",
   "execution_count": 15,
   "id": "aa918fd7-edfd-499f-8c84-b6d3172044b4",
   "metadata": {},
   "outputs": [
    {
     "data": {
      "text/plain": [
       "'A finite element approximation for the stochastic Maxwell–Landau–Lifshitz–Gilbert system  The stochastic Landau–Lifshitz–Gilbert (LLG) equation coupled with the Maxwell equations (the so called stochastic MLLG system) describes the creation of domain walls and vortices (fundamental objects for the novel nanostructured magnetic memories). We first reformulate the stochastic LLG equation into an equation with time-differentiable solutions. We then propose a convergent θ-linear scheme to approximate the solutions of the reformulated system. As a consequence, we prove convergence of the approximate solutions, with no or minor conditions on time and space steps (depending on the value of θ). Hence, we prove the existence of weak martingale solutions of the stochastic MLLG system. Numerical results are presented to show applicability of the method. '"
      ]
     },
     "execution_count": 15,
     "metadata": {},
     "output_type": "execute_result"
    }
   ],
   "source": [
    "train_data['text'][3]"
   ]
  },
  {
   "cell_type": "markdown",
   "id": "eb3a43e5-0b8a-4a3b-a296-36cd2200ea18",
   "metadata": {},
   "source": [
    "<b>Observation</b>\n",
    "<p>\n",
    "    Now it can be seen that latex encode text are converted into plain readable text. Also there is no newline character present inside the text.\n",
    "</p>"
   ]
  },
  {
   "cell_type": "markdown",
   "id": "d0d063fc-b7e5-453a-b481-bcaa60e02f13",
   "metadata": {},
   "source": [
    "### 6. Further preprocess the text using the following function to make the text cleaner"
   ]
  },
  {
   "cell_type": "code",
   "execution_count": 16,
   "id": "2b41e89c-1369-4d26-8128-491c52674178",
   "metadata": {},
   "outputs": [],
   "source": [
    "def text_preprocessing(text):\n",
    "    \"\"\"\n",
    "    - Remove entity mentions (eg. '@united')\n",
    "    - Correct errors (eg. '&amp;' to '&')\n",
    "    Inputs\n",
    "    -------\n",
    "    text (str): a string to be processed and clean\n",
    "\n",
    "    Returns\n",
    "    --------\n",
    "    text (Str): the processed clean string.\n",
    "    \"\"\"\n",
    "    \n",
    "    text = text.lower()\n",
    "    text = re.sub(r\"\\'s\", \" \", text)\n",
    "    text = re.sub(r\"\\'ve\", \" have \", text)\n",
    "    text = re.sub(r\"n't\", \" not \", text)\n",
    "    text = re.sub(r\"i'm\", \"i am \", text)\n",
    "    text = re.sub(r\"\\'re\", \" are \", text)\n",
    "    text = re.sub(r\"\\'d\", \" would \", text)\n",
    "    text = re.sub(r\"\\'ll\", \" will \", text)\n",
    "    text = re.sub(r\"\\'scuse\", \" excuse \", text)\n",
    "    text = re.sub(r\"\\'\\n\", \" \", text)\n",
    "    text = re.sub(r\" \\ \", \" \", text)\n",
    "    text = re.sub(r\"\\'\\xa0\", \" \", text)\n",
    "    text = re.sub(r'\\s+', ' ', text)\n",
    "    text = re.sub(r'//', ' ', text)\n",
    "    \n",
    "    # Remove '@name'\n",
    "    text = re.sub(r'(@.*?)[\\s]', ' ', text)\n",
    "\n",
    "    # Substitue '&amp;' with '&'\n",
    "    text = re.sub(r'&amp;', '&', text)\n",
    "\n",
    "    # Remove trailing whitespaces\n",
    "    text = re.sub(r'\\s+', ' ', text).strip()\n",
    "\n",
    "    return text"
   ]
  },
  {
   "cell_type": "markdown",
   "id": "0cb20361-abb8-4b79-89f2-25f5114b915e",
   "metadata": {},
   "source": [
    "#### 6.1. Apply the preprocessing function "
   ]
  },
  {
   "cell_type": "code",
   "execution_count": 17,
   "id": "8e1b961e-99d8-48cd-a86e-9a908709a6a0",
   "metadata": {},
   "outputs": [],
   "source": [
    "train_data['text'] = train_data['text'].apply(text_preprocessing)"
   ]
  },
  {
   "cell_type": "markdown",
   "id": "1063da9e-ded9-479d-940e-4767b1ba5934",
   "metadata": {},
   "source": [
    "#### 6.2. Peek into a random row "
   ]
  },
  {
   "cell_type": "code",
   "execution_count": 18,
   "id": "11b2f1d6-7874-45a5-9bb1-b9345b91bee7",
   "metadata": {},
   "outputs": [
    {
     "data": {
      "text/plain": [
       "array([6221, '99',\n",
       "       '  It is well known that many optimization methods, including SGD, SAGA, and Accelerated SGD for over-parameterized models, do not scale linearly in the parallel setting. In this paper, we present a new version of block coordinate descent that solves this issue for a number of methods. The core idea is to make the sampling of coordinate blocks on each parallel unit independent of the others. Surprisingly, we prove that the optimal number of blocks to be updated by each of n units in every iteration is equal to m/n, where m is the total number of blocks. As an illustration, this means that when n=100 parallel units are used, 99% of work is a waste of time. We demonstrate that with m/n blocks used by each unit the iteration complexity often remains the same. Among other applications which we mention, this fact can be exploited in the setting of distributed optimization to break the communication bottleneck. Our claims are justified by numerical experiments which demonstrate almost a perfect match with our theory on a number of datasets. ',\n",
       "       1, 0, 0, 1, 0, 0,\n",
       "       '99 it is well known that many optimization methods, including sgd, saga, and accelerated sgd for over-parameterized models, do not scale linearly in the parallel setting. in this paper, we present a new version of block coordinate descent that solves this issue for a number of methods. the core idea is to make the sampling of coordinate blocks on each parallel unit independent of the others. surprisingly, we prove that the optimal number of blocks to be updated by each of n units in every iteration is equal to m/n, where m is the total number of blocks. as an illustration, this means that when n=100 parallel units are used, 99% of work is a waste of time. we demonstrate that with m/n blocks used by each unit the iteration complexity often remains the same. among other applications which we mention, this fact can be exploited in the setting of distributed optimization to break the communication bottleneck. our claims are justified by numerical experiments which demonstrate almost a perfect match with our theory on a number of datasets.'],\n",
       "      dtype=object)"
      ]
     },
     "execution_count": 18,
     "metadata": {},
     "output_type": "execute_result"
    }
   ],
   "source": [
    "train_data.iloc[6220].values"
   ]
  },
  {
   "cell_type": "markdown",
   "id": "b69bb51e-64b9-4ada-b984-ff33c5841dbb",
   "metadata": {},
   "source": [
    "### 7. Drop the unwanted columns\n",
    "<p>Let us now drop the columns 'TITLE' and 'ABSTRACT' as they are no longer needed</p>"
   ]
  },
  {
   "cell_type": "code",
   "execution_count": 19,
   "id": "db36bb05-c073-4dd6-99b8-8b62109a82bd",
   "metadata": {},
   "outputs": [],
   "source": [
    "train_data.drop(columns=['TITLE', 'ABSTRACT'], inplace=True)\n",
    "\n",
    "# rearrange the columns\n",
    "train_data = train_data[['text'] + targets]"
   ]
  },
  {
   "cell_type": "markdown",
   "id": "8a3b1b92-046a-4dce-90b9-6da28b44fe02",
   "metadata": {},
   "source": [
    "#### 7.1. Verify if the columns are indeed dropped "
   ]
  },
  {
   "cell_type": "code",
   "execution_count": 20,
   "id": "0be2b09f-f637-4414-b212-6aff75dffe6a",
   "metadata": {},
   "outputs": [
    {
     "data": {
      "text/html": [
       "<div>\n",
       "<style scoped>\n",
       "    .dataframe tbody tr th:only-of-type {\n",
       "        vertical-align: middle;\n",
       "    }\n",
       "\n",
       "    .dataframe tbody tr th {\n",
       "        vertical-align: top;\n",
       "    }\n",
       "\n",
       "    .dataframe thead th {\n",
       "        text-align: right;\n",
       "    }\n",
       "</style>\n",
       "<table border=\"1\" class=\"dataframe\">\n",
       "  <thead>\n",
       "    <tr style=\"text-align: right;\">\n",
       "      <th></th>\n",
       "      <th>text</th>\n",
       "      <th>Computer Science</th>\n",
       "      <th>Physics</th>\n",
       "      <th>Mathematics</th>\n",
       "      <th>Statistics</th>\n",
       "      <th>Quantitative Biology</th>\n",
       "      <th>Quantitative Finance</th>\n",
       "    </tr>\n",
       "  </thead>\n",
       "  <tbody>\n",
       "    <tr>\n",
       "      <th>0</th>\n",
       "      <td>reconstructing subject-specific effect maps pr...</td>\n",
       "      <td>1</td>\n",
       "      <td>0</td>\n",
       "      <td>0</td>\n",
       "      <td>0</td>\n",
       "      <td>0</td>\n",
       "      <td>0</td>\n",
       "    </tr>\n",
       "    <tr>\n",
       "      <th>1</th>\n",
       "      <td>rotation invariance neural network rotation in...</td>\n",
       "      <td>1</td>\n",
       "      <td>0</td>\n",
       "      <td>0</td>\n",
       "      <td>0</td>\n",
       "      <td>0</td>\n",
       "      <td>0</td>\n",
       "    </tr>\n",
       "    <tr>\n",
       "      <th>2</th>\n",
       "      <td>spherical polyharmonics and poisson kernels fo...</td>\n",
       "      <td>0</td>\n",
       "      <td>0</td>\n",
       "      <td>1</td>\n",
       "      <td>0</td>\n",
       "      <td>0</td>\n",
       "      <td>0</td>\n",
       "    </tr>\n",
       "    <tr>\n",
       "      <th>3</th>\n",
       "      <td>a finite element approximation for the stochas...</td>\n",
       "      <td>0</td>\n",
       "      <td>0</td>\n",
       "      <td>1</td>\n",
       "      <td>0</td>\n",
       "      <td>0</td>\n",
       "      <td>0</td>\n",
       "    </tr>\n",
       "    <tr>\n",
       "      <th>4</th>\n",
       "      <td>comparative study of discrete wavelet transfor...</td>\n",
       "      <td>1</td>\n",
       "      <td>0</td>\n",
       "      <td>0</td>\n",
       "      <td>1</td>\n",
       "      <td>0</td>\n",
       "      <td>0</td>\n",
       "    </tr>\n",
       "  </tbody>\n",
       "</table>\n",
       "</div>"
      ],
      "text/plain": [
       "                                                text  Computer Science  \\\n",
       "0  reconstructing subject-specific effect maps pr...                 1   \n",
       "1  rotation invariance neural network rotation in...                 1   \n",
       "2  spherical polyharmonics and poisson kernels fo...                 0   \n",
       "3  a finite element approximation for the stochas...                 0   \n",
       "4  comparative study of discrete wavelet transfor...                 1   \n",
       "\n",
       "   Physics  Mathematics  Statistics  Quantitative Biology  \\\n",
       "0        0            0           0                     0   \n",
       "1        0            0           0                     0   \n",
       "2        0            1           0                     0   \n",
       "3        0            1           0                     0   \n",
       "4        0            0           1                     0   \n",
       "\n",
       "   Quantitative Finance  \n",
       "0                     0  \n",
       "1                     0  \n",
       "2                     0  \n",
       "3                     0  \n",
       "4                     0  "
      ]
     },
     "execution_count": 20,
     "metadata": {},
     "output_type": "execute_result"
    }
   ],
   "source": [
    "train_data.head()"
   ]
  },
  {
   "cell_type": "markdown",
   "id": "861b2581-412f-4010-ad47-bf8a482f8e73",
   "metadata": {},
   "source": [
    "### 8. Create additional columns to get an idea of sentence length, bert tokens length "
   ]
  },
  {
   "cell_type": "code",
   "execution_count": 21,
   "id": "781574d7-6881-4653-b445-a921f2caca51",
   "metadata": {},
   "outputs": [],
   "source": [
    "# set the tokenizer\n",
    "tokenizer = BertTokenizer.from_pretrained('bert-base-uncased', clean_up_tokenization_spaces=True)"
   ]
  },
  {
   "cell_type": "markdown",
   "id": "dce9a260-4b82-4a96-b5a0-48a070749df2",
   "metadata": {},
   "source": [
    "#### 8.1. Create column to store sentence length"
   ]
  },
  {
   "cell_type": "code",
   "execution_count": 22,
   "id": "ac92aea6-460f-46cc-b10d-3bbd39901592",
   "metadata": {},
   "outputs": [],
   "source": [
    "train_data['num_words'] = train_data['text'].apply(lambda x: len(x.split(' ')))"
   ]
  },
  {
   "cell_type": "markdown",
   "id": "faf1f0d1-fe6b-4b17-9eb6-7b5e2e6ce3f1",
   "metadata": {},
   "source": [
    "#### 8.2. Create column to store num of tokens (after tokenizing text) "
   ]
  },
  {
   "cell_type": "code",
   "execution_count": 23,
   "id": "a52be1fe-d088-465a-894d-a0949de37ced",
   "metadata": {},
   "outputs": [],
   "source": [
    "train_data['num_tokens'] = train_data['text'].apply(lambda x: len(tokenizer.tokenize(x)))"
   ]
  },
  {
   "cell_type": "markdown",
   "id": "39284b36-3be9-403a-9578-55cb38365c75",
   "metadata": {},
   "source": [
    "#### 8.3. Create a column to store the difference between number of words and number of tokens "
   ]
  },
  {
   "cell_type": "code",
   "execution_count": 24,
   "id": "7ea854d6-516e-4779-bec9-f37a74ce4386",
   "metadata": {},
   "outputs": [],
   "source": [
    "train_data['tokens_words_diff'] = train_data['num_tokens'] - train_data['num_words']"
   ]
  },
  {
   "cell_type": "markdown",
   "id": "4db22eb9-5d18-4cf0-9bc5-c78018cb3b82",
   "metadata": {},
   "source": [
    "#### 8.4. Check if num of tokens > num of words "
   ]
  },
  {
   "cell_type": "code",
   "execution_count": 25,
   "id": "db1facc6-0216-4400-a942-b2c36e444559",
   "metadata": {},
   "outputs": [
    {
     "data": {
      "text/html": [
       "<div>\n",
       "<style scoped>\n",
       "    .dataframe tbody tr th:only-of-type {\n",
       "        vertical-align: middle;\n",
       "    }\n",
       "\n",
       "    .dataframe tbody tr th {\n",
       "        vertical-align: top;\n",
       "    }\n",
       "\n",
       "    .dataframe thead th {\n",
       "        text-align: right;\n",
       "    }\n",
       "</style>\n",
       "<table border=\"1\" class=\"dataframe\">\n",
       "  <thead>\n",
       "    <tr style=\"text-align: right;\">\n",
       "      <th></th>\n",
       "      <th>text</th>\n",
       "      <th>Computer Science</th>\n",
       "      <th>Physics</th>\n",
       "      <th>Mathematics</th>\n",
       "      <th>Statistics</th>\n",
       "      <th>Quantitative Biology</th>\n",
       "      <th>Quantitative Finance</th>\n",
       "      <th>num_words</th>\n",
       "      <th>num_tokens</th>\n",
       "      <th>tokens_words_diff</th>\n",
       "    </tr>\n",
       "  </thead>\n",
       "  <tbody>\n",
       "  </tbody>\n",
       "</table>\n",
       "</div>"
      ],
      "text/plain": [
       "Empty DataFrame\n",
       "Columns: [text, Computer Science, Physics, Mathematics, Statistics, Quantitative Biology, Quantitative Finance, num_words, num_tokens, tokens_words_diff]\n",
       "Index: []"
      ]
     },
     "execution_count": 25,
     "metadata": {},
     "output_type": "execute_result"
    }
   ],
   "source": [
    "train_data[train_data['tokens_words_diff'] < 0]"
   ]
  },
  {
   "cell_type": "markdown",
   "id": "0ecbaa7b-e0ea-4f8c-a725-0a537c022446",
   "metadata": {},
   "source": [
    "#### 8.5. Peek at a random row "
   ]
  },
  {
   "cell_type": "code",
   "execution_count": 26,
   "id": "5280f8bf-e833-45f4-9eeb-709309a5e118",
   "metadata": {},
   "outputs": [
    {
     "data": {
      "text/plain": [
       "array(['s^1-equivariant index theorems and morse inequalities on complex manifolds with boundary let m be a complex manifold of dimension n with smooth connected boundary x. assume that m admits a holomorphic s^1-action preserving the boundary x and the s^1-action is transversal and cr on x. we show that the ∂-neumann laplacian on m is transversally elliptic and as a consequence, the m-th fourier component of the q-th dolbeault cohomology group h^q_m(m) is finite dimensional, for every m∈ℤ and every q=0,1,…,n. this enables us to define ∑^n_j=0(-1)^j dim h^q_m(m) the m-th fourier component of the euler characteristic on m and to study large m-behavior of h^q_m(m). in this paper, we establish an index formula for ∑^n_j=0(-1)^j dim h^q_m(m) and morse inequalities for h^q_m(m).',\n",
       "       0, 0, 1, 0, 0, 0, 122, 246, 124], dtype=object)"
      ]
     },
     "execution_count": 26,
     "metadata": {},
     "output_type": "execute_result"
    }
   ],
   "source": [
    "train_data.iloc[67].values"
   ]
  },
  {
   "cell_type": "markdown",
   "id": "a2796a85-1f03-419a-b74c-c0e29d91b8fb",
   "metadata": {},
   "source": [
    "### 9. Lets see the distributions of number of words, number of tokens and their difference "
   ]
  },
  {
   "cell_type": "markdown",
   "id": "5d89d29b-763d-400a-8be5-8b86b7faf269",
   "metadata": {},
   "source": [
    "#### 9.1. Histogram of number of words (a.k.a sentence length)"
   ]
  },
  {
   "cell_type": "code",
   "execution_count": 27,
   "id": "b8793728-530c-4922-b41e-bf0aaed8d9cf",
   "metadata": {},
   "outputs": [
    {
     "data": {
      "image/png": "[encoded data removed]",
      "text/plain": [
       "<Figure size 500x500 with 1 Axes>"
      ]
     },
     "metadata": {},
     "output_type": "display_data"
    },
    {
     "name": "stdout",
     "output_type": "stream",
     "text": [
      "\n",
      "Stats for length of Tokens\n",
      "Minimum sentence length: 6\n",
      "Maximum sentence length: 462\n",
      "Median sentence length: 151\n"
     ]
    }
   ],
   "source": [
    "sns.set(style='darkgrid')\n",
    "\n",
    "# Increase the plot size and font size.\n",
    "sns.set(font_scale=1.1)\n",
    "sentence_length = train_data['num_words'].values.tolist()\n",
    "\n",
    "min_sentence_length = min(sentence_length)\n",
    "max_sentence_length = max(sentence_length)\n",
    "median_sentence_length = int(np.median(sentence_length))\n",
    "\n",
    "# Plot the distribution of comment lengths.\n",
    "g = sns.displot(sentence_length, kde=False, rug=False,color='magenta')\n",
    "\n",
    "plt.title('Histogram of Sentence Length')\n",
    "plt.xlabel('# of words')\n",
    "plt.ylabel('# of text')\n",
    "plt.show()\n",
    "\n",
    "print(\"\\nStats for length of Tokens\")\n",
    "print(f\"Minimum sentence length: {min_sentence_length}\") \n",
    "print(f\"Maximum sentence length: {max_sentence_length}\") \n",
    "print(f\"Median sentence length: {median_sentence_length}\")"
   ]
  },
  {
   "cell_type": "markdown",
   "id": "109d8e2f-ba08-4274-aa76-3f2c61a29cb8",
   "metadata": {},
   "source": [
    "#### 9.3. Check the training data where number of words are less than 10"
   ]
  },
  {
   "cell_type": "code",
   "execution_count": 28,
   "id": "9d6db883-5d4d-4d55-8038-23b4858d5ceb",
   "metadata": {},
   "outputs": [
    {
     "data": {
      "text/plain": [
       "[\"are theoretical results are sults'? yes.\",\n",
       " 'city-scale intelligent systems and platforms as of 2014, 54']"
      ]
     },
     "execution_count": 28,
     "metadata": {},
     "output_type": "execute_result"
    }
   ],
   "source": [
    "train_data[train_data['num_words']<10]['text'].values.tolist()"
   ]
  },
  {
   "cell_type": "markdown",
   "id": "16603b07-2eef-4de9-aee1-f15709d80800",
   "metadata": {},
   "source": [
    "#### 9.4. Histogram of length of tokenized sentence (# of tokens created by tokenizer)"
   ]
  },
  {
   "cell_type": "code",
   "execution_count": 29,
   "id": "4d0034c7-6af8-4489-bd68-280647f5bcbb",
   "metadata": {},
   "outputs": [
    {
     "data": {
      "image/png": "[encoded data removed]",
      "text/plain": [
       "<Figure size 500x500 with 1 Axes>"
      ]
     },
     "metadata": {},
     "output_type": "display_data"
    },
    {
     "name": "stdout",
     "output_type": "stream",
     "text": [
      "\n",
      "Stats for length of Tokens\n",
      "Minimum tokenized sentence length: 10\n",
      "Maximum tokenized sentence length: 615\n",
      "Median tokenized sentence length: 203\n"
     ]
    }
   ],
   "source": [
    "sns.set(style='darkgrid')\n",
    "\n",
    "# Increase the plot size and font size.\n",
    "sns.set(font_scale=1.1)\n",
    "tokenized_sentence_length = train_data['num_tokens'].values.tolist()\n",
    "\n",
    "min_tokenized_sentence_length = min(tokenized_sentence_length)\n",
    "max_tokenized_sentence_length = max(tokenized_sentence_length)\n",
    "median_tokenized_sentence_length = int(np.median(tokenized_sentence_length))\n",
    "\n",
    "# Plot the distribution of comment lengths.\n",
    "g = sns.displot(tokenized_sentence_length, kde=False, rug=False,color='magenta')\n",
    "\n",
    "plt.title('Histogram of Tokenized Sentence Length')\n",
    "plt.xlabel('# of tokens')\n",
    "plt.ylabel('# of text')\n",
    "plt.show()\n",
    "\n",
    "print(\"\\nStats for length of Tokens\")\n",
    "print(f\"Minimum tokenized sentence length: {min_tokenized_sentence_length}\") \n",
    "print(f\"Maximum tokenized sentence length: {max_tokenized_sentence_length}\") \n",
    "print(f\"Median tokenized sentence length: {median_tokenized_sentence_length}\")"
   ]
  },
  {
   "cell_type": "markdown",
   "id": "c3cad340-bc43-4de3-9233-bf847de88c39",
   "metadata": {},
   "source": [
    "#### 9.5. Histogram of difference in length between sentence length and bert tokenized sentence length"
   ]
  },
  {
   "cell_type": "code",
   "execution_count": 30,
   "id": "46202768-48b6-49ed-b174-a952492e2fda",
   "metadata": {},
   "outputs": [
    {
     "data": {
      "image/png": "[encoded data removed]",
      "text/plain": [
       "<Figure size 500x500 with 1 Axes>"
      ]
     },
     "metadata": {},
     "output_type": "display_data"
    },
    {
     "name": "stdout",
     "output_type": "stream",
     "text": [
      "\n",
      "Stats for length difference between Bert Tokens and sentence length\n",
      "Minimum difference in num of tokens and num of words: 1\n",
      "Maximum difference in num of tokens and num of words: 384\n",
      "Median difference in num of tokens and num of words: 50\n"
     ]
    }
   ],
   "source": [
    "sns.set(style='darkgrid')\n",
    "\n",
    "# Increase the plot size and font size.\n",
    "sns.set(font_scale=1.1)\n",
    "\n",
    "tokens_words_diff = train_data['tokens_words_diff'].values.tolist()\n",
    "\n",
    "min_tokens_words_diff = min(tokens_words_diff)\n",
    "max_tokens_words_diff = max(tokens_words_diff)\n",
    "median_tokens_words_diff = int(np.median(tokens_words_diff))\n",
    "\n",
    "# Plot the distribution of comment lengths.\n",
    "sns.displot(tokens_words_diff, kde=False, rug=False,color='blue')\n",
    "\n",
    "plt.title('Difference in Length ')\n",
    "plt.xlabel('Difference')\n",
    "plt.ylabel('# of Sentences')\n",
    "plt.show()\n",
    "\n",
    "print(\"\\nStats for length difference between Bert Tokens and sentence length\")\n",
    "print(f\"Minimum difference in num of tokens and num of words: {min_tokens_words_diff}\") \n",
    "print(f\"Maximum difference in num of tokens and num of words: {max_tokens_words_diff}\") \n",
    "print(f\"Median difference in num of tokens and num of words: {median_tokens_words_diff}\")"
   ]
  },
  {
   "cell_type": "markdown",
   "id": "76b85bac-38ab-4eb4-ad1a-33656cacd2d5",
   "metadata": {},
   "source": [
    "### 10. Drop the newly created columns for lengths "
   ]
  },
  {
   "cell_type": "code",
   "execution_count": 31,
   "id": "698efe5d-4bc6-4b1d-9280-f031af25bea3",
   "metadata": {},
   "outputs": [],
   "source": [
    "# Droping the new columns by retaining the necessary columns\n",
    "train_data = train_data[['text'] + targets]"
   ]
  },
  {
   "cell_type": "code",
   "execution_count": 32,
   "id": "d527fd6e-3cac-4abe-a972-095d1d9046f9",
   "metadata": {},
   "outputs": [
    {
     "data": {
      "text/html": [
       "<div>\n",
       "<style scoped>\n",
       "    .dataframe tbody tr th:only-of-type {\n",
       "        vertical-align: middle;\n",
       "    }\n",
       "\n",
       "    .dataframe tbody tr th {\n",
       "        vertical-align: top;\n",
       "    }\n",
       "\n",
       "    .dataframe thead th {\n",
       "        text-align: right;\n",
       "    }\n",
       "</style>\n",
       "<table border=\"1\" class=\"dataframe\">\n",
       "  <thead>\n",
       "    <tr style=\"text-align: right;\">\n",
       "      <th></th>\n",
       "      <th>text</th>\n",
       "      <th>Computer Science</th>\n",
       "      <th>Physics</th>\n",
       "      <th>Mathematics</th>\n",
       "      <th>Statistics</th>\n",
       "      <th>Quantitative Biology</th>\n",
       "      <th>Quantitative Finance</th>\n",
       "    </tr>\n",
       "  </thead>\n",
       "  <tbody>\n",
       "    <tr>\n",
       "      <th>0</th>\n",
       "      <td>reconstructing subject-specific effect maps pr...</td>\n",
       "      <td>1</td>\n",
       "      <td>0</td>\n",
       "      <td>0</td>\n",
       "      <td>0</td>\n",
       "      <td>0</td>\n",
       "      <td>0</td>\n",
       "    </tr>\n",
       "    <tr>\n",
       "      <th>1</th>\n",
       "      <td>rotation invariance neural network rotation in...</td>\n",
       "      <td>1</td>\n",
       "      <td>0</td>\n",
       "      <td>0</td>\n",
       "      <td>0</td>\n",
       "      <td>0</td>\n",
       "      <td>0</td>\n",
       "    </tr>\n",
       "    <tr>\n",
       "      <th>2</th>\n",
       "      <td>spherical polyharmonics and poisson kernels fo...</td>\n",
       "      <td>0</td>\n",
       "      <td>0</td>\n",
       "      <td>1</td>\n",
       "      <td>0</td>\n",
       "      <td>0</td>\n",
       "      <td>0</td>\n",
       "    </tr>\n",
       "    <tr>\n",
       "      <th>3</th>\n",
       "      <td>a finite element approximation for the stochas...</td>\n",
       "      <td>0</td>\n",
       "      <td>0</td>\n",
       "      <td>1</td>\n",
       "      <td>0</td>\n",
       "      <td>0</td>\n",
       "      <td>0</td>\n",
       "    </tr>\n",
       "    <tr>\n",
       "      <th>4</th>\n",
       "      <td>comparative study of discrete wavelet transfor...</td>\n",
       "      <td>1</td>\n",
       "      <td>0</td>\n",
       "      <td>0</td>\n",
       "      <td>1</td>\n",
       "      <td>0</td>\n",
       "      <td>0</td>\n",
       "    </tr>\n",
       "  </tbody>\n",
       "</table>\n",
       "</div>"
      ],
      "text/plain": [
       "                                                text  Computer Science  \\\n",
       "0  reconstructing subject-specific effect maps pr...                 1   \n",
       "1  rotation invariance neural network rotation in...                 1   \n",
       "2  spherical polyharmonics and poisson kernels fo...                 0   \n",
       "3  a finite element approximation for the stochas...                 0   \n",
       "4  comparative study of discrete wavelet transfor...                 1   \n",
       "\n",
       "   Physics  Mathematics  Statistics  Quantitative Biology  \\\n",
       "0        0            0           0                     0   \n",
       "1        0            0           0                     0   \n",
       "2        0            1           0                     0   \n",
       "3        0            1           0                     0   \n",
       "4        0            0           1                     0   \n",
       "\n",
       "   Quantitative Finance  \n",
       "0                     0  \n",
       "1                     0  \n",
       "2                     0  \n",
       "3                     0  \n",
       "4                     0  "
      ]
     },
     "execution_count": 32,
     "metadata": {},
     "output_type": "execute_result"
    }
   ],
   "source": [
    "train_data.head()"
   ]
  },
  {
   "cell_type": "markdown",
   "id": "7d7cf53f-5c03-4fdf-bbff-393ec5c59b5d",
   "metadata": {},
   "source": [
    "### 11. Compute label Maps\n",
    "Create two maps:\n",
    "\n",
    "1. <b>label2id</b> - maps string labels to its integer index\n",
    "2. <b>id2label</b> - maps integer index of labels to strings"
   ]
  },
  {
   "cell_type": "code",
   "execution_count": 33,
   "id": "24e93947-07ae-4067-97ab-dc5370519f61",
   "metadata": {},
   "outputs": [
    {
     "data": {
      "text/plain": [
       "{'Computer Science': 0,\n",
       " 'Physics': 1,\n",
       " 'Mathematics': 2,\n",
       " 'Statistics': 3,\n",
       " 'Quantitative Biology': 4,\n",
       " 'Quantitative Finance': 5}"
      ]
     },
     "execution_count": 33,
     "metadata": {},
     "output_type": "execute_result"
    }
   ],
   "source": [
    "label2id = {k: v for v, k in enumerate(targets)}\n",
    "id2label = {v: k for v, k in enumerate(targets)}\n",
    "label2id"
   ]
  },
  {
   "cell_type": "markdown",
   "id": "05a9ed01-2bd2-4055-ba6d-d82e16ea96bd",
   "metadata": {},
   "source": [
    "## E. Explore distributions of Labels "
   ]
  },
  {
   "cell_type": "markdown",
   "id": "18120cb2-affb-4800-b30f-6b5d779c326b",
   "metadata": {},
   "source": [
    "### 1. Create a new dataframe to explore distributions of labels "
   ]
  },
  {
   "cell_type": "code",
   "execution_count": 34,
   "id": "ece22df6-a91d-4095-b263-e8bdabe50393",
   "metadata": {},
   "outputs": [],
   "source": [
    "bal_df = train_data[targets].copy()"
   ]
  },
  {
   "cell_type": "markdown",
   "id": "98296b55-ec93-4585-a7ce-7aeca2199139",
   "metadata": {},
   "source": [
    "### 2. Descriptive Statistics of each label "
   ]
  },
  {
   "cell_type": "code",
   "execution_count": 35,
   "id": "93496afe-c6ff-4df6-95d8-b45e5dd9cb12",
   "metadata": {},
   "outputs": [
    {
     "data": {
      "text/html": [
       "<div>\n",
       "<style scoped>\n",
       "    .dataframe tbody tr th:only-of-type {\n",
       "        vertical-align: middle;\n",
       "    }\n",
       "\n",
       "    .dataframe tbody tr th {\n",
       "        vertical-align: top;\n",
       "    }\n",
       "\n",
       "    .dataframe thead th {\n",
       "        text-align: right;\n",
       "    }\n",
       "</style>\n",
       "<table border=\"1\" class=\"dataframe\">\n",
       "  <thead>\n",
       "    <tr style=\"text-align: right;\">\n",
       "      <th></th>\n",
       "      <th>Computer Science</th>\n",
       "      <th>Physics</th>\n",
       "      <th>Mathematics</th>\n",
       "      <th>Statistics</th>\n",
       "      <th>Quantitative Biology</th>\n",
       "      <th>Quantitative Finance</th>\n",
       "    </tr>\n",
       "  </thead>\n",
       "  <tbody>\n",
       "    <tr>\n",
       "      <th>count</th>\n",
       "      <td>20972.000000</td>\n",
       "      <td>20972.000000</td>\n",
       "      <td>20972.000000</td>\n",
       "      <td>20972.000000</td>\n",
       "      <td>20972.000000</td>\n",
       "      <td>20972.000000</td>\n",
       "    </tr>\n",
       "    <tr>\n",
       "      <th>mean</th>\n",
       "      <td>0.409784</td>\n",
       "      <td>0.286716</td>\n",
       "      <td>0.267881</td>\n",
       "      <td>0.248236</td>\n",
       "      <td>0.027990</td>\n",
       "      <td>0.011873</td>\n",
       "    </tr>\n",
       "    <tr>\n",
       "      <th>std</th>\n",
       "      <td>0.491806</td>\n",
       "      <td>0.452238</td>\n",
       "      <td>0.442866</td>\n",
       "      <td>0.432000</td>\n",
       "      <td>0.164947</td>\n",
       "      <td>0.108317</td>\n",
       "    </tr>\n",
       "    <tr>\n",
       "      <th>min</th>\n",
       "      <td>0.000000</td>\n",
       "      <td>0.000000</td>\n",
       "      <td>0.000000</td>\n",
       "      <td>0.000000</td>\n",
       "      <td>0.000000</td>\n",
       "      <td>0.000000</td>\n",
       "    </tr>\n",
       "    <tr>\n",
       "      <th>25%</th>\n",
       "      <td>0.000000</td>\n",
       "      <td>0.000000</td>\n",
       "      <td>0.000000</td>\n",
       "      <td>0.000000</td>\n",
       "      <td>0.000000</td>\n",
       "      <td>0.000000</td>\n",
       "    </tr>\n",
       "    <tr>\n",
       "      <th>50%</th>\n",
       "      <td>0.000000</td>\n",
       "      <td>0.000000</td>\n",
       "      <td>0.000000</td>\n",
       "      <td>0.000000</td>\n",
       "      <td>0.000000</td>\n",
       "      <td>0.000000</td>\n",
       "    </tr>\n",
       "    <tr>\n",
       "      <th>75%</th>\n",
       "      <td>1.000000</td>\n",
       "      <td>1.000000</td>\n",
       "      <td>1.000000</td>\n",
       "      <td>0.000000</td>\n",
       "      <td>0.000000</td>\n",
       "      <td>0.000000</td>\n",
       "    </tr>\n",
       "    <tr>\n",
       "      <th>max</th>\n",
       "      <td>1.000000</td>\n",
       "      <td>1.000000</td>\n",
       "      <td>1.000000</td>\n",
       "      <td>1.000000</td>\n",
       "      <td>1.000000</td>\n",
       "      <td>1.000000</td>\n",
       "    </tr>\n",
       "  </tbody>\n",
       "</table>\n",
       "</div>"
      ],
      "text/plain": [
       "       Computer Science       Physics   Mathematics    Statistics  \\\n",
       "count      20972.000000  20972.000000  20972.000000  20972.000000   \n",
       "mean           0.409784      0.286716      0.267881      0.248236   \n",
       "std            0.491806      0.452238      0.442866      0.432000   \n",
       "min            0.000000      0.000000      0.000000      0.000000   \n",
       "25%            0.000000      0.000000      0.000000      0.000000   \n",
       "50%            0.000000      0.000000      0.000000      0.000000   \n",
       "75%            1.000000      1.000000      1.000000      0.000000   \n",
       "max            1.000000      1.000000      1.000000      1.000000   \n",
       "\n",
       "       Quantitative Biology  Quantitative Finance  \n",
       "count          20972.000000          20972.000000  \n",
       "mean               0.027990              0.011873  \n",
       "std                0.164947              0.108317  \n",
       "min                0.000000              0.000000  \n",
       "25%                0.000000              0.000000  \n",
       "50%                0.000000              0.000000  \n",
       "75%                0.000000              0.000000  \n",
       "max                1.000000              1.000000  "
      ]
     },
     "execution_count": 35,
     "metadata": {},
     "output_type": "execute_result"
    }
   ],
   "source": [
    "bal_df.describe()"
   ]
  },
  {
   "cell_type": "markdown",
   "id": "6bf7e856-6c1a-4917-95ef-d0ea9c43ec10",
   "metadata": {},
   "source": [
    "### 3. Frequency of each label "
   ]
  },
  {
   "cell_type": "code",
   "execution_count": 36,
   "id": "58ab1759-d56f-4714-8830-d1ff0f0942e6",
   "metadata": {},
   "outputs": [],
   "source": [
    "# count the frequency of each label in ascending order\n",
    "labels_counts = bal_df.sum(axis=0).sort_values(ascending=False)"
   ]
  },
  {
   "cell_type": "code",
   "execution_count": 37,
   "id": "31cf8a32-f336-4a8e-9666-958f69d9ab2a",
   "metadata": {},
   "outputs": [
    {
     "data": {
      "image/png": "[encoded data removed]",
      "text/plain": [
       "<Figure size 600x400 with 1 Axes>"
      ]
     },
     "metadata": {},
     "output_type": "display_data"
    }
   ],
   "source": [
    "# plot the bar plot for frequencies\n",
    "fig, ax = plt.subplots(figsize=(6, 4))\n",
    "ax.yaxis.set_tick_params(labelsize = 8)\n",
    "ax.xaxis.set_tick_params(labelsize = 8)\n",
    "plt.xticks(rotation=60)\n",
    "g = sns.barplot(x=labels_counts.index, y=labels_counts.values, ax=ax)\n",
    "ax.set(xlabel='label', ylabel='frequency', title='Labels Frequency')\n",
    "ax.bar_label(ax.containers[0], fontsize=8)\n",
    "plt.show()"
   ]
  },
  {
   "cell_type": "markdown",
   "id": "5871b41f-60cd-4c71-a7c8-30dd6a386c0e",
   "metadata": {},
   "source": [
    "## F. Stratified (or Balanced) Split"
   ]
  },
  {
   "cell_type": "markdown",
   "id": "e70d4e23-2f54-48c7-a806-5e3456cefb9b",
   "metadata": {},
   "source": [
    "### 1. Helper Functions to Create Balanced Split function "
   ]
  },
  {
   "cell_type": "code",
   "execution_count": 38,
   "id": "fcf97c44-b683-4549-8347-8dcf77cd3ec8",
   "metadata": {},
   "outputs": [],
   "source": [
    "# create multilabel binarizer\n",
    "mlb = MultiLabelBinarizer(classes=list(label2id.keys()))\n",
    "\n",
    "# Function to create stratified split\n",
    "def balanced_split(df, mlb, test_size):\n",
    "    ind_ = np.expand_dims(np.arange(len(df)), axis=1)\n",
    "    # series of unique labels\n",
    "    unique_labels_ = df[targets].apply(lambda x: tuple(x[x == 1].index), axis=1)\n",
    "    labels_ohe_ = mlb.fit_transform(unique_labels_)\n",
    "    ind_train, _, ind_test, _ = iterative_train_test_split(\n",
    "        ind_, labels_ohe_, test_size\n",
    "    )\n",
    "    return df.iloc[ind_train[:, 0]], df.iloc[ind_test[:, 0]]"
   ]
  },
  {
   "cell_type": "markdown",
   "id": "9312c80e-5034-4845-8fdb-952aaab1d598",
   "metadata": {},
   "source": [
    "### 2. Spliting the train data into training + validation data"
   ]
  },
  {
   "cell_type": "markdown",
   "id": "55d426cc-3526-4050-9f9e-b7f423a2b5b4",
   "metadata": {},
   "source": [
    "#### 2. a) All Data - Train Data(90%) + Validation Data (10%)"
   ]
  },
  {
   "cell_type": "code",
   "execution_count": 39,
   "id": "dbd51828-41d5-4bf4-a3a6-7a8651e32b86",
   "metadata": {},
   "outputs": [],
   "source": [
    "train_df, valid_df = balanced_split(train_data, mlb, test_size=0.1)"
   ]
  },
  {
   "cell_type": "markdown",
   "id": "ea59a87e-dee7-4208-9739-3bb64ed34c2c",
   "metadata": {},
   "source": [
    "##### Check the size of each data "
   ]
  },
  {
   "cell_type": "code",
   "execution_count": 40,
   "id": "c04fc828-2bfe-40e4-9375-c30710f5e746",
   "metadata": {},
   "outputs": [
    {
     "name": "stdout",
     "output_type": "stream",
     "text": [
      "Full training data size: 20972\n",
      "Train Dataset size: 18876\n",
      "Valid Data Size: 2096\n"
     ]
    }
   ],
   "source": [
    "print(f\"Full training data size: {len(train_data)}\")\n",
    "print(f\"Train Dataset size: {len(train_df)}\")\n",
    "print(f\"Valid Data Size: {len(valid_df)}\")"
   ]
  },
  {
   "cell_type": "markdown",
   "id": "8b534404-f385-4fca-99a2-fc4bd790e3e3",
   "metadata": {},
   "source": [
    "##### reset the indices"
   ]
  },
  {
   "cell_type": "code",
   "execution_count": 41,
   "id": "d774490a-f1d9-4b2d-bb10-4604ef6a8a2a",
   "metadata": {},
   "outputs": [],
   "source": [
    "train_df = train_df.reset_index(drop=True)\n",
    "valid_df = valid_df.reset_index(drop=True)"
   ]
  },
  {
   "cell_type": "markdown",
   "id": "6155c1b3-8f33-48ad-9591-1d711c7a588d",
   "metadata": {},
   "source": [
    "## G. Explore Distribution of Labels - Training, Validation   "
   ]
  },
  {
   "cell_type": "code",
   "execution_count": 42,
   "id": "718d22c5-271e-4838-8346-ec1033d90dec",
   "metadata": {},
   "outputs": [],
   "source": [
    "# one hot encoding of unique labels for trainig data\n",
    "unique_train_labels_ohe = mlb.transform(train_df[targets].apply(lambda x: tuple(x[x == 1].index), axis=1))\n",
    "\n",
    "# one hot encoding of unique labels for validation data\n",
    "unique_valid_labels_ohe = mlb.transform(valid_df[targets].apply(lambda x: tuple(x[x == 1].index), axis=1))"
   ]
  },
  {
   "cell_type": "markdown",
   "id": "0b84afc1-e520-4bf1-b5e2-d1dcab5066f6",
   "metadata": {},
   "source": [
    "### 1. Check distributions of 1st order "
   ]
  },
  {
   "cell_type": "code",
   "execution_count": 43,
   "id": "8a2b7413-04ad-464a-99dd-05abaf150078",
   "metadata": {},
   "outputs": [
    {
     "name": "stdout",
     "output_type": "stream",
     "text": [
      "Training Data\n",
      "==============\n",
      "Total num of training samples: 18876\n",
      "Total num of each label: [7735 5412 5056 4685  528  224]\n",
      "Proportions of each label: [0.40977961 0.28671329 0.26785336 0.24819877 0.02797203 0.01186692]\n",
      "\n",
      "Validation Data\n",
      "==============\n",
      "Total num of validation samples: 2096\n",
      "Total num of each label: [859 601 562 521  59  25]\n",
      "Proportions of each label: [0.40982824 0.28673664 0.26812977 0.2485687  0.02814885 0.01192748]\n",
      "\n"
     ]
    }
   ],
   "source": [
    "# compute number of samples\n",
    "num_train_samples = unique_train_labels_ohe.shape[0]\n",
    "num_valid_samples = unique_valid_labels_ohe.shape[0]\n",
    "\n",
    "# compute number of samples for each unique label\n",
    "train_labels_count = unique_train_labels_ohe.sum(axis=0)\n",
    "valid_labels_count = unique_valid_labels_ohe.sum(axis=0)\n",
    "\n",
    "# compute proportion of samples for each unique label\n",
    "prop_train_labels = train_labels_count/num_train_samples\n",
    "prop_valid_labels = valid_labels_count/num_valid_samples\n",
    "\n",
    "\n",
    "print(\"Training Data\")\n",
    "print(\"==============\")\n",
    "print(f\"Total num of training samples: {num_train_samples}\")\n",
    "print(f\"Total num of each label: {train_labels_count}\")\n",
    "print(f\"Proportions of each label: {prop_train_labels}\\n\")\n",
    "\n",
    "print(\"Validation Data\")\n",
    "print(\"==============\")\n",
    "print(f\"Total num of validation samples: {num_valid_samples}\")\n",
    "print(f\"Total num of each label: {valid_labels_count}\")\n",
    "print(f\"Proportions of each label: {prop_valid_labels}\\n\")"
   ]
  },
  {
   "cell_type": "markdown",
   "id": "bb13f954-b0d4-47a1-8771-4860e6c46775",
   "metadata": {},
   "source": [
    "#### 1a. Create the proportion dataFrame for training, validation and testing data"
   ]
  },
  {
   "cell_type": "code",
   "execution_count": 44,
   "id": "381a2787-d67f-4e0c-b70f-c4672e0d1015",
   "metadata": {},
   "outputs": [
    {
     "data": {
      "text/html": [
       "<div>\n",
       "<style scoped>\n",
       "    .dataframe tbody tr th:only-of-type {\n",
       "        vertical-align: middle;\n",
       "    }\n",
       "\n",
       "    .dataframe tbody tr th {\n",
       "        vertical-align: top;\n",
       "    }\n",
       "\n",
       "    .dataframe thead th {\n",
       "        text-align: right;\n",
       "    }\n",
       "</style>\n",
       "<table border=\"1\" class=\"dataframe\">\n",
       "  <thead>\n",
       "    <tr style=\"text-align: right;\">\n",
       "      <th></th>\n",
       "      <th>labels</th>\n",
       "      <th>train</th>\n",
       "      <th>valid</th>\n",
       "    </tr>\n",
       "  </thead>\n",
       "  <tbody>\n",
       "    <tr>\n",
       "      <th>0</th>\n",
       "      <td>Computer Science</td>\n",
       "      <td>0.409780</td>\n",
       "      <td>0.409828</td>\n",
       "    </tr>\n",
       "    <tr>\n",
       "      <th>1</th>\n",
       "      <td>Physics</td>\n",
       "      <td>0.286713</td>\n",
       "      <td>0.286737</td>\n",
       "    </tr>\n",
       "    <tr>\n",
       "      <th>2</th>\n",
       "      <td>Mathematics</td>\n",
       "      <td>0.267853</td>\n",
       "      <td>0.268130</td>\n",
       "    </tr>\n",
       "    <tr>\n",
       "      <th>3</th>\n",
       "      <td>Statistics</td>\n",
       "      <td>0.248199</td>\n",
       "      <td>0.248569</td>\n",
       "    </tr>\n",
       "    <tr>\n",
       "      <th>4</th>\n",
       "      <td>Quantitative Biology</td>\n",
       "      <td>0.027972</td>\n",
       "      <td>0.028149</td>\n",
       "    </tr>\n",
       "    <tr>\n",
       "      <th>5</th>\n",
       "      <td>Quantitative Finance</td>\n",
       "      <td>0.011867</td>\n",
       "      <td>0.011927</td>\n",
       "    </tr>\n",
       "  </tbody>\n",
       "</table>\n",
       "</div>"
      ],
      "text/plain": [
       "                 labels     train     valid\n",
       "0      Computer Science  0.409780  0.409828\n",
       "1               Physics  0.286713  0.286737\n",
       "2           Mathematics  0.267853  0.268130\n",
       "3            Statistics  0.248199  0.248569\n",
       "4  Quantitative Biology  0.027972  0.028149\n",
       "5  Quantitative Finance  0.011867  0.011927"
      ]
     },
     "metadata": {},
     "output_type": "display_data"
    }
   ],
   "source": [
    "# create dict for proportions of each label\n",
    "prop_data = {\n",
    "    'labels' : list(label2id.keys()),\n",
    "    'train' : prop_train_labels,\n",
    "    'valid' : prop_valid_labels,\n",
    "}\n",
    "\n",
    "# create dataframe\n",
    "prop_df = pd.DataFrame.from_dict(prop_data)\n",
    "\n",
    "# display\n",
    "display(prop_df)"
   ]
  },
  {
   "cell_type": "markdown",
   "id": "eb2ba4ed-7598-4ac9-951e-1248248790c6",
   "metadata": {},
   "source": [
    "#### 1b. Plot distribution of proportions across each label for training, validation and testing data"
   ]
  },
  {
   "cell_type": "code",
   "execution_count": 45,
   "id": "63aba5c0-fa02-4b4c-b895-f8c1cb7a8c17",
   "metadata": {},
   "outputs": [
    {
     "data": {
      "image/png": "[encoded data removed]",
      "text/plain": [
       "<Figure size 800x800 with 1 Axes>"
      ]
     },
     "metadata": {},
     "output_type": "display_data"
    }
   ],
   "source": [
    "fig, ax = plt.subplots(figsize=(8, 8))\n",
    "g = sns.barplot(\n",
    "    data=prop_df.melt(id_vars = [\"labels\"], value_vars=[\"train\", \"valid\"]),\n",
    "    y=\"value\", x=\"variable\", hue=\"labels\", errorbar=None\n",
    ")\n",
    "\n",
    "# for legend text\n",
    "plt.setp(g.get_legend().get_texts(), fontsize='10')  \n",
    " \n",
    "# for legend title\n",
    "plt.setp(g.get_legend().get_title(), fontsize='10')\n",
    "plt.title(\"Proportions of sentences containing each label - training, validation and testing dataset\")\n",
    "\n",
    "plt.show()"
   ]
  },
  {
   "cell_type": "markdown",
   "id": "1b20f6d8-2510-4e31-a60c-849ba7e5c1d2",
   "metadata": {},
   "source": [
    "#### 2. Check distributions of 2nd order"
   ]
  },
  {
   "cell_type": "code",
   "execution_count": 46,
   "id": "4991103e-4965-4c63-8214-b45b45db3e4c",
   "metadata": {},
   "outputs": [
    {
     "data": {
      "text/html": [
       "<div>\n",
       "<style scoped>\n",
       "    .dataframe tbody tr th:only-of-type {\n",
       "        vertical-align: middle;\n",
       "    }\n",
       "\n",
       "    .dataframe tbody tr th {\n",
       "        vertical-align: top;\n",
       "    }\n",
       "\n",
       "    .dataframe thead th {\n",
       "        text-align: right;\n",
       "    }\n",
       "</style>\n",
       "<table border=\"1\" class=\"dataframe\">\n",
       "  <thead>\n",
       "    <tr style=\"text-align: right;\">\n",
       "      <th></th>\n",
       "      <th>(0, 0)</th>\n",
       "      <th>(2, 2)</th>\n",
       "      <th>(1, 1)</th>\n",
       "      <th>(4, 4)</th>\n",
       "      <th>(1, 2)</th>\n",
       "      <th>(2, 3)</th>\n",
       "      <th>(3, 3)</th>\n",
       "      <th>(0, 3)</th>\n",
       "      <th>(0, 2)</th>\n",
       "      <th>(0, 1)</th>\n",
       "      <th>(1, 3)</th>\n",
       "      <th>(0, 4)</th>\n",
       "      <th>(5, 5)</th>\n",
       "      <th>(3, 4)</th>\n",
       "      <th>(3, 5)</th>\n",
       "      <th>(0, 5)</th>\n",
       "      <th>(4, 5)</th>\n",
       "      <th>(2, 5)</th>\n",
       "    </tr>\n",
       "  </thead>\n",
       "  <tbody>\n",
       "    <tr>\n",
       "      <th>train</th>\n",
       "      <td>0.409780</td>\n",
       "      <td>0.267853</td>\n",
       "      <td>0.286713</td>\n",
       "      <td>0.027972</td>\n",
       "      <td>0.015310</td>\n",
       "      <td>0.048368</td>\n",
       "      <td>0.248199</td>\n",
       "      <td>0.119517</td>\n",
       "      <td>0.041958</td>\n",
       "      <td>0.023469</td>\n",
       "      <td>0.006887</td>\n",
       "      <td>0.001695</td>\n",
       "      <td>0.011867</td>\n",
       "      <td>0.005245</td>\n",
       "      <td>0.001271</td>\n",
       "      <td>0.000530</td>\n",
       "      <td>0.000212</td>\n",
       "      <td>0.000053</td>\n",
       "    </tr>\n",
       "    <tr>\n",
       "      <th>valid</th>\n",
       "      <td>0.409828</td>\n",
       "      <td>0.268130</td>\n",
       "      <td>0.286737</td>\n",
       "      <td>0.028149</td>\n",
       "      <td>0.015267</td>\n",
       "      <td>0.048187</td>\n",
       "      <td>0.248569</td>\n",
       "      <td>0.119752</td>\n",
       "      <td>0.041985</td>\n",
       "      <td>0.023378</td>\n",
       "      <td>0.006679</td>\n",
       "      <td>0.001431</td>\n",
       "      <td>0.011927</td>\n",
       "      <td>0.005248</td>\n",
       "      <td>0.001431</td>\n",
       "      <td>0.000477</td>\n",
       "      <td>0.000000</td>\n",
       "      <td>0.000000</td>\n",
       "    </tr>\n",
       "  </tbody>\n",
       "</table>\n",
       "</div>"
      ],
      "text/plain": [
       "         (0, 0)    (2, 2)    (1, 1)    (4, 4)    (1, 2)    (2, 3)    (3, 3)  \\\n",
       "train  0.409780  0.267853  0.286713  0.027972  0.015310  0.048368  0.248199   \n",
       "valid  0.409828  0.268130  0.286737  0.028149  0.015267  0.048187  0.248569   \n",
       "\n",
       "         (0, 3)    (0, 2)    (0, 1)    (1, 3)    (0, 4)    (5, 5)    (3, 4)  \\\n",
       "train  0.119517  0.041958  0.023469  0.006887  0.001695  0.011867  0.005245   \n",
       "valid  0.119752  0.041985  0.023378  0.006679  0.001431  0.011927  0.005248   \n",
       "\n",
       "         (3, 5)    (0, 5)    (4, 5)    (2, 5)  \n",
       "train  0.001271  0.000530  0.000212  0.000053  \n",
       "valid  0.001431  0.000477  0.000000  0.000000  "
      ]
     },
     "execution_count": 46,
     "metadata": {},
     "output_type": "execute_result"
    }
   ],
   "source": [
    "from collections import Counter\n",
    "from skmultilearn.model_selection.measures import get_combination_wise_output_matrix\n",
    "\n",
    "label_combination_df = pd.DataFrame({\n",
    "    'train': Counter(str(combination) for row in get_combination_wise_output_matrix(unique_train_labels_ohe, order=2) for combination in row),\n",
    "    'valid': Counter(str(combination) for row in get_combination_wise_output_matrix(unique_valid_labels_ohe, order=2) for combination in row),\n",
    "}).T.fillna(0.0).astype('float')\n",
    "\n",
    "# compute proportions\n",
    "label_combination_df.loc['train'] = label_combination_df.loc['train']/num_train_samples\n",
    "label_combination_df.loc['valid'] = label_combination_df.loc['valid']/num_valid_samples\n",
    "\n",
    "label_combination_df"
   ]
  },
  {
   "cell_type": "markdown",
   "id": "7963393f-01bf-4a04-9123-041c9766bfb2",
   "metadata": {},
   "source": [
    "#### 3. Check distribution of 3rd order"
   ]
  },
  {
   "cell_type": "code",
   "execution_count": 47,
   "id": "2a6e3742-bd17-4338-90cb-9151d79ee81a",
   "metadata": {},
   "outputs": [
    {
     "data": {
      "text/html": [
       "<div>\n",
       "<style scoped>\n",
       "    .dataframe tbody tr th:only-of-type {\n",
       "        vertical-align: middle;\n",
       "    }\n",
       "\n",
       "    .dataframe tbody tr th {\n",
       "        vertical-align: top;\n",
       "    }\n",
       "\n",
       "    .dataframe thead th {\n",
       "        text-align: right;\n",
       "    }\n",
       "</style>\n",
       "<table border=\"1\" class=\"dataframe\">\n",
       "  <thead>\n",
       "    <tr style=\"text-align: right;\">\n",
       "      <th></th>\n",
       "      <th>(0, 0, 0)</th>\n",
       "      <th>(2, 2, 2)</th>\n",
       "      <th>(1, 1, 1)</th>\n",
       "      <th>(4, 4, 4)</th>\n",
       "      <th>(1, 2, 2)</th>\n",
       "      <th>(1, 1, 2)</th>\n",
       "      <th>(2, 2, 3)</th>\n",
       "      <th>(2, 3, 3)</th>\n",
       "      <th>(3, 3, 3)</th>\n",
       "      <th>(0, 3, 3)</th>\n",
       "      <th>(0, 0, 3)</th>\n",
       "      <th>(0, 2, 2)</th>\n",
       "      <th>(0, 0, 2)</th>\n",
       "      <th>(0, 0, 1)</th>\n",
       "      <th>(0, 1, 1)</th>\n",
       "      <th>(0, 2, 3)</th>\n",
       "      <th>(1, 1, 3)</th>\n",
       "      <th>(1, 3, 3)</th>\n",
       "      <th>(0, 0, 4)</th>\n",
       "      <th>(0, 4, 4)</th>\n",
       "      <th>(5, 5, 5)</th>\n",
       "      <th>(3, 4, 4)</th>\n",
       "      <th>(3, 3, 4)</th>\n",
       "      <th>(3, 3, 5)</th>\n",
       "      <th>(3, 5, 5)</th>\n",
       "      <th>(0, 1, 3)</th>\n",
       "      <th>(0, 5, 5)</th>\n",
       "      <th>(0, 0, 5)</th>\n",
       "      <th>(4, 4, 5)</th>\n",
       "      <th>(4, 5, 5)</th>\n",
       "      <th>(0, 3, 4)</th>\n",
       "      <th>(0, 1, 2)</th>\n",
       "      <th>(1, 2, 3)</th>\n",
       "      <th>(0, 3, 5)</th>\n",
       "      <th>(2, 5, 5)</th>\n",
       "      <th>(2, 2, 5)</th>\n",
       "      <th>(2, 3, 5)</th>\n",
       "    </tr>\n",
       "  </thead>\n",
       "  <tbody>\n",
       "    <tr>\n",
       "      <th>train</th>\n",
       "      <td>0.409780</td>\n",
       "      <td>0.267853</td>\n",
       "      <td>0.286713</td>\n",
       "      <td>0.027972</td>\n",
       "      <td>0.015310</td>\n",
       "      <td>0.015310</td>\n",
       "      <td>0.048368</td>\n",
       "      <td>0.048368</td>\n",
       "      <td>0.248199</td>\n",
       "      <td>0.119517</td>\n",
       "      <td>0.119517</td>\n",
       "      <td>0.041958</td>\n",
       "      <td>0.041958</td>\n",
       "      <td>0.023469</td>\n",
       "      <td>0.023469</td>\n",
       "      <td>0.008635</td>\n",
       "      <td>0.006887</td>\n",
       "      <td>0.006887</td>\n",
       "      <td>0.001695</td>\n",
       "      <td>0.001695</td>\n",
       "      <td>0.011867</td>\n",
       "      <td>0.005245</td>\n",
       "      <td>0.005245</td>\n",
       "      <td>0.001271</td>\n",
       "      <td>0.001271</td>\n",
       "      <td>0.001695</td>\n",
       "      <td>0.000530</td>\n",
       "      <td>0.000530</td>\n",
       "      <td>0.000212</td>\n",
       "      <td>0.000212</td>\n",
       "      <td>0.000265</td>\n",
       "      <td>0.000954</td>\n",
       "      <td>0.000424</td>\n",
       "      <td>0.000106</td>\n",
       "      <td>0.000053</td>\n",
       "      <td>0.000053</td>\n",
       "      <td>0.000053</td>\n",
       "    </tr>\n",
       "    <tr>\n",
       "      <th>valid</th>\n",
       "      <td>0.409828</td>\n",
       "      <td>0.268130</td>\n",
       "      <td>0.286737</td>\n",
       "      <td>0.028149</td>\n",
       "      <td>0.015267</td>\n",
       "      <td>0.015267</td>\n",
       "      <td>0.048187</td>\n",
       "      <td>0.048187</td>\n",
       "      <td>0.248569</td>\n",
       "      <td>0.119752</td>\n",
       "      <td>0.119752</td>\n",
       "      <td>0.041985</td>\n",
       "      <td>0.041985</td>\n",
       "      <td>0.023378</td>\n",
       "      <td>0.023378</td>\n",
       "      <td>0.007634</td>\n",
       "      <td>0.006679</td>\n",
       "      <td>0.006679</td>\n",
       "      <td>0.001431</td>\n",
       "      <td>0.001431</td>\n",
       "      <td>0.011927</td>\n",
       "      <td>0.005248</td>\n",
       "      <td>0.005248</td>\n",
       "      <td>0.001431</td>\n",
       "      <td>0.001431</td>\n",
       "      <td>0.001908</td>\n",
       "      <td>0.000477</td>\n",
       "      <td>0.000477</td>\n",
       "      <td>0.000000</td>\n",
       "      <td>0.000000</td>\n",
       "      <td>0.000000</td>\n",
       "      <td>0.000477</td>\n",
       "      <td>0.000477</td>\n",
       "      <td>0.000000</td>\n",
       "      <td>0.000000</td>\n",
       "      <td>0.000000</td>\n",
       "      <td>0.000000</td>\n",
       "    </tr>\n",
       "  </tbody>\n",
       "</table>\n",
       "</div>"
      ],
      "text/plain": [
       "       (0, 0, 0)  (2, 2, 2)  (1, 1, 1)  (4, 4, 4)  (1, 2, 2)  (1, 1, 2)  \\\n",
       "train   0.409780   0.267853   0.286713   0.027972   0.015310   0.015310   \n",
       "valid   0.409828   0.268130   0.286737   0.028149   0.015267   0.015267   \n",
       "\n",
       "       (2, 2, 3)  (2, 3, 3)  (3, 3, 3)  (0, 3, 3)  (0, 0, 3)  (0, 2, 2)  \\\n",
       "train   0.048368   0.048368   0.248199   0.119517   0.119517   0.041958   \n",
       "valid   0.048187   0.048187   0.248569   0.119752   0.119752   0.041985   \n",
       "\n",
       "       (0, 0, 2)  (0, 0, 1)  (0, 1, 1)  (0, 2, 3)  (1, 1, 3)  (1, 3, 3)  \\\n",
       "train   0.041958   0.023469   0.023469   0.008635   0.006887   0.006887   \n",
       "valid   0.041985   0.023378   0.023378   0.007634   0.006679   0.006679   \n",
       "\n",
       "       (0, 0, 4)  (0, 4, 4)  (5, 5, 5)  (3, 4, 4)  (3, 3, 4)  (3, 3, 5)  \\\n",
       "train   0.001695   0.001695   0.011867   0.005245   0.005245   0.001271   \n",
       "valid   0.001431   0.001431   0.011927   0.005248   0.005248   0.001431   \n",
       "\n",
       "       (3, 5, 5)  (0, 1, 3)  (0, 5, 5)  (0, 0, 5)  (4, 4, 5)  (4, 5, 5)  \\\n",
       "train   0.001271   0.001695   0.000530   0.000530   0.000212   0.000212   \n",
       "valid   0.001431   0.001908   0.000477   0.000477   0.000000   0.000000   \n",
       "\n",
       "       (0, 3, 4)  (0, 1, 2)  (1, 2, 3)  (0, 3, 5)  (2, 5, 5)  (2, 2, 5)  \\\n",
       "train   0.000265   0.000954   0.000424   0.000106   0.000053   0.000053   \n",
       "valid   0.000000   0.000477   0.000477   0.000000   0.000000   0.000000   \n",
       "\n",
       "       (2, 3, 5)  \n",
       "train   0.000053  \n",
       "valid   0.000000  "
      ]
     },
     "execution_count": 47,
     "metadata": {},
     "output_type": "execute_result"
    }
   ],
   "source": [
    "from collections import Counter\n",
    "from skmultilearn.model_selection.measures import get_combination_wise_output_matrix\n",
    "\n",
    "label_combination_df = pd.DataFrame({\n",
    "    'train': Counter(str(combination) for row in get_combination_wise_output_matrix(unique_train_labels_ohe, order=3) for combination in row),\n",
    "    'valid': Counter(str(combination) for row in get_combination_wise_output_matrix(unique_valid_labels_ohe, order=3) for combination in row),\n",
    "}).T.fillna(0.0).astype('float')\n",
    "\n",
    "# compute proportions\n",
    "label_combination_df.loc['train'] = label_combination_df.loc['train']/num_train_samples\n",
    "label_combination_df.loc['valid'] = label_combination_df.loc['valid']/num_valid_samples\n",
    "\n",
    "label_combination_df"
   ]
  },
  {
   "cell_type": "markdown",
   "id": "1f6cc800-5411-41cb-b6a9-808bf7a4a5db",
   "metadata": {},
   "source": [
    "## H. Modelling"
   ]
  },
  {
   "cell_type": "markdown",
   "id": "8c3d18cb-a88d-4aab-827b-afc148365b38",
   "metadata": {},
   "source": [
    "### 1. Modelling Parameters"
   ]
  },
  {
   "cell_type": "code",
   "execution_count": 289,
   "id": "b6501bd1-1dbd-41c1-8392-ed12e9e2b598",
   "metadata": {},
   "outputs": [],
   "source": [
    "# Max sequence length\n",
    "# Note: Since we are dealing with longer texts hence MAX_LEN is large\n",
    "MAX_LEN = 512\n",
    "\n",
    "# Batch Size\n",
    "TRAIN_BATCH_SIZE = 16\n",
    "VALID_BATCH_SIZE = 4\n",
    "\n",
    "# Training Epochs\n",
    "EPOCHS = 10\n",
    "\n",
    "# Optimizer params\n",
    "LEARNING_RATE = 1e-06\n",
    "ADAMS_EPSILON = 1e-7\n",
    "\n",
    "# clipping grad norms\n",
    "MAX_GRAD_NORM = 1.0\n",
    "\n",
    "# tokenizer to use\n",
    "tokenizer = BertTokenizer.from_pretrained('bert-base-uncased', clean_up_tokenization_spaces=True)"
   ]
  },
  {
   "cell_type": "markdown",
   "id": "42ca7ccc-8a2a-46b9-8cd4-9aac08c2ae80",
   "metadata": {},
   "source": [
    "### 2. Preparing the dataset and dataloader"
   ]
  },
  {
   "cell_type": "markdown",
   "id": "84978669-72dc-4385-a4e1-5e6b9dbb07ac",
   "metadata": {},
   "source": [
    "#### 2.1. Create Custom Topic Dataset class "
   ]
  },
  {
   "cell_type": "code",
   "execution_count": 290,
   "id": "1889bab0-4756-414d-9806-bc190a66280c",
   "metadata": {},
   "outputs": [],
   "source": [
    "class TopicDataset(Dataset):\n",
    "    \"\"\"Custom Topic Dataset to get input ids, attn_masks and labels.\n",
    "    Inputs:\n",
    "    - df: dataframe with columns ['text','Computer Science', 'Physics', 'Mathematics',\n",
    "    'Statistics', 'Quantitative Biology','Quantitative Finance' ]\n",
    "    \"\"\"\n",
    "    def __init__(self, df, tokenizer, max_len=512, topics=targets):\n",
    "        if not isinstance(df, pd.DataFrame):\n",
    "            raise TypeError(\"Input df should be a dataframe.\")\n",
    "        for topic in topics:\n",
    "            if topic not in df.columns:\n",
    "                raise ValueError(f\"DataFrame should contain {topic} column.\")\n",
    "        if 'text' not in df.columns:\n",
    "            raise ValueError(f\"Dataframe should contain 'text' column\")\n",
    "\n",
    "        self.data = df\n",
    "        self.len = len(df)\n",
    "        self.tokenizer = tokenizer\n",
    "        self.topics = topics\n",
    "        self.max_len = max_len\n",
    "\n",
    "    def __len__(self):\n",
    "        return self.len\n",
    "\n",
    "    def __getitem__(self, idx):\n",
    "        # get text at index idx\n",
    "        text = self.data['text'][idx]\n",
    "        \n",
    "        # get the corresponding labels\n",
    "        labels = self.data[self.topics].values[idx]\n",
    "        \n",
    "        # compute input ids and attenton masks\n",
    "        encoded_text_dict = tokenizer.encode_plus(text, # text to encode\n",
    "                                                  add_special_tokens=True, # Add [CLS] and [SEP] tokens\n",
    "                                                  truncation=True, \n",
    "                                                  max_length=self.max_len,\n",
    "                                                  padding='max_length',\n",
    "                                                  return_attention_mask=True, # construct atn masks\n",
    "                                                  return_tensors='pt' # pytorch tensors\n",
    "                                                 )\n",
    "        \n",
    "        input_ids = encoded_text_dict['input_ids'][0]\n",
    "        attn_masks = encoded_text_dict['attention_mask'][0]\n",
    "        \n",
    "        items = {\n",
    "            'input_ids': input_ids,\n",
    "            'attn_masks': attn_masks,\n",
    "            'labels': torch.tensor(labels, dtype=torch.float32)\n",
    "        }\n",
    "        \n",
    "        return items"
   ]
  },
  {
   "cell_type": "markdown",
   "id": "c5dd7bf4-49fd-470b-8cae-9fd0d02c0f59",
   "metadata": {},
   "source": [
    "#### 2.3. Create Train Dataset, Valid Dataset"
   ]
  },
  {
   "cell_type": "code",
   "execution_count": 291,
   "id": "8d582d12-6d96-4336-8273-4031a0106493",
   "metadata": {},
   "outputs": [],
   "source": [
    "# create train dataset\n",
    "train_dataset = TopicDataset(train_df, tokenizer, MAX_LEN, topics=targets)\n",
    "# create validation dataset\n",
    "valid_dataset = TopicDataset(valid_df, tokenizer, MAX_LEN, topics=targets)\n",
    "# create test dataset"
   ]
  },
  {
   "cell_type": "markdown",
   "id": "6310b649-6705-49eb-9a95-62e84cc7cd99",
   "metadata": {},
   "source": [
    "#### 2.4. Create Train DataLoader and Valid DataLoader"
   ]
  },
  {
   "cell_type": "code",
   "execution_count": 292,
   "id": "dba95ee5-4ff5-4b86-822f-e42c09864807",
   "metadata": {},
   "outputs": [],
   "source": [
    "# set the batch size for train, valid and test dataloader\n",
    "train_params = {'batch_size': TRAIN_BATCH_SIZE,\n",
    "                'shuffle': True\n",
    "               }\n",
    "\n",
    "valid_params = {'batch_size': VALID_BATCH_SIZE,\n",
    "                'shuffle': False\n",
    "               }\n",
    "\n",
    "# create the train dataloader\n",
    "train_dataloader = DataLoader(train_dataset, **train_params)\n",
    "# create the validation dataloader\n",
    "valid_dataloader = DataLoader(valid_dataset, **valid_params)"
   ]
  },
  {
   "cell_type": "markdown",
   "id": "756a69c1-0899-42a5-a708-f4b71056fc08",
   "metadata": {},
   "source": [
    "### 3. Create Model\n",
    "We present a novel language representation model known as BERT, which stands for Bidirectional Encoder Representations from Transformers. In contrast to other recent models, BERT is specifically engineered to pre-train deep bidirectional representations from unlabeled text by simultaneously considering both left and right contexts across all layers. Consequently, the pre-trained BERT model can be easily fine-tuned by adding a single output layer, enabling the development of cutting-edge models for various tasks, including question answering and language inference, without the need for significant alterations to the task-specific architecture."
   ]
  },
  {
   "cell_type": "code",
   "execution_count": 295,
   "id": "9046afa9-2871-4509-8460-a33a1ed2342a",
   "metadata": {},
   "outputs": [
    {
     "name": "stderr",
     "output_type": "stream",
     "text": [
      "Some weights of BertForSequenceClassification were not initialized from the model checkpoint at bert-base-uncased and are newly initialized: ['classifier.bias', 'classifier.weight']\n",
      "You should probably TRAIN this model on a down-stream task to be able to use it for predictions and inference.\n"
     ]
    },
    {
     "data": {
      "text/plain": [
       "BertForSequenceClassification(\n",
       "  (bert): BertModel(\n",
       "    (embeddings): BertEmbeddings(\n",
       "      (word_embeddings): Embedding(30522, 768, padding_idx=0)\n",
       "      (position_embeddings): Embedding(512, 768)\n",
       "      (token_type_embeddings): Embedding(2, 768)\n",
       "      (LayerNorm): LayerNorm((768,), eps=1e-12, elementwise_affine=True)\n",
       "      (dropout): Dropout(p=0.1, inplace=False)\n",
       "    )\n",
       "    (encoder): BertEncoder(\n",
       "      (layer): ModuleList(\n",
       "        (0-11): 12 x BertLayer(\n",
       "          (attention): BertAttention(\n",
       "            (self): BertSdpaSelfAttention(\n",
       "              (query): Linear(in_features=768, out_features=768, bias=True)\n",
       "              (key): Linear(in_features=768, out_features=768, bias=True)\n",
       "              (value): Linear(in_features=768, out_features=768, bias=True)\n",
       "              (dropout): Dropout(p=0.1, inplace=False)\n",
       "            )\n",
       "            (output): BertSelfOutput(\n",
       "              (dense): Linear(in_features=768, out_features=768, bias=True)\n",
       "              (LayerNorm): LayerNorm((768,), eps=1e-12, elementwise_affine=True)\n",
       "              (dropout): Dropout(p=0.1, inplace=False)\n",
       "            )\n",
       "          )\n",
       "          (intermediate): BertIntermediate(\n",
       "            (dense): Linear(in_features=768, out_features=3072, bias=True)\n",
       "            (intermediate_act_fn): GELUActivation()\n",
       "          )\n",
       "          (output): BertOutput(\n",
       "            (dense): Linear(in_features=3072, out_features=768, bias=True)\n",
       "            (LayerNorm): LayerNorm((768,), eps=1e-12, elementwise_affine=True)\n",
       "            (dropout): Dropout(p=0.1, inplace=False)\n",
       "          )\n",
       "        )\n",
       "      )\n",
       "    )\n",
       "    (pooler): BertPooler(\n",
       "      (dense): Linear(in_features=768, out_features=768, bias=True)\n",
       "      (activation): Tanh()\n",
       "    )\n",
       "  )\n",
       "  (dropout): Dropout(p=0.1, inplace=False)\n",
       "  (classifier): Linear(in_features=768, out_features=6, bias=True)\n",
       ")"
      ]
     },
     "execution_count": 295,
     "metadata": {},
     "output_type": "execute_result"
    }
   ],
   "source": [
    "# create BERT model\n",
    "model = BertForSequenceClassification.from_pretrained('bert-base-uncased',\n",
    "                                                      num_labels = 6,\n",
    "                                                      label2id = label2id,\n",
    "                                                      id2label = id2label,\n",
    "                                                      problem_type = \"multi_label_classification\")\n",
    "# move the model to device\n",
    "model.to(device)"
   ]
  },
  {
   "cell_type": "markdown",
   "id": "fa6c695a-4425-4922-a884-b674dd87947e",
   "metadata": {},
   "source": [
    "#### 4. Set the Optimizer\n",
    "Optimizer - AdamW:\n",
    "\n",
    "AdamW is a stochastic optimization method that modifies the typical implementation of weight decay in Adam, by decoupling weight decay from the gradient update.\n",
    "\n",
    "Learning Rate:\n",
    "\n",
    "Learning rate is a tuning parameter in machine learning and statistics that controls how much a model's parameters adjust during each iteration of an optimization algorithm. It's a floating point number that's usually between 0.01 and 0.1\n",
    "\n",
    "Adam Epsilon:\n",
    "\n",
    "The parameter epsilon shows up in the update step.\n",
    "\n",
    "θ_t <- θ_{t-1} - α • mhat_t / (sqrt(vhat_t) + ε)\n",
    "\n",
    "It is primarily used as a guard against a zero second second moment causing a division by zero case. If it is too large it will bias the moment estimation."
   ]
  },
  {
   "cell_type": "code",
   "execution_count": 296,
   "id": "d26ab0ed-6658-4e8b-ab73-ac5396d7e504",
   "metadata": {},
   "outputs": [
    {
     "name": "stdout",
     "output_type": "stream",
     "text": [
      "learning rate: 1e-06\n",
      "adams epsilon: 1e-07\n"
     ]
    }
   ],
   "source": [
    "# set the learning rate\n",
    "learning_rate = LEARNING_RATE\n",
    "\n",
    "# set the adam's epsilon\n",
    "# The term added to the denominator to improve numerical stability\n",
    "adam_epsilon = ADAMS_EPSILON\n",
    "\n",
    "# Load the AdamW optimizer\n",
    "optimizer = AdamW(model.parameters(),\n",
    "                  lr = learning_rate, # args.learning_rate \n",
    "                  eps = adam_epsilon # args.adam_epsilon \n",
    "                )\n",
    "\n",
    "print(f\"learning rate: {learning_rate}\")\n",
    "print(f\"adams epsilon: {adam_epsilon}\")"
   ]
  },
  {
   "cell_type": "markdown",
   "id": "c2a84e51-52c8-4a04-8397-d500c73dcdd8",
   "metadata": {},
   "source": [
    "#### 5. Set the Scheduler\n",
    "A scheduler is to make learning rate adaptive to the gradient descent optimization procedure, so you can increase performance and reduce training time.\n",
    "\n",
    "In PyTorch, a model is updated by an optimizer and learning rate is a parameter of the optimizer.\n",
    "\n",
    "Learning rate schedule is an algorithm to update the learning rate in an optimizer."
   ]
  },
  {
   "cell_type": "code",
   "execution_count": 297,
   "id": "474c9abe-9f1b-4826-9388-60e1105605ff",
   "metadata": {},
   "outputs": [
    {
     "name": "stdout",
     "output_type": "stream",
     "text": [
      "total steps: 11800\n"
     ]
    }
   ],
   "source": [
    "# Number of training epochs \n",
    "epochs = EPOCHS\n",
    "\n",
    "# Total number of training steps is number of batches * number of epochs.\n",
    "total_steps = len(train_dataloader) * epochs\n",
    "\n",
    "print(f\"total steps: {total_steps}\")\n",
    "\n",
    "# create the learning scheduler\n",
    "scheduler = get_linear_schedule_with_warmup(optimizer, \n",
    "                                            num_warmup_steps = 0,\n",
    "                                            num_training_steps = total_steps)"
   ]
  },
  {
   "cell_type": "markdown",
   "id": "abdd3ca6-d872-46f2-9edc-221a1e2ae8f8",
   "metadata": {},
   "source": [
    "#### 6. Create the training loop\n",
    "A typical training loop in PyTorch iterates over the batches for a given number of epochs.\n",
    "\n",
    "In each batch iteration, we first compute the forward pass to obtain the neural network outputs.\n",
    "Then, we reset the gradient from the previous iteration and perform backpropagation to obtain the gradient of the loss with respect to the model weights.\n",
    "Finally, we update the weights based on the loss gradients using stochastic gradient descent.\n",
    "Since we are using learning scheduler for the adaptive learning rate, we call scheduler.step() to update the learning rate (as per the learning scheduler) after every epoch."
   ]
  },
  {
   "cell_type": "code",
   "execution_count": 298,
   "id": "e5cff0e3-ee87-4e53-ad41-71d49fffd41c",
   "metadata": {},
   "outputs": [],
   "source": [
    "def train_loop(model, train_dataloader, optimizer, epochs, device=torch.device('cpu'), seed_val=42):\n",
    "    \n",
    "    # set the random seeds\n",
    "    random.seed(seed_val)\n",
    "    np.random.seed(seed_val)\n",
    "    torch.manual_seed(seed_val)\n",
    "\n",
    "    # initially set best model to model\n",
    "    # This model corresponds to the min loss model\n",
    "    best_model = model\n",
    "    # min loss function (initially set to a large value)\n",
    "    min_train_loss = 10000000\n",
    "    \n",
    "    # store loss values for each epoch\n",
    "    loss_values = []\n",
    "\n",
    "    for epoch_i in range(0, epochs):\n",
    "        print('======== Epoch {:} / {:} ========'.format(epoch_i + 1, epochs))\n",
    "        print('Training...')\n",
    "        # training loss\n",
    "        total_loss = 0\n",
    "    \n",
    "        # train mode\n",
    "        model.train()\n",
    "\n",
    "        for step, batch in enumerate(train_dataloader):\n",
    "            if step%40 == 0 and not step == 0:\n",
    "                # report progress of the training\n",
    "                print('  Batch {:>5,}  of  {:>5,}.'.format(step, len(train_dataloader)))\n",
    "                # batch input ids\n",
    "                batch_input_ids = batch['input_ids'].to(device)\n",
    "                # batch input mask\n",
    "                batch_input_mask = batch['attn_masks'].to(device)\n",
    "                # batch labels\n",
    "                batch_labels = batch['labels'].to(device)\n",
    "\n",
    "                # Zero the gradients to start fresh next time\n",
    "                model.zero_grad()\n",
    "\n",
    "                # get the output\n",
    "                outputs = model(batch_input_ids, token_type_ids=None,\n",
    "                                attention_mask=batch_input_mask, labels=batch_labels)\n",
    "                loss = outputs[0]\n",
    "                \n",
    "                # add the loss\n",
    "                total_loss += loss.item()\n",
    "            \n",
    "                # gradient computing step\n",
    "                # -----------------------\n",
    "                # loss.backward() computes dloss/dx for every parameter x which\n",
    "                # has requires_grad=True. These are accumulated into x.grad\n",
    "                # for every parameter x.\n",
    "                loss.backward()\n",
    "\n",
    "                # clips the norm of the overall gradient by concatenating all\n",
    "                # parameters passed to the function\n",
    "                torch.nn.utils.clip_grad_norm_(model.parameters(), 1.0)\n",
    "            \n",
    "                # Tell the optimizer the gradients, then step.\n",
    "                # Performs a single optimization step (parameter update)\n",
    "            optimizer.step()\n",
    "\n",
    "            # We need this step to dynamically change learning rate\n",
    "            # else it won’t be changed.\n",
    "            # To introduce a learning rate scheduler,\n",
    "            # you need to run its step() function in the training loop.\n",
    "            scheduler.step()\n",
    "            \n",
    "        # Compute the average training loss per instance\n",
    "        avg_train_loss = total_loss / len(train_dataloader)\n",
    "        loss_values.append(avg_train_loss)\n",
    "        print(\"  Average training loss: {0:.4f}\".format(avg_train_loss))\n",
    "\n",
    "        # track the min loss and update the best model accordingly\n",
    "        if avg_train_loss < min_train_loss:\n",
    "            print(\"updating the model\")\n",
    "            min_train_loss = avg_train_loss\n",
    "            # update the model\n",
    "            best_model = copy.deepcopy(model)\n",
    "        print(\"Minimum Average training loss: {0:.4f}\".format(avg_train_loss))\n",
    "\n",
    "    return loss_values, min_train_loss, best_model"
   ]
  },
  {
   "cell_type": "markdown",
   "id": "52cbf79b-b8b6-4872-8618-af5a8b1b91b3",
   "metadata": {},
   "source": [
    "### 7. Training Phase"
   ]
  },
  {
   "cell_type": "code",
   "execution_count": 299,
   "id": "c396209e-98de-47ea-b691-fa7a7506b897",
   "metadata": {},
   "outputs": [
    {
     "name": "stdout",
     "output_type": "stream",
     "text": [
      "======== Epoch 1 / 10 ========\n",
      "Training...\n",
      "  Batch    40  of  1,180.\n",
      "  Batch    80  of  1,180.\n",
      "  Batch   120  of  1,180.\n",
      "  Batch   160  of  1,180.\n",
      "  Batch   200  of  1,180.\n",
      "  Batch   240  of  1,180.\n",
      "  Batch   280  of  1,180.\n",
      "  Batch   320  of  1,180.\n",
      "  Batch   360  of  1,180.\n",
      "  Batch   400  of  1,180.\n",
      "  Batch   440  of  1,180.\n",
      "  Batch   480  of  1,180.\n",
      "  Batch   520  of  1,180.\n",
      "  Batch   560  of  1,180.\n",
      "  Batch   600  of  1,180.\n",
      "  Batch   640  of  1,180.\n",
      "  Batch   680  of  1,180.\n",
      "  Batch   720  of  1,180.\n",
      "  Batch   760  of  1,180.\n",
      "  Batch   800  of  1,180.\n",
      "  Batch   840  of  1,180.\n",
      "  Batch   880  of  1,180.\n",
      "  Batch   920  of  1,180.\n",
      "  Batch   960  of  1,180.\n",
      "  Batch 1,000  of  1,180.\n",
      "  Batch 1,040  of  1,180.\n",
      "  Batch 1,080  of  1,180.\n",
      "  Batch 1,120  of  1,180.\n",
      "  Batch 1,160  of  1,180.\n",
      "  Average training loss: 0.0114\n",
      "updating the model\n",
      "Minimum Average training loss: 0.0114\n",
      "======== Epoch 2 / 10 ========\n",
      "Training...\n",
      "  Batch    40  of  1,180.\n",
      "  Batch    80  of  1,180.\n",
      "  Batch   120  of  1,180.\n",
      "  Batch   160  of  1,180.\n",
      "  Batch   200  of  1,180.\n",
      "  Batch   240  of  1,180.\n",
      "  Batch   280  of  1,180.\n",
      "  Batch   320  of  1,180.\n",
      "  Batch   360  of  1,180.\n",
      "  Batch   400  of  1,180.\n",
      "  Batch   440  of  1,180.\n",
      "  Batch   480  of  1,180.\n",
      "  Batch   520  of  1,180.\n",
      "  Batch   560  of  1,180.\n",
      "  Batch   600  of  1,180.\n",
      "  Batch   640  of  1,180.\n",
      "  Batch   680  of  1,180.\n",
      "  Batch   720  of  1,180.\n",
      "  Batch   760  of  1,180.\n",
      "  Batch   800  of  1,180.\n",
      "  Batch   840  of  1,180.\n",
      "  Batch   880  of  1,180.\n",
      "  Batch   920  of  1,180.\n",
      "  Batch   960  of  1,180.\n",
      "  Batch 1,000  of  1,180.\n",
      "  Batch 1,040  of  1,180.\n",
      "  Batch 1,080  of  1,180.\n",
      "  Batch 1,120  of  1,180.\n",
      "  Batch 1,160  of  1,180.\n",
      "  Average training loss: 0.0076\n",
      "updating the model\n",
      "Minimum Average training loss: 0.0076\n",
      "======== Epoch 3 / 10 ========\n",
      "Training...\n",
      "  Batch    40  of  1,180.\n",
      "  Batch    80  of  1,180.\n",
      "  Batch   120  of  1,180.\n",
      "  Batch   160  of  1,180.\n",
      "  Batch   200  of  1,180.\n",
      "  Batch   240  of  1,180.\n",
      "  Batch   280  of  1,180.\n",
      "  Batch   320  of  1,180.\n",
      "  Batch   360  of  1,180.\n",
      "  Batch   400  of  1,180.\n",
      "  Batch   440  of  1,180.\n",
      "  Batch   480  of  1,180.\n",
      "  Batch   520  of  1,180.\n",
      "  Batch   560  of  1,180.\n",
      "  Batch   600  of  1,180.\n",
      "  Batch   640  of  1,180.\n",
      "  Batch   680  of  1,180.\n",
      "  Batch   720  of  1,180.\n",
      "  Batch   760  of  1,180.\n",
      "  Batch   800  of  1,180.\n",
      "  Batch   840  of  1,180.\n",
      "  Batch   880  of  1,180.\n",
      "  Batch   920  of  1,180.\n",
      "  Batch   960  of  1,180.\n",
      "  Batch 1,000  of  1,180.\n",
      "  Batch 1,040  of  1,180.\n",
      "  Batch 1,080  of  1,180.\n",
      "  Batch 1,120  of  1,180.\n",
      "  Batch 1,160  of  1,180.\n",
      "  Average training loss: 0.0067\n",
      "updating the model\n",
      "Minimum Average training loss: 0.0067\n",
      "======== Epoch 4 / 10 ========\n",
      "Training...\n",
      "  Batch    40  of  1,180.\n",
      "  Batch    80  of  1,180.\n",
      "  Batch   120  of  1,180.\n",
      "  Batch   160  of  1,180.\n",
      "  Batch   200  of  1,180.\n",
      "  Batch   240  of  1,180.\n",
      "  Batch   280  of  1,180.\n",
      "  Batch   320  of  1,180.\n",
      "  Batch   360  of  1,180.\n",
      "  Batch   400  of  1,180.\n",
      "  Batch   440  of  1,180.\n",
      "  Batch   480  of  1,180.\n",
      "  Batch   520  of  1,180.\n",
      "  Batch   560  of  1,180.\n",
      "  Batch   600  of  1,180.\n",
      "  Batch   640  of  1,180.\n",
      "  Batch   680  of  1,180.\n",
      "  Batch   720  of  1,180.\n",
      "  Batch   760  of  1,180.\n",
      "  Batch   800  of  1,180.\n",
      "  Batch   840  of  1,180.\n",
      "  Batch   880  of  1,180.\n",
      "  Batch   920  of  1,180.\n",
      "  Batch   960  of  1,180.\n",
      "  Batch 1,000  of  1,180.\n",
      "  Batch 1,040  of  1,180.\n",
      "  Batch 1,080  of  1,180.\n",
      "  Batch 1,120  of  1,180.\n",
      "  Batch 1,160  of  1,180.\n",
      "  Average training loss: 0.0057\n",
      "updating the model\n",
      "Minimum Average training loss: 0.0057\n",
      "======== Epoch 5 / 10 ========\n",
      "Training...\n",
      "  Batch    40  of  1,180.\n",
      "  Batch    80  of  1,180.\n",
      "  Batch   120  of  1,180.\n",
      "  Batch   160  of  1,180.\n",
      "  Batch   200  of  1,180.\n",
      "  Batch   240  of  1,180.\n",
      "  Batch   280  of  1,180.\n",
      "  Batch   320  of  1,180.\n",
      "  Batch   360  of  1,180.\n",
      "  Batch   400  of  1,180.\n",
      "  Batch   440  of  1,180.\n",
      "  Batch   480  of  1,180.\n",
      "  Batch   520  of  1,180.\n",
      "  Batch   560  of  1,180.\n",
      "  Batch   600  of  1,180.\n",
      "  Batch   640  of  1,180.\n",
      "  Batch   680  of  1,180.\n",
      "  Batch   720  of  1,180.\n",
      "  Batch   760  of  1,180.\n",
      "  Batch   800  of  1,180.\n",
      "  Batch   840  of  1,180.\n",
      "  Batch   880  of  1,180.\n",
      "  Batch   920  of  1,180.\n",
      "  Batch   960  of  1,180.\n",
      "  Batch 1,000  of  1,180.\n",
      "  Batch 1,040  of  1,180.\n",
      "  Batch 1,080  of  1,180.\n",
      "  Batch 1,120  of  1,180.\n",
      "  Batch 1,160  of  1,180.\n",
      "  Average training loss: 0.0055\n",
      "updating the model\n",
      "Minimum Average training loss: 0.0055\n",
      "======== Epoch 6 / 10 ========\n",
      "Training...\n",
      "  Batch    40  of  1,180.\n",
      "  Batch    80  of  1,180.\n",
      "  Batch   120  of  1,180.\n",
      "  Batch   160  of  1,180.\n",
      "  Batch   200  of  1,180.\n",
      "  Batch   240  of  1,180.\n",
      "  Batch   280  of  1,180.\n",
      "  Batch   320  of  1,180.\n",
      "  Batch   360  of  1,180.\n",
      "  Batch   400  of  1,180.\n",
      "  Batch   440  of  1,180.\n",
      "  Batch   480  of  1,180.\n",
      "  Batch   520  of  1,180.\n",
      "  Batch   560  of  1,180.\n",
      "  Batch   600  of  1,180.\n",
      "  Batch   640  of  1,180.\n",
      "  Batch   680  of  1,180.\n",
      "  Batch   720  of  1,180.\n",
      "  Batch   760  of  1,180.\n",
      "  Batch   800  of  1,180.\n",
      "  Batch   840  of  1,180.\n",
      "  Batch   880  of  1,180.\n",
      "  Batch   920  of  1,180.\n",
      "  Batch   960  of  1,180.\n",
      "  Batch 1,000  of  1,180.\n",
      "  Batch 1,040  of  1,180.\n",
      "  Batch 1,080  of  1,180.\n",
      "  Batch 1,120  of  1,180.\n",
      "  Batch 1,160  of  1,180.\n",
      "  Average training loss: 0.0055\n",
      "Minimum Average training loss: 0.0055\n",
      "======== Epoch 7 / 10 ========\n",
      "Training...\n",
      "  Batch    40  of  1,180.\n",
      "  Batch    80  of  1,180.\n",
      "  Batch   120  of  1,180.\n",
      "  Batch   160  of  1,180.\n",
      "  Batch   200  of  1,180.\n",
      "  Batch   240  of  1,180.\n",
      "  Batch   280  of  1,180.\n",
      "  Batch   320  of  1,180.\n",
      "  Batch   360  of  1,180.\n",
      "  Batch   400  of  1,180.\n",
      "  Batch   440  of  1,180.\n",
      "  Batch   480  of  1,180.\n",
      "  Batch   520  of  1,180.\n",
      "  Batch   560  of  1,180.\n",
      "  Batch   600  of  1,180.\n",
      "  Batch   640  of  1,180.\n",
      "  Batch   680  of  1,180.\n",
      "  Batch   720  of  1,180.\n",
      "  Batch   760  of  1,180.\n",
      "  Batch   800  of  1,180.\n",
      "  Batch   840  of  1,180.\n",
      "  Batch   880  of  1,180.\n",
      "  Batch   920  of  1,180.\n",
      "  Batch   960  of  1,180.\n",
      "  Batch 1,000  of  1,180.\n",
      "  Batch 1,040  of  1,180.\n",
      "  Batch 1,080  of  1,180.\n",
      "  Batch 1,120  of  1,180.\n",
      "  Batch 1,160  of  1,180.\n",
      "  Average training loss: 0.0054\n",
      "updating the model\n",
      "Minimum Average training loss: 0.0054\n",
      "======== Epoch 8 / 10 ========\n",
      "Training...\n",
      "  Batch    40  of  1,180.\n",
      "  Batch    80  of  1,180.\n",
      "  Batch   120  of  1,180.\n",
      "  Batch   160  of  1,180.\n",
      "  Batch   200  of  1,180.\n",
      "  Batch   240  of  1,180.\n",
      "  Batch   280  of  1,180.\n",
      "  Batch   320  of  1,180.\n",
      "  Batch   360  of  1,180.\n",
      "  Batch   400  of  1,180.\n",
      "  Batch   440  of  1,180.\n",
      "  Batch   480  of  1,180.\n",
      "  Batch   520  of  1,180.\n",
      "  Batch   560  of  1,180.\n",
      "  Batch   600  of  1,180.\n",
      "  Batch   640  of  1,180.\n",
      "  Batch   680  of  1,180.\n",
      "  Batch   720  of  1,180.\n",
      "  Batch   760  of  1,180.\n",
      "  Batch   800  of  1,180.\n",
      "  Batch   840  of  1,180.\n",
      "  Batch   880  of  1,180.\n",
      "  Batch   920  of  1,180.\n",
      "  Batch   960  of  1,180.\n",
      "  Batch 1,000  of  1,180.\n",
      "  Batch 1,040  of  1,180.\n",
      "  Batch 1,080  of  1,180.\n",
      "  Batch 1,120  of  1,180.\n",
      "  Batch 1,160  of  1,180.\n",
      "  Average training loss: 0.0054\n",
      "Minimum Average training loss: 0.0054\n",
      "======== Epoch 9 / 10 ========\n",
      "Training...\n",
      "  Batch    40  of  1,180.\n",
      "  Batch    80  of  1,180.\n",
      "  Batch   120  of  1,180.\n",
      "  Batch   160  of  1,180.\n",
      "  Batch   200  of  1,180.\n",
      "  Batch   240  of  1,180.\n",
      "  Batch   280  of  1,180.\n",
      "  Batch   320  of  1,180.\n",
      "  Batch   360  of  1,180.\n",
      "  Batch   400  of  1,180.\n",
      "  Batch   440  of  1,180.\n",
      "  Batch   480  of  1,180.\n",
      "  Batch   520  of  1,180.\n",
      "  Batch   560  of  1,180.\n",
      "  Batch   600  of  1,180.\n",
      "  Batch   640  of  1,180.\n",
      "  Batch   680  of  1,180.\n",
      "  Batch   720  of  1,180.\n",
      "  Batch   760  of  1,180.\n",
      "  Batch   800  of  1,180.\n",
      "  Batch   840  of  1,180.\n",
      "  Batch   880  of  1,180.\n",
      "  Batch   920  of  1,180.\n",
      "  Batch   960  of  1,180.\n",
      "  Batch 1,000  of  1,180.\n",
      "  Batch 1,040  of  1,180.\n",
      "  Batch 1,080  of  1,180.\n",
      "  Batch 1,120  of  1,180.\n",
      "  Batch 1,160  of  1,180.\n",
      "  Average training loss: 0.0048\n",
      "updating the model\n",
      "Minimum Average training loss: 0.0048\n",
      "======== Epoch 10 / 10 ========\n",
      "Training...\n",
      "  Batch    40  of  1,180.\n",
      "  Batch    80  of  1,180.\n",
      "  Batch   120  of  1,180.\n",
      "  Batch   160  of  1,180.\n",
      "  Batch   200  of  1,180.\n",
      "  Batch   240  of  1,180.\n",
      "  Batch   280  of  1,180.\n",
      "  Batch   320  of  1,180.\n",
      "  Batch   360  of  1,180.\n",
      "  Batch   400  of  1,180.\n",
      "  Batch   440  of  1,180.\n",
      "  Batch   480  of  1,180.\n",
      "  Batch   520  of  1,180.\n",
      "  Batch   560  of  1,180.\n",
      "  Batch   600  of  1,180.\n",
      "  Batch   640  of  1,180.\n",
      "  Batch   680  of  1,180.\n",
      "  Batch   720  of  1,180.\n",
      "  Batch   760  of  1,180.\n",
      "  Batch   800  of  1,180.\n",
      "  Batch   840  of  1,180.\n",
      "  Batch   880  of  1,180.\n",
      "  Batch   920  of  1,180.\n",
      "  Batch   960  of  1,180.\n",
      "  Batch 1,000  of  1,180.\n",
      "  Batch 1,040  of  1,180.\n",
      "  Batch 1,080  of  1,180.\n",
      "  Batch 1,120  of  1,180.\n",
      "  Batch 1,160  of  1,180.\n",
      "  Average training loss: 0.0049\n",
      "Minimum Average training loss: 0.0049\n"
     ]
    }
   ],
   "source": [
    "avg_train_loss, min_avg_train_loss, best_model = train_loop(model, train_dataloader, optimizer,  epochs, device=device, seed_val=42)"
   ]
  },
  {
   "cell_type": "markdown",
   "id": "1e0df18f-43a4-4005-9461-95ae7d310d7f",
   "metadata": {},
   "source": [
    "### 8. Draw the graph for training loss to see its progress after every epoch"
   ]
  },
  {
   "cell_type": "code",
   "execution_count": 300,
   "id": "7fa63925-62c8-4a1c-9f30-2f71d96cc3d9",
   "metadata": {},
   "outputs": [
    {
     "data": {
      "image/png": "[encoded data removed]",
      "text/plain": [
       "<Figure size 800x400 with 1 Axes>"
      ]
     },
     "metadata": {},
     "output_type": "display_data"
    }
   ],
   "source": [
    "%matplotlib inline\n",
    "fig, ax = plt.subplots(figsize=(8, 4))\n",
    "# Use plot styling from seaborn.\n",
    "sns.set(style='darkgrid')\n",
    "\n",
    "# Increase the plot size and font size.\n",
    "sns.set(font_scale=1.5)\n",
    "\n",
    "# Plot the learning curve.\n",
    "plt.plot(avg_train_loss, 'b-o')\n",
    "\n",
    "# Label the plot.\n",
    "plt.title(\"Average Training loss\")\n",
    "plt.xlabel(\"Epoch\")\n",
    "plt.ylabel(\"Loss\")\n",
    "\n",
    "plt.show()"
   ]
  },
  {
   "cell_type": "markdown",
   "id": "125043cf-1057-453b-948f-3d2f8a578af9",
   "metadata": {},
   "source": [
    "## I. Evaluation"
   ]
  },
  {
   "cell_type": "markdown",
   "id": "8ae71811-7c90-4ead-bdfe-496facb52ad6",
   "metadata": {},
   "source": [
    "### 1. Create the Evaluation Function"
   ]
  },
  {
   "cell_type": "code",
   "execution_count": 301,
   "id": "c8e83dd3-5257-4ab0-bff4-86887d9a50d3",
   "metadata": {},
   "outputs": [],
   "source": [
    "def eval_fn(model, test_dataloader):\n",
    "    # put model in evaluation mode\n",
    "    model.eval()\n",
    "    \n",
    "    eval_loss, eval_accuracy = 0, 0\n",
    "    nb_eval_examples, nb_eval_steps = 0, 0\n",
    "    eval_labels, eval_pred_labels, eval_pred_probs = [], [], []\n",
    "\n",
    "    with torch.no_grad():\n",
    "        for idx, batch in enumerate(test_dataloader):\n",
    "            \n",
    "            ids = batch['input_ids'].to(device, dtype = torch.long)\n",
    "            mask = batch['attn_masks'].to(device, dtype = torch.long)\n",
    "            targets = batch['labels'].to(device, dtype = torch.float32)\n",
    "            \n",
    "            outputs = model(input_ids=ids, attention_mask=mask, labels=targets)\n",
    "            loss, eval_logits = outputs.loss, outputs.logits\n",
    "            eval_loss += loss.item()\n",
    "\n",
    "            nb_eval_steps += 1\n",
    "            nb_eval_examples += targets.size(0)\n",
    "        \n",
    "            if idx % 40==0:\n",
    "                loss_step = eval_loss/nb_eval_steps\n",
    "                print(f\"Validation loss per 40 evaluation steps: {loss_step}\")\n",
    "\n",
    "            # compute predicted probabilities\n",
    "            pred_probs = eval_logits.sigmoid()#.cpu().numpy()\n",
    "\n",
    "            # compute predicted labels\n",
    "            pred_labels = (pred_probs > 0.5).int()\n",
    "\n",
    "            # actual true labels\n",
    "            true_labels = targets.cpu().numpy()\n",
    "\n",
    "            # actual predicted labels\n",
    "            predicted_labels = pred_labels.cpu().numpy()\n",
    "\n",
    "            # actual predicted probabilities\n",
    "            predicted_probabilites = pred_probs.cpu().numpy()\n",
    "\n",
    "            eval_labels.extend(true_labels.astype(np.int32).tolist())\n",
    "            eval_pred_labels.extend(predicted_labels.tolist())\n",
    "            eval_pred_probs.extend(predicted_probabilites.tolist())\n",
    "\n",
    "            # Compute evaluation accuracy for current batch\n",
    "            tmp_eval_accuracy = accuracy_score(true_labels.ravel(), predicted_labels.ravel())\n",
    "            eval_accuracy += tmp_eval_accuracy\n",
    "    \n",
    "    eval_loss = eval_loss / nb_eval_steps\n",
    "    eval_accuracy = eval_accuracy / nb_eval_steps\n",
    "    print(f\"Validation Loss: {eval_loss}\")\n",
    "    print(f\"Validation Accuracy: {eval_accuracy}\")\n",
    "\n",
    "    return eval_labels, eval_pred_labels, eval_pred_probs"
   ]
  },
  {
   "cell_type": "markdown",
   "id": "ddc124ef-b227-4231-b51d-bdc8032b01c0",
   "metadata": {},
   "source": [
    "### 2. Check Performance of model on Validation Dataset"
   ]
  },
  {
   "cell_type": "code",
   "execution_count": 302,
   "id": "cabdba19-b0b5-4cfb-80bc-d25d757f0316",
   "metadata": {},
   "outputs": [
    {
     "name": "stdout",
     "output_type": "stream",
     "text": [
      "Validation loss per 40 evaluation steps: 0.13592365384101868\n",
      "Validation loss per 40 evaluation steps: 0.20926759900843225\n",
      "Validation loss per 40 evaluation steps: 0.19701529910534987\n",
      "Validation loss per 40 evaluation steps: 0.1992543758747499\n",
      "Validation loss per 40 evaluation steps: 0.19946350256756226\n",
      "Validation loss per 40 evaluation steps: 0.20414644377815783\n",
      "Validation loss per 40 evaluation steps: 0.20557841233507232\n",
      "Validation loss per 40 evaluation steps: 0.20448014435766007\n",
      "Validation loss per 40 evaluation steps: 0.20527760144845347\n",
      "Validation loss per 40 evaluation steps: 0.20592791373503505\n",
      "Validation loss per 40 evaluation steps: 0.20342811307593475\n",
      "Validation loss per 40 evaluation steps: 0.20153702093529052\n",
      "Validation loss per 40 evaluation steps: 0.19882585480809212\n",
      "Validation loss per 40 evaluation steps: 0.19860927139242643\n",
      "Validation Loss: 0.19960188131267562\n",
      "Validation Accuracy: 0.9257315521628489\n"
     ]
    }
   ],
   "source": [
    "true_labels, pred_labels, pred_probs = eval_fn(best_model, valid_dataloader)"
   ]
  },
  {
   "cell_type": "markdown",
   "id": "02b9df24-eb8e-47d8-a149-7342f5a66e5c",
   "metadata": {},
   "source": [
    "### 3. Classification report"
   ]
  },
  {
   "cell_type": "markdown",
   "id": "a5466914-6523-4602-a75c-99190f474429",
   "metadata": {},
   "source": [
    "#### 3.1. Helper function to compute classification report "
   ]
  },
  {
   "cell_type": "code",
   "execution_count": 304,
   "id": "7d7ff7ae-865d-4d4c-9223-2fadb58efc3c",
   "metadata": {},
   "outputs": [],
   "source": [
    "# Helper function to compute classification report\n",
    "# ------------------------------------------------\n",
    "def print_full_classification_report(true_labels, pred_labels, zero_division=np.nan):\n",
    "    # computing the accuracy\n",
    "    accuracy = accuracy_score(y_true=true_labels, y_pred=pred_labels)\n",
    "\n",
    "    print(\"\\naccuracy score {:.3%}\".format(accuracy))\n",
    "    \n",
    "    # compute the macro precision\n",
    "    macro_precision = precision_score(y_true=true_labels, y_pred=pred_labels, average='macro',\n",
    "                                      zero_division=zero_division)\n",
    "    # compute the macro recall\n",
    "    macro_recall = recall_score(y_true=true_labels, y_pred=pred_labels, average='macro',)\n",
    "    # compute the macro f1_score\n",
    "    macro_f1_score = f1_score(y_true = true_labels, y_pred = pred_labels, average='macro')\n",
    "\n",
    "    print(\"\\n----- macro scores --------\")\n",
    "    print(\"macro precision score: {:.3%}\".format(macro_precision))\n",
    "    print(\"macro recall score: {:.3%}\".format(macro_recall))\n",
    "    print(\"macro f1 score: {:.3%}\".format(macro_f1_score))\n",
    "\n",
    "    # ---- micro scores -------\n",
    "    micro_precision = precision_score(y_true=true_labels, y_pred=pred_labels, average='micro', \n",
    "                                      zero_division=zero_division)\n",
    "\n",
    "    micro_recall = recall_score(y_true=true_labels, y_pred=pred_labels, average='micro')\n",
    "\n",
    "    micro_f1_score = f1_score(y_true = true_labels, y_pred = pred_labels, average='micro')\n",
    "\n",
    "\n",
    "    print(\"\\n----- micro scores --------\")\n",
    "    print(\"micro precision score: {:.2%}\".format(micro_precision))\n",
    "    print(\"micro recall score: {:.2%}\".format(micro_recall))\n",
    "    print(\"micro f1 score: {:.2%}\".format(micro_f1_score))\n",
    "\n",
    "    # ------ weighted scores------\n",
    "    wt_precision = precision_score(y_true=true_labels, y_pred=pred_labels, average='weighted',\n",
    "                                             zero_division=zero_division)\n",
    "\n",
    "    wt_recall = recall_score(y_true=true_labels, y_pred=pred_labels, average='weighted')\n",
    "\n",
    "    wt_f1_score = f1_score(y_true = true_labels, y_pred = pred_labels, average='weighted')\n",
    "\n",
    "    print(\"\\n----- weighted scores --------\")\n",
    "    print(\"weighted precision score: {:.2%}\".format(wt_precision))\n",
    "    print(\"weighted recall score: {:.2%}\".format(wt_recall))\n",
    "    print(\"weighted f1 score: {:.2%}\".format(wt_f1_score))"
   ]
  },
  {
   "cell_type": "markdown",
   "id": "a7e78b24-080e-48d5-86b4-091f862ef92d",
   "metadata": {},
   "source": [
    "#### 3.2. Compute the classification report"
   ]
  },
  {
   "cell_type": "code",
   "execution_count": 305,
   "id": "b25b0912-deb1-4bef-b9b8-6470fabedf3e",
   "metadata": {},
   "outputs": [
    {
     "name": "stdout",
     "output_type": "stream",
     "text": [
      "\n",
      "Evaluation Metrics for Validation DataSet\n",
      "=========================================\n",
      "\n",
      "accuracy score 92.573%\n",
      "\n",
      "----- macro scores --------\n",
      "macro precision score: 89.567%\n",
      "macro recall score: 87.476%\n",
      "macro f1 score: 88.463%\n",
      "\n",
      "----- micro scores --------\n",
      "micro precision score: 92.57%\n",
      "micro recall score: 92.57%\n",
      "micro f1 score: 92.57%\n",
      "\n",
      "----- weighted scores --------\n",
      "weighted precision score: 92.43%\n",
      "weighted recall score: 92.57%\n",
      "weighted f1 score: 92.47%\n"
     ]
    }
   ],
   "source": [
    "# Convert list into numpy arrays\n",
    "true_labels = np.array(true_labels)\n",
    "pred_labels = np.array(pred_labels)\n",
    "\n",
    "print(\"\\nEvaluation Metrics for Validation DataSet\")\n",
    "print(\"=========================================\")\n",
    "\n",
    "print_full_classification_report(true_labels.ravel(), pred_labels.ravel())"
   ]
  },
  {
   "cell_type": "markdown",
   "id": "a075a860-f1b4-4217-a0b0-f0a5d3faf9db",
   "metadata": {},
   "source": [
    "### 4. Compute Classification report at label level"
   ]
  },
  {
   "cell_type": "code",
   "execution_count": 306,
   "id": "34e14307-e33f-4149-ae89-b0668d0010df",
   "metadata": {},
   "outputs": [
    {
     "name": "stdout",
     "output_type": "stream",
     "text": [
      "\n",
      "Label-Wise Evaluation Metrics for Validation DataSet\n",
      "Classification Report for each label\n",
      "\n",
      "                      precision    recall  f1-score   support\n",
      "\n",
      "    Computer Science       0.81      0.89      0.85       859\n",
      "             Physics       0.95      0.84      0.89       601\n",
      "         Mathematics       0.89      0.71      0.79       562\n",
      "          Statistics       0.77      0.75      0.76       521\n",
      "Quantitative Biology       0.67      0.03      0.06        59\n",
      "Quantitative Finance       1.00      0.16      0.28        25\n",
      "\n",
      "           micro avg       0.85      0.79      0.82      2627\n",
      "           macro avg       0.85      0.56      0.61      2627\n",
      "        weighted avg       0.85      0.79      0.81      2627\n",
      "         samples avg       0.84      0.82      0.82      2627\n",
      "\n"
     ]
    }
   ],
   "source": [
    "from sklearn.metrics import classification_report\n",
    "\n",
    "# compute the actual labels from one hot encoding\n",
    "clf_report_for_valid = classification_report(y_true=true_labels,\n",
    "                                             y_pred=pred_labels,\n",
    "                                             target_names=list(label2id.keys()),\n",
    "                                             zero_division=0\n",
    "                                            )\n",
    "print(\"\\nLabel-Wise Evaluation Metrics for Validation DataSet\")\n",
    "print(\"Classification Report for each label\\n\")\n",
    "print(clf_report_for_valid)"
   ]
  },
  {
   "cell_type": "markdown",
   "id": "3e243470-33d8-4cb8-b6dc-f83ad5c0057f",
   "metadata": {},
   "source": [
    "### 5. Multilabel Confusion Matrix "
   ]
  },
  {
   "cell_type": "code",
   "execution_count": 307,
   "id": "d4623176-54da-4018-9492-81d64fc6b03a",
   "metadata": {},
   "outputs": [
    {
     "name": "stdout",
     "output_type": "stream",
     "text": [
      "Validation Dataset - Confusion Matrix for Computer Science\n"
     ]
    },
    {
     "data": {
      "text/html": [
       "<div>\n",
       "<style scoped>\n",
       "    .dataframe tbody tr th:only-of-type {\n",
       "        vertical-align: middle;\n",
       "    }\n",
       "\n",
       "    .dataframe tbody tr th {\n",
       "        vertical-align: top;\n",
       "    }\n",
       "\n",
       "    .dataframe thead th {\n",
       "        text-align: right;\n",
       "    }\n",
       "</style>\n",
       "<table border=\"1\" class=\"dataframe\">\n",
       "  <thead>\n",
       "    <tr style=\"text-align: right;\">\n",
       "      <th></th>\n",
       "      <th>Computer Science</th>\n",
       "      <th>not_Computer Science</th>\n",
       "    </tr>\n",
       "  </thead>\n",
       "  <tbody>\n",
       "    <tr>\n",
       "      <th>Computer Science</th>\n",
       "      <td>765</td>\n",
       "      <td>94</td>\n",
       "    </tr>\n",
       "    <tr>\n",
       "      <th>not_Computer Science</th>\n",
       "      <td>179</td>\n",
       "      <td>1058</td>\n",
       "    </tr>\n",
       "  </tbody>\n",
       "</table>\n",
       "</div>"
      ],
      "text/plain": [
       "                      Computer Science  not_Computer Science\n",
       "Computer Science                   765                    94\n",
       "not_Computer Science               179                  1058"
      ]
     },
     "metadata": {},
     "output_type": "display_data"
    },
    {
     "name": "stdout",
     "output_type": "stream",
     "text": [
      "-----------------------------\n",
      "\n",
      "Validation Dataset - Confusion Matrix for Physics\n"
     ]
    },
    {
     "data": {
      "text/html": [
       "<div>\n",
       "<style scoped>\n",
       "    .dataframe tbody tr th:only-of-type {\n",
       "        vertical-align: middle;\n",
       "    }\n",
       "\n",
       "    .dataframe tbody tr th {\n",
       "        vertical-align: top;\n",
       "    }\n",
       "\n",
       "    .dataframe thead th {\n",
       "        text-align: right;\n",
       "    }\n",
       "</style>\n",
       "<table border=\"1\" class=\"dataframe\">\n",
       "  <thead>\n",
       "    <tr style=\"text-align: right;\">\n",
       "      <th></th>\n",
       "      <th>Physics</th>\n",
       "      <th>not_Physics</th>\n",
       "    </tr>\n",
       "  </thead>\n",
       "  <tbody>\n",
       "    <tr>\n",
       "      <th>Physics</th>\n",
       "      <td>507</td>\n",
       "      <td>94</td>\n",
       "    </tr>\n",
       "    <tr>\n",
       "      <th>not_Physics</th>\n",
       "      <td>27</td>\n",
       "      <td>1468</td>\n",
       "    </tr>\n",
       "  </tbody>\n",
       "</table>\n",
       "</div>"
      ],
      "text/plain": [
       "             Physics  not_Physics\n",
       "Physics          507           94\n",
       "not_Physics       27         1468"
      ]
     },
     "metadata": {},
     "output_type": "display_data"
    },
    {
     "name": "stdout",
     "output_type": "stream",
     "text": [
      "-----------------------------\n",
      "\n",
      "Validation Dataset - Confusion Matrix for Mathematics\n"
     ]
    },
    {
     "data": {
      "text/html": [
       "<div>\n",
       "<style scoped>\n",
       "    .dataframe tbody tr th:only-of-type {\n",
       "        vertical-align: middle;\n",
       "    }\n",
       "\n",
       "    .dataframe tbody tr th {\n",
       "        vertical-align: top;\n",
       "    }\n",
       "\n",
       "    .dataframe thead th {\n",
       "        text-align: right;\n",
       "    }\n",
       "</style>\n",
       "<table border=\"1\" class=\"dataframe\">\n",
       "  <thead>\n",
       "    <tr style=\"text-align: right;\">\n",
       "      <th></th>\n",
       "      <th>Mathematics</th>\n",
       "      <th>not_Mathematics</th>\n",
       "    </tr>\n",
       "  </thead>\n",
       "  <tbody>\n",
       "    <tr>\n",
       "      <th>Mathematics</th>\n",
       "      <td>400</td>\n",
       "      <td>162</td>\n",
       "    </tr>\n",
       "    <tr>\n",
       "      <th>not_Mathematics</th>\n",
       "      <td>49</td>\n",
       "      <td>1485</td>\n",
       "    </tr>\n",
       "  </tbody>\n",
       "</table>\n",
       "</div>"
      ],
      "text/plain": [
       "                 Mathematics  not_Mathematics\n",
       "Mathematics              400              162\n",
       "not_Mathematics           49             1485"
      ]
     },
     "metadata": {},
     "output_type": "display_data"
    },
    {
     "name": "stdout",
     "output_type": "stream",
     "text": [
      "-----------------------------\n",
      "\n",
      "Validation Dataset - Confusion Matrix for Statistics\n"
     ]
    },
    {
     "data": {
      "text/html": [
       "<div>\n",
       "<style scoped>\n",
       "    .dataframe tbody tr th:only-of-type {\n",
       "        vertical-align: middle;\n",
       "    }\n",
       "\n",
       "    .dataframe tbody tr th {\n",
       "        vertical-align: top;\n",
       "    }\n",
       "\n",
       "    .dataframe thead th {\n",
       "        text-align: right;\n",
       "    }\n",
       "</style>\n",
       "<table border=\"1\" class=\"dataframe\">\n",
       "  <thead>\n",
       "    <tr style=\"text-align: right;\">\n",
       "      <th></th>\n",
       "      <th>Statistics</th>\n",
       "      <th>not_Statistics</th>\n",
       "    </tr>\n",
       "  </thead>\n",
       "  <tbody>\n",
       "    <tr>\n",
       "      <th>Statistics</th>\n",
       "      <td>390</td>\n",
       "      <td>131</td>\n",
       "    </tr>\n",
       "    <tr>\n",
       "      <th>not_Statistics</th>\n",
       "      <td>119</td>\n",
       "      <td>1456</td>\n",
       "    </tr>\n",
       "  </tbody>\n",
       "</table>\n",
       "</div>"
      ],
      "text/plain": [
       "                Statistics  not_Statistics\n",
       "Statistics             390             131\n",
       "not_Statistics         119            1456"
      ]
     },
     "metadata": {},
     "output_type": "display_data"
    },
    {
     "name": "stdout",
     "output_type": "stream",
     "text": [
      "-----------------------------\n",
      "\n",
      "Validation Dataset - Confusion Matrix for Quantitative Biology\n"
     ]
    },
    {
     "data": {
      "text/html": [
       "<div>\n",
       "<style scoped>\n",
       "    .dataframe tbody tr th:only-of-type {\n",
       "        vertical-align: middle;\n",
       "    }\n",
       "\n",
       "    .dataframe tbody tr th {\n",
       "        vertical-align: top;\n",
       "    }\n",
       "\n",
       "    .dataframe thead th {\n",
       "        text-align: right;\n",
       "    }\n",
       "</style>\n",
       "<table border=\"1\" class=\"dataframe\">\n",
       "  <thead>\n",
       "    <tr style=\"text-align: right;\">\n",
       "      <th></th>\n",
       "      <th>Quantitative Biology</th>\n",
       "      <th>not_Quantitative Biology</th>\n",
       "    </tr>\n",
       "  </thead>\n",
       "  <tbody>\n",
       "    <tr>\n",
       "      <th>Quantitative Biology</th>\n",
       "      <td>2</td>\n",
       "      <td>57</td>\n",
       "    </tr>\n",
       "    <tr>\n",
       "      <th>not_Quantitative Biology</th>\n",
       "      <td>1</td>\n",
       "      <td>2036</td>\n",
       "    </tr>\n",
       "  </tbody>\n",
       "</table>\n",
       "</div>"
      ],
      "text/plain": [
       "                          Quantitative Biology  not_Quantitative Biology\n",
       "Quantitative Biology                         2                        57\n",
       "not_Quantitative Biology                     1                      2036"
      ]
     },
     "metadata": {},
     "output_type": "display_data"
    },
    {
     "name": "stdout",
     "output_type": "stream",
     "text": [
      "-----------------------------\n",
      "\n",
      "Validation Dataset - Confusion Matrix for Quantitative Finance\n"
     ]
    },
    {
     "data": {
      "text/html": [
       "<div>\n",
       "<style scoped>\n",
       "    .dataframe tbody tr th:only-of-type {\n",
       "        vertical-align: middle;\n",
       "    }\n",
       "\n",
       "    .dataframe tbody tr th {\n",
       "        vertical-align: top;\n",
       "    }\n",
       "\n",
       "    .dataframe thead th {\n",
       "        text-align: right;\n",
       "    }\n",
       "</style>\n",
       "<table border=\"1\" class=\"dataframe\">\n",
       "  <thead>\n",
       "    <tr style=\"text-align: right;\">\n",
       "      <th></th>\n",
       "      <th>Quantitative Finance</th>\n",
       "      <th>not_Quantitative Finance</th>\n",
       "    </tr>\n",
       "  </thead>\n",
       "  <tbody>\n",
       "    <tr>\n",
       "      <th>Quantitative Finance</th>\n",
       "      <td>4</td>\n",
       "      <td>21</td>\n",
       "    </tr>\n",
       "    <tr>\n",
       "      <th>not_Quantitative Finance</th>\n",
       "      <td>0</td>\n",
       "      <td>2071</td>\n",
       "    </tr>\n",
       "  </tbody>\n",
       "</table>\n",
       "</div>"
      ],
      "text/plain": [
       "                          Quantitative Finance  not_Quantitative Finance\n",
       "Quantitative Finance                         4                        21\n",
       "not_Quantitative Finance                     0                      2071"
      ]
     },
     "metadata": {},
     "output_type": "display_data"
    },
    {
     "name": "stdout",
     "output_type": "stream",
     "text": [
      "-----------------------------\n",
      "\n"
     ]
    }
   ],
   "source": [
    "# computing label names and label ids\n",
    "label_names_ = list(label2id.keys())\n",
    "label_ids_ = [i for i in range(len(label_names_))]\n",
    "\n",
    "# compute confusion matrix collectively\n",
    "cm_for_valid = multilabel_confusion_matrix(y_true=1 - true_labels,\n",
    "                                y_pred=1 - pred_labels,\n",
    "                                labels=label_ids_,\n",
    "                               )\n",
    "\n",
    "# Label wise confusin matrix (one vs all fashion)\n",
    "for label_, l_cm in zip(label_names_, cm_for_valid):\n",
    "    col_names_ = [label_, f\"not_{label_}\"]\n",
    "    print(f\"Validation Dataset - Confusion Matrix for {label_}\")\n",
    "    ldf = pd.DataFrame(l_cm, index=col_names_, columns=col_names_)\n",
    "    display(ldf)\n",
    "    print(\"-----------------------------\\n\")"
   ]
  },
  {
   "cell_type": "markdown",
   "id": "28f0a360-50fb-4287-985f-15cdabedcb0a",
   "metadata": {},
   "source": [
    "## J. Helper Functions to make predictions\n",
    "We will create the following function:\n",
    "\n",
    "1. make_prediction - Function to compute CLEAN predictions"
   ]
  },
  {
   "cell_type": "code",
   "execution_count": 308,
   "id": "0d57f082-4127-4f95-b3a8-a5ac9da03359",
   "metadata": {},
   "outputs": [],
   "source": [
    "def make_prediction(sentence, model, tokenizer, threshold = 0.5, device='mps'):\n",
    "    \n",
    "    # Encoding and convert the sentences into tensors\n",
    "    sample_sentence = tokenizer.encode(sentence)\n",
    "    sample_input_ids = torch.tensor([sample_sentence]).to(device)\n",
    "    \n",
    "    # move model to device\n",
    "    model.to(device)\n",
    "\n",
    "    # Predicting the test sample using model() function\n",
    "    with torch.no_grad():\n",
    "        output = model(sample_input_ids)\n",
    "        \n",
    "    # set logits\n",
    "    eval_logits = output.logits\n",
    "    \n",
    "    # compute predicted probabilities\n",
    "    pred_probs = eval_logits.sigmoid().cpu().numpy()\n",
    "    print(f\"predicted probabilities: {pred_probs}\")\n",
    "\n",
    "    # compute predicted labels\n",
    "    pred_labels = (pred_probs > threshold).astype(int)\n",
    "\n",
    "    return pred_labels[0]"
   ]
  },
  {
   "cell_type": "markdown",
   "id": "c672cf20-648a-4473-9f69-9ead0af77044",
   "metadata": {},
   "source": [
    "## K. Inference\n",
    "The most advantageous aspect is the ability to swiftly evaluate the model using novel, previously unencountered sentences. "
   ]
  },
  {
   "cell_type": "markdown",
   "id": "06ea88da-4143-47c3-b797-761bd0f66926",
   "metadata": {},
   "source": [
    "#### Enter Any Sentence"
   ]
  },
  {
   "cell_type": "code",
   "execution_count": 274,
   "id": "59afd724-9ae0-465e-a0e5-852a80ea6321",
   "metadata": {},
   "outputs": [
    {
     "name": "stdin",
     "output_type": "stream",
     "text": [
      "Enter any sentence: The ram of computer is 16gb. Computer Science is a nice subject. GPU Cores are also present and processor is fast. Computers have become an integral part of modern society for several reasons. For starters, they make communication much easier. Thanks to the internet, we can send emails, instant messages, and video calls to anyone in the world. Computers have also revolutionized the way we work. Many jobs today require the use of computers, and it’s hard to imagine how businesses could function without them.\n"
     ]
    }
   ],
   "source": [
    "sent_ = input(\"Enter any sentence:\")"
   ]
  },
  {
   "cell_type": "code",
   "execution_count": 309,
   "id": "2a3a1e86-b1ac-44ce-a7e0-d583a56ece15",
   "metadata": {},
   "outputs": [
    {
     "name": "stdout",
     "output_type": "stream",
     "text": [
      "The sentence entered is:\n",
      " The ram of computer is 16gb. Computer Science is a nice subject. GPU Cores are also present and processor is fast. Computers have become an integral part of modern society for several reasons. For starters, they make communication much easier. Thanks to the internet, we can send emails, instant messages, and video calls to anyone in the world. Computers have also revolutionized the way we work. Many jobs today require the use of computers, and it’s hard to imagine how businesses could function without them.\n",
      "predicted probabilities: [[0.88481796 0.09702595 0.04364064 0.09880947 0.04727924 0.04937108]]\n",
      "predicted labels: [1 0 0 0 0 0]\n"
     ]
    }
   ],
   "source": [
    "print(f\"The sentence entered is:\\n {sent_}\")\n",
    "\n",
    "# compute label predictions\n",
    "pred_labels_ = make_prediction(sent_, model=best_model, tokenizer=tokenizer, device='cpu')\n",
    "print(f\"predicted labels: {pred_labels_}\")"
   ]
  },
  {
   "cell_type": "markdown",
   "id": "a23b0b28-3716-4dbc-9f2a-ac84d843688a",
   "metadata": {},
   "source": [
    "## L. Saving And loading Utilities for the Model and Tokenizer\n",
    "Function to save and load the model & tokenizer"
   ]
  },
  {
   "cell_type": "code",
   "execution_count": 310,
   "id": "f7853762-8e42-435d-8f8d-7d1b8703411a",
   "metadata": {},
   "outputs": [],
   "source": [
    "def save_model(model, saved_model_path):\n",
    "    try:\n",
    "        # save the state dict\n",
    "        model.save_pretrained(saved_model_path)\n",
    "        print(f\"model saved successfully at {saved_model_path} ...\")\n",
    "        return True\n",
    "    except Exception as e:\n",
    "        print(f\"ERROR: {e}\")\n",
    "        print(\"unable to save the model..\")\n",
    "    return False\n",
    "\n",
    "def load_model(saved_model_path):\n",
    "    try:\n",
    "        # load the state dict\n",
    "        model = BertForSequenceClassification.from_pretrained(saved_model_path)\n",
    "        print(\"model loaded successfully\")\n",
    "        return model\n",
    "    except Exception as e:\n",
    "        print(f\"ERROR: {e}\")\n",
    "        print(\"unable to load the model..\")\n",
    "        return False\n",
    "\n",
    "def save_tokenizer(tokenizer, saved_tokenizer_path):\n",
    "    try:\n",
    "        # save the state dict\n",
    "        tokenizer.save_pretrained(saved_tokenizer_path, save_tokenizer=True)\n",
    "        print(f\"tokenizer saved successfully at {saved_tokenizer_path} ...\")\n",
    "        return True\n",
    "    except Exception as e:\n",
    "        print(f\"ERROR: {e}\")\n",
    "        print(\"unable to save the model..\")\n",
    "    return False\n",
    "\n",
    "def load_tokenizer(saved_tokenizer_path):\n",
    "    try:\n",
    "        # load the state dict\n",
    "        tokenizer = BertTokenizer.from_pretrained(saved_tokenizer_path)\n",
    "        print(\"tokenizer loaded successfully\")\n",
    "        return tokenizer\n",
    "    except Exception as e:\n",
    "        print(f\"ERROR: {e}\")\n",
    "        print(\"unable to load the tokenizer..\")\n",
    "        return False"
   ]
  },
  {
   "cell_type": "markdown",
   "id": "f4054cb7-da8e-434f-b068-8a6c587017f7",
   "metadata": {},
   "source": [
    "### Save the trained model"
   ]
  },
  {
   "cell_type": "code",
   "execution_count": 311,
   "id": "1db7c971-c3b3-4806-96fd-8d90ad185814",
   "metadata": {},
   "outputs": [
    {
     "name": "stdout",
     "output_type": "stream",
     "text": [
      "model saved successfully at /Users/akg/jupyter/kaggle/article_subject_identification/model/BERT_multilabel_clf_L_12_T_6_D_128 ...\n"
     ]
    },
    {
     "data": {
      "text/plain": [
       "True"
      ]
     },
     "execution_count": 311,
     "metadata": {},
     "output_type": "execute_result"
    }
   ],
   "source": [
    "dir_to_save = \"/Users/akg/jupyter/kaggle/article_subject_identification/model\"\n",
    "model_name = \"BERT_multilabel_clf_L_12_T_6_D_128\"\n",
    "\n",
    "model_dir_path = f\"{dir_to_save}/{model_name}\"\n",
    "\n",
    "# save the model\n",
    "save_model(model=model, saved_model_path=model_dir_path)"
   ]
  },
  {
   "cell_type": "markdown",
   "id": "6a783450-cd21-48f7-9ee1-888243e90bb2",
   "metadata": {},
   "source": [
    "### Save the Tokenizer"
   ]
  },
  {
   "cell_type": "code",
   "execution_count": 312,
   "id": "413b3f57-9ec3-40c8-839c-b733520f1104",
   "metadata": {},
   "outputs": [
    {
     "name": "stdout",
     "output_type": "stream",
     "text": [
      "tokenizer saved successfully at /Users/akg/jupyter/kaggle/article_subject_identification/model/BERT_TOKENIZER ...\n"
     ]
    },
    {
     "data": {
      "text/plain": [
       "True"
      ]
     },
     "execution_count": 312,
     "metadata": {},
     "output_type": "execute_result"
    }
   ],
   "source": [
    "dir_to_save = \"/Users/akg/jupyter/kaggle/article_subject_identification/model\"\n",
    "tokenizer_name = \"BERT_TOKENIZER\"\n",
    "\n",
    "tokenizer_dir_path = f\"{dir_to_save}/{tokenizer_name}\"\n",
    "\n",
    "# save the model\n",
    "save_tokenizer(tokenizer=tokenizer, saved_tokenizer_path=tokenizer_dir_path)"
   ]
  },
  {
   "cell_type": "markdown",
   "id": "74077747-b90d-41bd-9492-e74135c0714b",
   "metadata": {},
   "source": [
    "### Load the Model and Tokenizer (for future use)"
   ]
  },
  {
   "cell_type": "code",
   "execution_count": 313,
   "id": "41089c92-6295-47ff-9fe8-6e4bb236c1cb",
   "metadata": {},
   "outputs": [
    {
     "name": "stdout",
     "output_type": "stream",
     "text": [
      "model loaded successfully\n",
      "tokenizer loaded successfully\n"
     ]
    }
   ],
   "source": [
    "# load the saved model\n",
    "loaded_model = load_model(model_dir_path)\n",
    "\n",
    "# load the saved tokenizer\n",
    "loaded_tokenizer = load_tokenizer(tokenizer_dir_path)"
   ]
  },
  {
   "cell_type": "markdown",
   "id": "d4545bb5-e6d6-4222-b7b3-41ead61a3df4",
   "metadata": {},
   "source": [
    "### Lets check the Loaded model and tokenizer"
   ]
  },
  {
   "cell_type": "code",
   "execution_count": 314,
   "id": "5d8a3d60-0b7b-4c10-ae10-1551bc263f7c",
   "metadata": {},
   "outputs": [],
   "source": [
    "new_sent_ = \"Algebra includes the study of algebraic structures, which are sets and operations defined\\\n",
    "on these sets satisfying certain axioms. The field of algebra is further divided according to which \\\n",
    "structure is studied; for instance, group theory concerns an algebraic structure called group.\""
   ]
  },
  {
   "cell_type": "code",
   "execution_count": 315,
   "id": "9b79fbcb-1ad1-4390-a7e0-f2c027f5e96c",
   "metadata": {},
   "outputs": [
    {
     "name": "stdout",
     "output_type": "stream",
     "text": [
      "predicted probabilities: [[0.09296404 0.06423791 0.93461835 0.02828165 0.02294867 0.02518843]]\n",
      "predicted labels: [0 0 1 0 0 0]\n"
     ]
    }
   ],
   "source": [
    "# We will use loaded model and loaded tokenizer\n",
    "new_pred_ = make_prediction(sentence=new_sent_, model=loaded_model, tokenizer=loaded_tokenizer, device='cpu')\n",
    "print(f\"predicted labels: {new_pred_}\")"
   ]
  },
  {
   "cell_type": "markdown",
   "id": "64c25f86-8da9-4bac-b9ed-f89b3812c087",
   "metadata": {},
   "source": [
    "Again, with our <font color=brown><b>loaded model and tokenizer</b></font>, the <b>results</b> are very promising 😊</b>"
   ]
  }
 ],
 "metadata": {
  "kernelspec": {
   "display_name": "jup_env",
   "language": "python",
   "name": "jup_env"
  },
  "language_info": {
   "codemirror_mode": {
    "name": "ipython",
    "version": 3
   },
   "file_extension": ".py",
   "mimetype": "text/x-python",
   "name": "python",
   "nbconvert_exporter": "python",
   "pygments_lexer": "ipython3",
   "version": "3.12.3"
  }
 },
 "nbformat": 4,
 "nbformat_minor": 5
}
