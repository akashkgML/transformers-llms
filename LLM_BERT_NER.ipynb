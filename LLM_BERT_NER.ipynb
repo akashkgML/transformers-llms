{
 "cells": [
  {
   "cell_type": "markdown",
   "id": "162fdfef-c477-4cbc-b0f2-97660ced4383",
   "metadata": {},
   "source": [
    "# BERT - Name Entity Recognition (NER)\n",
    "\n",
    "Data<a href=\"https://www.kaggle.com/datasets/debasisdotcom/name-entity-recognition-ner-dataset?select=NER+dataset.csv\">\n",
    "KAGGLE Name Entity Recognition (NER) Dataset</a>\n",
    "\n",
    "<font color=brown><b>Author:</b><br>\n",
    "Akash Kumar Gautam<br>\n",
    "IIT Delhi, Mathematics&Computing<br>\n",
    "9+ years of Experience in Data Science + Machine Learning + Artifical Intelligence</font>"
   ]
  },
  {
   "cell_type": "markdown",
   "id": "e015e081-a227-4757-9f06-78af36a84ea3",
   "metadata": {},
   "source": [
    "# Introduction\n",
    "<p><b>What is NER?</b><br>\n",
    "    NER, or Named Entity Recognition, is a component of Natural Language Processing (NLP) that focuses on identifying and categorizing named entities within a given text.\n",
    "</p>\n",
    "<p><b>What it does?</b><br>\n",
    "NER locates and classifies named entities in text, such as people, places, organizations, time expressions, and quantities.\n",
    "</p>\n",
    "<p>\n",
    "    <b>How it works?</b><br>\n",
    "    Named Entity Recognition (NER) detects specific words or phrases within a document and subsequently categorizes them into established classifications.\n",
    "</p>\n",
    "<p>\n",
    "    <b>Why it's useful?</b><br>\n",
    "    Named Entity Recognition (NER) enhances document translation by offering contextual insights that aid in comprehending sentences. For instance, in the sentence \"Apple released a new iPhone today,\" NER can recognize \"Apple\" as an organization.\n",
    "</p>\n",
    "\n",
    "<p><b>Notebook Strategy</b><br>\n",
    "    In this notebook, we will utilize <font style='color:brown'><b>BertForTokenClassification</b></font>, a model provided by the <font color=blue>Transformers </font>library from HuggingFace.\n",
    "    This model\n",
    "    is built on the <font color=blue>BERT architecture</font> and features a token <font color=blue>classification head</font>, enabling it to perform predictions at the <font color=blue>token level</font>\n",
    "    instead of the sequence level. Named entity recognition is generally approached as a token classification task, which is the purpose of\n",
    "    our implementation\n",
    "</p>\n",
    "<p>This notebook explores the concept of <font color=blue><b>transfer learning</b></font>, which involves initially pretraining a large neural network in an unsupervised manner, followed by <font color=blue>fine-tuning</blue></font> the network for a specific task. In this instance, BERT serves as the pretrained neural network, having been trained on two tasks: masked language modeling and next sentence prediction.</p>\n",
    "<p><b>Fine-tuning</b> involves supervised learning, which indicates that a <b>labeled dataset</b> is required.</p>\n",
    "<p>\n",
    "    <b>Note:</b>\n",
    "    <br>\n",
    "    <ol>\n",
    "        <li>\n",
    "            This notebook presupposes that the reader possesses a fundamental understanding of several key concepts and technologies that are essential for effectively engaging with the content presented herein. Specifically, it assumes familiarity with deep learning, which is a subset of machine learning that focuses on algorithms inspired by the structure and function of the brain, particularly artificial neural networks.\n",
    "        </li>\n",
    "        <li>\n",
    "        Additionally, the reader should have a working knowledge of BERT (Bidirectional Encoder Representations from Transformers), a state-of-the-art natural language processing model developed by Google. BERT is designed to understand the context of words in a sentence by considering the words that come before and after them, making it particularly effective for tasks such as text classification, question answering, and language inference.\n",
    "    </li>\n",
    "        <li>\n",
    "            Furthermore, proficiency in the PyTorch framework is also assumed. PyTorch is an open-source machine learning library widely used for applications in deep learning and artificial intelligence. It provides a flexible and dynamic computational graph, which allows for easy experimentation and debugging, making it a popular choice among researchers and practitioners in the field.\n",
    "        </li>\n",
    "    </ol>\n",
    "    In summary, this notebook is intended for individuals who are already well-versed in these foundational topics, as it will build upon this knowledge to explore more advanced concepts and applications related to deep learning, BERT, and the use of PyTorch for implementing various models and techniques.\n",
    "</p>\n",
    "\n",
    "<p>\n",
    "    <b>Notebook Sections</b><br>\n",
    "    This notebook is divided into following sections:\n",
    "    <ul>\n",
    "        <li>A. Setting Environment</li>\n",
    "        <li>B. Set the Device (cpu or mps)</li>\n",
    "        <li>C. Reading Dataset</li>\n",
    "        <li>D. Pre-Processing</li>\n",
    "        <li>E. Explore Distribution of Labels</li>\n",
    "        <li>F. Stratified Splitting</li>\n",
    "        <li>G. Explore Distribution of Labels - Training, Validation and Testing Dataset</li>\n",
    "        <li>H. Modelling (includes training Loop)</li>\n",
    "        <li>I. Evaluation</li>\n",
    "        <li>J. Testing</li>\n",
    "        <li>K. Helper Function to make clean Predictions</li>\n",
    "        <li>L. Inference</li>\n",
    "        <li>I. Saving and Loading Utilities for Model</li>   \n",
    "    </ul>\n",
    "</p>"
   ]
  },
  {
   "cell_type": "markdown",
   "id": "1ee5b562-e726-4e1e-9c10-4dce59030cf7",
   "metadata": {},
   "source": [
    "## A. Setting up the environment and importing Python libraries\n",
    "<p>\n",
    "    This notebook assumes that you have the following libraries installed:\n",
    "    <ul>\n",
    "        <li>pandas</li>\n",
    "        <li>numpy</li>\n",
    "        <li>sklearn</li>\n",
    "        <li>pytorch</li>\n",
    "        <li>transformers</li>\n",
    "        <li>matplotlib</li>\n",
    "        <li>seaborn</li>\n",
    "    </ul>\n",
    "    \n",
    "</p>"
   ]
  },
  {
   "cell_type": "code",
   "execution_count": 153,
   "id": "88daa4d2-161d-406f-b47a-630634a4d616",
   "metadata": {},
   "outputs": [],
   "source": [
    "# Uncomment to install libraries\n",
    "# !pip install pandas\n",
    "# !pip install numpy\n",
    "# !pip install scikit-learn\n",
    "# !pip install torch\n",
    "# !pip install transformers\n",
    "# !pip install matplotlib\n",
    "# !pip install seaborn\n",
    "# !pip install scikit-multilearn\n",
    "\n",
    "# Note: For zsh shell remove exclamation (!) mark"
   ]
  },
  {
   "cell_type": "code",
   "execution_count": 278,
   "id": "5145c652-32f2-4014-a4f1-860943d3601f",
   "metadata": {},
   "outputs": [],
   "source": [
    "import collections\n",
    "from itertools import chain\n",
    "import random\n",
    "import copy\n",
    "import itertools\n",
    "\n",
    "import pandas as pd\n",
    "import numpy as np\n",
    "\n",
    "\n",
    "from sklearn.model_selection import train_test_split\n",
    "from sklearn.metrics import f1_score, accuracy_score, precision_score, recall_score\n",
    "from sklearn.metrics import confusion_matrix, multilabel_confusion_matrix\n",
    "from sklearn.preprocessing import MultiLabelBinarizer\n",
    "from skmultilearn.model_selection import iterative_train_test_split\n",
    "\n",
    "import torch\n",
    "from torch import nn\n",
    "from torch.utils.data import Dataset, DataLoader\n",
    "from torch.utils.data import RandomSampler, SequentialSampler\n",
    "from torch.utils.data import TensorDataset, random_split\n",
    "from torch.optim import AdamW\n",
    "\n",
    "from transformers import BertTokenizer\n",
    "from transformers import BertForTokenClassification\n",
    "from transformers import get_linear_schedule_with_warmup\n",
    "\n",
    "import matplotlib.pyplot as plt\n",
    "import seaborn as sns\n",
    "\n",
    "# set the option to display all columns\n",
    "pd.set_option('display.max_columns', None)"
   ]
  },
  {
   "cell_type": "markdown",
   "id": "01b415ce-8c2a-4291-aa9d-9a6ea6fc5a96",
   "metadata": {},
   "source": [
    "## B. Set Device - Check if MPS (Metal Performance Shaders) is available\n",
    "<p>\n",
    "    PyTorch uses the new Metal Performance Shaders (MPS) backend for GPU training acceleration. This MPS backend extends the PyTorch\n",
    "    framework, providing scripts and capabilities to set up and run operations on Mac.\n",
    "</p>"
   ]
  },
  {
   "cell_type": "code",
   "execution_count": 171,
   "id": "e51f11a3-30c5-48ad-873d-9151ffc7f84f",
   "metadata": {},
   "outputs": [],
   "source": [
    "def get_device(force_cpu_device=False):\n",
    "    # default device\n",
    "    device = torch.device('cpu')\n",
    "    # Check that MPS  is available\n",
    "    if not torch.backends.mps.is_available():\n",
    "        if not torch.backends.mps.is_built():\n",
    "            print(\"MPS not available because the current PyTorch install was not \"\n",
    "                  \"built with MPS enabled.\")\n",
    "        else:\n",
    "            print(\"MPS not available because the current MacOS version is not 12.3+ \"\n",
    "                  \"and/or you do not have an MPS-enabled device on this machine.\")\n",
    "\n",
    "    else:\n",
    "        mps_device = torch.device(\"mps\")\n",
    "        device = mps_device\n",
    "        print(\"mps device found\")\n",
    "    # Force to use the cpu device\n",
    "    if force_cpu_device:\n",
    "        print(\"force to use cpu\")\n",
    "        device = torch.device('cpu')\n",
    "    return device"
   ]
  },
  {
   "cell_type": "markdown",
   "id": "ff287aa7-a315-4254-a917-0262bdc5d87c",
   "metadata": {},
   "source": [
    "##### Check the set device"
   ]
  },
  {
   "cell_type": "code",
   "execution_count": 172,
   "id": "a6ce4c25-1574-454e-a0bb-6ec480896c98",
   "metadata": {},
   "outputs": [
    {
     "name": "stdout",
     "output_type": "stream",
     "text": [
      "mps device found\n",
      "device to be used: mps\n"
     ]
    }
   ],
   "source": [
    "# get the device\n",
    "device = get_device()\n",
    "\n",
    "# device info\n",
    "print(f\"device to be used: {device}\")"
   ]
  },
  {
   "cell_type": "markdown",
   "id": "da809af6-cd2e-411b-9d03-7cfe09249074",
   "metadata": {},
   "source": [
    "## C. Reading Dataset\n",
    "<p>\n",
    "    Load the <b>NER dataset</b> provided from the specified path into a <b>pandas dataframe.</b>\n",
    "</p>"
   ]
  },
  {
   "cell_type": "code",
   "execution_count": 173,
   "id": "82217268-8b7f-4b2a-916b-c961dce79dbd",
   "metadata": {},
   "outputs": [],
   "source": [
    "# Note: You can download the data from the Kaggle from the link below:\n",
    "# https://www.kaggle.com/datasets/debasisdotcom/name-entity-recognition-ner-dataset?select=NER+dataset.csv\n",
    "\n",
    "# set the filepath for KAGGLE NER Dataset\n",
    "file_path = \"/Users/akg/jupyter/kaggle/project_ner/data/KAGGLE_NER_dataset.csv\"\n",
    "\n",
    "# read the raw NER data\n",
    "data = pd.read_csv(file_path, encoding='unicode_escape')"
   ]
  },
  {
   "cell_type": "markdown",
   "id": "130f56bb-824d-4ea9-be28-ca7dd9073995",
   "metadata": {},
   "source": [
    "##### Peek into raw data"
   ]
  },
  {
   "cell_type": "code",
   "execution_count": 174,
   "id": "8554542c-3d46-445a-9ad4-429558b778ae",
   "metadata": {},
   "outputs": [
    {
     "data": {
      "text/html": [
       "<div>\n",
       "<style scoped>\n",
       "    .dataframe tbody tr th:only-of-type {\n",
       "        vertical-align: middle;\n",
       "    }\n",
       "\n",
       "    .dataframe tbody tr th {\n",
       "        vertical-align: top;\n",
       "    }\n",
       "\n",
       "    .dataframe thead th {\n",
       "        text-align: right;\n",
       "    }\n",
       "</style>\n",
       "<table border=\"1\" class=\"dataframe\">\n",
       "  <thead>\n",
       "    <tr style=\"text-align: right;\">\n",
       "      <th></th>\n",
       "      <th>Sentence #</th>\n",
       "      <th>Word</th>\n",
       "      <th>POS</th>\n",
       "      <th>Tag</th>\n",
       "    </tr>\n",
       "  </thead>\n",
       "  <tbody>\n",
       "    <tr>\n",
       "      <th>0</th>\n",
       "      <td>Sentence: 1</td>\n",
       "      <td>Thousands</td>\n",
       "      <td>NNS</td>\n",
       "      <td>O</td>\n",
       "    </tr>\n",
       "    <tr>\n",
       "      <th>1</th>\n",
       "      <td>NaN</td>\n",
       "      <td>of</td>\n",
       "      <td>IN</td>\n",
       "      <td>O</td>\n",
       "    </tr>\n",
       "    <tr>\n",
       "      <th>2</th>\n",
       "      <td>NaN</td>\n",
       "      <td>demonstrators</td>\n",
       "      <td>NNS</td>\n",
       "      <td>O</td>\n",
       "    </tr>\n",
       "    <tr>\n",
       "      <th>3</th>\n",
       "      <td>NaN</td>\n",
       "      <td>have</td>\n",
       "      <td>VBP</td>\n",
       "      <td>O</td>\n",
       "    </tr>\n",
       "    <tr>\n",
       "      <th>4</th>\n",
       "      <td>NaN</td>\n",
       "      <td>marched</td>\n",
       "      <td>VBN</td>\n",
       "      <td>O</td>\n",
       "    </tr>\n",
       "  </tbody>\n",
       "</table>\n",
       "</div>"
      ],
      "text/plain": [
       "    Sentence #           Word  POS Tag\n",
       "0  Sentence: 1      Thousands  NNS   O\n",
       "1          NaN             of   IN   O\n",
       "2          NaN  demonstrators  NNS   O\n",
       "3          NaN           have  VBP   O\n",
       "4          NaN        marched  VBN   O"
      ]
     },
     "execution_count": 174,
     "metadata": {},
     "output_type": "execute_result"
    }
   ],
   "source": [
    "data.head()"
   ]
  },
  {
   "cell_type": "markdown",
   "id": "395467d4-c724-4f7e-995e-2b3bbe1e3b1a",
   "metadata": {},
   "source": [
    "## D. Preprocessing Data"
   ]
  },
  {
   "cell_type": "markdown",
   "id": "947971c9-3dfc-4ee3-b4fd-7e20952e5226",
   "metadata": {},
   "source": [
    "### 1. Replacing the NaN values by 'Sentence #'\n",
    "<p>\n",
    "    The <b>sentence number</b> column denoted as <b>'Sentence #'</b> has finite values only at the begining of the sentence and rest values are <b>NaN.</b>\n",
    "    We will assign the sentence number to every word by forward fill method.\n",
    "</p>"
   ]
  },
  {
   "cell_type": "code",
   "execution_count": 175,
   "id": "3675ca31-5cfb-438c-b850-c4e48aa58dc3",
   "metadata": {},
   "outputs": [],
   "source": [
    "# use the forward fill method\n",
    "data.loc[:,'Sentence #'] = data.loc[:,'Sentence #'].ffill()"
   ]
  },
  {
   "cell_type": "markdown",
   "id": "81b556b3-b383-4fef-a4a5-e731838c5e3f",
   "metadata": {},
   "source": [
    "##### peek into dataframe"
   ]
  },
  {
   "cell_type": "code",
   "execution_count": 176,
   "id": "338e2a95-8ce9-450d-b4a9-e40c02ecf19c",
   "metadata": {},
   "outputs": [
    {
     "data": {
      "text/html": [
       "<div>\n",
       "<style scoped>\n",
       "    .dataframe tbody tr th:only-of-type {\n",
       "        vertical-align: middle;\n",
       "    }\n",
       "\n",
       "    .dataframe tbody tr th {\n",
       "        vertical-align: top;\n",
       "    }\n",
       "\n",
       "    .dataframe thead th {\n",
       "        text-align: right;\n",
       "    }\n",
       "</style>\n",
       "<table border=\"1\" class=\"dataframe\">\n",
       "  <thead>\n",
       "    <tr style=\"text-align: right;\">\n",
       "      <th></th>\n",
       "      <th>Sentence #</th>\n",
       "      <th>Word</th>\n",
       "      <th>POS</th>\n",
       "      <th>Tag</th>\n",
       "    </tr>\n",
       "  </thead>\n",
       "  <tbody>\n",
       "    <tr>\n",
       "      <th>0</th>\n",
       "      <td>Sentence: 1</td>\n",
       "      <td>Thousands</td>\n",
       "      <td>NNS</td>\n",
       "      <td>O</td>\n",
       "    </tr>\n",
       "    <tr>\n",
       "      <th>1</th>\n",
       "      <td>Sentence: 1</td>\n",
       "      <td>of</td>\n",
       "      <td>IN</td>\n",
       "      <td>O</td>\n",
       "    </tr>\n",
       "    <tr>\n",
       "      <th>2</th>\n",
       "      <td>Sentence: 1</td>\n",
       "      <td>demonstrators</td>\n",
       "      <td>NNS</td>\n",
       "      <td>O</td>\n",
       "    </tr>\n",
       "    <tr>\n",
       "      <th>3</th>\n",
       "      <td>Sentence: 1</td>\n",
       "      <td>have</td>\n",
       "      <td>VBP</td>\n",
       "      <td>O</td>\n",
       "    </tr>\n",
       "    <tr>\n",
       "      <th>4</th>\n",
       "      <td>Sentence: 1</td>\n",
       "      <td>marched</td>\n",
       "      <td>VBN</td>\n",
       "      <td>O</td>\n",
       "    </tr>\n",
       "  </tbody>\n",
       "</table>\n",
       "</div>"
      ],
      "text/plain": [
       "    Sentence #           Word  POS Tag\n",
       "0  Sentence: 1      Thousands  NNS   O\n",
       "1  Sentence: 1             of   IN   O\n",
       "2  Sentence: 1  demonstrators  NNS   O\n",
       "3  Sentence: 1           have  VBP   O\n",
       "4  Sentence: 1        marched  VBN   O"
      ]
     },
     "execution_count": 176,
     "metadata": {},
     "output_type": "execute_result"
    }
   ],
   "source": [
    "data.head()"
   ]
  },
  {
   "cell_type": "markdown",
   "id": "c16110b2-12f2-4efa-ad59-6a0f2695ca0c",
   "metadata": {},
   "source": [
    "#### 1.1 Check the shape"
   ]
  },
  {
   "cell_type": "code",
   "execution_count": 177,
   "id": "f71d963c-623c-4617-a175-76da4c23fe54",
   "metadata": {},
   "outputs": [
    {
     "name": "stdout",
     "output_type": "stream",
     "text": [
      "Num of rows: 1048575\n",
      "Num of cols: 4\n"
     ]
    }
   ],
   "source": [
    "print(f\"Num of rows: {data.shape[0]}\")\n",
    "print(f\"Num of cols: {data.shape[1]}\")"
   ]
  },
  {
   "cell_type": "markdown",
   "id": "ad7984fb-c032-4e9d-9e0a-17ba869fc382",
   "metadata": {},
   "source": [
    "### 2. Drop the unwanted 'POS' column"
   ]
  },
  {
   "cell_type": "code",
   "execution_count": 178,
   "id": "2846ac52-c2bb-46c3-b147-7d242934d32d",
   "metadata": {},
   "outputs": [
    {
     "name": "stdout",
     "output_type": "stream",
     "text": [
      "Updated Cols of data: ['Sentence #', 'Word', 'Tag']\n"
     ]
    }
   ],
   "source": [
    "data.drop(columns=['POS'], inplace=True)\n",
    "\n",
    "print(f\"Updated Cols of data: {data.columns.tolist()}\")"
   ]
  },
  {
   "cell_type": "markdown",
   "id": "98757138-d96c-400f-ad7e-8b1780cd19b2",
   "metadata": {},
   "source": [
    "### 3. Remove all rows that contain NaN "
   ]
  },
  {
   "cell_type": "code",
   "execution_count": 179,
   "id": "3f4e3dff-5564-4314-9efe-c94b9c71f46f",
   "metadata": {},
   "outputs": [
    {
     "name": "stdout",
     "output_type": "stream",
     "text": [
      "Updated number of rows: 1048565\n"
     ]
    }
   ],
   "source": [
    "# drop the null entries\n",
    "data.dropna(inplace=True)\n",
    "\n",
    "# display the num of rows\n",
    "print(f\"Updated number of rows: {data.shape[0]}\")"
   ]
  },
  {
   "cell_type": "markdown",
   "id": "ed4d5db5-b6ef-426a-af34-b65f45c3edfa",
   "metadata": {},
   "source": [
    "### 4. Verify if there are any NaN values in Word and Tag Columns"
   ]
  },
  {
   "cell_type": "markdown",
   "id": "7a7f0169-6d7d-459c-ab72-87d8befcbb19",
   "metadata": {},
   "source": [
    "#### 4.1 Tag columns"
   ]
  },
  {
   "cell_type": "code",
   "execution_count": 180,
   "id": "baa5bb47-7fa2-4f40-8976-f41556e848ed",
   "metadata": {},
   "outputs": [
    {
     "name": "stdout",
     "output_type": "stream",
     "text": [
      "number of rows where tag is NaN: 0\n"
     ]
    }
   ],
   "source": [
    "tag_null_mask = data[['Tag']].isnull().any(axis=1)\n",
    "tag_null_rows = data[tag_null_mask]\n",
    "print(f\"number of rows where tag is NaN: {tag_null_rows.size}\")"
   ]
  },
  {
   "cell_type": "markdown",
   "id": "f3e6de59-9375-4a59-b1de-37ccd68416cd",
   "metadata": {},
   "source": [
    "#### 4.2 Word columns"
   ]
  },
  {
   "cell_type": "code",
   "execution_count": 181,
   "id": "b3572c57-6d68-4d2a-a6a5-8edfe9c1f181",
   "metadata": {},
   "outputs": [
    {
     "name": "stdout",
     "output_type": "stream",
     "text": [
      "number of rows where word is NaN: 0\n"
     ]
    }
   ],
   "source": [
    "word_null_mask = data[['Word']].isnull().any(axis=1)\n",
    "word_null_rows = data[word_null_mask]\n",
    "print(f\"number of rows where word is NaN: {word_null_rows.size}\")"
   ]
  },
  {
   "cell_type": "markdown",
   "id": "6b97f454-5116-4565-abff-ee1ca9391201",
   "metadata": {},
   "source": [
    "### 5. Checking Improper Words"
   ]
  },
  {
   "cell_type": "markdown",
   "id": "df5324ea-02e0-4344-9c50-4147c91e6848",
   "metadata": {},
   "source": [
    "#### 5.1 Helper Function\n",
    "<p>Functions to check if there are any escaped unicode characters</p>"
   ]
  },
  {
   "cell_type": "code",
   "execution_count": 182,
   "id": "e8c34345-055d-4768-b964-3dbcf3811264",
   "metadata": {},
   "outputs": [],
   "source": [
    "# is ascii\n",
    "def is_ascii(s):\n",
    "    return all(ord(c) < 128 for c in s)\n",
    "\n",
    "# is escaped unicode\n",
    "def is_escaped_unicode(_str):\n",
    "    if is_ascii(_str): # escaped unicode is ascii\n",
    "        return True\n",
    "    return False\n",
    "\n",
    "# finally a function to check if word is proper or not\n",
    "def is_proper_word(_word):\n",
    "    if not is_escaped_unicode(_word):\n",
    "        if isinstance(_word, str) and len(_word) < 3:\n",
    "            return False\n",
    "    return True"
   ]
  },
  {
   "cell_type": "markdown",
   "id": "2a070b1e-d129-48d7-80bf-9f1b561a3e95",
   "metadata": {},
   "source": [
    "#### 5.2 Create a bool column - 'is_proper_word'"
   ]
  },
  {
   "cell_type": "code",
   "execution_count": 183,
   "id": "c74f25d6-0369-44ca-b0fa-3440e188d3be",
   "metadata": {},
   "outputs": [],
   "source": [
    "data['is_proper_word'] = data['Word'].apply(is_proper_word)"
   ]
  },
  {
   "cell_type": "markdown",
   "id": "d4106137-68bc-422a-819c-583622b71da9",
   "metadata": {},
   "source": [
    "#### 5.3 Check the data which has improper words"
   ]
  },
  {
   "cell_type": "code",
   "execution_count": 184,
   "id": "e720d8c6-16dc-4933-962e-964c2719205e",
   "metadata": {},
   "outputs": [
    {
     "data": {
      "text/html": [
       "<div>\n",
       "<style scoped>\n",
       "    .dataframe tbody tr th:only-of-type {\n",
       "        vertical-align: middle;\n",
       "    }\n",
       "\n",
       "    .dataframe tbody tr th {\n",
       "        vertical-align: top;\n",
       "    }\n",
       "\n",
       "    .dataframe thead th {\n",
       "        text-align: right;\n",
       "    }\n",
       "</style>\n",
       "<table border=\"1\" class=\"dataframe\">\n",
       "  <thead>\n",
       "    <tr style=\"text-align: right;\">\n",
       "      <th></th>\n",
       "      <th>Sentence #</th>\n",
       "      <th>Word</th>\n",
       "      <th>Tag</th>\n",
       "      <th>is_proper_word</th>\n",
       "    </tr>\n",
       "  </thead>\n",
       "  <tbody>\n",
       "    <tr>\n",
       "      <th>1786</th>\n",
       "      <td>Sentence: 77</td>\n",
       "      <td></td>\n",
       "      <td>O</td>\n",
       "      <td>False</td>\n",
       "    </tr>\n",
       "    <tr>\n",
       "      <th>56462</th>\n",
       "      <td>Sentence: 2556</td>\n",
       "      <td>°C</td>\n",
       "      <td>O</td>\n",
       "      <td>False</td>\n",
       "    </tr>\n",
       "    <tr>\n",
       "      <th>124883</th>\n",
       "      <td>Sentence: 5700</td>\n",
       "      <td>s</td>\n",
       "      <td>O</td>\n",
       "      <td>False</td>\n",
       "    </tr>\n",
       "    <tr>\n",
       "      <th>124903</th>\n",
       "      <td>Sentence: 5700</td>\n",
       "      <td>s</td>\n",
       "      <td>O</td>\n",
       "      <td>False</td>\n",
       "    </tr>\n",
       "    <tr>\n",
       "      <th>181958</th>\n",
       "      <td>Sentence: 8332</td>\n",
       "      <td></td>\n",
       "      <td>I-tim</td>\n",
       "      <td>False</td>\n",
       "    </tr>\n",
       "    <tr>\n",
       "      <th>199965</th>\n",
       "      <td>Sentence: 9159</td>\n",
       "      <td></td>\n",
       "      <td>O</td>\n",
       "      <td>False</td>\n",
       "    </tr>\n",
       "    <tr>\n",
       "      <th>199968</th>\n",
       "      <td>Sentence: 9159</td>\n",
       "      <td></td>\n",
       "      <td>O</td>\n",
       "      <td>False</td>\n",
       "    </tr>\n",
       "    <tr>\n",
       "      <th>219475</th>\n",
       "      <td>Sentence: 10052</td>\n",
       "      <td></td>\n",
       "      <td>O</td>\n",
       "      <td>False</td>\n",
       "    </tr>\n",
       "    <tr>\n",
       "      <th>219476</th>\n",
       "      <td>Sentence: 10052</td>\n",
       "      <td></td>\n",
       "      <td>O</td>\n",
       "      <td>False</td>\n",
       "    </tr>\n",
       "    <tr>\n",
       "      <th>219486</th>\n",
       "      <td>Sentence: 10052</td>\n",
       "      <td></td>\n",
       "      <td>O</td>\n",
       "      <td>False</td>\n",
       "    </tr>\n",
       "    <tr>\n",
       "      <th>219488</th>\n",
       "      <td>Sentence: 10052</td>\n",
       "      <td></td>\n",
       "      <td>O</td>\n",
       "      <td>False</td>\n",
       "    </tr>\n",
       "    <tr>\n",
       "      <th>434107</th>\n",
       "      <td>Sentence: 19818</td>\n",
       "      <td></td>\n",
       "      <td>O</td>\n",
       "      <td>False</td>\n",
       "    </tr>\n",
       "    <tr>\n",
       "      <th>577452</th>\n",
       "      <td>Sentence: 26396</td>\n",
       "      <td>s</td>\n",
       "      <td>O</td>\n",
       "      <td>False</td>\n",
       "    </tr>\n",
       "    <tr>\n",
       "      <th>577530</th>\n",
       "      <td>Sentence: 26400</td>\n",
       "      <td>s</td>\n",
       "      <td>O</td>\n",
       "      <td>False</td>\n",
       "    </tr>\n",
       "    <tr>\n",
       "      <th>633972</th>\n",
       "      <td>Sentence: 28979</td>\n",
       "      <td></td>\n",
       "      <td>O</td>\n",
       "      <td>False</td>\n",
       "    </tr>\n",
       "    <tr>\n",
       "      <th>633976</th>\n",
       "      <td>Sentence: 28979</td>\n",
       "      <td></td>\n",
       "      <td>O</td>\n",
       "      <td>False</td>\n",
       "    </tr>\n",
       "    <tr>\n",
       "      <th>637890</th>\n",
       "      <td>Sentence: 29164</td>\n",
       "      <td>s</td>\n",
       "      <td>O</td>\n",
       "      <td>False</td>\n",
       "    </tr>\n",
       "    <tr>\n",
       "      <th>687674</th>\n",
       "      <td>Sentence: 31423</td>\n",
       "      <td></td>\n",
       "      <td>O</td>\n",
       "      <td>False</td>\n",
       "    </tr>\n",
       "    <tr>\n",
       "      <th>687704</th>\n",
       "      <td>Sentence: 31424</td>\n",
       "      <td>s</td>\n",
       "      <td>O</td>\n",
       "      <td>False</td>\n",
       "    </tr>\n",
       "    <tr>\n",
       "      <th>687755</th>\n",
       "      <td>Sentence: 31427</td>\n",
       "      <td>s</td>\n",
       "      <td>O</td>\n",
       "      <td>False</td>\n",
       "    </tr>\n",
       "    <tr>\n",
       "      <th>687773</th>\n",
       "      <td>Sentence: 31428</td>\n",
       "      <td>s</td>\n",
       "      <td>O</td>\n",
       "      <td>False</td>\n",
       "    </tr>\n",
       "    <tr>\n",
       "      <th>736209</th>\n",
       "      <td>Sentence: 33654</td>\n",
       "      <td></td>\n",
       "      <td>O</td>\n",
       "      <td>False</td>\n",
       "    </tr>\n",
       "    <tr>\n",
       "      <th>736216</th>\n",
       "      <td>Sentence: 33654</td>\n",
       "      <td></td>\n",
       "      <td>O</td>\n",
       "      <td>False</td>\n",
       "    </tr>\n",
       "    <tr>\n",
       "      <th>748589</th>\n",
       "      <td>Sentence: 34218</td>\n",
       "      <td></td>\n",
       "      <td>O</td>\n",
       "      <td>False</td>\n",
       "    </tr>\n",
       "    <tr>\n",
       "      <th>748591</th>\n",
       "      <td>Sentence: 34218</td>\n",
       "      <td></td>\n",
       "      <td>O</td>\n",
       "      <td>False</td>\n",
       "    </tr>\n",
       "    <tr>\n",
       "      <th>748643</th>\n",
       "      <td>Sentence: 34221</td>\n",
       "      <td></td>\n",
       "      <td>O</td>\n",
       "      <td>False</td>\n",
       "    </tr>\n",
       "    <tr>\n",
       "      <th>748666</th>\n",
       "      <td>Sentence: 34221</td>\n",
       "      <td></td>\n",
       "      <td>O</td>\n",
       "      <td>False</td>\n",
       "    </tr>\n",
       "    <tr>\n",
       "      <th>859747</th>\n",
       "      <td>Sentence: 39287</td>\n",
       "      <td>s</td>\n",
       "      <td>I-org</td>\n",
       "      <td>False</td>\n",
       "    </tr>\n",
       "    <tr>\n",
       "      <th>859829</th>\n",
       "      <td>Sentence: 39291</td>\n",
       "      <td></td>\n",
       "      <td>O</td>\n",
       "      <td>False</td>\n",
       "    </tr>\n",
       "    <tr>\n",
       "      <th>948284</th>\n",
       "      <td>Sentence: 43340</td>\n",
       "      <td></td>\n",
       "      <td>O</td>\n",
       "      <td>False</td>\n",
       "    </tr>\n",
       "    <tr>\n",
       "      <th>1031999</th>\n",
       "      <td>Sentence: 47183</td>\n",
       "      <td></td>\n",
       "      <td>I-org</td>\n",
       "      <td>False</td>\n",
       "    </tr>\n",
       "  </tbody>\n",
       "</table>\n",
       "</div>"
      ],
      "text/plain": [
       "              Sentence # Word    Tag  is_proper_word\n",
       "1786        Sentence: 77    \n",
       "      O           False\n",
       "56462     Sentence: 2556   °C      O           False\n",
       "124883    Sentence: 5700   s      O           False\n",
       "124903    Sentence: 5700   s      O           False\n",
       "181958    Sentence: 8332      I-tim           False\n",
       "199965    Sentence: 9159          O           False\n",
       "199968    Sentence: 9159          O           False\n",
       "219475   Sentence: 10052    \n",
       "      O           False\n",
       "219476   Sentence: 10052          O           False\n",
       "219486   Sentence: 10052    \n",
       "      O           False\n",
       "219488   Sentence: 10052          O           False\n",
       "434107   Sentence: 19818    \n",
       "      O           False\n",
       "577452   Sentence: 26396   s      O           False\n",
       "577530   Sentence: 26400   s      O           False\n",
       "633972   Sentence: 28979          O           False\n",
       "633976   Sentence: 28979          O           False\n",
       "637890   Sentence: 29164   s      O           False\n",
       "687674   Sentence: 31423          O           False\n",
       "687704   Sentence: 31424   s      O           False\n",
       "687755   Sentence: 31427   s      O           False\n",
       "687773   Sentence: 31428   s      O           False\n",
       "736209   Sentence: 33654          O           False\n",
       "736216   Sentence: 33654          O           False\n",
       "748589   Sentence: 34218          O           False\n",
       "748591   Sentence: 34218          O           False\n",
       "748643   Sentence: 34221          O           False\n",
       "748666   Sentence: 34221          O           False\n",
       "859747   Sentence: 39287   s  I-org           False\n",
       "859829   Sentence: 39291          O           False\n",
       "948284   Sentence: 43340          O           False\n",
       "1031999  Sentence: 47183      I-org           False"
      ]
     },
     "metadata": {},
     "output_type": "display_data"
    },
    {
     "name": "stdout",
     "output_type": "stream",
     "text": [
      "The total number of improper words are: 31\n"
     ]
    }
   ],
   "source": [
    "display(data[~data['is_proper_word']])\n",
    "\n",
    "print(f\"The total number of improper words are: {data[~data['is_proper_word']].shape[0]}\")"
   ]
  },
  {
   "cell_type": "markdown",
   "id": "57babaaa-4b24-460e-9267-c4f400a624d5",
   "metadata": {},
   "source": [
    "####  5.4 Retain the data which has only proper words"
   ]
  },
  {
   "cell_type": "code",
   "execution_count": 185,
   "id": "7294d8f8-e21b-4de1-bb8b-980d1da51c38",
   "metadata": {},
   "outputs": [],
   "source": [
    "data = data[data['is_proper_word']]"
   ]
  },
  {
   "cell_type": "markdown",
   "id": "e4b6c6c5-7562-49b8-85d7-8e496f6342b6",
   "metadata": {},
   "source": [
    "#### 5.5 Drop the newly created column 'is_proper_word'"
   ]
  },
  {
   "cell_type": "code",
   "execution_count": 186,
   "id": "f18e7b35-c8f4-477a-80ab-aca720ff7c7f",
   "metadata": {},
   "outputs": [
    {
     "name": "stdout",
     "output_type": "stream",
     "text": [
      "Updated cols of the data: ['Sentence #', 'Word', 'Tag']\n",
      "Updated number of rows: 1048534\n"
     ]
    }
   ],
   "source": [
    "# drop the col 'is_proper_word'\n",
    "data.drop(columns=['is_proper_word'], inplace=True)\n",
    "\n",
    "print(f\"Updated cols of the data: {data.columns.tolist()}\")\n",
    "print(f\"Updated number of rows: {data.shape[0]}\")"
   ]
  },
  {
   "cell_type": "markdown",
   "id": "b9ac22dd-e963-4e8a-95f1-4ac4568be5d5",
   "metadata": {},
   "source": [
    "### 6. Frequency of each tag\n",
    "<p>Compute the <b>frequeny</b> of each tag</p>"
   ]
  },
  {
   "cell_type": "code",
   "execution_count": 187,
   "id": "630e7981-7c55-418c-b7f0-c7feb1a3d5da",
   "metadata": {},
   "outputs": [
    {
     "name": "stdout",
     "output_type": "stream",
     "text": [
      "Number of tags: 17\n"
     ]
    },
    {
     "data": {
      "text/plain": [
       "Tag\n",
       "O        887870\n",
       "B-geo     37644\n",
       "B-tim     20333\n",
       "B-org     20143\n",
       "I-per     17251\n",
       "B-per     16990\n",
       "I-org     16782\n",
       "B-gpe     15870\n",
       "I-geo      7414\n",
       "I-tim      6527\n",
       "B-art       402\n",
       "B-eve       308\n",
       "I-art       297\n",
       "I-eve       253\n",
       "B-nat       201\n",
       "I-gpe       198\n",
       "I-nat        51\n",
       "Name: count, dtype: int64"
      ]
     },
     "execution_count": 187,
     "metadata": {},
     "output_type": "execute_result"
    }
   ],
   "source": [
    "print(\"Number of tags: {}\".format(len(data.Tag.unique())))\n",
    "frequencies = data.Tag.value_counts()\n",
    "frequencies"
   ]
  },
  {
   "cell_type": "markdown",
   "id": "667bf0f7-2bd8-44f2-aac5-609f9371ba34",
   "metadata": {},
   "source": [
    "### 7. Count the frequencies of sub-tags in decreasing order\n",
    "<p>We have sub-tags like <b>geo, org, eve, per</b> e.t.c. Lets compute the frequency of each tag sub-tag in decreasing order.</p>"
   ]
  },
  {
   "cell_type": "code",
   "execution_count": 188,
   "id": "29fbed8d-89e6-4aed-9ebf-ebd61c6f7992",
   "metadata": {},
   "outputs": [
    {
     "name": "stdout",
     "output_type": "stream",
     "text": [
      "[('geo', 45058), ('org', 36925), ('per', 34241), ('tim', 26860), ('gpe', 16068), ('art', 699), ('eve', 561), ('nat', 252)]\n"
     ]
    }
   ],
   "source": [
    "# Dict for storing the tags and their frequency\n",
    "tags = {}\n",
    "\n",
    "# iterate through each tag\n",
    "for tag, count in zip(frequencies.index, frequencies):\n",
    "    # Check if the tag is not 'O'\n",
    "    if tag != \"O\":\n",
    "        # extract the sub-tag \n",
    "        if tag[2:5] not in tags.keys():\n",
    "            # create a key with its count\n",
    "            tags[tag[2:5]] = count\n",
    "        else:\n",
    "            # if sub-tag already exists, then simply update the count\n",
    "            tags[tag[2:5]] += count\n",
    "\n",
    "# print the sub-tags in sorted order\n",
    "print(sorted(tags.items(), key=lambda x: x[1], reverse=True))"
   ]
  },
  {
   "cell_type": "markdown",
   "id": "cc1b83bc-ee9c-49ae-b8ec-54f0cb8de7f9",
   "metadata": {},
   "source": [
    "### 8. Dealing with Tags that could potentially act as Noise\n",
    "<p> From previous section, we can see that sub-tags - <b>art, eve and nat</b> are relatively very low in number.<br>\n",
    "    Hence, Tags - <b>\"B-art\", \"I-art\", \"B-eve\", \"I-eve\", \"B-nat\", \"I-nat\" </b> could potentially act as noise.\n",
    "    Also note that Tag <b>I-gpe</b> is also relatively very low in count and hence it could also act as noise.\n",
    "    Therefore we will <b>replace</b> all such Tags that have the potential to act as noise.\n",
    "</p>"
   ]
  },
  {
   "cell_type": "code",
   "execution_count": 189,
   "id": "5b1761ee-75b4-49e2-b379-6f5052a47ea3",
   "metadata": {},
   "outputs": [],
   "source": [
    "# Remove tags having such sub-tags plus an additional I-gpe tag\n",
    "labels_to_remove = [\"B-art\", \"I-art\", \"B-eve\", \"I-eve\", \"B-nat\", \"I-nat\"] + ['I-gpe']"
   ]
  },
  {
   "cell_type": "markdown",
   "id": "ecb605f3-7907-40cf-8691-894e1cd7ce08",
   "metadata": {},
   "source": [
    "#### 8.1. Convert such subtags to \"O\" which is most frequent"
   ]
  },
  {
   "cell_type": "code",
   "execution_count": 190,
   "id": "3115b769-9ad9-4381-8e95-83fd5649c3cd",
   "metadata": {},
   "outputs": [],
   "source": [
    "data.loc[data['Tag'].isin(labels_to_remove), 'Tag'] = \"O\""
   ]
  },
  {
   "cell_type": "markdown",
   "id": "6af418e9-0c86-49fc-88c5-e3d92aa5fa7d",
   "metadata": {},
   "source": [
    "#### 8.2 Compute updated frequency of each tags"
   ]
  },
  {
   "cell_type": "code",
   "execution_count": 191,
   "id": "95ae7d13-3888-407b-9ab6-44f245a25b1b",
   "metadata": {},
   "outputs": [
    {
     "data": {
      "text/plain": [
       "Tag\n",
       "O        889580\n",
       "B-geo     37644\n",
       "B-tim     20333\n",
       "B-org     20143\n",
       "I-per     17251\n",
       "B-per     16990\n",
       "I-org     16782\n",
       "B-gpe     15870\n",
       "I-geo      7414\n",
       "I-tim      6527\n",
       "Name: count, dtype: int64"
      ]
     },
     "execution_count": 191,
     "metadata": {},
     "output_type": "execute_result"
    }
   ],
   "source": [
    "unique_tags = data.Tag.value_counts()\n",
    "unique_tags"
   ]
  },
  {
   "cell_type": "markdown",
   "id": "e8899acb-b3c1-4247-94ca-10e0e7afdf40",
   "metadata": {},
   "source": [
    "### 9. Compute label Maps\n",
    "<p>Create two maps:\n",
    "    <ol>\n",
    "        <li><b>label2id</b> - maps string labels to its integer index</li>\n",
    "        <li><b>id2label</b> - maps integer index of labels to strings</li>\n",
    "    </ol>\n",
    "</p>"
   ]
  },
  {
   "cell_type": "code",
   "execution_count": 192,
   "id": "296d27b4-cb59-4a19-b585-e9d36d10511d",
   "metadata": {},
   "outputs": [
    {
     "data": {
      "text/plain": [
       "{'O': 0,\n",
       " 'B-geo': 1,\n",
       " 'B-gpe': 2,\n",
       " 'B-per': 3,\n",
       " 'I-geo': 4,\n",
       " 'B-org': 5,\n",
       " 'I-org': 6,\n",
       " 'B-tim': 7,\n",
       " 'I-per': 8,\n",
       " 'I-tim': 9}"
      ]
     },
     "execution_count": 192,
     "metadata": {},
     "output_type": "execute_result"
    }
   ],
   "source": [
    "label2id = {k: v for v, k in enumerate(data.Tag.unique())}\n",
    "id2label = {v: k for v, k in enumerate(data.Tag.unique())}\n",
    "label2id"
   ]
  },
  {
   "cell_type": "markdown",
   "id": "3ac8c1a6-7435-4fd1-90a4-cb746198d7a3",
   "metadata": {},
   "source": [
    "### 10. Create complete sentences with their labels as one string "
   ]
  },
  {
   "cell_type": "code",
   "execution_count": 193,
   "id": "658893a8-3025-45ba-8126-0543a66d045b",
   "metadata": {},
   "outputs": [
    {
     "data": {
      "text/html": [
       "<div>\n",
       "<style scoped>\n",
       "    .dataframe tbody tr th:only-of-type {\n",
       "        vertical-align: middle;\n",
       "    }\n",
       "\n",
       "    .dataframe tbody tr th {\n",
       "        vertical-align: top;\n",
       "    }\n",
       "\n",
       "    .dataframe thead th {\n",
       "        text-align: right;\n",
       "    }\n",
       "</style>\n",
       "<table border=\"1\" class=\"dataframe\">\n",
       "  <thead>\n",
       "    <tr style=\"text-align: right;\">\n",
       "      <th></th>\n",
       "      <th>Sentence #</th>\n",
       "      <th>Word</th>\n",
       "      <th>Tag</th>\n",
       "      <th>sentence</th>\n",
       "      <th>labels</th>\n",
       "    </tr>\n",
       "  </thead>\n",
       "  <tbody>\n",
       "    <tr>\n",
       "      <th>0</th>\n",
       "      <td>Sentence: 1</td>\n",
       "      <td>Thousands</td>\n",
       "      <td>O</td>\n",
       "      <td>Thousands of demonstrators have marched throug...</td>\n",
       "      <td>O,O,O,O,O,O,B-geo,O,O,O,O,O,B-geo,O,O,O,O,O,B-...</td>\n",
       "    </tr>\n",
       "    <tr>\n",
       "      <th>1</th>\n",
       "      <td>Sentence: 1</td>\n",
       "      <td>of</td>\n",
       "      <td>O</td>\n",
       "      <td>Thousands of demonstrators have marched throug...</td>\n",
       "      <td>O,O,O,O,O,O,B-geo,O,O,O,O,O,B-geo,O,O,O,O,O,B-...</td>\n",
       "    </tr>\n",
       "    <tr>\n",
       "      <th>2</th>\n",
       "      <td>Sentence: 1</td>\n",
       "      <td>demonstrators</td>\n",
       "      <td>O</td>\n",
       "      <td>Thousands of demonstrators have marched throug...</td>\n",
       "      <td>O,O,O,O,O,O,B-geo,O,O,O,O,O,B-geo,O,O,O,O,O,B-...</td>\n",
       "    </tr>\n",
       "    <tr>\n",
       "      <th>3</th>\n",
       "      <td>Sentence: 1</td>\n",
       "      <td>have</td>\n",
       "      <td>O</td>\n",
       "      <td>Thousands of demonstrators have marched throug...</td>\n",
       "      <td>O,O,O,O,O,O,B-geo,O,O,O,O,O,B-geo,O,O,O,O,O,B-...</td>\n",
       "    </tr>\n",
       "    <tr>\n",
       "      <th>4</th>\n",
       "      <td>Sentence: 1</td>\n",
       "      <td>marched</td>\n",
       "      <td>O</td>\n",
       "      <td>Thousands of demonstrators have marched throug...</td>\n",
       "      <td>O,O,O,O,O,O,B-geo,O,O,O,O,O,B-geo,O,O,O,O,O,B-...</td>\n",
       "    </tr>\n",
       "  </tbody>\n",
       "</table>\n",
       "</div>"
      ],
      "text/plain": [
       "    Sentence #           Word Tag  \\\n",
       "0  Sentence: 1      Thousands   O   \n",
       "1  Sentence: 1             of   O   \n",
       "2  Sentence: 1  demonstrators   O   \n",
       "3  Sentence: 1           have   O   \n",
       "4  Sentence: 1        marched   O   \n",
       "\n",
       "                                            sentence  \\\n",
       "0  Thousands of demonstrators have marched throug...   \n",
       "1  Thousands of demonstrators have marched throug...   \n",
       "2  Thousands of demonstrators have marched throug...   \n",
       "3  Thousands of demonstrators have marched throug...   \n",
       "4  Thousands of demonstrators have marched throug...   \n",
       "\n",
       "                                              labels  \n",
       "0  O,O,O,O,O,O,B-geo,O,O,O,O,O,B-geo,O,O,O,O,O,B-...  \n",
       "1  O,O,O,O,O,O,B-geo,O,O,O,O,O,B-geo,O,O,O,O,O,B-...  \n",
       "2  O,O,O,O,O,O,B-geo,O,O,O,O,O,B-geo,O,O,O,O,O,B-...  \n",
       "3  O,O,O,O,O,O,B-geo,O,O,O,O,O,B-geo,O,O,O,O,O,B-...  \n",
       "4  O,O,O,O,O,O,B-geo,O,O,O,O,O,B-geo,O,O,O,O,O,B-...  "
      ]
     },
     "execution_count": 193,
     "metadata": {},
     "output_type": "execute_result"
    }
   ],
   "source": [
    "# let's create a new column called \"sentence\" which groups the words by sentence \n",
    "data['sentence'] = data[['Sentence #','Word','Tag']].groupby(['Sentence #'])['Word'].transform(lambda x: ' '.join(x))\n",
    "# let's also create a new column called \"word_labels\" which groups the tags by sentence \n",
    "data['labels'] = data[['Sentence #','Word','Tag']].groupby(['Sentence #'])['Tag'].transform(lambda x: ','.join(x))\n",
    "data.head()"
   ]
  },
  {
   "cell_type": "markdown",
   "id": "9b6ba1c0-8d62-4211-b208-cb4b617941ad",
   "metadata": {},
   "source": [
    "#### 10.1 Drop duplicate sentences + labels and reset index"
   ]
  },
  {
   "cell_type": "code",
   "execution_count": 194,
   "id": "a619954c-734c-4c83-81b9-f6187fd39108",
   "metadata": {},
   "outputs": [
    {
     "data": {
      "text/html": [
       "<div>\n",
       "<style scoped>\n",
       "    .dataframe tbody tr th:only-of-type {\n",
       "        vertical-align: middle;\n",
       "    }\n",
       "\n",
       "    .dataframe tbody tr th {\n",
       "        vertical-align: top;\n",
       "    }\n",
       "\n",
       "    .dataframe thead th {\n",
       "        text-align: right;\n",
       "    }\n",
       "</style>\n",
       "<table border=\"1\" class=\"dataframe\">\n",
       "  <thead>\n",
       "    <tr style=\"text-align: right;\">\n",
       "      <th></th>\n",
       "      <th>sentence</th>\n",
       "      <th>labels</th>\n",
       "    </tr>\n",
       "  </thead>\n",
       "  <tbody>\n",
       "    <tr>\n",
       "      <th>0</th>\n",
       "      <td>Thousands of demonstrators have marched throug...</td>\n",
       "      <td>O,O,O,O,O,O,B-geo,O,O,O,O,O,B-geo,O,O,O,O,O,B-...</td>\n",
       "    </tr>\n",
       "    <tr>\n",
       "      <th>1</th>\n",
       "      <td>Families of soldiers killed in the conflict jo...</td>\n",
       "      <td>O,O,O,O,O,O,O,O,O,O,O,O,O,O,O,O,O,O,B-per,O,O,...</td>\n",
       "    </tr>\n",
       "    <tr>\n",
       "      <th>2</th>\n",
       "      <td>They marched from the Houses of Parliament to ...</td>\n",
       "      <td>O,O,O,O,O,O,O,O,O,O,O,B-geo,I-geo,O</td>\n",
       "    </tr>\n",
       "    <tr>\n",
       "      <th>3</th>\n",
       "      <td>Police put the number of marchers at 10,000 wh...</td>\n",
       "      <td>O,O,O,O,O,O,O,O,O,O,O,O,O,O,O</td>\n",
       "    </tr>\n",
       "    <tr>\n",
       "      <th>4</th>\n",
       "      <td>The protest comes on the eve of the annual con...</td>\n",
       "      <td>O,O,O,O,O,O,O,O,O,O,O,B-geo,O,O,B-org,I-org,O,...</td>\n",
       "    </tr>\n",
       "  </tbody>\n",
       "</table>\n",
       "</div>"
      ],
      "text/plain": [
       "                                            sentence  \\\n",
       "0  Thousands of demonstrators have marched throug...   \n",
       "1  Families of soldiers killed in the conflict jo...   \n",
       "2  They marched from the Houses of Parliament to ...   \n",
       "3  Police put the number of marchers at 10,000 wh...   \n",
       "4  The protest comes on the eve of the annual con...   \n",
       "\n",
       "                                              labels  \n",
       "0  O,O,O,O,O,O,B-geo,O,O,O,O,O,B-geo,O,O,O,O,O,B-...  \n",
       "1  O,O,O,O,O,O,O,O,O,O,O,O,O,O,O,O,O,O,B-per,O,O,...  \n",
       "2                O,O,O,O,O,O,O,O,O,O,O,B-geo,I-geo,O  \n",
       "3                      O,O,O,O,O,O,O,O,O,O,O,O,O,O,O  \n",
       "4  O,O,O,O,O,O,O,O,O,O,O,B-geo,O,O,B-org,I-org,O,...  "
      ]
     },
     "execution_count": 194,
     "metadata": {},
     "output_type": "execute_result"
    }
   ],
   "source": [
    "data = data[[\"sentence\", \"labels\"]].drop_duplicates().reset_index(drop=True)\n",
    "data.head()"
   ]
  },
  {
   "cell_type": "markdown",
   "id": "3f72d4ce-01db-467b-8332-75d926ccd793",
   "metadata": {},
   "source": [
    "### 11. Remove the sentences that contain only \"O\" tags and don't contain any other target labels"
   ]
  },
  {
   "cell_type": "code",
   "execution_count": 195,
   "id": "7cde70f4-ad32-4aa2-ad96-81422246ac64",
   "metadata": {},
   "outputs": [
    {
     "name": "stdout",
     "output_type": "stream",
     "text": [
      "Total number of removed sentences that contain only 'O' tags: 7030\n"
     ]
    }
   ],
   "source": [
    "# This is to remove the sentences that doesn't contain our targeted entities.\n",
    "sum_=0\n",
    "for index, i in enumerate(data['labels']):\n",
    "    a=set(i.split(','))\n",
    "    if(len(a)<=1):\n",
    "        data.drop(labels=index, axis=0,inplace=True)\n",
    "        sum_+=1    \n",
    "print(f\"Total number of removed sentences that contain only 'O' tags: {sum_}\")"
   ]
  },
  {
   "cell_type": "code",
   "execution_count": 196,
   "id": "9eb15186-f195-4740-b327-203cfff2b8bd",
   "metadata": {},
   "outputs": [
    {
     "name": "stdout",
     "output_type": "stream",
     "text": [
      "Total number of sentences after removing sentences containing all 'O' labels: 40577\n"
     ]
    }
   ],
   "source": [
    "print(f\"Total number of sentences after removing sentences containing all 'O' labels: {len(data)}\")"
   ]
  },
  {
   "cell_type": "markdown",
   "id": "39144e8d-225c-4303-a30b-e7b9bc0e9574",
   "metadata": {},
   "source": [
    "### 12. Create additional columns to get an idea of sentence length, bert tokens length"
   ]
  },
  {
   "cell_type": "code",
   "execution_count": 197,
   "id": "234bc58d-4137-4359-99e7-8b5d9c5f9f47",
   "metadata": {},
   "outputs": [],
   "source": [
    "tokenizer = BertTokenizer.from_pretrained('bert-base-uncased', clean_up_tokenization_spaces=True)"
   ]
  },
  {
   "cell_type": "markdown",
   "id": "415eb6e0-0b68-4216-b990-5d6213164753",
   "metadata": {},
   "source": [
    "#### 12.1 Create column to store sentence length"
   ]
  },
  {
   "cell_type": "code",
   "execution_count": 198,
   "id": "d7d2a831-4c61-45eb-9368-6879229f8fb1",
   "metadata": {},
   "outputs": [],
   "source": [
    "data['num_words'] = data['sentence'].apply(lambda x: len(x.split(' ')))"
   ]
  },
  {
   "cell_type": "markdown",
   "id": "74c933c9-975e-4569-a2fc-44a56ba82f98",
   "metadata": {},
   "source": [
    "#### 12.2 Create column for label len "
   ]
  },
  {
   "cell_type": "code",
   "execution_count": 199,
   "id": "e8f4c3f2-2329-4aad-b8dd-3dcac0cd39d2",
   "metadata": {},
   "outputs": [],
   "source": [
    "data['num_labels'] = data['labels'].apply(lambda x: len(x.split(',')))"
   ]
  },
  {
   "cell_type": "markdown",
   "id": "5ee097b8-ba5d-48e0-b744-2987e97cd058",
   "metadata": {},
   "source": [
    "#### 12.3. Create column to store bert tokens"
   ]
  },
  {
   "cell_type": "code",
   "execution_count": 200,
   "id": "574c5086-5a45-4104-a227-19a64ff170e9",
   "metadata": {},
   "outputs": [],
   "source": [
    "data['bert_tokens'] = data['sentence'].apply(lambda x: \" \".join(tokenizer.tokenize(x)))"
   ]
  },
  {
   "cell_type": "markdown",
   "id": "6a6ef3bb-8395-4655-b7b8-b4ef63a96cc0",
   "metadata": {},
   "source": [
    "#### 12.4. Create column to store bert tokens length"
   ]
  },
  {
   "cell_type": "code",
   "execution_count": 201,
   "id": "d258896a-d530-445d-b098-79751e496fd2",
   "metadata": {},
   "outputs": [],
   "source": [
    "data['num_tokens'] = data['bert_tokens'].apply(lambda x: len(x.split(' ')))"
   ]
  },
  {
   "cell_type": "markdown",
   "id": "e338ae95-192b-4921-a814-74f9ea629ea9",
   "metadata": {},
   "source": [
    "#### 12.5. Create column to store difference in lengths (token len - sent len)"
   ]
  },
  {
   "cell_type": "code",
   "execution_count": 202,
   "id": "ce9f9b3b-a72a-4db1-a2f9-0b2512ff370f",
   "metadata": {},
   "outputs": [],
   "source": [
    "data['words_tokens_diff'] = data['num_tokens'] - data['num_words']"
   ]
  },
  {
   "cell_type": "markdown",
   "id": "bc780fc8-a0f5-42c7-91aa-cd04dff6d9cc",
   "metadata": {},
   "source": [
    "#### 12.6. Create column to store difference in lengths (sentence len - label len)"
   ]
  },
  {
   "cell_type": "code",
   "execution_count": 203,
   "id": "236010a0-7d5a-4549-a3bd-d251e2e1feca",
   "metadata": {},
   "outputs": [],
   "source": [
    "data['words_labels_diff'] = data['num_words'] - data['num_labels']"
   ]
  },
  {
   "cell_type": "markdown",
   "id": "abcfa9c5-d696-4fff-8e1a-b4609d0711bc",
   "metadata": {},
   "source": [
    "##### peek into data"
   ]
  },
  {
   "cell_type": "code",
   "execution_count": 204,
   "id": "65b6ca33-5cb9-40ea-8957-930fbee53090",
   "metadata": {},
   "outputs": [
    {
     "data": {
      "text/html": [
       "<div>\n",
       "<style scoped>\n",
       "    .dataframe tbody tr th:only-of-type {\n",
       "        vertical-align: middle;\n",
       "    }\n",
       "\n",
       "    .dataframe tbody tr th {\n",
       "        vertical-align: top;\n",
       "    }\n",
       "\n",
       "    .dataframe thead th {\n",
       "        text-align: right;\n",
       "    }\n",
       "</style>\n",
       "<table border=\"1\" class=\"dataframe\">\n",
       "  <thead>\n",
       "    <tr style=\"text-align: right;\">\n",
       "      <th></th>\n",
       "      <th>sentence</th>\n",
       "      <th>labels</th>\n",
       "      <th>num_words</th>\n",
       "      <th>num_labels</th>\n",
       "      <th>bert_tokens</th>\n",
       "      <th>num_tokens</th>\n",
       "      <th>words_tokens_diff</th>\n",
       "      <th>words_labels_diff</th>\n",
       "    </tr>\n",
       "  </thead>\n",
       "  <tbody>\n",
       "    <tr>\n",
       "      <th>0</th>\n",
       "      <td>Thousands of demonstrators have marched throug...</td>\n",
       "      <td>O,O,O,O,O,O,B-geo,O,O,O,O,O,B-geo,O,O,O,O,O,B-...</td>\n",
       "      <td>24</td>\n",
       "      <td>24</td>\n",
       "      <td>thousands of demonstrators have marched throug...</td>\n",
       "      <td>24</td>\n",
       "      <td>0</td>\n",
       "      <td>0</td>\n",
       "    </tr>\n",
       "    <tr>\n",
       "      <th>1</th>\n",
       "      <td>Families of soldiers killed in the conflict jo...</td>\n",
       "      <td>O,O,O,O,O,O,O,O,O,O,O,O,O,O,O,O,O,O,B-per,O,O,...</td>\n",
       "      <td>30</td>\n",
       "      <td>30</td>\n",
       "      <td>families of soldiers killed in the conflict jo...</td>\n",
       "      <td>31</td>\n",
       "      <td>1</td>\n",
       "      <td>0</td>\n",
       "    </tr>\n",
       "    <tr>\n",
       "      <th>2</th>\n",
       "      <td>They marched from the Houses of Parliament to ...</td>\n",
       "      <td>O,O,O,O,O,O,O,O,O,O,O,B-geo,I-geo,O</td>\n",
       "      <td>14</td>\n",
       "      <td>14</td>\n",
       "      <td>they marched from the houses of parliament to ...</td>\n",
       "      <td>14</td>\n",
       "      <td>0</td>\n",
       "      <td>0</td>\n",
       "    </tr>\n",
       "    <tr>\n",
       "      <th>4</th>\n",
       "      <td>The protest comes on the eve of the annual con...</td>\n",
       "      <td>O,O,O,O,O,O,O,O,O,O,O,B-geo,O,O,B-org,I-org,O,...</td>\n",
       "      <td>25</td>\n",
       "      <td>25</td>\n",
       "      <td>the protest comes on the eve of the annual con...</td>\n",
       "      <td>26</td>\n",
       "      <td>1</td>\n",
       "      <td>0</td>\n",
       "    </tr>\n",
       "    <tr>\n",
       "      <th>5</th>\n",
       "      <td>The party is divided over Britain 's participa...</td>\n",
       "      <td>O,O,O,O,O,B-gpe,O,O,O,O,B-geo,O,O,O,O,O,O,O,B-...</td>\n",
       "      <td>24</td>\n",
       "      <td>24</td>\n",
       "      <td>the party is divided over britain ' s particip...</td>\n",
       "      <td>27</td>\n",
       "      <td>3</td>\n",
       "      <td>0</td>\n",
       "    </tr>\n",
       "  </tbody>\n",
       "</table>\n",
       "</div>"
      ],
      "text/plain": [
       "                                            sentence  \\\n",
       "0  Thousands of demonstrators have marched throug...   \n",
       "1  Families of soldiers killed in the conflict jo...   \n",
       "2  They marched from the Houses of Parliament to ...   \n",
       "4  The protest comes on the eve of the annual con...   \n",
       "5  The party is divided over Britain 's participa...   \n",
       "\n",
       "                                              labels  num_words  num_labels  \\\n",
       "0  O,O,O,O,O,O,B-geo,O,O,O,O,O,B-geo,O,O,O,O,O,B-...         24          24   \n",
       "1  O,O,O,O,O,O,O,O,O,O,O,O,O,O,O,O,O,O,B-per,O,O,...         30          30   \n",
       "2                O,O,O,O,O,O,O,O,O,O,O,B-geo,I-geo,O         14          14   \n",
       "4  O,O,O,O,O,O,O,O,O,O,O,B-geo,O,O,B-org,I-org,O,...         25          25   \n",
       "5  O,O,O,O,O,B-gpe,O,O,O,O,B-geo,O,O,O,O,O,O,O,B-...         24          24   \n",
       "\n",
       "                                         bert_tokens  num_tokens  \\\n",
       "0  thousands of demonstrators have marched throug...          24   \n",
       "1  families of soldiers killed in the conflict jo...          31   \n",
       "2  they marched from the houses of parliament to ...          14   \n",
       "4  the protest comes on the eve of the annual con...          26   \n",
       "5  the party is divided over britain ' s particip...          27   \n",
       "\n",
       "   words_tokens_diff  words_labels_diff  \n",
       "0                  0                  0  \n",
       "1                  1                  0  \n",
       "2                  0                  0  \n",
       "4                  1                  0  \n",
       "5                  3                  0  "
      ]
     },
     "execution_count": 204,
     "metadata": {},
     "output_type": "execute_result"
    }
   ],
   "source": [
    "data.head()"
   ]
  },
  {
   "cell_type": "markdown",
   "id": "784019ad-de51-4a0e-a1d7-226b9bdb6aa9",
   "metadata": {},
   "source": [
    "### 13. Lets see the Histograms of tokenized sentence length and difference of length"
   ]
  },
  {
   "cell_type": "markdown",
   "id": "4c614005-4d1d-4cf5-ab37-2772d39e4c69",
   "metadata": {},
   "source": [
    "#### 13.1. Histogram of difference in sentence length and label length (# of label)"
   ]
  },
  {
   "cell_type": "code",
   "execution_count": 205,
   "id": "9f2bb3d3-998d-419b-899d-ad1718042951",
   "metadata": {},
   "outputs": [
    {
     "data": {
      "text/plain": [
       "<Figure size 2400x2400 with 0 Axes>"
      ]
     },
     "metadata": {},
     "output_type": "display_data"
    },
    {
     "data": {
      "image/png": "[encoded data removed]",
      "text/plain": [
       "<Figure size 500x500 with 1 Axes>"
      ]
     },
     "metadata": {},
     "output_type": "display_data"
    },
    {
     "name": "stdout",
     "output_type": "stream",
     "text": [
      "\n",
      "Stats for length of Tokens\n",
      "Minimum difference in num of words and num of labels: 0\n",
      "Maximum difference in num of words and num of labels: 0\n",
      "Median difference in num of words and num of labels: 0\n"
     ]
    }
   ],
   "source": [
    "sns.set(style='darkgrid')\n",
    "\n",
    "# Increase the plot size and font size.\n",
    "sns.set(font_scale=1.5)\n",
    "plt.figure(figsize=(24, 24))\n",
    "plt.rcParams[\"figure.figsize\"] = (10,5)\n",
    "\n",
    "words_labels_diff = data['words_labels_diff'].values.tolist()\n",
    "\n",
    "min_words_labels_diff = min(words_labels_diff)\n",
    "max_words_labels_diff = max(words_labels_diff)\n",
    "median_words_labels_diff = int(np.median(words_labels_diff))\n",
    "\n",
    "# Plot the distribution of comment lengths.\n",
    "sns.displot(words_labels_diff, kde=False, rug=False,color='green')\n",
    "\n",
    "plt.title('Difference in # of Words and # of Labels')\n",
    "plt.xlabel('Difference')\n",
    "plt.ylabel('# of Sentences')\n",
    "plt.show()\n",
    "\n",
    "print(\"\\nStats for length of Tokens\")\n",
    "print(f\"Minimum difference in num of words and num of labels: {min_words_labels_diff}\") \n",
    "print(f\"Maximum difference in num of words and num of labels: {max_words_labels_diff}\") \n",
    "print(f\"Median difference in num of words and num of labels: {median_words_labels_diff}\")"
   ]
  },
  {
   "cell_type": "markdown",
   "id": "0aaaa85f-c450-4fc7-8a90-b217ff0b4cea",
   "metadata": {},
   "source": [
    "#### 13.2. Histogram of length of tokenized sentence (# of tokens created by tokenizer)"
   ]
  },
  {
   "cell_type": "code",
   "execution_count": 206,
   "id": "d03b9c00-145d-437c-a44f-98b88520cb05",
   "metadata": {},
   "outputs": [
    {
     "data": {
      "text/plain": [
       "<Figure size 2400x2400 with 0 Axes>"
      ]
     },
     "metadata": {},
     "output_type": "display_data"
    },
    {
     "data": {
      "image/png": "[encoded data removed]",
      "text/plain": [
       "<Figure size 500x500 with 1 Axes>"
      ]
     },
     "metadata": {},
     "output_type": "display_data"
    },
    {
     "name": "stdout",
     "output_type": "stream",
     "text": [
      "\n",
      "Stats for length of Bert Tokens\n",
      "Minimum Tokens length: 2\n",
      "Maximum Tokens length: 152\n",
      "Median Tokens length: 25\n"
     ]
    }
   ],
   "source": [
    "sns.set(style='darkgrid')\n",
    "\n",
    "# Increase the plot size and font size.\n",
    "sns.set(font_scale=1.5)\n",
    "plt.figure(figsize=(24, 24))\n",
    "plt.rcParams[\"figure.figsize\"] = (10,5)\n",
    "\n",
    "token_lens = data['num_tokens'].values.tolist()\n",
    "\n",
    "min_token_len = min(token_lens)\n",
    "max_token_len = max(token_lens)\n",
    "median_token_len = int(np.median(token_lens))\n",
    "\n",
    "# Plot the distribution of comment lengths.\n",
    "sns.displot(token_lens, kde=False, rug=False,color='green')\n",
    "\n",
    "plt.title('Bert Tokens Lengths')\n",
    "plt.xlabel('Tokens Length (# of tokens)')\n",
    "plt.ylabel('# of Sentences')\n",
    "plt.show()\n",
    "\n",
    "print(\"\\nStats for length of Bert Tokens\")\n",
    "print(f\"Minimum Tokens length: {min_token_len}\") \n",
    "print(f\"Maximum Tokens length: {max_token_len}\") \n",
    "print(f\"Median Tokens length: {median_token_len}\")"
   ]
  },
  {
   "cell_type": "markdown",
   "id": "20b1d1bb-90d6-436a-9f7f-759181977033",
   "metadata": {},
   "source": [
    "#### 13.3 Histogram of difference in length between sentence lnegth and bert tokenized sentence length"
   ]
  },
  {
   "cell_type": "code",
   "execution_count": 207,
   "id": "81fe3cbd-3b79-44db-86b1-1f25af193b59",
   "metadata": {},
   "outputs": [
    {
     "data": {
      "text/plain": [
       "<Figure size 2400x2400 with 0 Axes>"
      ]
     },
     "metadata": {},
     "output_type": "display_data"
    },
    {
     "data": {
      "image/png": "[encoded data removed]",
      "text/plain": [
       "<Figure size 500x500 with 1 Axes>"
      ]
     },
     "metadata": {},
     "output_type": "display_data"
    },
    {
     "name": "stdout",
     "output_type": "stream",
     "text": [
      "\n",
      "Stats for length difference between Bert Tokens and sentence length\n",
      "Minimum difference in num of tokens and num of words: 0\n",
      "Maximum difference in num of tokens and num of words: 48\n",
      "Median difference in num of tokens and num of words: 2\n"
     ]
    }
   ],
   "source": [
    "sns.set(style='darkgrid')\n",
    "\n",
    "# Increase the plot size and font size.\n",
    "sns.set(font_scale=1.5)\n",
    "plt.figure(figsize=(24, 24))\n",
    "plt.rcParams[\"figure.figsize\"] = (10,10)\n",
    "\n",
    "words_tokens_diff = data['words_tokens_diff'].values.tolist()\n",
    "\n",
    "min_words_tokens_diff = min(words_tokens_diff)\n",
    "max_words_tokens_diff = max(words_tokens_diff)\n",
    "median_words_tokens_diff = int(np.median(words_tokens_diff))\n",
    "\n",
    "# Plot the distribution of comment lengths.\n",
    "sns.displot(words_tokens_diff, kde=False, rug=False,color='blue')\n",
    "\n",
    "plt.title('Difference in Length ')\n",
    "plt.xlabel('Difference')\n",
    "plt.ylabel('# of Sentences')\n",
    "plt.show()\n",
    "\n",
    "print(\"\\nStats for length difference between Bert Tokens and sentence length\")\n",
    "print(f\"Minimum difference in num of tokens and num of words: {min_words_tokens_diff}\") \n",
    "print(f\"Maximum difference in num of tokens and num of words: {max_words_tokens_diff}\") \n",
    "print(f\"Median difference in num of tokens and num of words: {median_words_tokens_diff}\")"
   ]
  },
  {
   "cell_type": "markdown",
   "id": "392b2041-4ed1-420a-ac96-b09b199afed8",
   "metadata": {},
   "source": [
    "### 14. Setting meaningfull Max Len "
   ]
  },
  {
   "cell_type": "markdown",
   "id": "0eb41d79-d0ce-4d84-982f-5bb351764184",
   "metadata": {},
   "source": [
    "#### 14.1. Compute the number of sentences where tokenized length is greater than a certain threshold"
   ]
  },
  {
   "cell_type": "markdown",
   "id": "7f1b79b2-4eb7-4896-aab6-a64161dc6a95",
   "metadata": {},
   "source": [
    "##### 14.1. a) threshold = 78"
   ]
  },
  {
   "cell_type": "code",
   "execution_count": 208,
   "id": "79118b9e-5eef-45f6-80c9-dbf643661d98",
   "metadata": {},
   "outputs": [
    {
     "data": {
      "text/html": [
       "<div>\n",
       "<style scoped>\n",
       "    .dataframe tbody tr th:only-of-type {\n",
       "        vertical-align: middle;\n",
       "    }\n",
       "\n",
       "    .dataframe tbody tr th {\n",
       "        vertical-align: top;\n",
       "    }\n",
       "\n",
       "    .dataframe thead th {\n",
       "        text-align: right;\n",
       "    }\n",
       "</style>\n",
       "<table border=\"1\" class=\"dataframe\">\n",
       "  <thead>\n",
       "    <tr style=\"text-align: right;\">\n",
       "      <th></th>\n",
       "      <th>sentence</th>\n",
       "      <th>labels</th>\n",
       "      <th>num_words</th>\n",
       "      <th>num_labels</th>\n",
       "      <th>bert_tokens</th>\n",
       "      <th>num_tokens</th>\n",
       "      <th>words_tokens_diff</th>\n",
       "      <th>words_labels_diff</th>\n",
       "    </tr>\n",
       "  </thead>\n",
       "  <tbody>\n",
       "    <tr>\n",
       "      <th>22391</th>\n",
       "      <td>Fisheries in 2006 - 7 landed 1,26,976 metric t...</td>\n",
       "      <td>O,O,B-tim,I-tim,I-tim,O,O,O,O,O,O,O,O,O,O,O,O,...</td>\n",
       "      <td>104</td>\n",
       "      <td>104</td>\n",
       "      <td>fisheries in 2006 - 7 landed 1 , 26 , 97 ##6 m...</td>\n",
       "      <td>152</td>\n",
       "      <td>48</td>\n",
       "      <td>0</td>\n",
       "    </tr>\n",
       "    <tr>\n",
       "      <th>26061</th>\n",
       "      <td>Ratners Group PLC , a fast-growing , acquisiti...</td>\n",
       "      <td>B-org,I-org,I-org,O,O,O,O,O,O,O,O,O,O,O,O,O,O,...</td>\n",
       "      <td>58</td>\n",
       "      <td>58</td>\n",
       "      <td>rat ##ners group plc , a fast - growing , acqu...</td>\n",
       "      <td>79</td>\n",
       "      <td>21</td>\n",
       "      <td>0</td>\n",
       "    </tr>\n",
       "    <tr>\n",
       "      <th>33311</th>\n",
       "      <td>On his departure the Farmer grievously lamente...</td>\n",
       "      <td>O,O,O,O,O,O,O,O,O,O,O,O,O,O,O,O,O,O,O,O,O,O,O,...</td>\n",
       "      <td>81</td>\n",
       "      <td>81</td>\n",
       "      <td>on his departure the farmer gr ##ie ##vo ##usl...</td>\n",
       "      <td>88</td>\n",
       "      <td>7</td>\n",
       "      <td>0</td>\n",
       "    </tr>\n",
       "    <tr>\n",
       "      <th>39903</th>\n",
       "      <td>According to the U.S. Department of Commerce ,...</td>\n",
       "      <td>O,O,O,B-org,I-org,I-org,I-org,O,B-geo,O,O,O,B-...</td>\n",
       "      <td>73</td>\n",
       "      <td>73</td>\n",
       "      <td>according to the u . s . department of commerc...</td>\n",
       "      <td>95</td>\n",
       "      <td>22</td>\n",
       "      <td>0</td>\n",
       "    </tr>\n",
       "  </tbody>\n",
       "</table>\n",
       "</div>"
      ],
      "text/plain": [
       "                                                sentence  \\\n",
       "22391  Fisheries in 2006 - 7 landed 1,26,976 metric t...   \n",
       "26061  Ratners Group PLC , a fast-growing , acquisiti...   \n",
       "33311  On his departure the Farmer grievously lamente...   \n",
       "39903  According to the U.S. Department of Commerce ,...   \n",
       "\n",
       "                                                  labels  num_words  \\\n",
       "22391  O,O,B-tim,I-tim,I-tim,O,O,O,O,O,O,O,O,O,O,O,O,...        104   \n",
       "26061  B-org,I-org,I-org,O,O,O,O,O,O,O,O,O,O,O,O,O,O,...         58   \n",
       "33311  O,O,O,O,O,O,O,O,O,O,O,O,O,O,O,O,O,O,O,O,O,O,O,...         81   \n",
       "39903  O,O,O,B-org,I-org,I-org,I-org,O,B-geo,O,O,O,B-...         73   \n",
       "\n",
       "       num_labels                                        bert_tokens  \\\n",
       "22391         104  fisheries in 2006 - 7 landed 1 , 26 , 97 ##6 m...   \n",
       "26061          58  rat ##ners group plc , a fast - growing , acqu...   \n",
       "33311          81  on his departure the farmer gr ##ie ##vo ##usl...   \n",
       "39903          73  according to the u . s . department of commerc...   \n",
       "\n",
       "       num_tokens  words_tokens_diff  words_labels_diff  \n",
       "22391         152                 48                  0  \n",
       "26061          79                 21                  0  \n",
       "33311          88                  7                  0  \n",
       "39903          95                 22                  0  "
      ]
     },
     "execution_count": 208,
     "metadata": {},
     "output_type": "execute_result"
    }
   ],
   "source": [
    "len_thresh = 78\n",
    "data[data['num_tokens']> len_thresh]"
   ]
  },
  {
   "cell_type": "markdown",
   "id": "36ca30ab-b886-4375-ad93-3b3563fe67d3",
   "metadata": {},
   "source": [
    "##### 14.1. b) threshold = 80"
   ]
  },
  {
   "cell_type": "code",
   "execution_count": 209,
   "id": "8cbcefb0-e6cb-4916-9d73-99f2ce6521ba",
   "metadata": {},
   "outputs": [
    {
     "data": {
      "text/html": [
       "<div>\n",
       "<style scoped>\n",
       "    .dataframe tbody tr th:only-of-type {\n",
       "        vertical-align: middle;\n",
       "    }\n",
       "\n",
       "    .dataframe tbody tr th {\n",
       "        vertical-align: top;\n",
       "    }\n",
       "\n",
       "    .dataframe thead th {\n",
       "        text-align: right;\n",
       "    }\n",
       "</style>\n",
       "<table border=\"1\" class=\"dataframe\">\n",
       "  <thead>\n",
       "    <tr style=\"text-align: right;\">\n",
       "      <th></th>\n",
       "      <th>sentence</th>\n",
       "      <th>labels</th>\n",
       "      <th>num_words</th>\n",
       "      <th>num_labels</th>\n",
       "      <th>bert_tokens</th>\n",
       "      <th>num_tokens</th>\n",
       "      <th>words_tokens_diff</th>\n",
       "      <th>words_labels_diff</th>\n",
       "    </tr>\n",
       "  </thead>\n",
       "  <tbody>\n",
       "    <tr>\n",
       "      <th>22391</th>\n",
       "      <td>Fisheries in 2006 - 7 landed 1,26,976 metric t...</td>\n",
       "      <td>O,O,B-tim,I-tim,I-tim,O,O,O,O,O,O,O,O,O,O,O,O,...</td>\n",
       "      <td>104</td>\n",
       "      <td>104</td>\n",
       "      <td>fisheries in 2006 - 7 landed 1 , 26 , 97 ##6 m...</td>\n",
       "      <td>152</td>\n",
       "      <td>48</td>\n",
       "      <td>0</td>\n",
       "    </tr>\n",
       "    <tr>\n",
       "      <th>33311</th>\n",
       "      <td>On his departure the Farmer grievously lamente...</td>\n",
       "      <td>O,O,O,O,O,O,O,O,O,O,O,O,O,O,O,O,O,O,O,O,O,O,O,...</td>\n",
       "      <td>81</td>\n",
       "      <td>81</td>\n",
       "      <td>on his departure the farmer gr ##ie ##vo ##usl...</td>\n",
       "      <td>88</td>\n",
       "      <td>7</td>\n",
       "      <td>0</td>\n",
       "    </tr>\n",
       "    <tr>\n",
       "      <th>39903</th>\n",
       "      <td>According to the U.S. Department of Commerce ,...</td>\n",
       "      <td>O,O,O,B-org,I-org,I-org,I-org,O,B-geo,O,O,O,B-...</td>\n",
       "      <td>73</td>\n",
       "      <td>73</td>\n",
       "      <td>according to the u . s . department of commerc...</td>\n",
       "      <td>95</td>\n",
       "      <td>22</td>\n",
       "      <td>0</td>\n",
       "    </tr>\n",
       "  </tbody>\n",
       "</table>\n",
       "</div>"
      ],
      "text/plain": [
       "                                                sentence  \\\n",
       "22391  Fisheries in 2006 - 7 landed 1,26,976 metric t...   \n",
       "33311  On his departure the Farmer grievously lamente...   \n",
       "39903  According to the U.S. Department of Commerce ,...   \n",
       "\n",
       "                                                  labels  num_words  \\\n",
       "22391  O,O,B-tim,I-tim,I-tim,O,O,O,O,O,O,O,O,O,O,O,O,...        104   \n",
       "33311  O,O,O,O,O,O,O,O,O,O,O,O,O,O,O,O,O,O,O,O,O,O,O,...         81   \n",
       "39903  O,O,O,B-org,I-org,I-org,I-org,O,B-geo,O,O,O,B-...         73   \n",
       "\n",
       "       num_labels                                        bert_tokens  \\\n",
       "22391         104  fisheries in 2006 - 7 landed 1 , 26 , 97 ##6 m...   \n",
       "33311          81  on his departure the farmer gr ##ie ##vo ##usl...   \n",
       "39903          73  according to the u . s . department of commerc...   \n",
       "\n",
       "       num_tokens  words_tokens_diff  words_labels_diff  \n",
       "22391         152                 48                  0  \n",
       "33311          88                  7                  0  \n",
       "39903          95                 22                  0  "
      ]
     },
     "execution_count": 209,
     "metadata": {},
     "output_type": "execute_result"
    }
   ],
   "source": [
    "len_thresh = 80\n",
    "data[data['num_tokens']> len_thresh]"
   ]
  },
  {
   "cell_type": "markdown",
   "id": "7b46c2b2-c7fc-4b01-82ba-522fffd98120",
   "metadata": {},
   "source": [
    "##### 14.2. c) threshold = 128"
   ]
  },
  {
   "cell_type": "code",
   "execution_count": 210,
   "id": "a45fac15-56f9-48da-bd49-7bb5f443af40",
   "metadata": {},
   "outputs": [
    {
     "data": {
      "text/html": [
       "<div>\n",
       "<style scoped>\n",
       "    .dataframe tbody tr th:only-of-type {\n",
       "        vertical-align: middle;\n",
       "    }\n",
       "\n",
       "    .dataframe tbody tr th {\n",
       "        vertical-align: top;\n",
       "    }\n",
       "\n",
       "    .dataframe thead th {\n",
       "        text-align: right;\n",
       "    }\n",
       "</style>\n",
       "<table border=\"1\" class=\"dataframe\">\n",
       "  <thead>\n",
       "    <tr style=\"text-align: right;\">\n",
       "      <th></th>\n",
       "      <th>sentence</th>\n",
       "      <th>labels</th>\n",
       "      <th>num_words</th>\n",
       "      <th>num_labels</th>\n",
       "      <th>bert_tokens</th>\n",
       "      <th>num_tokens</th>\n",
       "      <th>words_tokens_diff</th>\n",
       "      <th>words_labels_diff</th>\n",
       "    </tr>\n",
       "  </thead>\n",
       "  <tbody>\n",
       "    <tr>\n",
       "      <th>22391</th>\n",
       "      <td>Fisheries in 2006 - 7 landed 1,26,976 metric t...</td>\n",
       "      <td>O,O,B-tim,I-tim,I-tim,O,O,O,O,O,O,O,O,O,O,O,O,...</td>\n",
       "      <td>104</td>\n",
       "      <td>104</td>\n",
       "      <td>fisheries in 2006 - 7 landed 1 , 26 , 97 ##6 m...</td>\n",
       "      <td>152</td>\n",
       "      <td>48</td>\n",
       "      <td>0</td>\n",
       "    </tr>\n",
       "  </tbody>\n",
       "</table>\n",
       "</div>"
      ],
      "text/plain": [
       "                                                sentence  \\\n",
       "22391  Fisheries in 2006 - 7 landed 1,26,976 metric t...   \n",
       "\n",
       "                                                  labels  num_words  \\\n",
       "22391  O,O,B-tim,I-tim,I-tim,O,O,O,O,O,O,O,O,O,O,O,O,...        104   \n",
       "\n",
       "       num_labels                                        bert_tokens  \\\n",
       "22391         104  fisheries in 2006 - 7 landed 1 , 26 , 97 ##6 m...   \n",
       "\n",
       "       num_tokens  words_tokens_diff  words_labels_diff  \n",
       "22391         152                 48                  0  "
      ]
     },
     "execution_count": 210,
     "metadata": {},
     "output_type": "execute_result"
    }
   ],
   "source": [
    "len_thresh = 128\n",
    "data[data['num_tokens']> len_thresh]"
   ]
  },
  {
   "cell_type": "markdown",
   "id": "2a07b952-6963-42b6-ad5d-c90747c7be31",
   "metadata": {},
   "source": [
    "##### Conclusion:\n",
    "1. Only 1 sentences have tokenized length greater than 128.\n",
    "2. The one with the largest difference in length is 48 is also present\n",
    "\n",
    "So we can safely keep the max seq len or max len to be 128"
   ]
  },
  {
   "cell_type": "markdown",
   "id": "46a69617-0889-431c-beda-db3426c55383",
   "metadata": {},
   "source": [
    "#### 14.2 Dropping the unwanted columns and resetting the index "
   ]
  },
  {
   "cell_type": "code",
   "execution_count": 211,
   "id": "ddacb7f1-2b1e-4a2d-a0f6-f67f7fbdd92a",
   "metadata": {},
   "outputs": [
    {
     "data": {
      "text/html": [
       "<div>\n",
       "<style scoped>\n",
       "    .dataframe tbody tr th:only-of-type {\n",
       "        vertical-align: middle;\n",
       "    }\n",
       "\n",
       "    .dataframe tbody tr th {\n",
       "        vertical-align: top;\n",
       "    }\n",
       "\n",
       "    .dataframe thead th {\n",
       "        text-align: right;\n",
       "    }\n",
       "</style>\n",
       "<table border=\"1\" class=\"dataframe\">\n",
       "  <thead>\n",
       "    <tr style=\"text-align: right;\">\n",
       "      <th></th>\n",
       "      <th>sentence</th>\n",
       "      <th>labels</th>\n",
       "    </tr>\n",
       "  </thead>\n",
       "  <tbody>\n",
       "    <tr>\n",
       "      <th>0</th>\n",
       "      <td>Thousands of demonstrators have marched throug...</td>\n",
       "      <td>O,O,O,O,O,O,B-geo,O,O,O,O,O,B-geo,O,O,O,O,O,B-...</td>\n",
       "    </tr>\n",
       "    <tr>\n",
       "      <th>1</th>\n",
       "      <td>Families of soldiers killed in the conflict jo...</td>\n",
       "      <td>O,O,O,O,O,O,O,O,O,O,O,O,O,O,O,O,O,O,B-per,O,O,...</td>\n",
       "    </tr>\n",
       "    <tr>\n",
       "      <th>2</th>\n",
       "      <td>They marched from the Houses of Parliament to ...</td>\n",
       "      <td>O,O,O,O,O,O,O,O,O,O,O,B-geo,I-geo,O</td>\n",
       "    </tr>\n",
       "    <tr>\n",
       "      <th>3</th>\n",
       "      <td>The protest comes on the eve of the annual con...</td>\n",
       "      <td>O,O,O,O,O,O,O,O,O,O,O,B-geo,O,O,B-org,I-org,O,...</td>\n",
       "    </tr>\n",
       "    <tr>\n",
       "      <th>4</th>\n",
       "      <td>The party is divided over Britain 's participa...</td>\n",
       "      <td>O,O,O,O,O,B-gpe,O,O,O,O,B-geo,O,O,O,O,O,O,O,B-...</td>\n",
       "    </tr>\n",
       "  </tbody>\n",
       "</table>\n",
       "</div>"
      ],
      "text/plain": [
       "                                            sentence  \\\n",
       "0  Thousands of demonstrators have marched throug...   \n",
       "1  Families of soldiers killed in the conflict jo...   \n",
       "2  They marched from the Houses of Parliament to ...   \n",
       "3  The protest comes on the eve of the annual con...   \n",
       "4  The party is divided over Britain 's participa...   \n",
       "\n",
       "                                              labels  \n",
       "0  O,O,O,O,O,O,B-geo,O,O,O,O,O,B-geo,O,O,O,O,O,B-...  \n",
       "1  O,O,O,O,O,O,O,O,O,O,O,O,O,O,O,O,O,O,B-per,O,O,...  \n",
       "2                O,O,O,O,O,O,O,O,O,O,O,B-geo,I-geo,O  \n",
       "3  O,O,O,O,O,O,O,O,O,O,O,B-geo,O,O,B-org,I-org,O,...  \n",
       "4  O,O,O,O,O,B-gpe,O,O,O,O,B-geo,O,O,O,O,O,O,O,B-...  "
      ]
     },
     "metadata": {},
     "output_type": "display_data"
    },
    {
     "name": "stdout",
     "output_type": "stream",
     "text": [
      "\n",
      " Nnumber of sentences in clean dataframe: 40577\n"
     ]
    }
   ],
   "source": [
    "data = data[[\"sentence\", \"labels\"]].drop_duplicates().reset_index(drop=True)\n",
    "display(data.head())\n",
    "print(f\"\\n Nnumber of sentences in clean dataframe: {len(data)}\")"
   ]
  },
  {
   "cell_type": "markdown",
   "id": "5c2b080d-9ccc-4805-8c92-cc1180ab1c92",
   "metadata": {},
   "source": [
    "#### 14.3. Let's verify that a random sentence and its corresponding tags are correct:"
   ]
  },
  {
   "cell_type": "code",
   "execution_count": 212,
   "id": "7662f0a8-b7f5-4d0e-bfe3-05cc71a1a34e",
   "metadata": {},
   "outputs": [
    {
     "data": {
      "text/plain": [
       "'Officials will not say how many troops have arrived in the Sunni Arab and Kurdish city , where bombings last week killed at least 34 people and wounded more than 200 .'"
      ]
     },
     "execution_count": 212,
     "metadata": {},
     "output_type": "execute_result"
    }
   ],
   "source": [
    "data.iloc[21].sentence"
   ]
  },
  {
   "cell_type": "code",
   "execution_count": 213,
   "id": "2dbec459-b4c3-4213-ab14-1e65ad00258d",
   "metadata": {},
   "outputs": [
    {
     "data": {
      "text/plain": [
       "'O,O,O,O,O,O,O,O,O,O,O,B-geo,I-geo,O,B-geo,O,O,O,O,O,O,O,O,O,O,O,O,O,O,O,O,O'"
      ]
     },
     "execution_count": 213,
     "metadata": {},
     "output_type": "execute_result"
    }
   ],
   "source": [
    "data.iloc[21].labels"
   ]
  },
  {
   "cell_type": "markdown",
   "id": "b99d143c-1f6b-4bd5-9130-f9d07f016533",
   "metadata": {},
   "source": [
    "##### peek into data"
   ]
  },
  {
   "cell_type": "code",
   "execution_count": 214,
   "id": "9b43136b-87f7-42d3-8838-73b28411287a",
   "metadata": {},
   "outputs": [
    {
     "data": {
      "text/html": [
       "<div>\n",
       "<style scoped>\n",
       "    .dataframe tbody tr th:only-of-type {\n",
       "        vertical-align: middle;\n",
       "    }\n",
       "\n",
       "    .dataframe tbody tr th {\n",
       "        vertical-align: top;\n",
       "    }\n",
       "\n",
       "    .dataframe thead th {\n",
       "        text-align: right;\n",
       "    }\n",
       "</style>\n",
       "<table border=\"1\" class=\"dataframe\">\n",
       "  <thead>\n",
       "    <tr style=\"text-align: right;\">\n",
       "      <th></th>\n",
       "      <th>sentence</th>\n",
       "      <th>labels</th>\n",
       "    </tr>\n",
       "  </thead>\n",
       "  <tbody>\n",
       "    <tr>\n",
       "      <th>0</th>\n",
       "      <td>Thousands of demonstrators have marched throug...</td>\n",
       "      <td>O,O,O,O,O,O,B-geo,O,O,O,O,O,B-geo,O,O,O,O,O,B-...</td>\n",
       "    </tr>\n",
       "    <tr>\n",
       "      <th>1</th>\n",
       "      <td>Families of soldiers killed in the conflict jo...</td>\n",
       "      <td>O,O,O,O,O,O,O,O,O,O,O,O,O,O,O,O,O,O,B-per,O,O,...</td>\n",
       "    </tr>\n",
       "    <tr>\n",
       "      <th>2</th>\n",
       "      <td>They marched from the Houses of Parliament to ...</td>\n",
       "      <td>O,O,O,O,O,O,O,O,O,O,O,B-geo,I-geo,O</td>\n",
       "    </tr>\n",
       "    <tr>\n",
       "      <th>3</th>\n",
       "      <td>The protest comes on the eve of the annual con...</td>\n",
       "      <td>O,O,O,O,O,O,O,O,O,O,O,B-geo,O,O,B-org,I-org,O,...</td>\n",
       "    </tr>\n",
       "    <tr>\n",
       "      <th>4</th>\n",
       "      <td>The party is divided over Britain 's participa...</td>\n",
       "      <td>O,O,O,O,O,B-gpe,O,O,O,O,B-geo,O,O,O,O,O,O,O,B-...</td>\n",
       "    </tr>\n",
       "  </tbody>\n",
       "</table>\n",
       "</div>"
      ],
      "text/plain": [
       "                                            sentence  \\\n",
       "0  Thousands of demonstrators have marched throug...   \n",
       "1  Families of soldiers killed in the conflict jo...   \n",
       "2  They marched from the Houses of Parliament to ...   \n",
       "3  The protest comes on the eve of the annual con...   \n",
       "4  The party is divided over Britain 's participa...   \n",
       "\n",
       "                                              labels  \n",
       "0  O,O,O,O,O,O,B-geo,O,O,O,O,O,B-geo,O,O,O,O,O,B-...  \n",
       "1  O,O,O,O,O,O,O,O,O,O,O,O,O,O,O,O,O,O,B-per,O,O,...  \n",
       "2                O,O,O,O,O,O,O,O,O,O,O,B-geo,I-geo,O  \n",
       "3  O,O,O,O,O,O,O,O,O,O,O,B-geo,O,O,B-org,I-org,O,...  \n",
       "4  O,O,O,O,O,B-gpe,O,O,O,O,B-geo,O,O,O,O,O,O,O,B-...  "
      ]
     },
     "execution_count": 214,
     "metadata": {},
     "output_type": "execute_result"
    }
   ],
   "source": [
    "data.head()"
   ]
  },
  {
   "cell_type": "markdown",
   "id": "6079af09-8719-430d-b2e9-203fac038e9d",
   "metadata": {},
   "source": [
    "## E. Explore distributions of Labels"
   ]
  },
  {
   "cell_type": "markdown",
   "id": "5b250e27-88b0-4fd2-ab56-0c2f43c79e6f",
   "metadata": {},
   "source": [
    "### 1. Create a new dataframe to explore distributions of labels"
   ]
  },
  {
   "cell_type": "code",
   "execution_count": 215,
   "id": "dd5b5e35-fd00-4129-ae1b-2ee94fc595d5",
   "metadata": {},
   "outputs": [],
   "source": [
    "# create a new dataframe named as balance dataframe (bal_df) containing sentence id (s_id) and labels\n",
    "bal_df = pd.DataFrame(columns=['s_id', 'labels'])"
   ]
  },
  {
   "cell_type": "markdown",
   "id": "c012f283-a3a8-4dc7-bb7e-a8bb18ec1be3",
   "metadata": {},
   "source": [
    "### 2. Set the 'label' column to contain list of labels and 's_id' column as index"
   ]
  },
  {
   "cell_type": "code",
   "execution_count": 216,
   "id": "f974cfc2-7ea3-4f77-8814-61389a6e6ed1",
   "metadata": {},
   "outputs": [
    {
     "data": {
      "text/html": [
       "<div>\n",
       "<style scoped>\n",
       "    .dataframe tbody tr th:only-of-type {\n",
       "        vertical-align: middle;\n",
       "    }\n",
       "\n",
       "    .dataframe tbody tr th {\n",
       "        vertical-align: top;\n",
       "    }\n",
       "\n",
       "    .dataframe thead th {\n",
       "        text-align: right;\n",
       "    }\n",
       "</style>\n",
       "<table border=\"1\" class=\"dataframe\">\n",
       "  <thead>\n",
       "    <tr style=\"text-align: right;\">\n",
       "      <th></th>\n",
       "      <th>s_id</th>\n",
       "      <th>labels</th>\n",
       "    </tr>\n",
       "  </thead>\n",
       "  <tbody>\n",
       "    <tr>\n",
       "      <th>0</th>\n",
       "      <td>0</td>\n",
       "      <td>[O, O, O, O, O, O, B-geo, O, O, O, O, O, B-geo...</td>\n",
       "    </tr>\n",
       "    <tr>\n",
       "      <th>1</th>\n",
       "      <td>1</td>\n",
       "      <td>[O, O, O, O, O, O, O, O, O, O, O, O, O, O, O, ...</td>\n",
       "    </tr>\n",
       "    <tr>\n",
       "      <th>2</th>\n",
       "      <td>2</td>\n",
       "      <td>[O, O, O, O, O, O, O, O, O, O, O, B-geo, I-geo...</td>\n",
       "    </tr>\n",
       "    <tr>\n",
       "      <th>3</th>\n",
       "      <td>3</td>\n",
       "      <td>[O, O, O, O, O, O, O, O, O, O, O, B-geo, O, O,...</td>\n",
       "    </tr>\n",
       "    <tr>\n",
       "      <th>4</th>\n",
       "      <td>4</td>\n",
       "      <td>[O, O, O, O, O, B-gpe, O, O, O, O, B-geo, O, O...</td>\n",
       "    </tr>\n",
       "  </tbody>\n",
       "</table>\n",
       "</div>"
      ],
      "text/plain": [
       "   s_id                                             labels\n",
       "0     0  [O, O, O, O, O, O, B-geo, O, O, O, O, O, B-geo...\n",
       "1     1  [O, O, O, O, O, O, O, O, O, O, O, O, O, O, O, ...\n",
       "2     2  [O, O, O, O, O, O, O, O, O, O, O, B-geo, I-geo...\n",
       "3     3  [O, O, O, O, O, O, O, O, O, O, O, B-geo, O, O,...\n",
       "4     4  [O, O, O, O, O, B-gpe, O, O, O, O, B-geo, O, O..."
      ]
     },
     "metadata": {},
     "output_type": "display_data"
    }
   ],
   "source": [
    "# split the labels column of data into list of labels\n",
    "bal_df['labels'] = data['labels'].apply(lambda x: x.split(','))\n",
    "# set 's_id' column to be the index column of data \n",
    "bal_df['s_id'] = data.index\n",
    "\n",
    "# display the bal df\n",
    "display(bal_df.head())"
   ]
  },
  {
   "cell_type": "markdown",
   "id": "e7a371db-7f6b-40b4-b2ac-2c0d89a4deb8",
   "metadata": {},
   "source": [
    "### 3. Explode the labels column to have one only one label per row"
   ]
  },
  {
   "cell_type": "code",
   "execution_count": 217,
   "id": "5035f5be-3eb1-4c5e-be80-a2376c6de9e9",
   "metadata": {},
   "outputs": [
    {
     "data": {
      "text/html": [
       "<div>\n",
       "<style scoped>\n",
       "    .dataframe tbody tr th:only-of-type {\n",
       "        vertical-align: middle;\n",
       "    }\n",
       "\n",
       "    .dataframe tbody tr th {\n",
       "        vertical-align: top;\n",
       "    }\n",
       "\n",
       "    .dataframe thead th {\n",
       "        text-align: right;\n",
       "    }\n",
       "</style>\n",
       "<table border=\"1\" class=\"dataframe\">\n",
       "  <thead>\n",
       "    <tr style=\"text-align: right;\">\n",
       "      <th></th>\n",
       "      <th>s_id</th>\n",
       "      <th>labels</th>\n",
       "    </tr>\n",
       "  </thead>\n",
       "  <tbody>\n",
       "    <tr>\n",
       "      <th>0</th>\n",
       "      <td>0</td>\n",
       "      <td>O</td>\n",
       "    </tr>\n",
       "    <tr>\n",
       "      <th>0</th>\n",
       "      <td>0</td>\n",
       "      <td>O</td>\n",
       "    </tr>\n",
       "    <tr>\n",
       "      <th>0</th>\n",
       "      <td>0</td>\n",
       "      <td>O</td>\n",
       "    </tr>\n",
       "    <tr>\n",
       "      <th>0</th>\n",
       "      <td>0</td>\n",
       "      <td>O</td>\n",
       "    </tr>\n",
       "    <tr>\n",
       "      <th>0</th>\n",
       "      <td>0</td>\n",
       "      <td>O</td>\n",
       "    </tr>\n",
       "  </tbody>\n",
       "</table>\n",
       "</div>"
      ],
      "text/plain": [
       "   s_id labels\n",
       "0     0      O\n",
       "0     0      O\n",
       "0     0      O\n",
       "0     0      O\n",
       "0     0      O"
      ]
     },
     "metadata": {},
     "output_type": "display_data"
    }
   ],
   "source": [
    "# explode the labels column\n",
    "bal_df = bal_df.explode('labels')\n",
    "\n",
    "# display the bal df\n",
    "display(bal_df.head())"
   ]
  },
  {
   "cell_type": "markdown",
   "id": "28fc0fb9-5b62-41a7-9cf7-1b2075c3dfc0",
   "metadata": {},
   "source": [
    "### 4. Create the dummies for labels column"
   ]
  },
  {
   "cell_type": "code",
   "execution_count": 218,
   "id": "d4131f2a-1ad2-4f57-b5bc-ee0654251f58",
   "metadata": {},
   "outputs": [
    {
     "data": {
      "text/html": [
       "<div>\n",
       "<style scoped>\n",
       "    .dataframe tbody tr th:only-of-type {\n",
       "        vertical-align: middle;\n",
       "    }\n",
       "\n",
       "    .dataframe tbody tr th {\n",
       "        vertical-align: top;\n",
       "    }\n",
       "\n",
       "    .dataframe thead th {\n",
       "        text-align: right;\n",
       "    }\n",
       "</style>\n",
       "<table border=\"1\" class=\"dataframe\">\n",
       "  <thead>\n",
       "    <tr style=\"text-align: right;\">\n",
       "      <th></th>\n",
       "      <th>s_id</th>\n",
       "      <th>labels_B-geo</th>\n",
       "      <th>labels_B-gpe</th>\n",
       "      <th>labels_B-org</th>\n",
       "      <th>labels_B-per</th>\n",
       "      <th>labels_B-tim</th>\n",
       "      <th>labels_I-geo</th>\n",
       "      <th>labels_I-org</th>\n",
       "      <th>labels_I-per</th>\n",
       "      <th>labels_I-tim</th>\n",
       "      <th>labels_O</th>\n",
       "    </tr>\n",
       "  </thead>\n",
       "  <tbody>\n",
       "    <tr>\n",
       "      <th>0</th>\n",
       "      <td>0</td>\n",
       "      <td>False</td>\n",
       "      <td>False</td>\n",
       "      <td>False</td>\n",
       "      <td>False</td>\n",
       "      <td>False</td>\n",
       "      <td>False</td>\n",
       "      <td>False</td>\n",
       "      <td>False</td>\n",
       "      <td>False</td>\n",
       "      <td>True</td>\n",
       "    </tr>\n",
       "    <tr>\n",
       "      <th>0</th>\n",
       "      <td>0</td>\n",
       "      <td>False</td>\n",
       "      <td>False</td>\n",
       "      <td>False</td>\n",
       "      <td>False</td>\n",
       "      <td>False</td>\n",
       "      <td>False</td>\n",
       "      <td>False</td>\n",
       "      <td>False</td>\n",
       "      <td>False</td>\n",
       "      <td>True</td>\n",
       "    </tr>\n",
       "    <tr>\n",
       "      <th>0</th>\n",
       "      <td>0</td>\n",
       "      <td>False</td>\n",
       "      <td>False</td>\n",
       "      <td>False</td>\n",
       "      <td>False</td>\n",
       "      <td>False</td>\n",
       "      <td>False</td>\n",
       "      <td>False</td>\n",
       "      <td>False</td>\n",
       "      <td>False</td>\n",
       "      <td>True</td>\n",
       "    </tr>\n",
       "    <tr>\n",
       "      <th>0</th>\n",
       "      <td>0</td>\n",
       "      <td>False</td>\n",
       "      <td>False</td>\n",
       "      <td>False</td>\n",
       "      <td>False</td>\n",
       "      <td>False</td>\n",
       "      <td>False</td>\n",
       "      <td>False</td>\n",
       "      <td>False</td>\n",
       "      <td>False</td>\n",
       "      <td>True</td>\n",
       "    </tr>\n",
       "    <tr>\n",
       "      <th>0</th>\n",
       "      <td>0</td>\n",
       "      <td>False</td>\n",
       "      <td>False</td>\n",
       "      <td>False</td>\n",
       "      <td>False</td>\n",
       "      <td>False</td>\n",
       "      <td>False</td>\n",
       "      <td>False</td>\n",
       "      <td>False</td>\n",
       "      <td>False</td>\n",
       "      <td>True</td>\n",
       "    </tr>\n",
       "  </tbody>\n",
       "</table>\n",
       "</div>"
      ],
      "text/plain": [
       "   s_id  labels_B-geo  labels_B-gpe  labels_B-org  labels_B-per  labels_B-tim  \\\n",
       "0     0         False         False         False         False         False   \n",
       "0     0         False         False         False         False         False   \n",
       "0     0         False         False         False         False         False   \n",
       "0     0         False         False         False         False         False   \n",
       "0     0         False         False         False         False         False   \n",
       "\n",
       "   labels_I-geo  labels_I-org  labels_I-per  labels_I-tim  labels_O  \n",
       "0         False         False         False         False      True  \n",
       "0         False         False         False         False      True  \n",
       "0         False         False         False         False      True  \n",
       "0         False         False         False         False      True  \n",
       "0         False         False         False         False      True  "
      ]
     },
     "metadata": {},
     "output_type": "display_data"
    }
   ],
   "source": [
    "bal_df = pd.get_dummies(bal_df)\n",
    "\n",
    "# display the bal df\n",
    "display(bal_df.head())"
   ]
  },
  {
   "cell_type": "markdown",
   "id": "446e052c-cc3a-4524-8d13-635e579fb018",
   "metadata": {},
   "source": [
    "### 5. Count the frequency of each label for every sentence"
   ]
  },
  {
   "cell_type": "code",
   "execution_count": 219,
   "id": "64fe77fd-38b7-41f5-9d9c-2d07e2c6e1c9",
   "metadata": {},
   "outputs": [
    {
     "data": {
      "text/html": [
       "<div>\n",
       "<style scoped>\n",
       "    .dataframe tbody tr th:only-of-type {\n",
       "        vertical-align: middle;\n",
       "    }\n",
       "\n",
       "    .dataframe tbody tr th {\n",
       "        vertical-align: top;\n",
       "    }\n",
       "\n",
       "    .dataframe thead th {\n",
       "        text-align: right;\n",
       "    }\n",
       "</style>\n",
       "<table border=\"1\" class=\"dataframe\">\n",
       "  <thead>\n",
       "    <tr style=\"text-align: right;\">\n",
       "      <th></th>\n",
       "      <th>labels_B-geo</th>\n",
       "      <th>labels_B-gpe</th>\n",
       "      <th>labels_B-org</th>\n",
       "      <th>labels_B-per</th>\n",
       "      <th>labels_B-tim</th>\n",
       "      <th>labels_I-geo</th>\n",
       "      <th>labels_I-org</th>\n",
       "      <th>labels_I-per</th>\n",
       "      <th>labels_I-tim</th>\n",
       "      <th>labels_O</th>\n",
       "    </tr>\n",
       "    <tr>\n",
       "      <th>s_id</th>\n",
       "      <th></th>\n",
       "      <th></th>\n",
       "      <th></th>\n",
       "      <th></th>\n",
       "      <th></th>\n",
       "      <th></th>\n",
       "      <th></th>\n",
       "      <th></th>\n",
       "      <th></th>\n",
       "      <th></th>\n",
       "    </tr>\n",
       "  </thead>\n",
       "  <tbody>\n",
       "    <tr>\n",
       "      <th>0</th>\n",
       "      <td>2</td>\n",
       "      <td>1</td>\n",
       "      <td>0</td>\n",
       "      <td>0</td>\n",
       "      <td>0</td>\n",
       "      <td>0</td>\n",
       "      <td>0</td>\n",
       "      <td>0</td>\n",
       "      <td>0</td>\n",
       "      <td>21</td>\n",
       "    </tr>\n",
       "    <tr>\n",
       "      <th>1</th>\n",
       "      <td>0</td>\n",
       "      <td>0</td>\n",
       "      <td>0</td>\n",
       "      <td>1</td>\n",
       "      <td>0</td>\n",
       "      <td>0</td>\n",
       "      <td>0</td>\n",
       "      <td>0</td>\n",
       "      <td>0</td>\n",
       "      <td>29</td>\n",
       "    </tr>\n",
       "    <tr>\n",
       "      <th>2</th>\n",
       "      <td>1</td>\n",
       "      <td>0</td>\n",
       "      <td>0</td>\n",
       "      <td>0</td>\n",
       "      <td>0</td>\n",
       "      <td>1</td>\n",
       "      <td>0</td>\n",
       "      <td>0</td>\n",
       "      <td>0</td>\n",
       "      <td>12</td>\n",
       "    </tr>\n",
       "    <tr>\n",
       "      <th>3</th>\n",
       "      <td>2</td>\n",
       "      <td>1</td>\n",
       "      <td>1</td>\n",
       "      <td>0</td>\n",
       "      <td>0</td>\n",
       "      <td>0</td>\n",
       "      <td>1</td>\n",
       "      <td>0</td>\n",
       "      <td>0</td>\n",
       "      <td>20</td>\n",
       "    </tr>\n",
       "    <tr>\n",
       "      <th>4</th>\n",
       "      <td>1</td>\n",
       "      <td>2</td>\n",
       "      <td>0</td>\n",
       "      <td>0</td>\n",
       "      <td>0</td>\n",
       "      <td>0</td>\n",
       "      <td>0</td>\n",
       "      <td>0</td>\n",
       "      <td>0</td>\n",
       "      <td>21</td>\n",
       "    </tr>\n",
       "  </tbody>\n",
       "</table>\n",
       "</div>"
      ],
      "text/plain": [
       "      labels_B-geo  labels_B-gpe  labels_B-org  labels_B-per  labels_B-tim  \\\n",
       "s_id                                                                         \n",
       "0                2             1             0             0             0   \n",
       "1                0             0             0             1             0   \n",
       "2                1             0             0             0             0   \n",
       "3                2             1             1             0             0   \n",
       "4                1             2             0             0             0   \n",
       "\n",
       "      labels_I-geo  labels_I-org  labels_I-per  labels_I-tim  labels_O  \n",
       "s_id                                                                    \n",
       "0                0             0             0             0        21  \n",
       "1                0             0             0             0        29  \n",
       "2                1             0             0             0        12  \n",
       "3                0             1             0             0        20  \n",
       "4                0             0             0             0        21  "
      ]
     },
     "metadata": {},
     "output_type": "display_data"
    }
   ],
   "source": [
    "# Group by 's_id' column and aggregagte using sum\n",
    "bal_df = bal_df.groupby(['s_id'], as_index=True).sum()\n",
    "\n",
    "# display the information\n",
    "display(bal_df.head())"
   ]
  },
  {
   "cell_type": "markdown",
   "id": "4d364e86-3766-48cd-a430-1394b48c04a4",
   "metadata": {},
   "source": [
    "### 6. Descriptive Statistics of each label"
   ]
  },
  {
   "cell_type": "code",
   "execution_count": 220,
   "id": "60dad6b2-ea44-42cd-b21f-044c7a1c5cad",
   "metadata": {},
   "outputs": [
    {
     "data": {
      "text/html": [
       "<div>\n",
       "<style scoped>\n",
       "    .dataframe tbody tr th:only-of-type {\n",
       "        vertical-align: middle;\n",
       "    }\n",
       "\n",
       "    .dataframe tbody tr th {\n",
       "        vertical-align: top;\n",
       "    }\n",
       "\n",
       "    .dataframe thead th {\n",
       "        text-align: right;\n",
       "    }\n",
       "</style>\n",
       "<table border=\"1\" class=\"dataframe\">\n",
       "  <thead>\n",
       "    <tr style=\"text-align: right;\">\n",
       "      <th></th>\n",
       "      <th>labels_B-geo</th>\n",
       "      <th>labels_B-gpe</th>\n",
       "      <th>labels_B-org</th>\n",
       "      <th>labels_B-per</th>\n",
       "      <th>labels_B-tim</th>\n",
       "      <th>labels_I-geo</th>\n",
       "      <th>labels_I-org</th>\n",
       "      <th>labels_I-per</th>\n",
       "      <th>labels_I-tim</th>\n",
       "      <th>labels_O</th>\n",
       "    </tr>\n",
       "  </thead>\n",
       "  <tbody>\n",
       "    <tr>\n",
       "      <th>count</th>\n",
       "      <td>40577.000000</td>\n",
       "      <td>40577.000000</td>\n",
       "      <td>40577.000000</td>\n",
       "      <td>40577.000000</td>\n",
       "      <td>40577.000000</td>\n",
       "      <td>40577.000000</td>\n",
       "      <td>40577.000000</td>\n",
       "      <td>40577.000000</td>\n",
       "      <td>40577.000000</td>\n",
       "      <td>40577.000000</td>\n",
       "    </tr>\n",
       "    <tr>\n",
       "      <th>mean</th>\n",
       "      <td>0.922912</td>\n",
       "      <td>0.389876</td>\n",
       "      <td>0.494196</td>\n",
       "      <td>0.416615</td>\n",
       "      <td>0.498977</td>\n",
       "      <td>0.182024</td>\n",
       "      <td>0.412327</td>\n",
       "      <td>0.422801</td>\n",
       "      <td>0.160214</td>\n",
       "      <td>18.900904</td>\n",
       "    </tr>\n",
       "    <tr>\n",
       "      <th>std</th>\n",
       "      <td>1.010552</td>\n",
       "      <td>0.650849</td>\n",
       "      <td>0.718085</td>\n",
       "      <td>0.669881</td>\n",
       "      <td>0.652211</td>\n",
       "      <td>0.494837</td>\n",
       "      <td>0.999832</td>\n",
       "      <td>0.864123</td>\n",
       "      <td>0.563877</td>\n",
       "      <td>6.883792</td>\n",
       "    </tr>\n",
       "    <tr>\n",
       "      <th>min</th>\n",
       "      <td>0.000000</td>\n",
       "      <td>0.000000</td>\n",
       "      <td>0.000000</td>\n",
       "      <td>0.000000</td>\n",
       "      <td>0.000000</td>\n",
       "      <td>0.000000</td>\n",
       "      <td>0.000000</td>\n",
       "      <td>0.000000</td>\n",
       "      <td>0.000000</td>\n",
       "      <td>0.000000</td>\n",
       "    </tr>\n",
       "    <tr>\n",
       "      <th>25%</th>\n",
       "      <td>0.000000</td>\n",
       "      <td>0.000000</td>\n",
       "      <td>0.000000</td>\n",
       "      <td>0.000000</td>\n",
       "      <td>0.000000</td>\n",
       "      <td>0.000000</td>\n",
       "      <td>0.000000</td>\n",
       "      <td>0.000000</td>\n",
       "      <td>0.000000</td>\n",
       "      <td>14.000000</td>\n",
       "    </tr>\n",
       "    <tr>\n",
       "      <th>50%</th>\n",
       "      <td>1.000000</td>\n",
       "      <td>0.000000</td>\n",
       "      <td>0.000000</td>\n",
       "      <td>0.000000</td>\n",
       "      <td>0.000000</td>\n",
       "      <td>0.000000</td>\n",
       "      <td>0.000000</td>\n",
       "      <td>0.000000</td>\n",
       "      <td>0.000000</td>\n",
       "      <td>18.000000</td>\n",
       "    </tr>\n",
       "    <tr>\n",
       "      <th>75%</th>\n",
       "      <td>1.000000</td>\n",
       "      <td>1.000000</td>\n",
       "      <td>1.000000</td>\n",
       "      <td>1.000000</td>\n",
       "      <td>1.000000</td>\n",
       "      <td>0.000000</td>\n",
       "      <td>0.000000</td>\n",
       "      <td>1.000000</td>\n",
       "      <td>0.000000</td>\n",
       "      <td>23.000000</td>\n",
       "    </tr>\n",
       "    <tr>\n",
       "      <th>max</th>\n",
       "      <td>10.000000</td>\n",
       "      <td>17.000000</td>\n",
       "      <td>8.000000</td>\n",
       "      <td>6.000000</td>\n",
       "      <td>7.000000</td>\n",
       "      <td>12.000000</td>\n",
       "      <td>18.000000</td>\n",
       "      <td>10.000000</td>\n",
       "      <td>12.000000</td>\n",
       "      <td>88.000000</td>\n",
       "    </tr>\n",
       "  </tbody>\n",
       "</table>\n",
       "</div>"
      ],
      "text/plain": [
       "       labels_B-geo  labels_B-gpe  labels_B-org  labels_B-per  labels_B-tim  \\\n",
       "count  40577.000000  40577.000000  40577.000000  40577.000000  40577.000000   \n",
       "mean       0.922912      0.389876      0.494196      0.416615      0.498977   \n",
       "std        1.010552      0.650849      0.718085      0.669881      0.652211   \n",
       "min        0.000000      0.000000      0.000000      0.000000      0.000000   \n",
       "25%        0.000000      0.000000      0.000000      0.000000      0.000000   \n",
       "50%        1.000000      0.000000      0.000000      0.000000      0.000000   \n",
       "75%        1.000000      1.000000      1.000000      1.000000      1.000000   \n",
       "max       10.000000     17.000000      8.000000      6.000000      7.000000   \n",
       "\n",
       "       labels_I-geo  labels_I-org  labels_I-per  labels_I-tim      labels_O  \n",
       "count  40577.000000  40577.000000  40577.000000  40577.000000  40577.000000  \n",
       "mean       0.182024      0.412327      0.422801      0.160214     18.900904  \n",
       "std        0.494837      0.999832      0.864123      0.563877      6.883792  \n",
       "min        0.000000      0.000000      0.000000      0.000000      0.000000  \n",
       "25%        0.000000      0.000000      0.000000      0.000000     14.000000  \n",
       "50%        0.000000      0.000000      0.000000      0.000000     18.000000  \n",
       "75%        0.000000      0.000000      1.000000      0.000000     23.000000  \n",
       "max       12.000000     18.000000     10.000000     12.000000     88.000000  "
      ]
     },
     "execution_count": 220,
     "metadata": {},
     "output_type": "execute_result"
    }
   ],
   "source": [
    "# Get the descriptive statisitcs of each label\n",
    "bal_df.describe()"
   ]
  },
  {
   "cell_type": "markdown",
   "id": "65f709c2-510e-4540-aaec-6f00eaa77b6d",
   "metadata": {},
   "source": [
    "### 7. Plot the kernel density plots for each label"
   ]
  },
  {
   "cell_type": "code",
   "execution_count": 221,
   "id": "888658d1-66c8-483c-ba75-cf5dd061a7f8",
   "metadata": {},
   "outputs": [
    {
     "data": {
      "image/png": "[encoded data removed]",
      "text/plain": [
       "<Figure size 1200x800 with 1 Axes>"
      ]
     },
     "metadata": {},
     "output_type": "display_data"
    }
   ],
   "source": [
    "# set the figure dimensions and labels, label size and title\n",
    "fig, ax = plt.subplots(figsize=(12, 8))\n",
    "ax.yaxis.set_tick_params(labelsize = 8)\n",
    "ax.xaxis.set_tick_params(labelsize = 8)\n",
    "ax.set(xlabel='Count', ylabel='Labels', title='Violin Plot')\n",
    "# build the plot\n",
    "g = sns.violinplot(data=bal_df.loc[:, bal_df.columns != 'labels_O'], linewidth=1, inner=\"quart\", orient='h')\n",
    "# show the plot\n",
    "plt.show()"
   ]
  },
  {
   "cell_type": "markdown",
   "id": "c836c9bc-a107-4405-86b6-3fb6c8268044",
   "metadata": {},
   "source": [
    "### 8. Frequency of each label"
   ]
  },
  {
   "cell_type": "code",
   "execution_count": 222,
   "id": "7d75d992-725c-440c-b34e-622999009d26",
   "metadata": {},
   "outputs": [],
   "source": [
    "# count the frequency of each label in ascending order\n",
    "labels_counts = bal_df.sum(axis=0).sort_values(ascending=False)"
   ]
  },
  {
   "cell_type": "code",
   "execution_count": 223,
   "id": "ad33ad80-67fa-4bb0-b303-2b2398670e21",
   "metadata": {},
   "outputs": [
    {
     "data": {
      "image/png": "[encoded data removed]",
      "text/plain": [
       "<Figure size 600x400 with 1 Axes>"
      ]
     },
     "metadata": {},
     "output_type": "display_data"
    }
   ],
   "source": [
    "fig, ax = plt.subplots(figsize=(6, 4))\n",
    "ax.yaxis.set_tick_params(labelsize = 8)\n",
    "ax.xaxis.set_tick_params(labelsize = 8)\n",
    "plt.xticks(rotation=60)\n",
    "g = sns.barplot(x=labels_counts.index, y=labels_counts.values, ax=ax)\n",
    "ax.set(xlabel='label', ylabel='frequency', title='Labels Frequency')\n",
    "ax.bar_label(ax.containers[0], fontsize=8)\n",
    "plt.show()\n",
    "#fig.savefig('n_label_freq.png', bbox_inches='tight', dpi=1600)"
   ]
  },
  {
   "cell_type": "markdown",
   "id": "db6311b9-ef50-46c1-92f1-b6d058f5a28f",
   "metadata": {},
   "source": [
    "## F. Stratified (or Balanced) Split"
   ]
  },
  {
   "cell_type": "markdown",
   "id": "0adb8b4c-9d92-4ac5-8c5d-d986e4004c3b",
   "metadata": {},
   "source": [
    "### 1. Helper Functions to Create Balanced Split function "
   ]
  },
  {
   "cell_type": "code",
   "execution_count": 224,
   "id": "13ad8cf5-8ff7-439e-94db-da7d81ee93ad",
   "metadata": {},
   "outputs": [],
   "source": [
    "# create multilabel binarizer\n",
    "mlb = MultiLabelBinarizer(classes=list(label2id.keys()))\n",
    "\n",
    "# Function to create stratified split\n",
    "def balanced_split(df, mlb, test_size):\n",
    "    ind_ = np.expand_dims(np.arange(len(df)), axis=1)\n",
    "    # series of unique labels\n",
    "    unique_labels_ = df['labels'].apply(lambda x: set(itertools.chain.from_iterable([x.split(',')])))\n",
    "    labels_ohe_ = mlb.fit_transform(unique_labels_)\n",
    "    ind_train, _, ind_test, _ = iterative_train_test_split(\n",
    "        ind_, labels_ohe_, test_size\n",
    "    )\n",
    "    return df.iloc[ind_train[:, 0]], df.iloc[ind_test[:, 0]]"
   ]
  },
  {
   "cell_type": "markdown",
   "id": "fc08ee01-649b-479f-b3f5-bbc21c169769",
   "metadata": {},
   "source": [
    "### 2. Spliting the Dataset into training, validation and test dataset"
   ]
  },
  {
   "cell_type": "markdown",
   "id": "117bdbf0-d020-47ad-9a88-0e2f8c67ea98",
   "metadata": {},
   "source": [
    "#### 2. a) All Data - Seen Data(80%) + Unseen/Test Data (20%)"
   ]
  },
  {
   "cell_type": "code",
   "execution_count": 225,
   "id": "d35bdb82-e328-4d32-bced-836e793d3b70",
   "metadata": {},
   "outputs": [],
   "source": [
    "seen_df, test_df = balanced_split(data, mlb, test_size=0.2)"
   ]
  },
  {
   "cell_type": "markdown",
   "id": "4824130b-a43f-496c-a2b9-92b9c7ea7c9b",
   "metadata": {},
   "source": [
    "##### Check the size of each data"
   ]
  },
  {
   "cell_type": "code",
   "execution_count": 226,
   "id": "8809fb3f-8699-4285-b27a-36715247c3d8",
   "metadata": {},
   "outputs": [
    {
     "name": "stdout",
     "output_type": "stream",
     "text": [
      "Full Dataset size: 40577\n",
      "Seen Dataset size: 32463\n",
      "Test Data Size: 8114\n"
     ]
    }
   ],
   "source": [
    "print(f\"Full Dataset size: {len(data)}\")\n",
    "print(f\"Seen Dataset size: {len(seen_df)}\")\n",
    "print(f\"Test Data Size: {len(test_df)}\")"
   ]
  },
  {
   "cell_type": "markdown",
   "id": "16e560df-c858-4958-885b-9cb2ca577c8f",
   "metadata": {},
   "source": [
    "#### 2. b) Seen Data - Training Data(90%) + Validation Data (10%)"
   ]
  },
  {
   "cell_type": "code",
   "execution_count": 227,
   "id": "4b1666fe-6284-45c1-807a-ad039d7fb5a7",
   "metadata": {},
   "outputs": [],
   "source": [
    "train_df, valid_df = balanced_split(seen_df, mlb, test_size=0.1)"
   ]
  },
  {
   "cell_type": "markdown",
   "id": "0e7a8e90-804f-4f7e-89a1-99207dad43cf",
   "metadata": {},
   "source": [
    "##### Check the size of each data"
   ]
  },
  {
   "cell_type": "code",
   "execution_count": 228,
   "id": "d6743041-b5bc-48ef-8c19-af44a4b84a0f",
   "metadata": {},
   "outputs": [
    {
     "name": "stdout",
     "output_type": "stream",
     "text": [
      "Seen Dataset size: 32463\n",
      "Train Dataset size: 29217\n",
      "Valid Data Size: 3246\n"
     ]
    }
   ],
   "source": [
    "print(f\"Seen Dataset size: {len(seen_df)}\")\n",
    "print(f\"Train Dataset size: {len(train_df)}\")\n",
    "print(f\"Valid Data Size: {len(valid_df)}\")"
   ]
  },
  {
   "cell_type": "markdown",
   "id": "fd386a8f-738b-4ba4-a9e2-3a6407579fbf",
   "metadata": {},
   "source": [
    "#### 2. c) FULL Data - TRAIN Data + VALID Data + TEST Data"
   ]
  },
  {
   "cell_type": "code",
   "execution_count": 229,
   "id": "8ac0ad97-552b-42a8-9493-2f65e74bb6ad",
   "metadata": {},
   "outputs": [
    {
     "name": "stdout",
     "output_type": "stream",
     "text": [
      "FULL Dataset: (40577, 2)\n",
      "TRAIN Dataset: (29217, 2)\n",
      "VALID Dataset: (3246, 2)\n",
      "TEST Dataset: (8114, 2)\n"
     ]
    }
   ],
   "source": [
    "# check the size of each data\n",
    "print(\"FULL Dataset: {}\".format(data.shape))\n",
    "print(\"TRAIN Dataset: {}\".format(train_df.shape))\n",
    "print(\"VALID Dataset: {}\".format(valid_df.shape))\n",
    "print(\"TEST Dataset: {}\".format(test_df.shape))"
   ]
  },
  {
   "cell_type": "markdown",
   "id": "9e4a6a78-6417-40e9-9f71-960c3f0f578e",
   "metadata": {},
   "source": [
    "##### Reset the indices"
   ]
  },
  {
   "cell_type": "code",
   "execution_count": 230,
   "id": "589dd51b-a162-4c06-bd28-39923d8f6eb9",
   "metadata": {},
   "outputs": [],
   "source": [
    "train_df = train_df.reset_index(drop=True)\n",
    "valid_df = valid_df.reset_index(drop=True)\n",
    "test_df = test_df.reset_index(drop=True)"
   ]
  },
  {
   "cell_type": "markdown",
   "id": "5ce7c51b-6d2c-4253-b0f0-0d5b288ea531",
   "metadata": {},
   "source": [
    "## G. Explore Distribution of Labels - Training, Validation and Testing Data"
   ]
  },
  {
   "cell_type": "code",
   "execution_count": 231,
   "id": "5fa4813d-61eb-4237-9df6-d86a8866fa7c",
   "metadata": {},
   "outputs": [],
   "source": [
    "# one hot encoding of unique labels for trainig data\n",
    "unique_train_labels_ohe = mlb.transform(train_df['labels'].apply(lambda x: set(itertools.chain.from_iterable([x.split(',')]))))\n",
    "\n",
    "# one hot encoding of unique labels for validation data\n",
    "unique_valid_labels_ohe = mlb.transform(valid_df['labels'].apply(lambda x: set(itertools.chain.from_iterable([x.split(',')]))))\n",
    "\n",
    "# one hot encoding of unique labels for testing data\n",
    "unique_test_labels_ohe = mlb.transform(test_df['labels'].apply(lambda x: set(itertools.chain.from_iterable([x.split(',')]))))"
   ]
  },
  {
   "cell_type": "markdown",
   "id": "4c873e30-f1ff-4204-ae32-3d84d690044f",
   "metadata": {},
   "source": [
    "#### 1. Check distributions of 1st order "
   ]
  },
  {
   "cell_type": "code",
   "execution_count": 232,
   "id": "69260bda-c15e-4a03-98ed-71d24e87f265",
   "metadata": {},
   "outputs": [
    {
     "name": "stdout",
     "output_type": "stream",
     "text": [
      "Training Data\n",
      "==============\n",
      "Total num of training samples: 29217\n",
      "Total num of each label: [29211 17483  9207  9674  4313 11288  6116 12324  7614  3047]\n",
      "Proportions of each label: [0.99979464 0.5983845  0.31512476 0.3311086  0.14761954 0.38635041\n",
      " 0.20933018 0.42180922 0.2606017  0.1042886 ]\n",
      "\n",
      "Validation Data\n",
      "==============\n",
      "Total num of validation samples: 3246\n",
      "Total num of each label: [3246 1943 1023 1074  492 1254  650 1402  855  339]\n",
      "Proportions of each label: [1.         0.59858287 0.31515712 0.33086876 0.15157116 0.38632163\n",
      " 0.20024646 0.4319162  0.26340111 0.10443623]\n",
      "\n",
      "Testing Data\n",
      "===============\n",
      "Total num of training samples: 8114\n",
      "Total num of each label: [8114 4857 2558 2685 1210 3135 1683 3453 2124  846]\n",
      "Proportions of each label: [1.         0.59859502 0.31525758 0.33090954 0.14912497 0.38636924\n",
      " 0.20741928 0.42556076 0.26176978 0.10426423]\n"
     ]
    }
   ],
   "source": [
    "# compute number of samples\n",
    "num_train_samples = unique_train_labels_ohe.shape[0]\n",
    "num_valid_samples = unique_valid_labels_ohe.shape[0]\n",
    "num_test_samples = unique_test_labels_ohe.shape[0]\n",
    "\n",
    "# compute number of samples for each unique label\n",
    "train_labels_count = unique_train_labels_ohe.sum(axis=0)\n",
    "valid_labels_count = unique_valid_labels_ohe.sum(axis=0)\n",
    "test_labels_count = unique_test_labels_ohe.sum(axis=0)\n",
    "\n",
    "# compute proportion of samples for each unique label\n",
    "prop_train_labels = train_labels_count/num_train_samples\n",
    "prop_valid_labels = valid_labels_count/num_valid_samples\n",
    "prop_test_labels = test_labels_count/num_test_samples\n",
    "\n",
    "\n",
    "print(\"Training Data\")\n",
    "print(\"==============\")\n",
    "print(f\"Total num of training samples: {num_train_samples}\")\n",
    "print(f\"Total num of each label: {train_labels_count}\")\n",
    "print(f\"Proportions of each label: {prop_train_labels}\\n\")\n",
    "\n",
    "print(\"Validation Data\")\n",
    "print(\"==============\")\n",
    "print(f\"Total num of validation samples: {num_valid_samples}\")\n",
    "print(f\"Total num of each label: {valid_labels_count}\")\n",
    "print(f\"Proportions of each label: {prop_valid_labels}\\n\")\n",
    "\n",
    "print(\"Testing Data\")\n",
    "print(\"===============\")\n",
    "print(f\"Total num of training samples: {num_test_samples}\")\n",
    "print(f\"Total num of each label: {test_labels_count}\")\n",
    "print(f\"Proportions of each label: {prop_test_labels}\")"
   ]
  },
  {
   "cell_type": "markdown",
   "id": "3d2384d3-b222-4673-b13f-94eb696cc6ed",
   "metadata": {},
   "source": [
    "#### 1a. Create the proportion dataFrame for training, validation and testing data"
   ]
  },
  {
   "cell_type": "code",
   "execution_count": 233,
   "id": "efeb68cc-74aa-452b-ae86-3f2f8a3e66eb",
   "metadata": {},
   "outputs": [
    {
     "data": {
      "text/html": [
       "<div>\n",
       "<style scoped>\n",
       "    .dataframe tbody tr th:only-of-type {\n",
       "        vertical-align: middle;\n",
       "    }\n",
       "\n",
       "    .dataframe tbody tr th {\n",
       "        vertical-align: top;\n",
       "    }\n",
       "\n",
       "    .dataframe thead th {\n",
       "        text-align: right;\n",
       "    }\n",
       "</style>\n",
       "<table border=\"1\" class=\"dataframe\">\n",
       "  <thead>\n",
       "    <tr style=\"text-align: right;\">\n",
       "      <th></th>\n",
       "      <th>labels</th>\n",
       "      <th>train</th>\n",
       "      <th>valid</th>\n",
       "      <th>test</th>\n",
       "    </tr>\n",
       "  </thead>\n",
       "  <tbody>\n",
       "    <tr>\n",
       "      <th>0</th>\n",
       "      <td>O</td>\n",
       "      <td>0.999795</td>\n",
       "      <td>1.000000</td>\n",
       "      <td>1.000000</td>\n",
       "    </tr>\n",
       "    <tr>\n",
       "      <th>1</th>\n",
       "      <td>B-geo</td>\n",
       "      <td>0.598385</td>\n",
       "      <td>0.598583</td>\n",
       "      <td>0.598595</td>\n",
       "    </tr>\n",
       "    <tr>\n",
       "      <th>2</th>\n",
       "      <td>B-gpe</td>\n",
       "      <td>0.315125</td>\n",
       "      <td>0.315157</td>\n",
       "      <td>0.315258</td>\n",
       "    </tr>\n",
       "    <tr>\n",
       "      <th>3</th>\n",
       "      <td>B-per</td>\n",
       "      <td>0.331109</td>\n",
       "      <td>0.330869</td>\n",
       "      <td>0.330910</td>\n",
       "    </tr>\n",
       "    <tr>\n",
       "      <th>4</th>\n",
       "      <td>I-geo</td>\n",
       "      <td>0.147620</td>\n",
       "      <td>0.151571</td>\n",
       "      <td>0.149125</td>\n",
       "    </tr>\n",
       "    <tr>\n",
       "      <th>5</th>\n",
       "      <td>B-org</td>\n",
       "      <td>0.386350</td>\n",
       "      <td>0.386322</td>\n",
       "      <td>0.386369</td>\n",
       "    </tr>\n",
       "    <tr>\n",
       "      <th>6</th>\n",
       "      <td>I-org</td>\n",
       "      <td>0.209330</td>\n",
       "      <td>0.200246</td>\n",
       "      <td>0.207419</td>\n",
       "    </tr>\n",
       "    <tr>\n",
       "      <th>7</th>\n",
       "      <td>B-tim</td>\n",
       "      <td>0.421809</td>\n",
       "      <td>0.431916</td>\n",
       "      <td>0.425561</td>\n",
       "    </tr>\n",
       "    <tr>\n",
       "      <th>8</th>\n",
       "      <td>I-per</td>\n",
       "      <td>0.260602</td>\n",
       "      <td>0.263401</td>\n",
       "      <td>0.261770</td>\n",
       "    </tr>\n",
       "    <tr>\n",
       "      <th>9</th>\n",
       "      <td>I-tim</td>\n",
       "      <td>0.104289</td>\n",
       "      <td>0.104436</td>\n",
       "      <td>0.104264</td>\n",
       "    </tr>\n",
       "  </tbody>\n",
       "</table>\n",
       "</div>"
      ],
      "text/plain": [
       "  labels     train     valid      test\n",
       "0      O  0.999795  1.000000  1.000000\n",
       "1  B-geo  0.598385  0.598583  0.598595\n",
       "2  B-gpe  0.315125  0.315157  0.315258\n",
       "3  B-per  0.331109  0.330869  0.330910\n",
       "4  I-geo  0.147620  0.151571  0.149125\n",
       "5  B-org  0.386350  0.386322  0.386369\n",
       "6  I-org  0.209330  0.200246  0.207419\n",
       "7  B-tim  0.421809  0.431916  0.425561\n",
       "8  I-per  0.260602  0.263401  0.261770\n",
       "9  I-tim  0.104289  0.104436  0.104264"
      ]
     },
     "metadata": {},
     "output_type": "display_data"
    }
   ],
   "source": [
    "# create dict for proportions of each label\n",
    "prop_data = {\n",
    "    'labels' : list(label2id.keys()),\n",
    "    'train' : prop_train_labels,\n",
    "    'valid' : prop_valid_labels,\n",
    "    'test' : prop_test_labels\n",
    "}\n",
    "\n",
    "# create dataframe\n",
    "prop_df = pd.DataFrame.from_dict(prop_data)\n",
    "\n",
    "# display\n",
    "display(prop_df)"
   ]
  },
  {
   "cell_type": "markdown",
   "id": "44fc37ae-33a0-4069-85c1-0b98d944dbdc",
   "metadata": {},
   "source": [
    "#### 1b. Plot distribution of proportions across each label for training, validation and testing data"
   ]
  },
  {
   "cell_type": "code",
   "execution_count": 234,
   "id": "b57f425a-6cca-44a8-aba0-9b5ad011731f",
   "metadata": {},
   "outputs": [
    {
     "data": {
      "image/png": "[encoded data removed]",
      "text/plain": [
       "<Figure size 1000x800 with 1 Axes>"
      ]
     },
     "metadata": {},
     "output_type": "display_data"
    }
   ],
   "source": [
    "fig, ax = plt.subplots(figsize=(10, 8))\n",
    "g = sns.barplot(\n",
    "    data=prop_df.melt(id_vars = [\"labels\"], value_vars=[\"train\", \"valid\", \"test\"]),\n",
    "    y=\"value\", x=\"variable\", hue=\"labels\", errorbar=None\n",
    ")\n",
    "\n",
    "# for legend text\n",
    "plt.setp(g.get_legend().get_texts(), fontsize='10')  \n",
    " \n",
    "# for legend title\n",
    "plt.setp(g.get_legend().get_title(), fontsize='10')\n",
    "plt.title(\"Proportions of sentences containing each label - training, validation and testing dataset\")\n",
    "\n",
    "plt.show()"
   ]
  },
  {
   "cell_type": "markdown",
   "id": "a9ea51f5-da82-4b7d-978a-beaf5c607917",
   "metadata": {},
   "source": [
    "#### 2. Check distributions of 2nd order "
   ]
  },
  {
   "cell_type": "code",
   "execution_count": 235,
   "id": "ab8e8951-16ad-4414-930c-2f52d05311f4",
   "metadata": {},
   "outputs": [
    {
     "data": {
      "text/html": [
       "<div>\n",
       "<style scoped>\n",
       "    .dataframe tbody tr th:only-of-type {\n",
       "        vertical-align: middle;\n",
       "    }\n",
       "\n",
       "    .dataframe tbody tr th {\n",
       "        vertical-align: top;\n",
       "    }\n",
       "\n",
       "    .dataframe thead th {\n",
       "        text-align: right;\n",
       "    }\n",
       "</style>\n",
       "<table border=\"1\" class=\"dataframe\">\n",
       "  <thead>\n",
       "    <tr style=\"text-align: right;\">\n",
       "      <th></th>\n",
       "      <th>(0, 3)</th>\n",
       "      <th>(3, 3)</th>\n",
       "      <th>(0, 0)</th>\n",
       "      <th>(0, 1)</th>\n",
       "      <th>(1, 2)</th>\n",
       "      <th>(1, 1)</th>\n",
       "      <th>(0, 2)</th>\n",
       "      <th>(2, 2)</th>\n",
       "      <th>(5, 5)</th>\n",
       "      <th>(0, 6)</th>\n",
       "      <th>...</th>\n",
       "      <th>(7, 9)</th>\n",
       "      <th>(9, 9)</th>\n",
       "      <th>(0, 9)</th>\n",
       "      <th>(2, 9)</th>\n",
       "      <th>(2, 4)</th>\n",
       "      <th>(4, 7)</th>\n",
       "      <th>(6, 9)</th>\n",
       "      <th>(4, 9)</th>\n",
       "      <th>(3, 4)</th>\n",
       "      <th>(4, 8)</th>\n",
       "    </tr>\n",
       "  </thead>\n",
       "  <tbody>\n",
       "    <tr>\n",
       "      <th>train</th>\n",
       "      <td>0.330903</td>\n",
       "      <td>0.331109</td>\n",
       "      <td>0.999795</td>\n",
       "      <td>0.598385</td>\n",
       "      <td>0.172708</td>\n",
       "      <td>0.598385</td>\n",
       "      <td>0.315125</td>\n",
       "      <td>0.315125</td>\n",
       "      <td>0.386350</td>\n",
       "      <td>0.209330</td>\n",
       "      <td>...</td>\n",
       "      <td>0.104289</td>\n",
       "      <td>0.104289</td>\n",
       "      <td>0.104289</td>\n",
       "      <td>0.025328</td>\n",
       "      <td>0.039908</td>\n",
       "      <td>0.057809</td>\n",
       "      <td>0.019509</td>\n",
       "      <td>0.014170</td>\n",
       "      <td>0.039942</td>\n",
       "      <td>0.032926</td>\n",
       "    </tr>\n",
       "    <tr>\n",
       "      <th>valid</th>\n",
       "      <td>0.330869</td>\n",
       "      <td>0.330869</td>\n",
       "      <td>1.000000</td>\n",
       "      <td>0.598583</td>\n",
       "      <td>0.180530</td>\n",
       "      <td>0.598583</td>\n",
       "      <td>0.315157</td>\n",
       "      <td>0.315157</td>\n",
       "      <td>0.386322</td>\n",
       "      <td>0.200246</td>\n",
       "      <td>...</td>\n",
       "      <td>0.104436</td>\n",
       "      <td>0.104436</td>\n",
       "      <td>0.104436</td>\n",
       "      <td>0.025570</td>\n",
       "      <td>0.041282</td>\n",
       "      <td>0.065311</td>\n",
       "      <td>0.017252</td>\n",
       "      <td>0.014479</td>\n",
       "      <td>0.042514</td>\n",
       "      <td>0.036661</td>\n",
       "    </tr>\n",
       "    <tr>\n",
       "      <th>test</th>\n",
       "      <td>0.330910</td>\n",
       "      <td>0.330910</td>\n",
       "      <td>1.000000</td>\n",
       "      <td>0.598595</td>\n",
       "      <td>0.187700</td>\n",
       "      <td>0.598595</td>\n",
       "      <td>0.315258</td>\n",
       "      <td>0.315258</td>\n",
       "      <td>0.386369</td>\n",
       "      <td>0.207419</td>\n",
       "      <td>...</td>\n",
       "      <td>0.104264</td>\n",
       "      <td>0.104264</td>\n",
       "      <td>0.104264</td>\n",
       "      <td>0.025511</td>\n",
       "      <td>0.040547</td>\n",
       "      <td>0.059404</td>\n",
       "      <td>0.020705</td>\n",
       "      <td>0.014420</td>\n",
       "      <td>0.039931</td>\n",
       "      <td>0.033153</td>\n",
       "    </tr>\n",
       "  </tbody>\n",
       "</table>\n",
       "<p>3 rows × 55 columns</p>\n",
       "</div>"
      ],
      "text/plain": [
       "         (0, 3)    (3, 3)    (0, 0)    (0, 1)    (1, 2)    (1, 1)    (0, 2)  \\\n",
       "train  0.330903  0.331109  0.999795  0.598385  0.172708  0.598385  0.315125   \n",
       "valid  0.330869  0.330869  1.000000  0.598583  0.180530  0.598583  0.315157   \n",
       "test   0.330910  0.330910  1.000000  0.598595  0.187700  0.598595  0.315258   \n",
       "\n",
       "         (2, 2)    (5, 5)    (0, 6)  ...    (7, 9)    (9, 9)    (0, 9)  \\\n",
       "train  0.315125  0.386350  0.209330  ...  0.104289  0.104289  0.104289   \n",
       "valid  0.315157  0.386322  0.200246  ...  0.104436  0.104436  0.104436   \n",
       "test   0.315258  0.386369  0.207419  ...  0.104264  0.104264  0.104264   \n",
       "\n",
       "         (2, 9)    (2, 4)    (4, 7)    (6, 9)    (4, 9)    (3, 4)    (4, 8)  \n",
       "train  0.025328  0.039908  0.057809  0.019509  0.014170  0.039942  0.032926  \n",
       "valid  0.025570  0.041282  0.065311  0.017252  0.014479  0.042514  0.036661  \n",
       "test   0.025511  0.040547  0.059404  0.020705  0.014420  0.039931  0.033153  \n",
       "\n",
       "[3 rows x 55 columns]"
      ]
     },
     "execution_count": 235,
     "metadata": {},
     "output_type": "execute_result"
    }
   ],
   "source": [
    "from collections import Counter\n",
    "from skmultilearn.model_selection.measures import get_combination_wise_output_matrix\n",
    "\n",
    "label_combination_df = pd.DataFrame({\n",
    "    'train': Counter(str(combination) for row in get_combination_wise_output_matrix(unique_train_labels_ohe, order=2) for combination in row),\n",
    "    'valid': Counter(str(combination) for row in get_combination_wise_output_matrix(unique_valid_labels_ohe, order=2) for combination in row),\n",
    "    'test' : Counter(str(combination) for row in get_combination_wise_output_matrix(unique_test_labels_ohe, order=2) for combination in row),\n",
    "}).T.fillna(0.0).astype('float')\n",
    "\n",
    "# compute proportions\n",
    "label_combination_df.loc['train'] = label_combination_df.loc['train']/num_train_samples\n",
    "label_combination_df.loc['valid'] = label_combination_df.loc['valid']/num_valid_samples\n",
    "label_combination_df.loc['test'] = label_combination_df.loc['test']/num_test_samples\n",
    "\n",
    "label_combination_df"
   ]
  },
  {
   "cell_type": "markdown",
   "id": "c313bdec-02cc-4a7f-b45a-cb010c4bcb84",
   "metadata": {},
   "source": [
    "#### 3. Check distribution of 3rd order "
   ]
  },
  {
   "cell_type": "code",
   "execution_count": 236,
   "id": "76ecf1f6-da41-4e19-acff-550e696e86a3",
   "metadata": {},
   "outputs": [
    {
     "data": {
      "text/html": [
       "<div>\n",
       "<style scoped>\n",
       "    .dataframe tbody tr th:only-of-type {\n",
       "        vertical-align: middle;\n",
       "    }\n",
       "\n",
       "    .dataframe tbody tr th {\n",
       "        vertical-align: top;\n",
       "    }\n",
       "\n",
       "    .dataframe thead th {\n",
       "        text-align: right;\n",
       "    }\n",
       "</style>\n",
       "<table border=\"1\" class=\"dataframe\">\n",
       "  <thead>\n",
       "    <tr style=\"text-align: right;\">\n",
       "      <th></th>\n",
       "      <th>(0, 0, 0)</th>\n",
       "      <th>(0, 3, 3)</th>\n",
       "      <th>(3, 3, 3)</th>\n",
       "      <th>(0, 0, 3)</th>\n",
       "      <th>(2, 2, 2)</th>\n",
       "      <th>(1, 1, 2)</th>\n",
       "      <th>(1, 2, 2)</th>\n",
       "      <th>(0, 0, 2)</th>\n",
       "      <th>(0, 1, 2)</th>\n",
       "      <th>(0, 2, 2)</th>\n",
       "      <th>...</th>\n",
       "      <th>(2, 4, 6)</th>\n",
       "      <th>(2, 3, 4)</th>\n",
       "      <th>(3, 6, 9)</th>\n",
       "      <th>(6, 8, 9)</th>\n",
       "      <th>(3, 4, 9)</th>\n",
       "      <th>(4, 6, 8)</th>\n",
       "      <th>(2, 6, 9)</th>\n",
       "      <th>(2, 4, 8)</th>\n",
       "      <th>(4, 8, 9)</th>\n",
       "      <th>(2, 4, 9)</th>\n",
       "    </tr>\n",
       "  </thead>\n",
       "  <tbody>\n",
       "    <tr>\n",
       "      <th>train</th>\n",
       "      <td>0.999795</td>\n",
       "      <td>0.330903</td>\n",
       "      <td>0.331109</td>\n",
       "      <td>0.330903</td>\n",
       "      <td>0.315125</td>\n",
       "      <td>0.172708</td>\n",
       "      <td>0.172708</td>\n",
       "      <td>0.315125</td>\n",
       "      <td>0.172708</td>\n",
       "      <td>0.315125</td>\n",
       "      <td>...</td>\n",
       "      <td>0.006572</td>\n",
       "      <td>0.012253</td>\n",
       "      <td>0.005955</td>\n",
       "      <td>0.004449</td>\n",
       "      <td>0.003628</td>\n",
       "      <td>0.007564</td>\n",
       "      <td>0.004929</td>\n",
       "      <td>0.010644</td>\n",
       "      <td>0.002978</td>\n",
       "      <td>0.003183</td>\n",
       "    </tr>\n",
       "    <tr>\n",
       "      <th>valid</th>\n",
       "      <td>1.000000</td>\n",
       "      <td>0.330869</td>\n",
       "      <td>0.330869</td>\n",
       "      <td>0.330869</td>\n",
       "      <td>0.315157</td>\n",
       "      <td>0.180530</td>\n",
       "      <td>0.180530</td>\n",
       "      <td>0.315157</td>\n",
       "      <td>0.180530</td>\n",
       "      <td>0.315157</td>\n",
       "      <td>...</td>\n",
       "      <td>0.006778</td>\n",
       "      <td>0.010783</td>\n",
       "      <td>0.004313</td>\n",
       "      <td>0.003389</td>\n",
       "      <td>0.005853</td>\n",
       "      <td>0.005853</td>\n",
       "      <td>0.004929</td>\n",
       "      <td>0.010166</td>\n",
       "      <td>0.004621</td>\n",
       "      <td>0.003081</td>\n",
       "    </tr>\n",
       "    <tr>\n",
       "      <th>test</th>\n",
       "      <td>1.000000</td>\n",
       "      <td>0.330910</td>\n",
       "      <td>0.330910</td>\n",
       "      <td>0.330910</td>\n",
       "      <td>0.315258</td>\n",
       "      <td>0.187700</td>\n",
       "      <td>0.187700</td>\n",
       "      <td>0.315258</td>\n",
       "      <td>0.187700</td>\n",
       "      <td>0.315258</td>\n",
       "      <td>...</td>\n",
       "      <td>0.006778</td>\n",
       "      <td>0.011338</td>\n",
       "      <td>0.006285</td>\n",
       "      <td>0.004560</td>\n",
       "      <td>0.003944</td>\n",
       "      <td>0.005916</td>\n",
       "      <td>0.005053</td>\n",
       "      <td>0.009983</td>\n",
       "      <td>0.002711</td>\n",
       "      <td>0.003574</td>\n",
       "    </tr>\n",
       "  </tbody>\n",
       "</table>\n",
       "<p>3 rows × 220 columns</p>\n",
       "</div>"
      ],
      "text/plain": [
       "       (0, 0, 0)  (0, 3, 3)  (3, 3, 3)  (0, 0, 3)  (2, 2, 2)  (1, 1, 2)  \\\n",
       "train   0.999795   0.330903   0.331109   0.330903   0.315125   0.172708   \n",
       "valid   1.000000   0.330869   0.330869   0.330869   0.315157   0.180530   \n",
       "test    1.000000   0.330910   0.330910   0.330910   0.315258   0.187700   \n",
       "\n",
       "       (1, 2, 2)  (0, 0, 2)  (0, 1, 2)  (0, 2, 2)  ...  (2, 4, 6)  (2, 3, 4)  \\\n",
       "train   0.172708   0.315125   0.172708   0.315125  ...   0.006572   0.012253   \n",
       "valid   0.180530   0.315157   0.180530   0.315157  ...   0.006778   0.010783   \n",
       "test    0.187700   0.315258   0.187700   0.315258  ...   0.006778   0.011338   \n",
       "\n",
       "       (3, 6, 9)  (6, 8, 9)  (3, 4, 9)  (4, 6, 8)  (2, 6, 9)  (2, 4, 8)  \\\n",
       "train   0.005955   0.004449   0.003628   0.007564   0.004929   0.010644   \n",
       "valid   0.004313   0.003389   0.005853   0.005853   0.004929   0.010166   \n",
       "test    0.006285   0.004560   0.003944   0.005916   0.005053   0.009983   \n",
       "\n",
       "       (4, 8, 9)  (2, 4, 9)  \n",
       "train   0.002978   0.003183  \n",
       "valid   0.004621   0.003081  \n",
       "test    0.002711   0.003574  \n",
       "\n",
       "[3 rows x 220 columns]"
      ]
     },
     "execution_count": 236,
     "metadata": {},
     "output_type": "execute_result"
    }
   ],
   "source": [
    "from collections import Counter\n",
    "from skmultilearn.model_selection.measures import get_combination_wise_output_matrix\n",
    "\n",
    "label_combination_df = pd.DataFrame({\n",
    "    'train': Counter(str(combination) for row in get_combination_wise_output_matrix(unique_train_labels_ohe, order=3) for combination in row),\n",
    "    'valid': Counter(str(combination) for row in get_combination_wise_output_matrix(unique_valid_labels_ohe, order=3) for combination in row),\n",
    "    'test' : Counter(str(combination) for row in get_combination_wise_output_matrix(unique_test_labels_ohe, order=3) for combination in row),\n",
    "}).T.fillna(0.0).astype('float')\n",
    "\n",
    "# compute proportions\n",
    "label_combination_df.loc['train'] = label_combination_df.loc['train']/num_train_samples\n",
    "label_combination_df.loc['valid'] = label_combination_df.loc['valid']/num_valid_samples\n",
    "label_combination_df.loc['test'] = label_combination_df.loc['test']/num_test_samples\n",
    "\n",
    "label_combination_df"
   ]
  },
  {
   "cell_type": "markdown",
   "id": "63310bab-db52-4b93-bda5-52b22ae7a2fb",
   "metadata": {},
   "source": [
    "## H. Modelling"
   ]
  },
  {
   "cell_type": "markdown",
   "id": "21cc5ccb-633b-48cf-890a-e5b7119de1bb",
   "metadata": {},
   "source": [
    "### 1. Modelling Parameters"
   ]
  },
  {
   "cell_type": "code",
   "execution_count": 237,
   "id": "1d3e4961-e8ff-4775-bfc3-080d787bf225",
   "metadata": {},
   "outputs": [],
   "source": [
    "# Max sequence length\n",
    "MAX_LEN = 128\n",
    "\n",
    "# Batch Size\n",
    "TRAIN_BATCH_SIZE = 32\n",
    "VALID_BATCH_SIZE = 4\n",
    "TEST_BATCH_SIZE = 4\n",
    "\n",
    "# Training Epochs\n",
    "EPOCHS = 10\n",
    "\n",
    "# Optimizer params\n",
    "LEARNING_RATE = 1e-06\n",
    "ADAMS_EPSILON = 1e-7\n",
    "\n",
    "# clipping grad norms\n",
    "MAX_GRAD_NORM = 1.0\n",
    "\n",
    "# tokenizer to use\n",
    "tokenizer = BertTokenizer.from_pretrained('bert-base-uncased', clean_up_tokenization_spaces=True)"
   ]
  },
  {
   "cell_type": "markdown",
   "id": "6083848a-0fd0-48c6-9df8-51319367d5d9",
   "metadata": {},
   "source": [
    "### 2. Preparing the dataset and dataloader"
   ]
  },
  {
   "cell_type": "markdown",
   "id": "b3aa331e-1496-40f5-bac7-5e7ea8ad7851",
   "metadata": {},
   "source": [
    "#### 2.1. Function to retain labels"
   ]
  },
  {
   "cell_type": "code",
   "execution_count": 238,
   "id": "2d722999-c84a-4e50-aa22-27323a9aadfb",
   "metadata": {},
   "outputs": [],
   "source": [
    "def tokenize_and_retain_labels(sentence, text_labels, tokenizer):\n",
    "    \"\"\"\n",
    "    Tokenization at the word piece level complicates the process\n",
    "    of aligning word labels with their corresponding individual word\n",
    "    pieces. This method processes each word sequentially, facilitating\n",
    "    the accurate retention of labels for each subword. While this approach\n",
    "    may result in a slight increase in processing time, it ultimately\n",
    "    contributes to improved accuracy for our model.\n",
    "    \"\"\"\n",
    "\n",
    "    tokenized_sentence = []\n",
    "    labels = []\n",
    "\n",
    "    for word, label in zip(sentence, text_labels):\n",
    "\n",
    "        # Tokenize the word and count # of subwords the word is broken into\n",
    "        tokenized_word = tokenizer.tokenize(word)\n",
    "        n_subwords = len(tokenized_word)\n",
    "\n",
    "        # Add the tokenized word to the final tokenized word list\n",
    "        tokenized_sentence.extend(tokenized_word)\n",
    "\n",
    "        # Add the same label to the new list of labels `n_subwords` times\n",
    "        labels.extend([label] * n_subwords)\n",
    "\n",
    "    return tokenized_sentence, labels"
   ]
  },
  {
   "cell_type": "markdown",
   "id": "1fbc174f-8d30-4391-9a1a-0a3fe20a7cf3",
   "metadata": {},
   "source": [
    "#### 2.2 Custom NER Dataset Class"
   ]
  },
  {
   "cell_type": "code",
   "execution_count": 239,
   "id": "8d301303-82c8-4d50-be4d-4805d9d9bccf",
   "metadata": {},
   "outputs": [],
   "source": [
    "class NerDataset(Dataset):\n",
    "    \"\"\"\n",
    "    Custom dataset implementation to get (text,labels) tuples\n",
    "    Inputs:\n",
    "    - df : dataframe with columns [sentence, labels]\n",
    "    \"\"\"\n",
    "    def __init__(self, df, tokenizer, max_len):\n",
    "        if not isinstance(df, pd.DataFrame):\n",
    "            raise TypeError('Input should be a dataframe')\n",
    "            \n",
    "        if \"labels\" not in df.columns or \"sentence\" not in df.columns:\n",
    "            raise ValueError(\"Dataframe should contain 'labels' and 'sentence' columns\")\n",
    "\n",
    "        self.data = df\n",
    "        self.len = len(df)\n",
    "        self.tokenizer = tokenizer\n",
    "        self.max_len = max_len\n",
    "\n",
    "    def __len__(self):\n",
    "            return self.len\n",
    "\n",
    "    def __getitem__(self, idx):\n",
    "        # step 1: Tokenize and map corresponding labels\n",
    "        # get the sentence data at index idx\n",
    "        sentence = self.data['sentence'][idx].strip().split(' ')\n",
    "        # get the words labels at index idx\n",
    "        word_labels = self.data['labels'][idx].split(',')\n",
    "        \n",
    "        # Iterate through each tokenized sentence and labels\n",
    "        token_sent, token_labl = tokenize_and_retain_labels(sentence, word_labels, self.tokenizer)\n",
    "        \n",
    "        # compute input ids and attention masks\n",
    "        encoded_sent_dict = tokenizer.encode_plus(' '.join(sentence),     # Sentence to encode.\n",
    "                                                  add_special_tokens = True,     # Add '[CLS]' and '[SEP]'\n",
    "                                                  truncation=True,\n",
    "                                                  max_length = self.max_len,     # Pad & truncate all sentences.\n",
    "                                                  padding='max_length',\n",
    "                                                  return_attention_mask = True,     # Construct attn. masks.\n",
    "                                                  return_tensors = 'pt',     # Return pytorch tensors.\n",
    "                                                 )\n",
    "            \n",
    "        input_ids = encoded_sent_dict['input_ids'][0]\n",
    "        attn_masks = encoded_sent_dict['attention_mask'][0]\n",
    "            \n",
    "        label_ids = [-100]*self.max_len\n",
    "        for i, tok in enumerate(token_labl):\n",
    "            if label2id.get(tok) != None and i<self.max_len-1:\n",
    "                label_ids[i+1]=label2id.get(tok)\n",
    "        \n",
    "        # Ensure that last label_id is -100 coressponding to [SEP] token\n",
    "        label_ids[-1] = -100\n",
    "                \n",
    "        items = {\n",
    "            'input_ids': input_ids,\n",
    "            'attn_masks': attn_masks,\n",
    "            'labels': torch.tensor(label_ids, dtype=torch.long)\n",
    "        }\n",
    "\n",
    "        return items"
   ]
  },
  {
   "cell_type": "markdown",
   "id": "fe57822f-a32f-43b0-9dab-707b920ab0c7",
   "metadata": {},
   "source": [
    "#### 2.3. Create  Train Dataset, Valid Dataset and Test Dataset"
   ]
  },
  {
   "cell_type": "code",
   "execution_count": 240,
   "id": "1c5fc3c8-f88c-4be8-bc96-a695241102b6",
   "metadata": {},
   "outputs": [],
   "source": [
    "# create train dataset\n",
    "train_dataset = NerDataset(train_df, tokenizer, MAX_LEN)\n",
    "# create validation dataset\n",
    "valid_dataset = NerDataset(valid_df, tokenizer, MAX_LEN)\n",
    "# create test dataset\n",
    "test_dataset = NerDataset(test_df, tokenizer, MAX_LEN)"
   ]
  },
  {
   "cell_type": "markdown",
   "id": "6fa95d4d-987b-41fe-a6eb-2362897e852f",
   "metadata": {},
   "source": [
    "#### 2.4. Create Train DataLoader, Valid DataLoader and Test DataLoader"
   ]
  },
  {
   "cell_type": "code",
   "execution_count": 241,
   "id": "bc95feaa-0219-4fff-81dd-afc7011f4d0b",
   "metadata": {},
   "outputs": [],
   "source": [
    "# set the batch size for train, valid and test dataloader\n",
    "train_params = {'batch_size': TRAIN_BATCH_SIZE,\n",
    "                'shuffle': True\n",
    "               }\n",
    "\n",
    "valid_params = {'batch_size': VALID_BATCH_SIZE,\n",
    "                'shuffle': False\n",
    "               }\n",
    "\n",
    "test_params = {'batch_size': TEST_BATCH_SIZE,\n",
    "                'shuffle': False\n",
    "              }\n",
    "\n",
    "# create the train dataloader\n",
    "train_dataloader = DataLoader(train_dataset, **train_params)\n",
    "# create the validation dataloader\n",
    "valid_dataloader = DataLoader(valid_dataset, **test_params)\n",
    "# create the test dataloader\n",
    "test_dataloader = DataLoader(test_dataset, **test_params)"
   ]
  },
  {
   "cell_type": "markdown",
   "id": "e7c90b03-cf39-4b61-8450-32af8567a9aa",
   "metadata": {},
   "source": [
    "### 3. Create Model\n",
    "We present a novel language representation model known as BERT, which stands for Bidirectional Encoder Representations from Transformers. In contrast to other recent models, BERT is specifically engineered to pre-train deep bidirectional representations from unlabeled text by simultaneously considering both left and right contexts across all layers. Consequently, the pre-trained BERT model can be easily fine-tuned by adding a single output layer, enabling the development of cutting-edge models for various tasks, including question answering and language inference, without the need for significant alterations to the task-specific architecture."
   ]
  },
  {
   "cell_type": "code",
   "execution_count": 242,
   "id": "43594dde-9e99-4a43-ad50-a80427c79d57",
   "metadata": {},
   "outputs": [
    {
     "name": "stderr",
     "output_type": "stream",
     "text": [
      "Some weights of BertForTokenClassification were not initialized from the model checkpoint at bert-base-uncased and are newly initialized: ['classifier.bias', 'classifier.weight']\n",
      "You should probably TRAIN this model on a down-stream task to be able to use it for predictions and inference.\n"
     ]
    },
    {
     "data": {
      "text/plain": [
       "BertForTokenClassification(\n",
       "  (bert): BertModel(\n",
       "    (embeddings): BertEmbeddings(\n",
       "      (word_embeddings): Embedding(30522, 768, padding_idx=0)\n",
       "      (position_embeddings): Embedding(512, 768)\n",
       "      (token_type_embeddings): Embedding(2, 768)\n",
       "      (LayerNorm): LayerNorm((768,), eps=1e-12, elementwise_affine=True)\n",
       "      (dropout): Dropout(p=0.1, inplace=False)\n",
       "    )\n",
       "    (encoder): BertEncoder(\n",
       "      (layer): ModuleList(\n",
       "        (0-11): 12 x BertLayer(\n",
       "          (attention): BertAttention(\n",
       "            (self): BertSdpaSelfAttention(\n",
       "              (query): Linear(in_features=768, out_features=768, bias=True)\n",
       "              (key): Linear(in_features=768, out_features=768, bias=True)\n",
       "              (value): Linear(in_features=768, out_features=768, bias=True)\n",
       "              (dropout): Dropout(p=0.1, inplace=False)\n",
       "            )\n",
       "            (output): BertSelfOutput(\n",
       "              (dense): Linear(in_features=768, out_features=768, bias=True)\n",
       "              (LayerNorm): LayerNorm((768,), eps=1e-12, elementwise_affine=True)\n",
       "              (dropout): Dropout(p=0.1, inplace=False)\n",
       "            )\n",
       "          )\n",
       "          (intermediate): BertIntermediate(\n",
       "            (dense): Linear(in_features=768, out_features=3072, bias=True)\n",
       "            (intermediate_act_fn): GELUActivation()\n",
       "          )\n",
       "          (output): BertOutput(\n",
       "            (dense): Linear(in_features=3072, out_features=768, bias=True)\n",
       "            (LayerNorm): LayerNorm((768,), eps=1e-12, elementwise_affine=True)\n",
       "            (dropout): Dropout(p=0.1, inplace=False)\n",
       "          )\n",
       "        )\n",
       "      )\n",
       "    )\n",
       "  )\n",
       "  (dropout): Dropout(p=0.1, inplace=False)\n",
       "  (classifier): Linear(in_features=768, out_features=10, bias=True)\n",
       ")"
      ]
     },
     "execution_count": 242,
     "metadata": {},
     "output_type": "execute_result"
    }
   ],
   "source": [
    "# create BERT model\n",
    "model = BertForTokenClassification.from_pretrained('bert-base-uncased', \n",
    "                                                   num_labels=len(id2label),\n",
    "                                                   id2label=id2label,\n",
    "                                                   label2id=label2id)\n",
    "# move the model to the device used\n",
    "model.to(device)"
   ]
  },
  {
   "cell_type": "markdown",
   "id": "1ef31623-637f-4a0a-ad94-4b2b2dba52b7",
   "metadata": {},
   "source": [
    "### 4. Set the Optimizer\n",
    "<b> Optimizer - AdamW:</b>\n",
    "\n",
    "<font color=brown>AdamW</font> is a stochastic optimization method that modifies the typical implementation of weight decay\n",
    "in Adam, by decoupling weight decay from the gradient update.\n",
    "\n",
    "<b>Learning Rate:</b>\n",
    "\n",
    "<font color=brown>Learning rate</font> is a tuning parameter in machine learning and statistics that controls how much\n",
    "a model's parameters adjust during each iteration of an optimization algorithm. It's a floating\n",
    "point number that's usually between 0.01 and 0.1\n",
    "\n",
    "<b>Adam Epsilon:</b>\n",
    "\n",
    "The parameter <font color=brown>epsilon</font> shows up in the update step.\n",
    "\n",
    "θ_t <- θ_{t-1} - α • mhat_t / (sqrt(vhat_t) + ε)\n",
    "\n",
    "It is primarily used as a guard against a zero second second moment causing a division by zero case. If it is too large it will bias the moment estimation."
   ]
  },
  {
   "cell_type": "code",
   "execution_count": 243,
   "id": "eb6e2c52-4e20-4c3f-ac8b-d34b5614c9d2",
   "metadata": {},
   "outputs": [
    {
     "name": "stdout",
     "output_type": "stream",
     "text": [
      "learning rate: 1e-06\n",
      "adams epsilon: 1e-07\n"
     ]
    }
   ],
   "source": [
    "# set the learning rate\n",
    "learning_rate = LEARNING_RATE\n",
    "\n",
    "# set the adam's epsilon\n",
    "# The term added to the denominator to improve numerical stability\n",
    "adam_epsilon = ADAMS_EPSILON\n",
    "\n",
    "# Load the AdamW optimizer\n",
    "optimizer = AdamW(model.parameters(),\n",
    "                  lr = learning_rate, # args.learning_rate \n",
    "                  eps = adam_epsilon # args.adam_epsilon \n",
    "                )\n",
    "\n",
    "print(f\"learning rate: {learning_rate}\")\n",
    "print(f\"adams epsilon: {adam_epsilon}\")"
   ]
  },
  {
   "cell_type": "markdown",
   "id": "adcbd5c7-5cd7-473a-8fa2-af42cbb62379",
   "metadata": {},
   "source": [
    "### 5. Set the Scheduler\n",
    "<p>\n",
    "A <font color=brown><b>scheduler</b></font> is to make <b>learning rate</b> <font color=blue>adaptive</font> to the gradient descent optimization procedure, so you can increase performance and reduce training time.\n",
    "    \n",
    "In <font color=brown>PyTorch</font>, a model is updated by an optimizer and learning rate is a parameter of the optimizer.\n",
    "\n",
    "<i>Learning rate schedule is an algorithm to update the learning rate in an optimizer</i>.\n",
    "</p>"
   ]
  },
  {
   "cell_type": "code",
   "execution_count": 244,
   "id": "d7a49b09-5a8a-468b-aba1-f71eabc89141",
   "metadata": {},
   "outputs": [
    {
     "name": "stdout",
     "output_type": "stream",
     "text": [
      "total steps: 9140\n"
     ]
    }
   ],
   "source": [
    "# Number of training epochs \n",
    "epochs = EPOCHS\n",
    "\n",
    "# Total number of training steps is number of batches * number of epochs.\n",
    "total_steps = len(train_dataloader) * epochs\n",
    "\n",
    "print(f\"total steps: {total_steps}\")\n",
    "\n",
    "# create the learning scheduler\n",
    "scheduler = get_linear_schedule_with_warmup(optimizer, \n",
    "                                            num_warmup_steps = 0,\n",
    "                                            num_training_steps = total_steps)"
   ]
  },
  {
   "cell_type": "markdown",
   "id": "1c96398b-ad32-444e-8e10-5654024927e4",
   "metadata": {},
   "source": [
    "### 6. Create the training loop \n",
    "<p>\n",
    "A typical <font color=brown>training loop</font> in PyTorch iterates over the batches for a given number of epochs.\n",
    "\n",
    "- In each batch iteration, we first compute the forward pass to obtain the neural network outputs.\n",
    "- Then, we reset the gradient from the previous iteration and perform backpropagation to obtain\n",
    "the gradient of the loss with respect to the model weights.\n",
    "- Finally, we update the weights based on the loss gradients using stochastic gradient descent.\n",
    "\n",
    "Since we are using learning scheduler for the adaptive learning rate, we call <font color=brown>scheduler.step()</font> to\n",
    "update the learning rate (as per the learning scheduler) after every epoch.\n",
    "</p>"
   ]
  },
  {
   "cell_type": "code",
   "execution_count": 245,
   "id": "ef398b87-de03-4f59-842a-296afd482611",
   "metadata": {},
   "outputs": [],
   "source": [
    "def train_loop(model, train_dataloader, optimizer, epochs, device=torch.device('cpu'), seed_val=42):\n",
    "    \n",
    "    # set the random seeds\n",
    "    random.seed(seed_val)\n",
    "    np.random.seed(seed_val)\n",
    "    torch.manual_seed(seed_val)\n",
    "\n",
    "    # initially set best model to model\n",
    "    # This model corresponds to the min loss model\n",
    "    best_model = model\n",
    "    # min loss function (initially set to a large value)\n",
    "    min_train_loss = 10000000\n",
    "    \n",
    "\n",
    "    # store loss values for each epoch\n",
    "    loss_values = []\n",
    "\n",
    "    for epoch_i in range(0, epochs):\n",
    "        print('======== Epoch {:} / {:} ========'.format(epoch_i + 1, epochs))\n",
    "        print('Training...')\n",
    "        # training loss\n",
    "        total_loss = 0\n",
    "    \n",
    "        # train mode\n",
    "        model.train()\n",
    "\n",
    "        for step, batch in enumerate(train_dataloader):\n",
    "            if step%40 == 0 and not step == 0:\n",
    "                # report progress of the training\n",
    "                print('  Batch {:>5,}  of  {:>5,}.'.format(step, len(train_dataloader)))\n",
    "\n",
    "                # batch input ids\n",
    "                batch_input_ids = batch['input_ids'].to(device)\n",
    "                # batch input mask\n",
    "                batch_input_mask = batch['attn_masks'].to(device)\n",
    "                # batch labels\n",
    "                batch_labels = batch['labels'].to(device)\n",
    "\n",
    "                # Zero the gradients to start fresh next time\n",
    "                model.zero_grad()\n",
    "\n",
    "                # get the output\n",
    "                outputs = model(batch_input_ids, token_type_ids=None,\n",
    "                                attention_mask=batch_input_mask, labels=batch_labels)\n",
    "                loss = outputs[0]\n",
    "                \n",
    "                # add the loss\n",
    "                total_loss += loss.item()\n",
    "            \n",
    "                # gradient computing step\n",
    "                # -----------------------\n",
    "                # loss.backward() computes dloss/dx for every parameter x which\n",
    "                # has requires_grad=True. These are accumulated into x.grad\n",
    "                # for every parameter x.\n",
    "                loss.backward()\n",
    "\n",
    "                # clips the norm of the overall gradient by concatenating all\n",
    "                # parameters passed to the function\n",
    "                torch.nn.utils.clip_grad_norm_(model.parameters(), 1.0)\n",
    "            \n",
    "                # Tell the optimizer the gradients, then step.\n",
    "                # Performs a single optimization step (parameter update)\n",
    "            optimizer.step()\n",
    "\n",
    "            # We need this step to dynamically change learning rate\n",
    "            # else it won’t be changed.\n",
    "            # To introduce a learning rate scheduler,\n",
    "            # you need to run its step() function in the training loop.\n",
    "            scheduler.step()\n",
    "        \n",
    "        # Compute the average training loss per instance\n",
    "        avg_train_loss = total_loss / len(train_dataloader)\n",
    "        loss_values.append(avg_train_loss)\n",
    "        print(\"  Average training loss: {0:.4f}\".format(avg_train_loss))\n",
    "\n",
    "        # track the min loss and update the best model accordingly\n",
    "        if avg_train_loss < min_train_loss:\n",
    "            print(\"updating the model\")\n",
    "            min_train_loss = avg_train_loss\n",
    "            # update the model\n",
    "            best_model = copy.deepcopy(model)\n",
    "        print(\"Minimum Average training loss: {0:.4f}\".format(avg_train_loss))\n",
    "\n",
    "    return loss_values, min_train_loss, best_model"
   ]
  },
  {
   "cell_type": "markdown",
   "id": "3a9f21e5-5ddd-4499-99e1-29a16853cae9",
   "metadata": {},
   "source": [
    "### 7. Training Phase"
   ]
  },
  {
   "cell_type": "code",
   "execution_count": 246,
   "id": "5070c7d5-4ae6-4949-9a60-c6118babe12f",
   "metadata": {},
   "outputs": [
    {
     "name": "stdout",
     "output_type": "stream",
     "text": [
      "======== Epoch 1 / 10 ========\n",
      "Training...\n",
      "  Batch    40  of    914.\n",
      "  Batch    80  of    914.\n",
      "  Batch   120  of    914.\n",
      "  Batch   160  of    914.\n",
      "  Batch   200  of    914.\n",
      "  Batch   240  of    914.\n",
      "  Batch   280  of    914.\n",
      "  Batch   320  of    914.\n",
      "  Batch   360  of    914.\n",
      "  Batch   400  of    914.\n",
      "  Batch   440  of    914.\n",
      "  Batch   480  of    914.\n",
      "  Batch   520  of    914.\n",
      "  Batch   560  of    914.\n",
      "  Batch   600  of    914.\n",
      "  Batch   640  of    914.\n",
      "  Batch   680  of    914.\n",
      "  Batch   720  of    914.\n",
      "  Batch   760  of    914.\n",
      "  Batch   800  of    914.\n",
      "  Batch   840  of    914.\n",
      "  Batch   880  of    914.\n",
      "  Average training loss: 0.0204\n",
      "updating the model\n",
      "Minimum Average training loss: 0.0204\n",
      "======== Epoch 2 / 10 ========\n",
      "Training...\n",
      "  Batch    40  of    914.\n",
      "  Batch    80  of    914.\n",
      "  Batch   120  of    914.\n",
      "  Batch   160  of    914.\n",
      "  Batch   200  of    914.\n",
      "  Batch   240  of    914.\n",
      "  Batch   280  of    914.\n",
      "  Batch   320  of    914.\n",
      "  Batch   360  of    914.\n",
      "  Batch   400  of    914.\n",
      "  Batch   440  of    914.\n",
      "  Batch   480  of    914.\n",
      "  Batch   520  of    914.\n",
      "  Batch   560  of    914.\n",
      "  Batch   600  of    914.\n",
      "  Batch   640  of    914.\n",
      "  Batch   680  of    914.\n",
      "  Batch   720  of    914.\n",
      "  Batch   760  of    914.\n",
      "  Batch   800  of    914.\n",
      "  Batch   840  of    914.\n",
      "  Batch   880  of    914.\n",
      "  Average training loss: 0.0083\n",
      "updating the model\n",
      "Minimum Average training loss: 0.0083\n",
      "======== Epoch 3 / 10 ========\n",
      "Training...\n",
      "  Batch    40  of    914.\n",
      "  Batch    80  of    914.\n",
      "  Batch   120  of    914.\n",
      "  Batch   160  of    914.\n",
      "  Batch   200  of    914.\n",
      "  Batch   240  of    914.\n",
      "  Batch   280  of    914.\n",
      "  Batch   320  of    914.\n",
      "  Batch   360  of    914.\n",
      "  Batch   400  of    914.\n",
      "  Batch   440  of    914.\n",
      "  Batch   480  of    914.\n",
      "  Batch   520  of    914.\n",
      "  Batch   560  of    914.\n",
      "  Batch   600  of    914.\n",
      "  Batch   640  of    914.\n",
      "  Batch   680  of    914.\n",
      "  Batch   720  of    914.\n",
      "  Batch   760  of    914.\n",
      "  Batch   800  of    914.\n",
      "  Batch   840  of    914.\n",
      "  Batch   880  of    914.\n",
      "  Average training loss: 0.0067\n",
      "updating the model\n",
      "Minimum Average training loss: 0.0067\n",
      "======== Epoch 4 / 10 ========\n",
      "Training...\n",
      "  Batch    40  of    914.\n",
      "  Batch    80  of    914.\n",
      "  Batch   120  of    914.\n",
      "  Batch   160  of    914.\n",
      "  Batch   200  of    914.\n",
      "  Batch   240  of    914.\n",
      "  Batch   280  of    914.\n",
      "  Batch   320  of    914.\n",
      "  Batch   360  of    914.\n",
      "  Batch   400  of    914.\n",
      "  Batch   440  of    914.\n",
      "  Batch   480  of    914.\n",
      "  Batch   520  of    914.\n",
      "  Batch   560  of    914.\n",
      "  Batch   600  of    914.\n",
      "  Batch   640  of    914.\n",
      "  Batch   680  of    914.\n",
      "  Batch   720  of    914.\n",
      "  Batch   760  of    914.\n",
      "  Batch   800  of    914.\n",
      "  Batch   840  of    914.\n",
      "  Batch   880  of    914.\n",
      "  Average training loss: 0.0061\n",
      "updating the model\n",
      "Minimum Average training loss: 0.0061\n",
      "======== Epoch 5 / 10 ========\n",
      "Training...\n",
      "  Batch    40  of    914.\n",
      "  Batch    80  of    914.\n",
      "  Batch   120  of    914.\n",
      "  Batch   160  of    914.\n",
      "  Batch   200  of    914.\n",
      "  Batch   240  of    914.\n",
      "  Batch   280  of    914.\n",
      "  Batch   320  of    914.\n",
      "  Batch   360  of    914.\n",
      "  Batch   400  of    914.\n",
      "  Batch   440  of    914.\n",
      "  Batch   480  of    914.\n",
      "  Batch   520  of    914.\n",
      "  Batch   560  of    914.\n",
      "  Batch   600  of    914.\n",
      "  Batch   640  of    914.\n",
      "  Batch   680  of    914.\n",
      "  Batch   720  of    914.\n",
      "  Batch   760  of    914.\n",
      "  Batch   800  of    914.\n",
      "  Batch   840  of    914.\n",
      "  Batch   880  of    914.\n",
      "  Average training loss: 0.0051\n",
      "updating the model\n",
      "Minimum Average training loss: 0.0051\n",
      "======== Epoch 6 / 10 ========\n",
      "Training...\n",
      "  Batch    40  of    914.\n",
      "  Batch    80  of    914.\n",
      "  Batch   120  of    914.\n",
      "  Batch   160  of    914.\n",
      "  Batch   200  of    914.\n",
      "  Batch   240  of    914.\n",
      "  Batch   280  of    914.\n",
      "  Batch   320  of    914.\n",
      "  Batch   360  of    914.\n",
      "  Batch   400  of    914.\n",
      "  Batch   440  of    914.\n",
      "  Batch   480  of    914.\n",
      "  Batch   520  of    914.\n",
      "  Batch   560  of    914.\n",
      "  Batch   600  of    914.\n",
      "  Batch   640  of    914.\n",
      "  Batch   680  of    914.\n",
      "  Batch   720  of    914.\n",
      "  Batch   760  of    914.\n",
      "  Batch   800  of    914.\n",
      "  Batch   840  of    914.\n",
      "  Batch   880  of    914.\n",
      "  Average training loss: 0.0051\n",
      "updating the model\n",
      "Minimum Average training loss: 0.0051\n",
      "======== Epoch 7 / 10 ========\n",
      "Training...\n",
      "  Batch    40  of    914.\n",
      "  Batch    80  of    914.\n",
      "  Batch   120  of    914.\n",
      "  Batch   160  of    914.\n",
      "  Batch   200  of    914.\n",
      "  Batch   240  of    914.\n",
      "  Batch   280  of    914.\n",
      "  Batch   320  of    914.\n",
      "  Batch   360  of    914.\n",
      "  Batch   400  of    914.\n",
      "  Batch   440  of    914.\n",
      "  Batch   480  of    914.\n",
      "  Batch   520  of    914.\n",
      "  Batch   560  of    914.\n",
      "  Batch   600  of    914.\n",
      "  Batch   640  of    914.\n",
      "  Batch   680  of    914.\n",
      "  Batch   720  of    914.\n",
      "  Batch   760  of    914.\n",
      "  Batch   800  of    914.\n",
      "  Batch   840  of    914.\n",
      "  Batch   880  of    914.\n",
      "  Average training loss: 0.0049\n",
      "updating the model\n",
      "Minimum Average training loss: 0.0049\n",
      "======== Epoch 8 / 10 ========\n",
      "Training...\n",
      "  Batch    40  of    914.\n",
      "  Batch    80  of    914.\n",
      "  Batch   120  of    914.\n",
      "  Batch   160  of    914.\n",
      "  Batch   200  of    914.\n",
      "  Batch   240  of    914.\n",
      "  Batch   280  of    914.\n",
      "  Batch   320  of    914.\n",
      "  Batch   360  of    914.\n",
      "  Batch   400  of    914.\n",
      "  Batch   440  of    914.\n",
      "  Batch   480  of    914.\n",
      "  Batch   520  of    914.\n",
      "  Batch   560  of    914.\n",
      "  Batch   600  of    914.\n",
      "  Batch   640  of    914.\n",
      "  Batch   680  of    914.\n",
      "  Batch   720  of    914.\n",
      "  Batch   760  of    914.\n",
      "  Batch   800  of    914.\n",
      "  Batch   840  of    914.\n",
      "  Batch   880  of    914.\n",
      "  Average training loss: 0.0047\n",
      "updating the model\n",
      "Minimum Average training loss: 0.0047\n",
      "======== Epoch 9 / 10 ========\n",
      "Training...\n",
      "  Batch    40  of    914.\n",
      "  Batch    80  of    914.\n",
      "  Batch   120  of    914.\n",
      "  Batch   160  of    914.\n",
      "  Batch   200  of    914.\n",
      "  Batch   240  of    914.\n",
      "  Batch   280  of    914.\n",
      "  Batch   320  of    914.\n",
      "  Batch   360  of    914.\n",
      "  Batch   400  of    914.\n",
      "  Batch   440  of    914.\n",
      "  Batch   480  of    914.\n",
      "  Batch   520  of    914.\n",
      "  Batch   560  of    914.\n",
      "  Batch   600  of    914.\n",
      "  Batch   640  of    914.\n",
      "  Batch   680  of    914.\n",
      "  Batch   720  of    914.\n",
      "  Batch   760  of    914.\n",
      "  Batch   800  of    914.\n",
      "  Batch   840  of    914.\n",
      "  Batch   880  of    914.\n",
      "  Average training loss: 0.0044\n",
      "updating the model\n",
      "Minimum Average training loss: 0.0044\n",
      "======== Epoch 10 / 10 ========\n",
      "Training...\n",
      "  Batch    40  of    914.\n",
      "  Batch    80  of    914.\n",
      "  Batch   120  of    914.\n",
      "  Batch   160  of    914.\n",
      "  Batch   200  of    914.\n",
      "  Batch   240  of    914.\n",
      "  Batch   280  of    914.\n",
      "  Batch   320  of    914.\n",
      "  Batch   360  of    914.\n",
      "  Batch   400  of    914.\n",
      "  Batch   440  of    914.\n",
      "  Batch   480  of    914.\n",
      "  Batch   520  of    914.\n",
      "  Batch   560  of    914.\n",
      "  Batch   600  of    914.\n",
      "  Batch   640  of    914.\n",
      "  Batch   680  of    914.\n",
      "  Batch   720  of    914.\n",
      "  Batch   760  of    914.\n",
      "  Batch   800  of    914.\n",
      "  Batch   840  of    914.\n",
      "  Batch   880  of    914.\n",
      "  Average training loss: 0.0052\n",
      "Minimum Average training loss: 0.0052\n"
     ]
    }
   ],
   "source": [
    "avg_train_loss, min_avg_train_loss, best_model = train_loop(model, train_dataloader, optimizer,  epochs, device=device, seed_val=42)"
   ]
  },
  {
   "cell_type": "markdown",
   "id": "2909ab29-f882-4aa1-8ac5-f8f93e861993",
   "metadata": {},
   "source": [
    "### 8. Draw the graph for training loss to see its progress after every epoch"
   ]
  },
  {
   "cell_type": "code",
   "execution_count": 247,
   "id": "a0c1022d-0a9c-4db8-ae66-6f21d339f7de",
   "metadata": {},
   "outputs": [
    {
     "data": {
      "image/png": "[encoded data removed]",
      "text/plain": [
       "<Figure size 800x400 with 1 Axes>"
      ]
     },
     "metadata": {},
     "output_type": "display_data"
    }
   ],
   "source": [
    "%matplotlib inline\n",
    "fig, ax = plt.subplots(figsize=(8, 4))\n",
    "# Use plot styling from seaborn.\n",
    "sns.set(style='darkgrid')\n",
    "\n",
    "# Increase the plot size and font size.\n",
    "sns.set(font_scale=1.5)\n",
    "\n",
    "# Plot the learning curve.\n",
    "plt.plot(avg_train_loss, 'b-o')\n",
    "\n",
    "# Label the plot.\n",
    "plt.title(\"Average Training loss\")\n",
    "plt.xlabel(\"Epoch\")\n",
    "plt.ylabel(\"Loss\")\n",
    "\n",
    "plt.show()"
   ]
  },
  {
   "cell_type": "markdown",
   "id": "c1bc6375-7a2c-43e4-a3e6-f2a10d5126a4",
   "metadata": {},
   "source": [
    "#### 8.1. Let see the specification of best model"
   ]
  },
  {
   "cell_type": "code",
   "execution_count": 1376,
   "id": "e6855800-19ad-453d-90eb-80334bfd9415",
   "metadata": {},
   "outputs": [
    {
     "name": "stdout",
     "output_type": "stream",
     "text": [
      "BertForTokenClassification(\n",
      "  (bert): BertModel(\n",
      "    (embeddings): BertEmbeddings(\n",
      "      (word_embeddings): Embedding(30522, 768, padding_idx=0)\n",
      "      (position_embeddings): Embedding(512, 768)\n",
      "      (token_type_embeddings): Embedding(2, 768)\n",
      "      (LayerNorm): LayerNorm((768,), eps=1e-12, elementwise_affine=True)\n",
      "      (dropout): Dropout(p=0.1, inplace=False)\n",
      "    )\n",
      "    (encoder): BertEncoder(\n",
      "      (layer): ModuleList(\n",
      "        (0-11): 12 x BertLayer(\n",
      "          (attention): BertAttention(\n",
      "            (self): BertSdpaSelfAttention(\n",
      "              (query): Linear(in_features=768, out_features=768, bias=True)\n",
      "              (key): Linear(in_features=768, out_features=768, bias=True)\n",
      "              (value): Linear(in_features=768, out_features=768, bias=True)\n",
      "              (dropout): Dropout(p=0.1, inplace=False)\n",
      "            )\n",
      "            (output): BertSelfOutput(\n",
      "              (dense): Linear(in_features=768, out_features=768, bias=True)\n",
      "              (LayerNorm): LayerNorm((768,), eps=1e-12, elementwise_affine=True)\n",
      "              (dropout): Dropout(p=0.1, inplace=False)\n",
      "            )\n",
      "          )\n",
      "          (intermediate): BertIntermediate(\n",
      "            (dense): Linear(in_features=768, out_features=3072, bias=True)\n",
      "            (intermediate_act_fn): GELUActivation()\n",
      "          )\n",
      "          (output): BertOutput(\n",
      "            (dense): Linear(in_features=3072, out_features=768, bias=True)\n",
      "            (LayerNorm): LayerNorm((768,), eps=1e-12, elementwise_affine=True)\n",
      "            (dropout): Dropout(p=0.1, inplace=False)\n",
      "          )\n",
      "        )\n",
      "      )\n",
      "    )\n",
      "  )\n",
      "  (dropout): Dropout(p=0.1, inplace=False)\n",
      "  (classifier): Linear(in_features=768, out_features=10, bias=True)\n",
      ")\n"
     ]
    }
   ],
   "source": [
    "print(best_model)"
   ]
  },
  {
   "cell_type": "markdown",
   "id": "08643b5f-4229-46a0-a6ea-fcc22a4772aa",
   "metadata": {},
   "source": [
    "## I. Evaluation"
   ]
  },
  {
   "cell_type": "markdown",
   "id": "809953b1-7e1f-4d5b-9ff9-887ccbf4ea5d",
   "metadata": {},
   "source": [
    "### 1. Create the Evaluation Function"
   ]
  },
  {
   "cell_type": "code",
   "execution_count": 248,
   "id": "0422c156-8232-4bd1-90b2-58e9ff8b4a91",
   "metadata": {},
   "outputs": [],
   "source": [
    "def eval_fn(model, test_dataloader):\n",
    "    # put model in evaluation mode\n",
    "    model.eval()\n",
    "    \n",
    "    eval_loss, eval_accuracy = 0, 0\n",
    "    nb_eval_examples, nb_eval_steps = 0, 0\n",
    "    eval_preds, eval_labels = [], []\n",
    "\n",
    "    with torch.no_grad():\n",
    "        for idx, batch in enumerate(test_dataloader):\n",
    "            \n",
    "            ids = batch['input_ids'].to(device, dtype = torch.long)\n",
    "            mask = batch['attn_masks'].to(device, dtype = torch.long)\n",
    "            targets = batch['labels'].to(device, dtype = torch.long)\n",
    "            \n",
    "            outputs = model(input_ids=ids, attention_mask=mask, labels=targets)\n",
    "            loss, eval_logits = outputs.loss, outputs.logits\n",
    "            \n",
    "            eval_loss += loss.item()\n",
    "\n",
    "            nb_eval_steps += 1\n",
    "            nb_eval_examples += targets.size(0)\n",
    "        \n",
    "            if idx % 40==0:\n",
    "                loss_step = eval_loss/nb_eval_steps\n",
    "                print(f\"Validation loss per 100 evaluation steps: {loss_step}\")\n",
    "              \n",
    "            # compute evaluation accuracy\n",
    "            flattened_targets = targets.view(-1) # shape (batch_size * seq_len,)\n",
    "            active_logits = eval_logits.view(-1, model.num_labels) # shape (batch_size * seq_len, num_labels)\n",
    "            flattened_predictions = torch.argmax(active_logits, axis=1) # shape (batch_size * seq_len,)\n",
    "\n",
    "            # now, use mask to determine where we should compare predictions with\n",
    "            # targets (includes [CLS] and [SEP] token predictions)\n",
    "            active_accuracy = mask.view(-1) == 1 # active accuracy is also of shape (batch_size * seq_len,)\n",
    "\n",
    "            # actual targets\n",
    "            targets = torch.masked_select(flattened_targets, active_accuracy).cpu().numpy()\n",
    "            # actual preicted labels\n",
    "            predictions = torch.masked_select(flattened_predictions, active_accuracy).cpu().numpy()\n",
    "            \n",
    "\n",
    "            real_tar_ = []\n",
    "            real_pred_ = []\n",
    "\n",
    "            for t,p in zip(targets, predictions):\n",
    "                if t != -100:\n",
    "                    real_tar_.append(t)\n",
    "                    real_pred_.append(p)\n",
    "            \n",
    "            eval_labels.extend(real_tar_)\n",
    "            eval_preds.extend(real_pred_)\n",
    "            \n",
    "            tmp_eval_accuracy = accuracy_score(real_tar_, real_pred_)\n",
    "            eval_accuracy += tmp_eval_accuracy\n",
    "\n",
    "    \n",
    "    eval_loss = eval_loss / nb_eval_steps\n",
    "    eval_accuracy = eval_accuracy / nb_eval_steps\n",
    "    print(f\"Validation Loss: {eval_loss}\")\n",
    "    print(f\"Validation Accuracy: {eval_accuracy}\")\n",
    "\n",
    "    return eval_labels, eval_preds"
   ]
  },
  {
   "cell_type": "markdown",
   "id": "f562c88c-9443-4160-ac52-6f5f8a562452",
   "metadata": {},
   "source": [
    "### 2. Check Performance of model on Validation Dataset"
   ]
  },
  {
   "cell_type": "code",
   "execution_count": 249,
   "id": "be4f1161-a937-4446-b22a-071836166cbc",
   "metadata": {},
   "outputs": [
    {
     "name": "stdout",
     "output_type": "stream",
     "text": [
      "Validation loss per 100 evaluation steps: 0.11559396982192993\n",
      "Validation loss per 100 evaluation steps: 0.21069237180962797\n",
      "Validation loss per 100 evaluation steps: 0.1974116121361285\n",
      "Validation loss per 100 evaluation steps: 0.19573622757245687\n",
      "Validation loss per 100 evaluation steps: 0.201709726877418\n",
      "Validation loss per 100 evaluation steps: 0.2082493796027196\n",
      "Validation loss per 100 evaluation steps: 0.20963860329827952\n",
      "Validation loss per 100 evaluation steps: 0.20809228879687944\n",
      "Validation loss per 100 evaluation steps: 0.20440610254189215\n",
      "Validation loss per 100 evaluation steps: 0.20427858004723146\n",
      "Validation loss per 100 evaluation steps: 0.20348527806664718\n",
      "Validation loss per 100 evaluation steps: 0.20262921747251028\n",
      "Validation loss per 100 evaluation steps: 0.19953706348605316\n",
      "Validation loss per 100 evaluation steps: 0.19733238270266729\n",
      "Validation loss per 100 evaluation steps: 0.19436683216250092\n",
      "Validation loss per 100 evaluation steps: 0.1965586005674424\n",
      "Validation loss per 100 evaluation steps: 0.19487608940443735\n",
      "Validation loss per 100 evaluation steps: 0.19719224317592846\n",
      "Validation loss per 100 evaluation steps: 0.19671540754497174\n",
      "Validation loss per 100 evaluation steps: 0.19542186320410568\n",
      "Validation loss per 100 evaluation steps: 0.19628993435396572\n",
      "Validation Loss: 0.19733911093549225\n",
      "Validation Accuracy: 0.9416641116888652\n"
     ]
    }
   ],
   "source": [
    "true_labels, pred_labels = eval_fn(best_model, valid_dataloader)"
   ]
  },
  {
   "cell_type": "markdown",
   "id": "2d2a82b1-4ad7-4efb-a34c-4307271298c7",
   "metadata": {},
   "source": [
    "### 3. Compute the classification report "
   ]
  },
  {
   "cell_type": "code",
   "execution_count": 251,
   "id": "45e1e9a9-364a-4a4e-aa51-1d9d13b921e0",
   "metadata": {},
   "outputs": [],
   "source": [
    "def print_full_classification_report(true_labels, pred_labels, zero_division=np.nan):\n",
    "    # computing the accuracy\n",
    "    accuracy = accuracy_score(y_true=true_labels, y_pred=pred_labels, )\n",
    "\n",
    "    print(\"\\naccuracy score {:.3%}\".format(accuracy))\n",
    "    \n",
    "    # compute the macro precision\n",
    "    macro_precision = precision_score(y_true=true_labels, y_pred=pred_labels, average='macro',\n",
    "                                      zero_division=zero_division)\n",
    "    # compute the macro recall\n",
    "    macro_recall = recall_score(y_true=true_labels, y_pred=pred_labels, average='macro',)\n",
    "    # compute the macro f1_score\n",
    "    macro_f1_score = f1_score(y_true = true_labels, y_pred = pred_labels, average='macro')\n",
    "\n",
    "    print(\"\\n----- macro scores --------\")\n",
    "    print(\"macro precision score: {:.3%}\".format(macro_precision))\n",
    "    print(\"macro recall score: {:.3%}\".format(macro_recall))\n",
    "    print(\"macro f1 score: {:.3%}\".format(macro_f1_score))\n",
    "\n",
    "    # ---- micro scores -------\n",
    "    micro_precision = precision_score(y_true=true_labels, y_pred=pred_labels, average='micro',\n",
    "                                      zero_division=zero_division)\n",
    "\n",
    "    micro_recall = recall_score(y_true=true_labels, y_pred=pred_labels, average='micro')\n",
    "\n",
    "    micro_f1_score = f1_score(y_true = true_labels, y_pred = pred_labels, average='micro')\n",
    "\n",
    "\n",
    "    print(\"\\n----- micro scores --------\")\n",
    "    print(\"micro precision score: {:.2%}\".format(micro_precision))\n",
    "    print(\"micro recall score: {:.2%}\".format(micro_recall))\n",
    "    print(\"micro f1 score: {:.2%}\".format(micro_f1_score))\n",
    "\n",
    "    # ------ weighted scores------\n",
    "    wt_precision = precision_score(y_true=true_labels, y_pred=pred_labels, average='weighted',\n",
    "                                             zero_division=zero_division)\n",
    "\n",
    "    wt_recall = recall_score(y_true=true_labels, y_pred=pred_labels, average='weighted')\n",
    "\n",
    "    wt_f1_score = f1_score(y_true = true_labels, y_pred = pred_labels, average='weighted')\n",
    "\n",
    "    print(\"\\n----- weighted scores --------\")\n",
    "    print(\"weighted precision score: {:.2%}\".format(wt_precision))\n",
    "    print(\"weighted recall score: {:.2%}\".format(wt_recall))\n",
    "    print(\"weighted f1 score: {:.2%}\".format(wt_f1_score))"
   ]
  },
  {
   "cell_type": "code",
   "execution_count": 252,
   "id": "373ced73-7e2c-4cf5-8ed1-613437ea4161",
   "metadata": {},
   "outputs": [
    {
     "name": "stdout",
     "output_type": "stream",
     "text": [
      "\n",
      "Evaluation Metrics for Validation DataSet\n",
      "=========================================\n",
      "\n",
      "accuracy score 94.097%\n",
      "\n",
      "----- macro scores --------\n",
      "macro precision score: 79.881%\n",
      "macro recall score: 76.577%\n",
      "macro f1 score: 77.804%\n",
      "\n",
      "----- micro scores --------\n",
      "micro precision score: 94.10%\n",
      "micro recall score: 94.10%\n",
      "micro f1 score: 94.10%\n",
      "\n",
      "----- weighted scores --------\n",
      "weighted precision score: 94.04%\n",
      "weighted recall score: 94.10%\n",
      "weighted f1 score: 94.01%\n"
     ]
    }
   ],
   "source": [
    "print(\"\\nEvaluation Metrics for Validation DataSet\")\n",
    "print(\"=========================================\")\n",
    "print_full_classification_report(true_labels, pred_labels)"
   ]
  },
  {
   "cell_type": "markdown",
   "id": "9d471957-55cb-4296-b5a6-7286dda37774",
   "metadata": {},
   "source": [
    "### 4. Compute Classification report at label level"
   ]
  },
  {
   "cell_type": "code",
   "execution_count": 253,
   "id": "4773fa80-0274-4689-8b02-4335836db3aa",
   "metadata": {},
   "outputs": [
    {
     "name": "stdout",
     "output_type": "stream",
     "text": [
      "\n",
      "Label-Wise Evaluation Metrics for Validation DataSet\n",
      "Classification Report for each label\n",
      "\n",
      "              precision    recall  f1-score   support\n",
      "\n",
      "           O       0.98      0.98      0.98     65591\n",
      "       B-geo       0.80      0.87      0.83      4592\n",
      "       B-gpe       0.87      0.86      0.86      1393\n",
      "       B-per       0.81      0.85      0.83      2047\n",
      "       I-geo       0.73      0.61      0.66       742\n",
      "       B-org       0.70      0.64      0.67      2589\n",
      "       I-org       0.65      0.57      0.61      1607\n",
      "       B-tim       0.86      0.82      0.84      1816\n",
      "       I-per       0.81      0.94      0.87      2589\n",
      "       I-tim       0.78      0.52      0.63       561\n",
      "\n",
      "    accuracy                           0.94     83527\n",
      "   macro avg       0.80      0.77      0.78     83527\n",
      "weighted avg       0.94      0.94      0.94     83527\n",
      "\n"
     ]
    }
   ],
   "source": [
    "from sklearn.metrics import classification_report\n",
    "\n",
    "clf_report_for_valid = classification_report(y_true=true_labels,\n",
    "                                             y_pred=pred_labels,\n",
    "                                             labels=[x for x in range(len(label2id))],\n",
    "                                             target_names=list(label2id.keys()),\n",
    "                                             zero_division=0\n",
    "                                            )\n",
    "print(\"\\nLabel-Wise Evaluation Metrics for Validation DataSet\")\n",
    "print(\"Classification Report for each label\\n\")\n",
    "print(clf_report_for_valid)"
   ]
  },
  {
   "cell_type": "markdown",
   "id": "5258969e-fdb6-43d0-9c22-30943b181974",
   "metadata": {},
   "source": [
    "### 5. Confusion Matrix"
   ]
  },
  {
   "cell_type": "markdown",
   "id": "13b2ca0b-6896-4f08-ba9d-afa2ebd3c975",
   "metadata": {},
   "source": [
    "#### 5.1. Compute Multi-Label Confusion Matrix"
   ]
  },
  {
   "cell_type": "code",
   "execution_count": 254,
   "id": "23ffefe7-1660-4b2a-a57a-4e8c4879fc82",
   "metadata": {},
   "outputs": [
    {
     "name": "stdout",
     "output_type": "stream",
     "text": [
      "Confusion Matrix DataFrame\n"
     ]
    },
    {
     "data": {
      "text/html": [
       "<div>\n",
       "<style scoped>\n",
       "    .dataframe tbody tr th:only-of-type {\n",
       "        vertical-align: middle;\n",
       "    }\n",
       "\n",
       "    .dataframe tbody tr th {\n",
       "        vertical-align: top;\n",
       "    }\n",
       "\n",
       "    .dataframe thead th {\n",
       "        text-align: right;\n",
       "    }\n",
       "</style>\n",
       "<table border=\"1\" class=\"dataframe\">\n",
       "  <thead>\n",
       "    <tr style=\"text-align: right;\">\n",
       "      <th></th>\n",
       "      <th>O</th>\n",
       "      <th>B-geo</th>\n",
       "      <th>B-gpe</th>\n",
       "      <th>B-per</th>\n",
       "      <th>I-geo</th>\n",
       "      <th>B-org</th>\n",
       "      <th>I-org</th>\n",
       "      <th>B-tim</th>\n",
       "      <th>I-per</th>\n",
       "      <th>I-tim</th>\n",
       "    </tr>\n",
       "  </thead>\n",
       "  <tbody>\n",
       "    <tr>\n",
       "      <th>O</th>\n",
       "      <td>64438</td>\n",
       "      <td>139</td>\n",
       "      <td>59</td>\n",
       "      <td>73</td>\n",
       "      <td>39</td>\n",
       "      <td>318</td>\n",
       "      <td>306</td>\n",
       "      <td>124</td>\n",
       "      <td>50</td>\n",
       "      <td>45</td>\n",
       "    </tr>\n",
       "    <tr>\n",
       "      <th>B-geo</th>\n",
       "      <td>147</td>\n",
       "      <td>3989</td>\n",
       "      <td>37</td>\n",
       "      <td>81</td>\n",
       "      <td>49</td>\n",
       "      <td>211</td>\n",
       "      <td>13</td>\n",
       "      <td>5</td>\n",
       "      <td>53</td>\n",
       "      <td>7</td>\n",
       "    </tr>\n",
       "    <tr>\n",
       "      <th>B-gpe</th>\n",
       "      <td>4</td>\n",
       "      <td>174</td>\n",
       "      <td>1193</td>\n",
       "      <td>0</td>\n",
       "      <td>8</td>\n",
       "      <td>11</td>\n",
       "      <td>3</td>\n",
       "      <td>0</td>\n",
       "      <td>0</td>\n",
       "      <td>0</td>\n",
       "    </tr>\n",
       "    <tr>\n",
       "      <th>B-per</th>\n",
       "      <td>75</td>\n",
       "      <td>36</td>\n",
       "      <td>9</td>\n",
       "      <td>1743</td>\n",
       "      <td>1</td>\n",
       "      <td>77</td>\n",
       "      <td>11</td>\n",
       "      <td>0</td>\n",
       "      <td>95</td>\n",
       "      <td>0</td>\n",
       "    </tr>\n",
       "    <tr>\n",
       "      <th>I-geo</th>\n",
       "      <td>55</td>\n",
       "      <td>86</td>\n",
       "      <td>5</td>\n",
       "      <td>2</td>\n",
       "      <td>450</td>\n",
       "      <td>4</td>\n",
       "      <td>75</td>\n",
       "      <td>0</td>\n",
       "      <td>64</td>\n",
       "      <td>1</td>\n",
       "    </tr>\n",
       "    <tr>\n",
       "      <th>B-org</th>\n",
       "      <td>187</td>\n",
       "      <td>468</td>\n",
       "      <td>55</td>\n",
       "      <td>125</td>\n",
       "      <td>2</td>\n",
       "      <td>1651</td>\n",
       "      <td>45</td>\n",
       "      <td>4</td>\n",
       "      <td>49</td>\n",
       "      <td>3</td>\n",
       "    </tr>\n",
       "    <tr>\n",
       "      <th>I-org</th>\n",
       "      <td>200</td>\n",
       "      <td>61</td>\n",
       "      <td>16</td>\n",
       "      <td>35</td>\n",
       "      <td>53</td>\n",
       "      <td>71</td>\n",
       "      <td>923</td>\n",
       "      <td>1</td>\n",
       "      <td>247</td>\n",
       "      <td>0</td>\n",
       "    </tr>\n",
       "    <tr>\n",
       "      <th>B-tim</th>\n",
       "      <td>236</td>\n",
       "      <td>41</td>\n",
       "      <td>0</td>\n",
       "      <td>3</td>\n",
       "      <td>1</td>\n",
       "      <td>6</td>\n",
       "      <td>5</td>\n",
       "      <td>1492</td>\n",
       "      <td>6</td>\n",
       "      <td>26</td>\n",
       "    </tr>\n",
       "    <tr>\n",
       "      <th>I-per</th>\n",
       "      <td>24</td>\n",
       "      <td>2</td>\n",
       "      <td>2</td>\n",
       "      <td>93</td>\n",
       "      <td>12</td>\n",
       "      <td>1</td>\n",
       "      <td>31</td>\n",
       "      <td>0</td>\n",
       "      <td>2424</td>\n",
       "      <td>0</td>\n",
       "    </tr>\n",
       "    <tr>\n",
       "      <th>I-tim</th>\n",
       "      <td>127</td>\n",
       "      <td>15</td>\n",
       "      <td>2</td>\n",
       "      <td>0</td>\n",
       "      <td>0</td>\n",
       "      <td>2</td>\n",
       "      <td>5</td>\n",
       "      <td>117</td>\n",
       "      <td>0</td>\n",
       "      <td>293</td>\n",
       "    </tr>\n",
       "  </tbody>\n",
       "</table>\n",
       "</div>"
      ],
      "text/plain": [
       "           O  B-geo  B-gpe  B-per  I-geo  B-org  I-org  B-tim  I-per  I-tim\n",
       "O      64438    139     59     73     39    318    306    124     50     45\n",
       "B-geo    147   3989     37     81     49    211     13      5     53      7\n",
       "B-gpe      4    174   1193      0      8     11      3      0      0      0\n",
       "B-per     75     36      9   1743      1     77     11      0     95      0\n",
       "I-geo     55     86      5      2    450      4     75      0     64      1\n",
       "B-org    187    468     55    125      2   1651     45      4     49      3\n",
       "I-org    200     61     16     35     53     71    923      1    247      0\n",
       "B-tim    236     41      0      3      1      6      5   1492      6     26\n",
       "I-per     24      2      2     93     12      1     31      0   2424      0\n",
       "I-tim    127     15      2      0      0      2      5    117      0    293"
      ]
     },
     "metadata": {},
     "output_type": "display_data"
    }
   ],
   "source": [
    "label_names_ = list(label2id.keys())\n",
    "label_ids_ = [i for i in range(len(label_names_))]\n",
    "\n",
    "# compute confusion matrix collectively\n",
    "cm_for_valid = confusion_matrix(y_true=true_labels,\n",
    "                                y_pred=pred_labels,\n",
    "                                labels=label_ids_,\n",
    "                               )\n",
    "\n",
    "# compute NORMALIZE (row) confusion matrix collectively\n",
    "cm_for_valid_norm = confusion_matrix(y_true=true_labels,\n",
    "                                y_pred=pred_labels,\n",
    "                                labels=label_ids_,\n",
    "                                normalize='true'\n",
    "                               )\n",
    "\n",
    "df_cm_for_valid = pd.DataFrame(cm_for_valid, index=label_names_, columns=label_names_)\n",
    "df_cm_for_valid_norm = pd.DataFrame(cm_for_valid_norm, index=label_names_, columns=label_names_)\n",
    "\n",
    "print(\"Confusion Matrix DataFrame\")\n",
    "display(df_cm_for_valid)"
   ]
  },
  {
   "cell_type": "markdown",
   "id": "051ace2f-a88f-4dac-a5ce-bbb0ed440bf2",
   "metadata": {},
   "source": [
    "#### 5.2 Normalize - Confusion Matrix"
   ]
  },
  {
   "cell_type": "code",
   "execution_count": 255,
   "id": "13f1ffa8-e49d-4e36-b184-89026cbaacde",
   "metadata": {},
   "outputs": [
    {
     "name": "stdout",
     "output_type": "stream",
     "text": [
      "\n",
      "Confusion Matrix DataFrame - Normalize\n"
     ]
    },
    {
     "data": {
      "text/html": [
       "<div>\n",
       "<style scoped>\n",
       "    .dataframe tbody tr th:only-of-type {\n",
       "        vertical-align: middle;\n",
       "    }\n",
       "\n",
       "    .dataframe tbody tr th {\n",
       "        vertical-align: top;\n",
       "    }\n",
       "\n",
       "    .dataframe thead th {\n",
       "        text-align: right;\n",
       "    }\n",
       "</style>\n",
       "<table border=\"1\" class=\"dataframe\">\n",
       "  <thead>\n",
       "    <tr style=\"text-align: right;\">\n",
       "      <th></th>\n",
       "      <th>O</th>\n",
       "      <th>B-geo</th>\n",
       "      <th>B-gpe</th>\n",
       "      <th>B-per</th>\n",
       "      <th>I-geo</th>\n",
       "      <th>B-org</th>\n",
       "      <th>I-org</th>\n",
       "      <th>B-tim</th>\n",
       "      <th>I-per</th>\n",
       "      <th>I-tim</th>\n",
       "    </tr>\n",
       "  </thead>\n",
       "  <tbody>\n",
       "    <tr>\n",
       "      <th>O</th>\n",
       "      <td>0.982421</td>\n",
       "      <td>0.002119</td>\n",
       "      <td>0.000900</td>\n",
       "      <td>0.001113</td>\n",
       "      <td>0.000595</td>\n",
       "      <td>0.004848</td>\n",
       "      <td>0.004665</td>\n",
       "      <td>0.001891</td>\n",
       "      <td>0.000762</td>\n",
       "      <td>0.000686</td>\n",
       "    </tr>\n",
       "    <tr>\n",
       "      <th>B-geo</th>\n",
       "      <td>0.032012</td>\n",
       "      <td>0.868685</td>\n",
       "      <td>0.008057</td>\n",
       "      <td>0.017639</td>\n",
       "      <td>0.010671</td>\n",
       "      <td>0.045949</td>\n",
       "      <td>0.002831</td>\n",
       "      <td>0.001089</td>\n",
       "      <td>0.011542</td>\n",
       "      <td>0.001524</td>\n",
       "    </tr>\n",
       "    <tr>\n",
       "      <th>B-gpe</th>\n",
       "      <td>0.002872</td>\n",
       "      <td>0.124910</td>\n",
       "      <td>0.856425</td>\n",
       "      <td>0.000000</td>\n",
       "      <td>0.005743</td>\n",
       "      <td>0.007897</td>\n",
       "      <td>0.002154</td>\n",
       "      <td>0.000000</td>\n",
       "      <td>0.000000</td>\n",
       "      <td>0.000000</td>\n",
       "    </tr>\n",
       "    <tr>\n",
       "      <th>B-per</th>\n",
       "      <td>0.036639</td>\n",
       "      <td>0.017587</td>\n",
       "      <td>0.004397</td>\n",
       "      <td>0.851490</td>\n",
       "      <td>0.000489</td>\n",
       "      <td>0.037616</td>\n",
       "      <td>0.005374</td>\n",
       "      <td>0.000000</td>\n",
       "      <td>0.046409</td>\n",
       "      <td>0.000000</td>\n",
       "    </tr>\n",
       "    <tr>\n",
       "      <th>I-geo</th>\n",
       "      <td>0.074124</td>\n",
       "      <td>0.115903</td>\n",
       "      <td>0.006739</td>\n",
       "      <td>0.002695</td>\n",
       "      <td>0.606469</td>\n",
       "      <td>0.005391</td>\n",
       "      <td>0.101078</td>\n",
       "      <td>0.000000</td>\n",
       "      <td>0.086253</td>\n",
       "      <td>0.001348</td>\n",
       "    </tr>\n",
       "    <tr>\n",
       "      <th>B-org</th>\n",
       "      <td>0.072229</td>\n",
       "      <td>0.180765</td>\n",
       "      <td>0.021244</td>\n",
       "      <td>0.048281</td>\n",
       "      <td>0.000772</td>\n",
       "      <td>0.637698</td>\n",
       "      <td>0.017381</td>\n",
       "      <td>0.001545</td>\n",
       "      <td>0.018926</td>\n",
       "      <td>0.001159</td>\n",
       "    </tr>\n",
       "    <tr>\n",
       "      <th>I-org</th>\n",
       "      <td>0.124456</td>\n",
       "      <td>0.037959</td>\n",
       "      <td>0.009956</td>\n",
       "      <td>0.021780</td>\n",
       "      <td>0.032981</td>\n",
       "      <td>0.044182</td>\n",
       "      <td>0.574362</td>\n",
       "      <td>0.000622</td>\n",
       "      <td>0.153703</td>\n",
       "      <td>0.000000</td>\n",
       "    </tr>\n",
       "    <tr>\n",
       "      <th>B-tim</th>\n",
       "      <td>0.129956</td>\n",
       "      <td>0.022577</td>\n",
       "      <td>0.000000</td>\n",
       "      <td>0.001652</td>\n",
       "      <td>0.000551</td>\n",
       "      <td>0.003304</td>\n",
       "      <td>0.002753</td>\n",
       "      <td>0.821586</td>\n",
       "      <td>0.003304</td>\n",
       "      <td>0.014317</td>\n",
       "    </tr>\n",
       "    <tr>\n",
       "      <th>I-per</th>\n",
       "      <td>0.009270</td>\n",
       "      <td>0.000772</td>\n",
       "      <td>0.000772</td>\n",
       "      <td>0.035921</td>\n",
       "      <td>0.004635</td>\n",
       "      <td>0.000386</td>\n",
       "      <td>0.011974</td>\n",
       "      <td>0.000000</td>\n",
       "      <td>0.936269</td>\n",
       "      <td>0.000000</td>\n",
       "    </tr>\n",
       "    <tr>\n",
       "      <th>I-tim</th>\n",
       "      <td>0.226381</td>\n",
       "      <td>0.026738</td>\n",
       "      <td>0.003565</td>\n",
       "      <td>0.000000</td>\n",
       "      <td>0.000000</td>\n",
       "      <td>0.003565</td>\n",
       "      <td>0.008913</td>\n",
       "      <td>0.208556</td>\n",
       "      <td>0.000000</td>\n",
       "      <td>0.522282</td>\n",
       "    </tr>\n",
       "  </tbody>\n",
       "</table>\n",
       "</div>"
      ],
      "text/plain": [
       "              O     B-geo     B-gpe     B-per     I-geo     B-org     I-org  \\\n",
       "O      0.982421  0.002119  0.000900  0.001113  0.000595  0.004848  0.004665   \n",
       "B-geo  0.032012  0.868685  0.008057  0.017639  0.010671  0.045949  0.002831   \n",
       "B-gpe  0.002872  0.124910  0.856425  0.000000  0.005743  0.007897  0.002154   \n",
       "B-per  0.036639  0.017587  0.004397  0.851490  0.000489  0.037616  0.005374   \n",
       "I-geo  0.074124  0.115903  0.006739  0.002695  0.606469  0.005391  0.101078   \n",
       "B-org  0.072229  0.180765  0.021244  0.048281  0.000772  0.637698  0.017381   \n",
       "I-org  0.124456  0.037959  0.009956  0.021780  0.032981  0.044182  0.574362   \n",
       "B-tim  0.129956  0.022577  0.000000  0.001652  0.000551  0.003304  0.002753   \n",
       "I-per  0.009270  0.000772  0.000772  0.035921  0.004635  0.000386  0.011974   \n",
       "I-tim  0.226381  0.026738  0.003565  0.000000  0.000000  0.003565  0.008913   \n",
       "\n",
       "          B-tim     I-per     I-tim  \n",
       "O      0.001891  0.000762  0.000686  \n",
       "B-geo  0.001089  0.011542  0.001524  \n",
       "B-gpe  0.000000  0.000000  0.000000  \n",
       "B-per  0.000000  0.046409  0.000000  \n",
       "I-geo  0.000000  0.086253  0.001348  \n",
       "B-org  0.001545  0.018926  0.001159  \n",
       "I-org  0.000622  0.153703  0.000000  \n",
       "B-tim  0.821586  0.003304  0.014317  \n",
       "I-per  0.000000  0.936269  0.000000  \n",
       "I-tim  0.208556  0.000000  0.522282  "
      ]
     },
     "metadata": {},
     "output_type": "display_data"
    }
   ],
   "source": [
    "print(\"\\nConfusion Matrix DataFrame - Normalize\")\n",
    "display(df_cm_for_valid_norm)"
   ]
  },
  {
   "cell_type": "markdown",
   "id": "e4b0bf97-dccc-46e6-837a-b0422ad2dc84",
   "metadata": {},
   "source": [
    "#### 5.3 Plot the confusion matrix for Valid Dataset"
   ]
  },
  {
   "cell_type": "code",
   "execution_count": 262,
   "id": "6220e7a2-3498-45f5-97f9-5ff5310a51b0",
   "metadata": {},
   "outputs": [
    {
     "data": {
      "image/png": "[encoded data removed]",
      "text/plain": [
       "<Figure size 1000x800 with 2 Axes>"
      ]
     },
     "metadata": {},
     "output_type": "display_data"
    }
   ],
   "source": [
    "#specify size of heatmap\n",
    "fig, ax = plt.subplots(figsize=(10, 8))\n",
    "\n",
    "sns.heatmap(df_cm_for_valid, annot=True, fmt=\"g\", annot_kws={\"size\": 8}).set(title='Confusion Matrix')\n",
    "plt.xticks(rotation=90)\n",
    "plt.yticks(rotation=0)\n",
    "plt.xlabel(\"Predicted Labels\")\n",
    "plt.ylabel(\"True Labels\")\n",
    "\n",
    "# show the plot\n",
    "plt.show()"
   ]
  },
  {
   "cell_type": "markdown",
   "id": "9670520e-30b0-4ed0-a01b-c855c2bc37a8",
   "metadata": {},
   "source": [
    "#### 5.4. Confusion Matrix for each Label (One Vs All Fashion) - VALID DATASET"
   ]
  },
  {
   "cell_type": "code",
   "execution_count": 263,
   "id": "6ee621a9-be6c-440a-b1a1-2404dfeae653",
   "metadata": {},
   "outputs": [
    {
     "name": "stdout",
     "output_type": "stream",
     "text": [
      "Validation Dataset - Confusion Matrix for O\n"
     ]
    },
    {
     "data": {
      "text/html": [
       "<div>\n",
       "<style scoped>\n",
       "    .dataframe tbody tr th:only-of-type {\n",
       "        vertical-align: middle;\n",
       "    }\n",
       "\n",
       "    .dataframe tbody tr th {\n",
       "        vertical-align: top;\n",
       "    }\n",
       "\n",
       "    .dataframe thead th {\n",
       "        text-align: right;\n",
       "    }\n",
       "</style>\n",
       "<table border=\"1\" class=\"dataframe\">\n",
       "  <thead>\n",
       "    <tr style=\"text-align: right;\">\n",
       "      <th></th>\n",
       "      <th>not_O</th>\n",
       "      <th>O</th>\n",
       "    </tr>\n",
       "  </thead>\n",
       "  <tbody>\n",
       "    <tr>\n",
       "      <th>not_O</th>\n",
       "      <td>16881</td>\n",
       "      <td>1055</td>\n",
       "    </tr>\n",
       "    <tr>\n",
       "      <th>O</th>\n",
       "      <td>1153</td>\n",
       "      <td>64438</td>\n",
       "    </tr>\n",
       "  </tbody>\n",
       "</table>\n",
       "</div>"
      ],
      "text/plain": [
       "       not_O      O\n",
       "not_O  16881   1055\n",
       "O       1153  64438"
      ]
     },
     "metadata": {},
     "output_type": "display_data"
    },
    {
     "name": "stdout",
     "output_type": "stream",
     "text": [
      "-----------------------------\n",
      "\n",
      "Validation Dataset - Confusion Matrix for B-geo\n"
     ]
    },
    {
     "data": {
      "text/html": [
       "<div>\n",
       "<style scoped>\n",
       "    .dataframe tbody tr th:only-of-type {\n",
       "        vertical-align: middle;\n",
       "    }\n",
       "\n",
       "    .dataframe tbody tr th {\n",
       "        vertical-align: top;\n",
       "    }\n",
       "\n",
       "    .dataframe thead th {\n",
       "        text-align: right;\n",
       "    }\n",
       "</style>\n",
       "<table border=\"1\" class=\"dataframe\">\n",
       "  <thead>\n",
       "    <tr style=\"text-align: right;\">\n",
       "      <th></th>\n",
       "      <th>not_B-geo</th>\n",
       "      <th>B-geo</th>\n",
       "    </tr>\n",
       "  </thead>\n",
       "  <tbody>\n",
       "    <tr>\n",
       "      <th>not_B-geo</th>\n",
       "      <td>77913</td>\n",
       "      <td>1022</td>\n",
       "    </tr>\n",
       "    <tr>\n",
       "      <th>B-geo</th>\n",
       "      <td>603</td>\n",
       "      <td>3989</td>\n",
       "    </tr>\n",
       "  </tbody>\n",
       "</table>\n",
       "</div>"
      ],
      "text/plain": [
       "           not_B-geo  B-geo\n",
       "not_B-geo      77913   1022\n",
       "B-geo            603   3989"
      ]
     },
     "metadata": {},
     "output_type": "display_data"
    },
    {
     "name": "stdout",
     "output_type": "stream",
     "text": [
      "-----------------------------\n",
      "\n",
      "Validation Dataset - Confusion Matrix for B-gpe\n"
     ]
    },
    {
     "data": {
      "text/html": [
       "<div>\n",
       "<style scoped>\n",
       "    .dataframe tbody tr th:only-of-type {\n",
       "        vertical-align: middle;\n",
       "    }\n",
       "\n",
       "    .dataframe tbody tr th {\n",
       "        vertical-align: top;\n",
       "    }\n",
       "\n",
       "    .dataframe thead th {\n",
       "        text-align: right;\n",
       "    }\n",
       "</style>\n",
       "<table border=\"1\" class=\"dataframe\">\n",
       "  <thead>\n",
       "    <tr style=\"text-align: right;\">\n",
       "      <th></th>\n",
       "      <th>not_B-gpe</th>\n",
       "      <th>B-gpe</th>\n",
       "    </tr>\n",
       "  </thead>\n",
       "  <tbody>\n",
       "    <tr>\n",
       "      <th>not_B-gpe</th>\n",
       "      <td>81949</td>\n",
       "      <td>185</td>\n",
       "    </tr>\n",
       "    <tr>\n",
       "      <th>B-gpe</th>\n",
       "      <td>200</td>\n",
       "      <td>1193</td>\n",
       "    </tr>\n",
       "  </tbody>\n",
       "</table>\n",
       "</div>"
      ],
      "text/plain": [
       "           not_B-gpe  B-gpe\n",
       "not_B-gpe      81949    185\n",
       "B-gpe            200   1193"
      ]
     },
     "metadata": {},
     "output_type": "display_data"
    },
    {
     "name": "stdout",
     "output_type": "stream",
     "text": [
      "-----------------------------\n",
      "\n",
      "Validation Dataset - Confusion Matrix for B-per\n"
     ]
    },
    {
     "data": {
      "text/html": [
       "<div>\n",
       "<style scoped>\n",
       "    .dataframe tbody tr th:only-of-type {\n",
       "        vertical-align: middle;\n",
       "    }\n",
       "\n",
       "    .dataframe tbody tr th {\n",
       "        vertical-align: top;\n",
       "    }\n",
       "\n",
       "    .dataframe thead th {\n",
       "        text-align: right;\n",
       "    }\n",
       "</style>\n",
       "<table border=\"1\" class=\"dataframe\">\n",
       "  <thead>\n",
       "    <tr style=\"text-align: right;\">\n",
       "      <th></th>\n",
       "      <th>not_B-per</th>\n",
       "      <th>B-per</th>\n",
       "    </tr>\n",
       "  </thead>\n",
       "  <tbody>\n",
       "    <tr>\n",
       "      <th>not_B-per</th>\n",
       "      <td>81068</td>\n",
       "      <td>412</td>\n",
       "    </tr>\n",
       "    <tr>\n",
       "      <th>B-per</th>\n",
       "      <td>304</td>\n",
       "      <td>1743</td>\n",
       "    </tr>\n",
       "  </tbody>\n",
       "</table>\n",
       "</div>"
      ],
      "text/plain": [
       "           not_B-per  B-per\n",
       "not_B-per      81068    412\n",
       "B-per            304   1743"
      ]
     },
     "metadata": {},
     "output_type": "display_data"
    },
    {
     "name": "stdout",
     "output_type": "stream",
     "text": [
      "-----------------------------\n",
      "\n",
      "Validation Dataset - Confusion Matrix for I-geo\n"
     ]
    },
    {
     "data": {
      "text/html": [
       "<div>\n",
       "<style scoped>\n",
       "    .dataframe tbody tr th:only-of-type {\n",
       "        vertical-align: middle;\n",
       "    }\n",
       "\n",
       "    .dataframe tbody tr th {\n",
       "        vertical-align: top;\n",
       "    }\n",
       "\n",
       "    .dataframe thead th {\n",
       "        text-align: right;\n",
       "    }\n",
       "</style>\n",
       "<table border=\"1\" class=\"dataframe\">\n",
       "  <thead>\n",
       "    <tr style=\"text-align: right;\">\n",
       "      <th></th>\n",
       "      <th>not_I-geo</th>\n",
       "      <th>I-geo</th>\n",
       "    </tr>\n",
       "  </thead>\n",
       "  <tbody>\n",
       "    <tr>\n",
       "      <th>not_I-geo</th>\n",
       "      <td>82620</td>\n",
       "      <td>165</td>\n",
       "    </tr>\n",
       "    <tr>\n",
       "      <th>I-geo</th>\n",
       "      <td>292</td>\n",
       "      <td>450</td>\n",
       "    </tr>\n",
       "  </tbody>\n",
       "</table>\n",
       "</div>"
      ],
      "text/plain": [
       "           not_I-geo  I-geo\n",
       "not_I-geo      82620    165\n",
       "I-geo            292    450"
      ]
     },
     "metadata": {},
     "output_type": "display_data"
    },
    {
     "name": "stdout",
     "output_type": "stream",
     "text": [
      "-----------------------------\n",
      "\n",
      "Validation Dataset - Confusion Matrix for B-org\n"
     ]
    },
    {
     "data": {
      "text/html": [
       "<div>\n",
       "<style scoped>\n",
       "    .dataframe tbody tr th:only-of-type {\n",
       "        vertical-align: middle;\n",
       "    }\n",
       "\n",
       "    .dataframe tbody tr th {\n",
       "        vertical-align: top;\n",
       "    }\n",
       "\n",
       "    .dataframe thead th {\n",
       "        text-align: right;\n",
       "    }\n",
       "</style>\n",
       "<table border=\"1\" class=\"dataframe\">\n",
       "  <thead>\n",
       "    <tr style=\"text-align: right;\">\n",
       "      <th></th>\n",
       "      <th>not_B-org</th>\n",
       "      <th>B-org</th>\n",
       "    </tr>\n",
       "  </thead>\n",
       "  <tbody>\n",
       "    <tr>\n",
       "      <th>not_B-org</th>\n",
       "      <td>80237</td>\n",
       "      <td>701</td>\n",
       "    </tr>\n",
       "    <tr>\n",
       "      <th>B-org</th>\n",
       "      <td>938</td>\n",
       "      <td>1651</td>\n",
       "    </tr>\n",
       "  </tbody>\n",
       "</table>\n",
       "</div>"
      ],
      "text/plain": [
       "           not_B-org  B-org\n",
       "not_B-org      80237    701\n",
       "B-org            938   1651"
      ]
     },
     "metadata": {},
     "output_type": "display_data"
    },
    {
     "name": "stdout",
     "output_type": "stream",
     "text": [
      "-----------------------------\n",
      "\n",
      "Validation Dataset - Confusion Matrix for I-org\n"
     ]
    },
    {
     "data": {
      "text/html": [
       "<div>\n",
       "<style scoped>\n",
       "    .dataframe tbody tr th:only-of-type {\n",
       "        vertical-align: middle;\n",
       "    }\n",
       "\n",
       "    .dataframe tbody tr th {\n",
       "        vertical-align: top;\n",
       "    }\n",
       "\n",
       "    .dataframe thead th {\n",
       "        text-align: right;\n",
       "    }\n",
       "</style>\n",
       "<table border=\"1\" class=\"dataframe\">\n",
       "  <thead>\n",
       "    <tr style=\"text-align: right;\">\n",
       "      <th></th>\n",
       "      <th>not_I-org</th>\n",
       "      <th>I-org</th>\n",
       "    </tr>\n",
       "  </thead>\n",
       "  <tbody>\n",
       "    <tr>\n",
       "      <th>not_I-org</th>\n",
       "      <td>81426</td>\n",
       "      <td>494</td>\n",
       "    </tr>\n",
       "    <tr>\n",
       "      <th>I-org</th>\n",
       "      <td>684</td>\n",
       "      <td>923</td>\n",
       "    </tr>\n",
       "  </tbody>\n",
       "</table>\n",
       "</div>"
      ],
      "text/plain": [
       "           not_I-org  I-org\n",
       "not_I-org      81426    494\n",
       "I-org            684    923"
      ]
     },
     "metadata": {},
     "output_type": "display_data"
    },
    {
     "name": "stdout",
     "output_type": "stream",
     "text": [
      "-----------------------------\n",
      "\n",
      "Validation Dataset - Confusion Matrix for B-tim\n"
     ]
    },
    {
     "data": {
      "text/html": [
       "<div>\n",
       "<style scoped>\n",
       "    .dataframe tbody tr th:only-of-type {\n",
       "        vertical-align: middle;\n",
       "    }\n",
       "\n",
       "    .dataframe tbody tr th {\n",
       "        vertical-align: top;\n",
       "    }\n",
       "\n",
       "    .dataframe thead th {\n",
       "        text-align: right;\n",
       "    }\n",
       "</style>\n",
       "<table border=\"1\" class=\"dataframe\">\n",
       "  <thead>\n",
       "    <tr style=\"text-align: right;\">\n",
       "      <th></th>\n",
       "      <th>not_B-tim</th>\n",
       "      <th>B-tim</th>\n",
       "    </tr>\n",
       "  </thead>\n",
       "  <tbody>\n",
       "    <tr>\n",
       "      <th>not_B-tim</th>\n",
       "      <td>81460</td>\n",
       "      <td>251</td>\n",
       "    </tr>\n",
       "    <tr>\n",
       "      <th>B-tim</th>\n",
       "      <td>324</td>\n",
       "      <td>1492</td>\n",
       "    </tr>\n",
       "  </tbody>\n",
       "</table>\n",
       "</div>"
      ],
      "text/plain": [
       "           not_B-tim  B-tim\n",
       "not_B-tim      81460    251\n",
       "B-tim            324   1492"
      ]
     },
     "metadata": {},
     "output_type": "display_data"
    },
    {
     "name": "stdout",
     "output_type": "stream",
     "text": [
      "-----------------------------\n",
      "\n",
      "Validation Dataset - Confusion Matrix for I-per\n"
     ]
    },
    {
     "data": {
      "text/html": [
       "<div>\n",
       "<style scoped>\n",
       "    .dataframe tbody tr th:only-of-type {\n",
       "        vertical-align: middle;\n",
       "    }\n",
       "\n",
       "    .dataframe tbody tr th {\n",
       "        vertical-align: top;\n",
       "    }\n",
       "\n",
       "    .dataframe thead th {\n",
       "        text-align: right;\n",
       "    }\n",
       "</style>\n",
       "<table border=\"1\" class=\"dataframe\">\n",
       "  <thead>\n",
       "    <tr style=\"text-align: right;\">\n",
       "      <th></th>\n",
       "      <th>not_I-per</th>\n",
       "      <th>I-per</th>\n",
       "    </tr>\n",
       "  </thead>\n",
       "  <tbody>\n",
       "    <tr>\n",
       "      <th>not_I-per</th>\n",
       "      <td>80374</td>\n",
       "      <td>564</td>\n",
       "    </tr>\n",
       "    <tr>\n",
       "      <th>I-per</th>\n",
       "      <td>165</td>\n",
       "      <td>2424</td>\n",
       "    </tr>\n",
       "  </tbody>\n",
       "</table>\n",
       "</div>"
      ],
      "text/plain": [
       "           not_I-per  I-per\n",
       "not_I-per      80374    564\n",
       "I-per            165   2424"
      ]
     },
     "metadata": {},
     "output_type": "display_data"
    },
    {
     "name": "stdout",
     "output_type": "stream",
     "text": [
      "-----------------------------\n",
      "\n",
      "Validation Dataset - Confusion Matrix for I-tim\n"
     ]
    },
    {
     "data": {
      "text/html": [
       "<div>\n",
       "<style scoped>\n",
       "    .dataframe tbody tr th:only-of-type {\n",
       "        vertical-align: middle;\n",
       "    }\n",
       "\n",
       "    .dataframe tbody tr th {\n",
       "        vertical-align: top;\n",
       "    }\n",
       "\n",
       "    .dataframe thead th {\n",
       "        text-align: right;\n",
       "    }\n",
       "</style>\n",
       "<table border=\"1\" class=\"dataframe\">\n",
       "  <thead>\n",
       "    <tr style=\"text-align: right;\">\n",
       "      <th></th>\n",
       "      <th>not_I-tim</th>\n",
       "      <th>I-tim</th>\n",
       "    </tr>\n",
       "  </thead>\n",
       "  <tbody>\n",
       "    <tr>\n",
       "      <th>not_I-tim</th>\n",
       "      <td>82884</td>\n",
       "      <td>82</td>\n",
       "    </tr>\n",
       "    <tr>\n",
       "      <th>I-tim</th>\n",
       "      <td>268</td>\n",
       "      <td>293</td>\n",
       "    </tr>\n",
       "  </tbody>\n",
       "</table>\n",
       "</div>"
      ],
      "text/plain": [
       "           not_I-tim  I-tim\n",
       "not_I-tim      82884     82\n",
       "I-tim            268    293"
      ]
     },
     "metadata": {},
     "output_type": "display_data"
    },
    {
     "name": "stdout",
     "output_type": "stream",
     "text": [
      "-----------------------------\n",
      "\n"
     ]
    }
   ],
   "source": [
    "# compute multilabel confusion matrix\n",
    "# Here it will compute cm at the class level\n",
    "# labels are binarized under a one-vs-rest way\n",
    "mcm_for_valid = multilabel_confusion_matrix(y_true=true_labels,\n",
    "                                        y_pred=pred_labels,\n",
    "                                        labels=label_ids_,\n",
    "                                       )\n",
    "\n",
    "# Label wise confusin matrix (one vs all fashion)\n",
    "for label_, l_cm in zip(label_names_, mcm_for_valid):\n",
    "    col_names_ = [f\"not_{label_}\",label_]\n",
    "    print(f\"Validation Dataset - Confusion Matrix for {label_}\")\n",
    "    ldf = pd.DataFrame(l_cm, index=col_names_, columns=col_names_)\n",
    "    display(ldf)\n",
    "    print(\"-----------------------------\\n\")"
   ]
  },
  {
   "cell_type": "markdown",
   "id": "81539706-1d59-4f94-909f-06fefa37db67",
   "metadata": {},
   "source": [
    "#### ----------------------------- Model Training and Evaluation Ends Here ----------------------------------"
   ]
  },
  {
   "cell_type": "markdown",
   "id": "a9b50c07-4e04-41bf-bcd2-786e88608d73",
   "metadata": {},
   "source": [
    "## J. Testing - Test Dataset"
   ]
  },
  {
   "cell_type": "markdown",
   "id": "646300b4-3be1-43d5-975a-ea62f0c7faa1",
   "metadata": {},
   "source": [
    "### 1. Check Performance of Model on Testing Dataset \n",
    "<p>Note: Here Validation loss is actually <b>testing loss</b></p>"
   ]
  },
  {
   "cell_type": "code",
   "execution_count": 264,
   "id": "d58c19b9-15dd-4640-94f0-43f71381c236",
   "metadata": {},
   "outputs": [
    {
     "name": "stdout",
     "output_type": "stream",
     "text": [
      "Validation loss per 100 evaluation steps: 0.16373401880264282\n",
      "Validation loss per 100 evaluation steps: 0.24790753955702957\n",
      "Validation loss per 100 evaluation steps: 0.2378247428777409\n",
      "Validation loss per 100 evaluation steps: 0.24698223048928847\n",
      "Validation loss per 100 evaluation steps: 0.2251442464427178\n",
      "Validation loss per 100 evaluation steps: 0.21639505615318888\n",
      "Validation loss per 100 evaluation steps: 0.210839434132691\n",
      "Validation loss per 100 evaluation steps: 0.21933173969905043\n",
      "Validation loss per 100 evaluation steps: 0.22146757312316295\n",
      "Validation loss per 100 evaluation steps: 0.2174438783857672\n",
      "Validation loss per 100 evaluation steps: 0.21836051291221767\n",
      "Validation loss per 100 evaluation steps: 0.21739262328726025\n",
      "Validation loss per 100 evaluation steps: 0.2142998816875311\n",
      "Validation loss per 100 evaluation steps: 0.21054883942637242\n",
      "Validation loss per 100 evaluation steps: 0.2089502138555475\n",
      "Validation loss per 100 evaluation steps: 0.2086261236008114\n",
      "Validation loss per 100 evaluation steps: 0.20489343246169003\n",
      "Validation loss per 100 evaluation steps: 0.2021229883407006\n",
      "Validation loss per 100 evaluation steps: 0.20127735140212863\n",
      "Validation loss per 100 evaluation steps: 0.20158137954556127\n",
      "Validation loss per 100 evaluation steps: 0.202656892324785\n",
      "Validation loss per 100 evaluation steps: 0.19997487786612456\n",
      "Validation loss per 100 evaluation steps: 0.19797863304471253\n",
      "Validation loss per 100 evaluation steps: 0.19712049395743916\n",
      "Validation loss per 100 evaluation steps: 0.19666442235894926\n",
      "Validation loss per 100 evaluation steps: 0.19696062675804704\n",
      "Validation loss per 100 evaluation steps: 0.1972139779179501\n",
      "Validation loss per 100 evaluation steps: 0.19823650437063442\n",
      "Validation loss per 100 evaluation steps: 0.1975958993272934\n",
      "Validation loss per 100 evaluation steps: 0.19755811763896858\n",
      "Validation loss per 100 evaluation steps: 0.1969717492618529\n",
      "Validation loss per 100 evaluation steps: 0.19680322986696513\n",
      "Validation loss per 100 evaluation steps: 0.1969436080908224\n",
      "Validation loss per 100 evaluation steps: 0.19720876578771757\n",
      "Validation loss per 100 evaluation steps: 0.19786053824304856\n",
      "Validation loss per 100 evaluation steps: 0.19774159130246127\n",
      "Validation loss per 100 evaluation steps: 0.19682407521918716\n",
      "Validation loss per 100 evaluation steps: 0.19768047079023862\n",
      "Validation loss per 100 evaluation steps: 0.19761517750347898\n",
      "Validation loss per 100 evaluation steps: 0.1980051918063864\n",
      "Validation loss per 100 evaluation steps: 0.198025259519139\n",
      "Validation loss per 100 evaluation steps: 0.19773736286461172\n",
      "Validation loss per 100 evaluation steps: 0.19838101002855857\n",
      "Validation loss per 100 evaluation steps: 0.19880455920287668\n",
      "Validation loss per 100 evaluation steps: 0.19851933612368158\n",
      "Validation loss per 100 evaluation steps: 0.19816279204935663\n",
      "Validation loss per 100 evaluation steps: 0.1976072494085273\n",
      "Validation loss per 100 evaluation steps: 0.19682205955961848\n",
      "Validation loss per 100 evaluation steps: 0.19648623230630985\n",
      "Validation loss per 100 evaluation steps: 0.19633903036588374\n",
      "Validation loss per 100 evaluation steps: 0.19602509112428243\n",
      "Validation Loss: 0.19614411760149125\n",
      "Validation Accuracy: 0.9429231253443929\n"
     ]
    }
   ],
   "source": [
    "# Note: Here Validation loss is actually loss on Testing\n",
    "true_labels, pred_labels = eval_fn(best_model, test_dataloader)"
   ]
  },
  {
   "cell_type": "markdown",
   "id": "d58fbdae-f04a-4279-9da2-7965889056e1",
   "metadata": {},
   "source": [
    "### 3. Compute FULL classifcation report "
   ]
  },
  {
   "cell_type": "code",
   "execution_count": 265,
   "id": "5db958a0-374f-4cf4-bc4b-d210fba9b8a1",
   "metadata": {},
   "outputs": [
    {
     "name": "stdout",
     "output_type": "stream",
     "text": [
      "\n",
      "Evaluation Metrics for TEST DataSet\n",
      "=========================================\n",
      "\n",
      "accuracy score 94.221%\n",
      "\n",
      "----- macro scores --------\n",
      "macro precision score: 80.425%\n",
      "macro recall score: 77.081%\n",
      "macro f1 score: 78.307%\n",
      "\n",
      "----- micro scores --------\n",
      "micro precision score: 94.22%\n",
      "micro recall score: 94.22%\n",
      "micro f1 score: 94.22%\n",
      "\n",
      "----- weighted scores --------\n",
      "weighted precision score: 94.14%\n",
      "weighted recall score: 94.22%\n",
      "weighted f1 score: 94.12%\n"
     ]
    }
   ],
   "source": [
    "print(\"\\nEvaluation Metrics for TEST DataSet\")\n",
    "print(\"=========================================\")\n",
    "print_full_classification_report(true_labels, pred_labels)"
   ]
  },
  {
   "cell_type": "markdown",
   "id": "44fec7e1-f803-4a05-b0a4-a4d6c100c828",
   "metadata": {},
   "source": [
    "### 4. LABEL-WISE Classification report"
   ]
  },
  {
   "cell_type": "code",
   "execution_count": 266,
   "id": "383483dd-b6e8-490c-b7b9-6088e71ffe3d",
   "metadata": {},
   "outputs": [
    {
     "name": "stdout",
     "output_type": "stream",
     "text": [
      "\n",
      "Label-Wise Evaluation Metrics for Validation DataSet\n",
      "Classification Report for each label\n",
      "\n",
      "              precision    recall  f1-score   support\n",
      "\n",
      "           O       0.98      0.98      0.98    164846\n",
      "       B-geo       0.81      0.88      0.84     11580\n",
      "       B-gpe       0.86      0.85      0.86      3508\n",
      "       B-per       0.82      0.84      0.83      5257\n",
      "       I-geo       0.73      0.65      0.69      1719\n",
      "       B-org       0.70      0.61      0.65      6587\n",
      "       I-org       0.65      0.58      0.61      3955\n",
      "       B-tim       0.85      0.85      0.85      4315\n",
      "       I-per       0.82      0.94      0.87      6631\n",
      "       I-tim       0.82      0.53      0.65      1386\n",
      "\n",
      "    accuracy                           0.94    209784\n",
      "   macro avg       0.80      0.77      0.78    209784\n",
      "weighted avg       0.94      0.94      0.94    209784\n",
      "\n"
     ]
    }
   ],
   "source": [
    "from sklearn.metrics import classification_report\n",
    "\n",
    "clf_report_for_test = classification_report(y_true=true_labels,\n",
    "                                             y_pred=pred_labels,\n",
    "                                             labels=[x for x in range(len(label2id))],\n",
    "                                             target_names=list(label2id.keys()),\n",
    "                                             zero_division=0\n",
    "                                            )\n",
    "print(\"\\nLabel-Wise Evaluation Metrics for Validation DataSet\")\n",
    "print(\"Classification Report for each label\\n\")\n",
    "print(clf_report_for_test)"
   ]
  },
  {
   "cell_type": "markdown",
   "id": "629dd572-b9bb-4912-b56f-08c5ab0d2da4",
   "metadata": {},
   "source": [
    "### 5. Confusion Matrix"
   ]
  },
  {
   "cell_type": "markdown",
   "id": "a5479a3c-fc94-42f2-8e92-cdcfe1e19e53",
   "metadata": {},
   "source": [
    "#### 5.1. Compute Multi-label Confusion Matrix "
   ]
  },
  {
   "cell_type": "code",
   "execution_count": 267,
   "id": "cb63640f-9775-4f3d-ab02-a406ca5b1e13",
   "metadata": {},
   "outputs": [
    {
     "name": "stdout",
     "output_type": "stream",
     "text": [
      "Confusion Matrix DataFrame\n"
     ]
    },
    {
     "data": {
      "text/html": [
       "<div>\n",
       "<style scoped>\n",
       "    .dataframe tbody tr th:only-of-type {\n",
       "        vertical-align: middle;\n",
       "    }\n",
       "\n",
       "    .dataframe tbody tr th {\n",
       "        vertical-align: top;\n",
       "    }\n",
       "\n",
       "    .dataframe thead th {\n",
       "        text-align: right;\n",
       "    }\n",
       "</style>\n",
       "<table border=\"1\" class=\"dataframe\">\n",
       "  <thead>\n",
       "    <tr style=\"text-align: right;\">\n",
       "      <th></th>\n",
       "      <th>O</th>\n",
       "      <th>B-geo</th>\n",
       "      <th>B-gpe</th>\n",
       "      <th>B-per</th>\n",
       "      <th>I-geo</th>\n",
       "      <th>B-org</th>\n",
       "      <th>I-org</th>\n",
       "      <th>B-tim</th>\n",
       "      <th>I-per</th>\n",
       "      <th>I-tim</th>\n",
       "    </tr>\n",
       "  </thead>\n",
       "  <tbody>\n",
       "    <tr>\n",
       "      <th>O</th>\n",
       "      <td>162068</td>\n",
       "      <td>282</td>\n",
       "      <td>184</td>\n",
       "      <td>161</td>\n",
       "      <td>96</td>\n",
       "      <td>690</td>\n",
       "      <td>784</td>\n",
       "      <td>363</td>\n",
       "      <td>131</td>\n",
       "      <td>87</td>\n",
       "    </tr>\n",
       "    <tr>\n",
       "      <th>B-geo</th>\n",
       "      <td>375</td>\n",
       "      <td>10176</td>\n",
       "      <td>104</td>\n",
       "      <td>141</td>\n",
       "      <td>126</td>\n",
       "      <td>495</td>\n",
       "      <td>39</td>\n",
       "      <td>15</td>\n",
       "      <td>100</td>\n",
       "      <td>9</td>\n",
       "    </tr>\n",
       "    <tr>\n",
       "      <th>B-gpe</th>\n",
       "      <td>25</td>\n",
       "      <td>429</td>\n",
       "      <td>2983</td>\n",
       "      <td>0</td>\n",
       "      <td>18</td>\n",
       "      <td>50</td>\n",
       "      <td>3</td>\n",
       "      <td>0</td>\n",
       "      <td>0</td>\n",
       "      <td>0</td>\n",
       "    </tr>\n",
       "    <tr>\n",
       "      <th>B-per</th>\n",
       "      <td>164</td>\n",
       "      <td>127</td>\n",
       "      <td>25</td>\n",
       "      <td>4438</td>\n",
       "      <td>4</td>\n",
       "      <td>249</td>\n",
       "      <td>15</td>\n",
       "      <td>2</td>\n",
       "      <td>233</td>\n",
       "      <td>0</td>\n",
       "    </tr>\n",
       "    <tr>\n",
       "      <th>I-geo</th>\n",
       "      <td>114</td>\n",
       "      <td>175</td>\n",
       "      <td>9</td>\n",
       "      <td>1</td>\n",
       "      <td>1121</td>\n",
       "      <td>7</td>\n",
       "      <td>160</td>\n",
       "      <td>1</td>\n",
       "      <td>129</td>\n",
       "      <td>2</td>\n",
       "    </tr>\n",
       "    <tr>\n",
       "      <th>B-org</th>\n",
       "      <td>561</td>\n",
       "      <td>1175</td>\n",
       "      <td>125</td>\n",
       "      <td>386</td>\n",
       "      <td>18</td>\n",
       "      <td>3993</td>\n",
       "      <td>123</td>\n",
       "      <td>8</td>\n",
       "      <td>195</td>\n",
       "      <td>3</td>\n",
       "    </tr>\n",
       "    <tr>\n",
       "      <th>I-org</th>\n",
       "      <td>540</td>\n",
       "      <td>120</td>\n",
       "      <td>27</td>\n",
       "      <td>80</td>\n",
       "      <td>144</td>\n",
       "      <td>164</td>\n",
       "      <td>2279</td>\n",
       "      <td>3</td>\n",
       "      <td>597</td>\n",
       "      <td>1</td>\n",
       "    </tr>\n",
       "    <tr>\n",
       "      <th>B-tim</th>\n",
       "      <td>482</td>\n",
       "      <td>90</td>\n",
       "      <td>1</td>\n",
       "      <td>3</td>\n",
       "      <td>3</td>\n",
       "      <td>16</td>\n",
       "      <td>9</td>\n",
       "      <td>3647</td>\n",
       "      <td>7</td>\n",
       "      <td>57</td>\n",
       "    </tr>\n",
       "    <tr>\n",
       "      <th>I-per</th>\n",
       "      <td>83</td>\n",
       "      <td>5</td>\n",
       "      <td>3</td>\n",
       "      <td>222</td>\n",
       "      <td>12</td>\n",
       "      <td>16</td>\n",
       "      <td>75</td>\n",
       "      <td>0</td>\n",
       "      <td>6215</td>\n",
       "      <td>0</td>\n",
       "    </tr>\n",
       "    <tr>\n",
       "      <th>I-tim</th>\n",
       "      <td>356</td>\n",
       "      <td>23</td>\n",
       "      <td>2</td>\n",
       "      <td>2</td>\n",
       "      <td>1</td>\n",
       "      <td>8</td>\n",
       "      <td>6</td>\n",
       "      <td>235</td>\n",
       "      <td>12</td>\n",
       "      <td>741</td>\n",
       "    </tr>\n",
       "  </tbody>\n",
       "</table>\n",
       "</div>"
      ],
      "text/plain": [
       "            O  B-geo  B-gpe  B-per  I-geo  B-org  I-org  B-tim  I-per  I-tim\n",
       "O      162068    282    184    161     96    690    784    363    131     87\n",
       "B-geo     375  10176    104    141    126    495     39     15    100      9\n",
       "B-gpe      25    429   2983      0     18     50      3      0      0      0\n",
       "B-per     164    127     25   4438      4    249     15      2    233      0\n",
       "I-geo     114    175      9      1   1121      7    160      1    129      2\n",
       "B-org     561   1175    125    386     18   3993    123      8    195      3\n",
       "I-org     540    120     27     80    144    164   2279      3    597      1\n",
       "B-tim     482     90      1      3      3     16      9   3647      7     57\n",
       "I-per      83      5      3    222     12     16     75      0   6215      0\n",
       "I-tim     356     23      2      2      1      8      6    235     12    741"
      ]
     },
     "execution_count": 267,
     "metadata": {},
     "output_type": "execute_result"
    }
   ],
   "source": [
    "label_names_ = list(label2id.keys())\n",
    "label_ids_ = [i for i in range(len(label_names_))]\n",
    "\n",
    "# compute confusion matrix collectively\n",
    "cm_for_test = confusion_matrix(y_true=true_labels,\n",
    "                                y_pred=pred_labels,\n",
    "                                labels=label_ids_,\n",
    "                               )\n",
    "\n",
    "# compute NORMALIZE confusion matrix collectively\n",
    "cm_for_test_norm = confusion_matrix(y_true=true_labels,\n",
    "                                y_pred=pred_labels,\n",
    "                                labels=label_ids_,\n",
    "                               normalize='true'\n",
    "                               )\n",
    "\n",
    "df_cm_for_test = pd.DataFrame(cm_for_test, index=label_names_, columns=label_names_)\n",
    "\n",
    "print(\"Confusion Matrix DataFrame\")\n",
    "df_cm_for_test"
   ]
  },
  {
   "cell_type": "markdown",
   "id": "c880337d-64ce-424b-abf4-a6da3b64d1f3",
   "metadata": {},
   "source": [
    "#### 5.2. Normalize - Confusion Matrix"
   ]
  },
  {
   "cell_type": "code",
   "execution_count": 268,
   "id": "af29abe7-18d0-454f-badf-22b7f6938706",
   "metadata": {},
   "outputs": [
    {
     "name": "stdout",
     "output_type": "stream",
     "text": [
      "\n",
      "Confusion Matrix DataFrame - Normalize\n"
     ]
    },
    {
     "data": {
      "text/html": [
       "<div>\n",
       "<style scoped>\n",
       "    .dataframe tbody tr th:only-of-type {\n",
       "        vertical-align: middle;\n",
       "    }\n",
       "\n",
       "    .dataframe tbody tr th {\n",
       "        vertical-align: top;\n",
       "    }\n",
       "\n",
       "    .dataframe thead th {\n",
       "        text-align: right;\n",
       "    }\n",
       "</style>\n",
       "<table border=\"1\" class=\"dataframe\">\n",
       "  <thead>\n",
       "    <tr style=\"text-align: right;\">\n",
       "      <th></th>\n",
       "      <th>O</th>\n",
       "      <th>B-geo</th>\n",
       "      <th>B-gpe</th>\n",
       "      <th>B-per</th>\n",
       "      <th>I-geo</th>\n",
       "      <th>B-org</th>\n",
       "      <th>I-org</th>\n",
       "      <th>B-tim</th>\n",
       "      <th>I-per</th>\n",
       "      <th>I-tim</th>\n",
       "    </tr>\n",
       "  </thead>\n",
       "  <tbody>\n",
       "    <tr>\n",
       "      <th>O</th>\n",
       "      <td>0.983148</td>\n",
       "      <td>0.001711</td>\n",
       "      <td>0.001116</td>\n",
       "      <td>0.000977</td>\n",
       "      <td>0.000582</td>\n",
       "      <td>0.004186</td>\n",
       "      <td>0.004756</td>\n",
       "      <td>0.002202</td>\n",
       "      <td>0.000795</td>\n",
       "      <td>0.000528</td>\n",
       "    </tr>\n",
       "    <tr>\n",
       "      <th>B-geo</th>\n",
       "      <td>0.032383</td>\n",
       "      <td>0.878756</td>\n",
       "      <td>0.008981</td>\n",
       "      <td>0.012176</td>\n",
       "      <td>0.010881</td>\n",
       "      <td>0.042746</td>\n",
       "      <td>0.003368</td>\n",
       "      <td>0.001295</td>\n",
       "      <td>0.008636</td>\n",
       "      <td>0.000777</td>\n",
       "    </tr>\n",
       "    <tr>\n",
       "      <th>B-gpe</th>\n",
       "      <td>0.007127</td>\n",
       "      <td>0.122292</td>\n",
       "      <td>0.850342</td>\n",
       "      <td>0.000000</td>\n",
       "      <td>0.005131</td>\n",
       "      <td>0.014253</td>\n",
       "      <td>0.000855</td>\n",
       "      <td>0.000000</td>\n",
       "      <td>0.000000</td>\n",
       "      <td>0.000000</td>\n",
       "    </tr>\n",
       "    <tr>\n",
       "      <th>B-per</th>\n",
       "      <td>0.031196</td>\n",
       "      <td>0.024158</td>\n",
       "      <td>0.004756</td>\n",
       "      <td>0.844208</td>\n",
       "      <td>0.000761</td>\n",
       "      <td>0.047365</td>\n",
       "      <td>0.002853</td>\n",
       "      <td>0.000380</td>\n",
       "      <td>0.044322</td>\n",
       "      <td>0.000000</td>\n",
       "    </tr>\n",
       "    <tr>\n",
       "      <th>I-geo</th>\n",
       "      <td>0.066318</td>\n",
       "      <td>0.101803</td>\n",
       "      <td>0.005236</td>\n",
       "      <td>0.000582</td>\n",
       "      <td>0.652123</td>\n",
       "      <td>0.004072</td>\n",
       "      <td>0.093077</td>\n",
       "      <td>0.000582</td>\n",
       "      <td>0.075044</td>\n",
       "      <td>0.001163</td>\n",
       "    </tr>\n",
       "    <tr>\n",
       "      <th>B-org</th>\n",
       "      <td>0.085168</td>\n",
       "      <td>0.178382</td>\n",
       "      <td>0.018977</td>\n",
       "      <td>0.058600</td>\n",
       "      <td>0.002733</td>\n",
       "      <td>0.606194</td>\n",
       "      <td>0.018673</td>\n",
       "      <td>0.001215</td>\n",
       "      <td>0.029604</td>\n",
       "      <td>0.000455</td>\n",
       "    </tr>\n",
       "    <tr>\n",
       "      <th>I-org</th>\n",
       "      <td>0.136536</td>\n",
       "      <td>0.030341</td>\n",
       "      <td>0.006827</td>\n",
       "      <td>0.020228</td>\n",
       "      <td>0.036410</td>\n",
       "      <td>0.041466</td>\n",
       "      <td>0.576233</td>\n",
       "      <td>0.000759</td>\n",
       "      <td>0.150948</td>\n",
       "      <td>0.000253</td>\n",
       "    </tr>\n",
       "    <tr>\n",
       "      <th>B-tim</th>\n",
       "      <td>0.111703</td>\n",
       "      <td>0.020857</td>\n",
       "      <td>0.000232</td>\n",
       "      <td>0.000695</td>\n",
       "      <td>0.000695</td>\n",
       "      <td>0.003708</td>\n",
       "      <td>0.002086</td>\n",
       "      <td>0.845191</td>\n",
       "      <td>0.001622</td>\n",
       "      <td>0.013210</td>\n",
       "    </tr>\n",
       "    <tr>\n",
       "      <th>I-per</th>\n",
       "      <td>0.012517</td>\n",
       "      <td>0.000754</td>\n",
       "      <td>0.000452</td>\n",
       "      <td>0.033479</td>\n",
       "      <td>0.001810</td>\n",
       "      <td>0.002413</td>\n",
       "      <td>0.011311</td>\n",
       "      <td>0.000000</td>\n",
       "      <td>0.937264</td>\n",
       "      <td>0.000000</td>\n",
       "    </tr>\n",
       "    <tr>\n",
       "      <th>I-tim</th>\n",
       "      <td>0.256854</td>\n",
       "      <td>0.016595</td>\n",
       "      <td>0.001443</td>\n",
       "      <td>0.001443</td>\n",
       "      <td>0.000722</td>\n",
       "      <td>0.005772</td>\n",
       "      <td>0.004329</td>\n",
       "      <td>0.169553</td>\n",
       "      <td>0.008658</td>\n",
       "      <td>0.534632</td>\n",
       "    </tr>\n",
       "  </tbody>\n",
       "</table>\n",
       "</div>"
      ],
      "text/plain": [
       "              O     B-geo     B-gpe     B-per     I-geo     B-org     I-org  \\\n",
       "O      0.983148  0.001711  0.001116  0.000977  0.000582  0.004186  0.004756   \n",
       "B-geo  0.032383  0.878756  0.008981  0.012176  0.010881  0.042746  0.003368   \n",
       "B-gpe  0.007127  0.122292  0.850342  0.000000  0.005131  0.014253  0.000855   \n",
       "B-per  0.031196  0.024158  0.004756  0.844208  0.000761  0.047365  0.002853   \n",
       "I-geo  0.066318  0.101803  0.005236  0.000582  0.652123  0.004072  0.093077   \n",
       "B-org  0.085168  0.178382  0.018977  0.058600  0.002733  0.606194  0.018673   \n",
       "I-org  0.136536  0.030341  0.006827  0.020228  0.036410  0.041466  0.576233   \n",
       "B-tim  0.111703  0.020857  0.000232  0.000695  0.000695  0.003708  0.002086   \n",
       "I-per  0.012517  0.000754  0.000452  0.033479  0.001810  0.002413  0.011311   \n",
       "I-tim  0.256854  0.016595  0.001443  0.001443  0.000722  0.005772  0.004329   \n",
       "\n",
       "          B-tim     I-per     I-tim  \n",
       "O      0.002202  0.000795  0.000528  \n",
       "B-geo  0.001295  0.008636  0.000777  \n",
       "B-gpe  0.000000  0.000000  0.000000  \n",
       "B-per  0.000380  0.044322  0.000000  \n",
       "I-geo  0.000582  0.075044  0.001163  \n",
       "B-org  0.001215  0.029604  0.000455  \n",
       "I-org  0.000759  0.150948  0.000253  \n",
       "B-tim  0.845191  0.001622  0.013210  \n",
       "I-per  0.000000  0.937264  0.000000  \n",
       "I-tim  0.169553  0.008658  0.534632  "
      ]
     },
     "metadata": {},
     "output_type": "display_data"
    }
   ],
   "source": [
    "df_cm_for_test_norm = pd.DataFrame(cm_for_test_norm, index=label_names_, columns=label_names_)\n",
    "print(\"\\nConfusion Matrix DataFrame - Normalize\")\n",
    "display(df_cm_for_test_norm)"
   ]
  },
  {
   "cell_type": "markdown",
   "id": "7e9805a7-95c9-4235-9ed0-f7c1334e1ffb",
   "metadata": {},
   "source": [
    "#### 5.3 Plot the confusion matrix"
   ]
  },
  {
   "cell_type": "code",
   "execution_count": 270,
   "id": "52857324-38bb-426b-bbe0-bac3a8516848",
   "metadata": {},
   "outputs": [
    {
     "data": {
      "image/png": "[encoded data removed]",
      "text/plain": [
       "<Figure size 1000x800 with 2 Axes>"
      ]
     },
     "metadata": {},
     "output_type": "display_data"
    }
   ],
   "source": [
    "#specify size of heatmap\n",
    "fig, ax = plt.subplots(figsize=(10, 8))\n",
    "\n",
    "sns.heatmap(df_cm_for_test, annot=True, fmt=\"g\", annot_kws={\"size\": 8}).set(title='Confusion Matrix')\n",
    "plt.xticks(rotation=90)\n",
    "plt.yticks(rotation=0)\n",
    "plt.xlabel(\"Predicted Labels\")\n",
    "plt.ylabel(\"True Labels\")\n",
    "\n",
    "\n",
    "# show the plot\n",
    "plt.show()"
   ]
  },
  {
   "cell_type": "markdown",
   "id": "b2f3ab52-5004-4ef4-85fa-cb5e70ac615b",
   "metadata": {},
   "source": [
    "#### 5.3. Confusion Matrix for each Label (One Vs All Fashion) - TEST DATASET\n"
   ]
  },
  {
   "cell_type": "code",
   "execution_count": 272,
   "id": "869f6344-997e-43ba-b957-3a578fd47ee1",
   "metadata": {},
   "outputs": [
    {
     "name": "stdout",
     "output_type": "stream",
     "text": [
      "Testing Dataset - Confusion Matrix for O\n"
     ]
    },
    {
     "data": {
      "text/html": [
       "<div>\n",
       "<style scoped>\n",
       "    .dataframe tbody tr th:only-of-type {\n",
       "        vertical-align: middle;\n",
       "    }\n",
       "\n",
       "    .dataframe tbody tr th {\n",
       "        vertical-align: top;\n",
       "    }\n",
       "\n",
       "    .dataframe thead th {\n",
       "        text-align: right;\n",
       "    }\n",
       "</style>\n",
       "<table border=\"1\" class=\"dataframe\">\n",
       "  <thead>\n",
       "    <tr style=\"text-align: right;\">\n",
       "      <th></th>\n",
       "      <th>not_O</th>\n",
       "      <th>O</th>\n",
       "    </tr>\n",
       "  </thead>\n",
       "  <tbody>\n",
       "    <tr>\n",
       "      <th>not_O</th>\n",
       "      <td>42238</td>\n",
       "      <td>2700</td>\n",
       "    </tr>\n",
       "    <tr>\n",
       "      <th>O</th>\n",
       "      <td>2778</td>\n",
       "      <td>162068</td>\n",
       "    </tr>\n",
       "  </tbody>\n",
       "</table>\n",
       "</div>"
      ],
      "text/plain": [
       "       not_O       O\n",
       "not_O  42238    2700\n",
       "O       2778  162068"
      ]
     },
     "metadata": {},
     "output_type": "display_data"
    },
    {
     "name": "stdout",
     "output_type": "stream",
     "text": [
      "-----------------------------\n",
      "\n",
      "Testing Dataset - Confusion Matrix for B-geo\n"
     ]
    },
    {
     "data": {
      "text/html": [
       "<div>\n",
       "<style scoped>\n",
       "    .dataframe tbody tr th:only-of-type {\n",
       "        vertical-align: middle;\n",
       "    }\n",
       "\n",
       "    .dataframe tbody tr th {\n",
       "        vertical-align: top;\n",
       "    }\n",
       "\n",
       "    .dataframe thead th {\n",
       "        text-align: right;\n",
       "    }\n",
       "</style>\n",
       "<table border=\"1\" class=\"dataframe\">\n",
       "  <thead>\n",
       "    <tr style=\"text-align: right;\">\n",
       "      <th></th>\n",
       "      <th>not_B-geo</th>\n",
       "      <th>B-geo</th>\n",
       "    </tr>\n",
       "  </thead>\n",
       "  <tbody>\n",
       "    <tr>\n",
       "      <th>not_B-geo</th>\n",
       "      <td>195778</td>\n",
       "      <td>2426</td>\n",
       "    </tr>\n",
       "    <tr>\n",
       "      <th>B-geo</th>\n",
       "      <td>1404</td>\n",
       "      <td>10176</td>\n",
       "    </tr>\n",
       "  </tbody>\n",
       "</table>\n",
       "</div>"
      ],
      "text/plain": [
       "           not_B-geo  B-geo\n",
       "not_B-geo     195778   2426\n",
       "B-geo           1404  10176"
      ]
     },
     "metadata": {},
     "output_type": "display_data"
    },
    {
     "name": "stdout",
     "output_type": "stream",
     "text": [
      "-----------------------------\n",
      "\n",
      "Testing Dataset - Confusion Matrix for B-gpe\n"
     ]
    },
    {
     "data": {
      "text/html": [
       "<div>\n",
       "<style scoped>\n",
       "    .dataframe tbody tr th:only-of-type {\n",
       "        vertical-align: middle;\n",
       "    }\n",
       "\n",
       "    .dataframe tbody tr th {\n",
       "        vertical-align: top;\n",
       "    }\n",
       "\n",
       "    .dataframe thead th {\n",
       "        text-align: right;\n",
       "    }\n",
       "</style>\n",
       "<table border=\"1\" class=\"dataframe\">\n",
       "  <thead>\n",
       "    <tr style=\"text-align: right;\">\n",
       "      <th></th>\n",
       "      <th>not_B-gpe</th>\n",
       "      <th>B-gpe</th>\n",
       "    </tr>\n",
       "  </thead>\n",
       "  <tbody>\n",
       "    <tr>\n",
       "      <th>not_B-gpe</th>\n",
       "      <td>205796</td>\n",
       "      <td>480</td>\n",
       "    </tr>\n",
       "    <tr>\n",
       "      <th>B-gpe</th>\n",
       "      <td>525</td>\n",
       "      <td>2983</td>\n",
       "    </tr>\n",
       "  </tbody>\n",
       "</table>\n",
       "</div>"
      ],
      "text/plain": [
       "           not_B-gpe  B-gpe\n",
       "not_B-gpe     205796    480\n",
       "B-gpe            525   2983"
      ]
     },
     "metadata": {},
     "output_type": "display_data"
    },
    {
     "name": "stdout",
     "output_type": "stream",
     "text": [
      "-----------------------------\n",
      "\n",
      "Testing Dataset - Confusion Matrix for B-per\n"
     ]
    },
    {
     "data": {
      "text/html": [
       "<div>\n",
       "<style scoped>\n",
       "    .dataframe tbody tr th:only-of-type {\n",
       "        vertical-align: middle;\n",
       "    }\n",
       "\n",
       "    .dataframe tbody tr th {\n",
       "        vertical-align: top;\n",
       "    }\n",
       "\n",
       "    .dataframe thead th {\n",
       "        text-align: right;\n",
       "    }\n",
       "</style>\n",
       "<table border=\"1\" class=\"dataframe\">\n",
       "  <thead>\n",
       "    <tr style=\"text-align: right;\">\n",
       "      <th></th>\n",
       "      <th>not_B-per</th>\n",
       "      <th>B-per</th>\n",
       "    </tr>\n",
       "  </thead>\n",
       "  <tbody>\n",
       "    <tr>\n",
       "      <th>not_B-per</th>\n",
       "      <td>203531</td>\n",
       "      <td>996</td>\n",
       "    </tr>\n",
       "    <tr>\n",
       "      <th>B-per</th>\n",
       "      <td>819</td>\n",
       "      <td>4438</td>\n",
       "    </tr>\n",
       "  </tbody>\n",
       "</table>\n",
       "</div>"
      ],
      "text/plain": [
       "           not_B-per  B-per\n",
       "not_B-per     203531    996\n",
       "B-per            819   4438"
      ]
     },
     "metadata": {},
     "output_type": "display_data"
    },
    {
     "name": "stdout",
     "output_type": "stream",
     "text": [
      "-----------------------------\n",
      "\n",
      "Testing Dataset - Confusion Matrix for I-geo\n"
     ]
    },
    {
     "data": {
      "text/html": [
       "<div>\n",
       "<style scoped>\n",
       "    .dataframe tbody tr th:only-of-type {\n",
       "        vertical-align: middle;\n",
       "    }\n",
       "\n",
       "    .dataframe tbody tr th {\n",
       "        vertical-align: top;\n",
       "    }\n",
       "\n",
       "    .dataframe thead th {\n",
       "        text-align: right;\n",
       "    }\n",
       "</style>\n",
       "<table border=\"1\" class=\"dataframe\">\n",
       "  <thead>\n",
       "    <tr style=\"text-align: right;\">\n",
       "      <th></th>\n",
       "      <th>not_I-geo</th>\n",
       "      <th>I-geo</th>\n",
       "    </tr>\n",
       "  </thead>\n",
       "  <tbody>\n",
       "    <tr>\n",
       "      <th>not_I-geo</th>\n",
       "      <td>207643</td>\n",
       "      <td>422</td>\n",
       "    </tr>\n",
       "    <tr>\n",
       "      <th>I-geo</th>\n",
       "      <td>598</td>\n",
       "      <td>1121</td>\n",
       "    </tr>\n",
       "  </tbody>\n",
       "</table>\n",
       "</div>"
      ],
      "text/plain": [
       "           not_I-geo  I-geo\n",
       "not_I-geo     207643    422\n",
       "I-geo            598   1121"
      ]
     },
     "metadata": {},
     "output_type": "display_data"
    },
    {
     "name": "stdout",
     "output_type": "stream",
     "text": [
      "-----------------------------\n",
      "\n",
      "Testing Dataset - Confusion Matrix for B-org\n"
     ]
    },
    {
     "data": {
      "text/html": [
       "<div>\n",
       "<style scoped>\n",
       "    .dataframe tbody tr th:only-of-type {\n",
       "        vertical-align: middle;\n",
       "    }\n",
       "\n",
       "    .dataframe tbody tr th {\n",
       "        vertical-align: top;\n",
       "    }\n",
       "\n",
       "    .dataframe thead th {\n",
       "        text-align: right;\n",
       "    }\n",
       "</style>\n",
       "<table border=\"1\" class=\"dataframe\">\n",
       "  <thead>\n",
       "    <tr style=\"text-align: right;\">\n",
       "      <th></th>\n",
       "      <th>not_B-org</th>\n",
       "      <th>B-org</th>\n",
       "    </tr>\n",
       "  </thead>\n",
       "  <tbody>\n",
       "    <tr>\n",
       "      <th>not_B-org</th>\n",
       "      <td>201502</td>\n",
       "      <td>1695</td>\n",
       "    </tr>\n",
       "    <tr>\n",
       "      <th>B-org</th>\n",
       "      <td>2594</td>\n",
       "      <td>3993</td>\n",
       "    </tr>\n",
       "  </tbody>\n",
       "</table>\n",
       "</div>"
      ],
      "text/plain": [
       "           not_B-org  B-org\n",
       "not_B-org     201502   1695\n",
       "B-org           2594   3993"
      ]
     },
     "metadata": {},
     "output_type": "display_data"
    },
    {
     "name": "stdout",
     "output_type": "stream",
     "text": [
      "-----------------------------\n",
      "\n",
      "Testing Dataset - Confusion Matrix for I-org\n"
     ]
    },
    {
     "data": {
      "text/html": [
       "<div>\n",
       "<style scoped>\n",
       "    .dataframe tbody tr th:only-of-type {\n",
       "        vertical-align: middle;\n",
       "    }\n",
       "\n",
       "    .dataframe tbody tr th {\n",
       "        vertical-align: top;\n",
       "    }\n",
       "\n",
       "    .dataframe thead th {\n",
       "        text-align: right;\n",
       "    }\n",
       "</style>\n",
       "<table border=\"1\" class=\"dataframe\">\n",
       "  <thead>\n",
       "    <tr style=\"text-align: right;\">\n",
       "      <th></th>\n",
       "      <th>not_I-org</th>\n",
       "      <th>I-org</th>\n",
       "    </tr>\n",
       "  </thead>\n",
       "  <tbody>\n",
       "    <tr>\n",
       "      <th>not_I-org</th>\n",
       "      <td>204615</td>\n",
       "      <td>1214</td>\n",
       "    </tr>\n",
       "    <tr>\n",
       "      <th>I-org</th>\n",
       "      <td>1676</td>\n",
       "      <td>2279</td>\n",
       "    </tr>\n",
       "  </tbody>\n",
       "</table>\n",
       "</div>"
      ],
      "text/plain": [
       "           not_I-org  I-org\n",
       "not_I-org     204615   1214\n",
       "I-org           1676   2279"
      ]
     },
     "metadata": {},
     "output_type": "display_data"
    },
    {
     "name": "stdout",
     "output_type": "stream",
     "text": [
      "-----------------------------\n",
      "\n",
      "Testing Dataset - Confusion Matrix for B-tim\n"
     ]
    },
    {
     "data": {
      "text/html": [
       "<div>\n",
       "<style scoped>\n",
       "    .dataframe tbody tr th:only-of-type {\n",
       "        vertical-align: middle;\n",
       "    }\n",
       "\n",
       "    .dataframe tbody tr th {\n",
       "        vertical-align: top;\n",
       "    }\n",
       "\n",
       "    .dataframe thead th {\n",
       "        text-align: right;\n",
       "    }\n",
       "</style>\n",
       "<table border=\"1\" class=\"dataframe\">\n",
       "  <thead>\n",
       "    <tr style=\"text-align: right;\">\n",
       "      <th></th>\n",
       "      <th>not_B-tim</th>\n",
       "      <th>B-tim</th>\n",
       "    </tr>\n",
       "  </thead>\n",
       "  <tbody>\n",
       "    <tr>\n",
       "      <th>not_B-tim</th>\n",
       "      <td>204842</td>\n",
       "      <td>627</td>\n",
       "    </tr>\n",
       "    <tr>\n",
       "      <th>B-tim</th>\n",
       "      <td>668</td>\n",
       "      <td>3647</td>\n",
       "    </tr>\n",
       "  </tbody>\n",
       "</table>\n",
       "</div>"
      ],
      "text/plain": [
       "           not_B-tim  B-tim\n",
       "not_B-tim     204842    627\n",
       "B-tim            668   3647"
      ]
     },
     "metadata": {},
     "output_type": "display_data"
    },
    {
     "name": "stdout",
     "output_type": "stream",
     "text": [
      "-----------------------------\n",
      "\n",
      "Testing Dataset - Confusion Matrix for I-per\n"
     ]
    },
    {
     "data": {
      "text/html": [
       "<div>\n",
       "<style scoped>\n",
       "    .dataframe tbody tr th:only-of-type {\n",
       "        vertical-align: middle;\n",
       "    }\n",
       "\n",
       "    .dataframe tbody tr th {\n",
       "        vertical-align: top;\n",
       "    }\n",
       "\n",
       "    .dataframe thead th {\n",
       "        text-align: right;\n",
       "    }\n",
       "</style>\n",
       "<table border=\"1\" class=\"dataframe\">\n",
       "  <thead>\n",
       "    <tr style=\"text-align: right;\">\n",
       "      <th></th>\n",
       "      <th>not_I-per</th>\n",
       "      <th>I-per</th>\n",
       "    </tr>\n",
       "  </thead>\n",
       "  <tbody>\n",
       "    <tr>\n",
       "      <th>not_I-per</th>\n",
       "      <td>201749</td>\n",
       "      <td>1404</td>\n",
       "    </tr>\n",
       "    <tr>\n",
       "      <th>I-per</th>\n",
       "      <td>416</td>\n",
       "      <td>6215</td>\n",
       "    </tr>\n",
       "  </tbody>\n",
       "</table>\n",
       "</div>"
      ],
      "text/plain": [
       "           not_I-per  I-per\n",
       "not_I-per     201749   1404\n",
       "I-per            416   6215"
      ]
     },
     "metadata": {},
     "output_type": "display_data"
    },
    {
     "name": "stdout",
     "output_type": "stream",
     "text": [
      "-----------------------------\n",
      "\n",
      "Testing Dataset - Confusion Matrix for I-tim\n"
     ]
    },
    {
     "data": {
      "text/html": [
       "<div>\n",
       "<style scoped>\n",
       "    .dataframe tbody tr th:only-of-type {\n",
       "        vertical-align: middle;\n",
       "    }\n",
       "\n",
       "    .dataframe tbody tr th {\n",
       "        vertical-align: top;\n",
       "    }\n",
       "\n",
       "    .dataframe thead th {\n",
       "        text-align: right;\n",
       "    }\n",
       "</style>\n",
       "<table border=\"1\" class=\"dataframe\">\n",
       "  <thead>\n",
       "    <tr style=\"text-align: right;\">\n",
       "      <th></th>\n",
       "      <th>not_I-tim</th>\n",
       "      <th>I-tim</th>\n",
       "    </tr>\n",
       "  </thead>\n",
       "  <tbody>\n",
       "    <tr>\n",
       "      <th>not_I-tim</th>\n",
       "      <td>208239</td>\n",
       "      <td>159</td>\n",
       "    </tr>\n",
       "    <tr>\n",
       "      <th>I-tim</th>\n",
       "      <td>645</td>\n",
       "      <td>741</td>\n",
       "    </tr>\n",
       "  </tbody>\n",
       "</table>\n",
       "</div>"
      ],
      "text/plain": [
       "           not_I-tim  I-tim\n",
       "not_I-tim     208239    159\n",
       "I-tim            645    741"
      ]
     },
     "metadata": {},
     "output_type": "display_data"
    },
    {
     "name": "stdout",
     "output_type": "stream",
     "text": [
      "-----------------------------\n",
      "\n"
     ]
    }
   ],
   "source": [
    "# compute multilabel confusion matrix\n",
    "# Here it will compute cm at the class level\n",
    "# labels are binarized under a one-vs-rest way\n",
    "mcm_for_test = multilabel_confusion_matrix(y_true=true_labels,\n",
    "                                        y_pred=pred_labels,\n",
    "                                        labels=label_ids_,\n",
    "                                       )\n",
    "\n",
    "# Label wise confusin matrix (one vs all fashion)\n",
    "for label_, l_cm in zip(label_names_, mcm_for_test):\n",
    "    col_names_ = [f\"not_{label_}\",label_]\n",
    "    print(f\"Testing Dataset - Confusion Matrix for {label_}\")\n",
    "    ldf = pd.DataFrame(l_cm, index=col_names_, columns=col_names_)\n",
    "    display(ldf)\n",
    "    print(\"-----------------------------\\n\")"
   ]
  },
  {
   "cell_type": "markdown",
   "id": "0cca4648-2108-4c90-aec5-f40f6d318db2",
   "metadata": {},
   "source": [
    "#### ----------------------- Testing Phase Ends Here --------------------------------------- "
   ]
  },
  {
   "cell_type": "markdown",
   "id": "fa76539a-ee1c-4b75-b0db-dadac7777f13",
   "metadata": {},
   "source": [
    "## K. Helper Functions to make predictions\n",
    "<p>\n",
    "We will create the following functions:\n",
    "    \n",
    "    1. create_input_ids - Function to create Input Ids for a given sentence\n",
    "    2. make_raw_prediction - Function to compute raw predictions\n",
    "    3. make_prediction - Function to compute CLEAN predictions\n",
    "\n",
    "And then we will check the final prediction on the test sentence that\n",
    "we used in Testing Phase defined above\n",
    "</p>"
   ]
  },
  {
   "cell_type": "markdown",
   "id": "3800994f-0285-49b3-9cfa-282d0a6edb1a",
   "metadata": {},
   "source": [
    "#### 1. Create a function to produce input id sample for a sentence"
   ]
  },
  {
   "cell_type": "code",
   "execution_count": 273,
   "id": "c1d31567-c7b3-42b9-a754-510f97c7208f",
   "metadata": {},
   "outputs": [],
   "source": [
    "def create_input_ids(sentence, tokenizer):\n",
    "    \"\"\"\n",
    "    Create sample input ids for a given sentence using the tokenizer\n",
    "    \"\"\"\n",
    "    # Encoding and convert the sentences into tensors\n",
    "    sample_sentence = tokenizer.encode(' '.join(sentence))\n",
    "    sample_input_ids = torch.tensor([sample_sentence])\n",
    "    \n",
    "    return sample_input_ids"
   ]
  },
  {
   "cell_type": "markdown",
   "id": "ba5462f6-7110-4cb7-9446-60721afbcc05",
   "metadata": {},
   "source": [
    "#### 2. Create a function to produce raw prediction for a sentence"
   ]
  },
  {
   "cell_type": "code",
   "execution_count": 275,
   "id": "03df9dd3-8a93-4aa0-a618-63cbc7951e54",
   "metadata": {},
   "outputs": [],
   "source": [
    "from torch import nn\n",
    "\n",
    "def make_raw_prediction(sentence, model, tokenizer, unseen_word_label='O', device='cpu'):\n",
    "    # Function which retrieves key value for our Label Dictionary\n",
    "    def get_key(val):\n",
    "        for key, value in label2id.items():\n",
    "             if val == value:\n",
    "                 return key\n",
    "        return unseen_word_label\n",
    "\n",
    "    try:\n",
    "        device = torch.device(device)\n",
    "    except:\n",
    "        print(f\"unable to move to device {device}. Hence using cpu.\")\n",
    "        device = torch.device('cpu')\n",
    "\n",
    "    # move model to device\n",
    "    model.to(device)\n",
    "    # Create sample input ids\n",
    "    sample_input_ids = create_input_ids(sentence, tokenizer)\n",
    "    # move the input ids to device\n",
    "    sample_input_ids.to(device)\n",
    "    # Predicting the test sample using model() function\n",
    "    with torch.no_grad():\n",
    "        output = model(sample_input_ids)\n",
    "\n",
    "    # Extract the labels\n",
    "    label_indices = np.argmax(output[0].to('cpu').numpy(), axis=2)\n",
    "    #Tokenize  \n",
    "    tokens = tokenizer.convert_ids_to_tokens(sample_input_ids.to('cpu').numpy()[0])\n",
    "\n",
    "    # We need to club wordpieces starting with \"##' in a single word\n",
    "    new_tokens, new_label = [], []\n",
    "    for token, label_idx in zip(tokens, label_indices[0]):\n",
    "        if token.startswith(\"##\"):\n",
    "            new_tokens[-1] = new_tokens[-1] + token[2:]\n",
    "        else:\n",
    "            new_label.append(get_key(label_idx))\n",
    "            new_tokens.append(token)\n",
    "\n",
    "    #Appending Tokens and Labels\n",
    "    sample_token, sample_label = [], []\n",
    "    for token, label in zip(new_tokens, new_label):\n",
    "        sample_token.append(token) \n",
    "        sample_label.append(label)\n",
    "        \n",
    "    return sample_token, sample_label"
   ]
  },
  {
   "cell_type": "markdown",
   "id": "78dc74bb-c777-4eaa-964a-f04c5673341d",
   "metadata": {},
   "source": [
    "#### 3. Processing Raw Prediction\n",
    "As we can see in the raw output, the total number of tokens can be greater than the length of test sentence.\n",
    "Also, we need to ensure that individual word pieces are further clubbed\n",
    "into one single word (as present in the original test sentence) so that length of sample token is equal\n",
    "to length of clean tokens. Hence we will create a function to achieve the same."
   ]
  },
  {
   "cell_type": "code",
   "execution_count": 276,
   "id": "3b31769c-21d5-47bc-aff4-bf19dc525161",
   "metadata": {},
   "outputs": [],
   "source": [
    "def preprocess_raw_prediction(test_sentence, sample_token, sample_label):\n",
    "    # remove special tokens and corresponding labels\n",
    "    # they are not required\n",
    "    filter_tokens = sample_token[1:-1]\n",
    "    filter_labels = sample_label[1:-1]\n",
    "\n",
    "    # Result stored in list as token, label pair\n",
    "    res = []\n",
    "    # initial index for list of sample tokens\n",
    "    tok_idx = 0\n",
    "    \n",
    "    # iterate through each token of test sentence\n",
    "    for word in test_sentence:\n",
    "        # pair to store the current word and its label\n",
    "        pair = tuple()\n",
    "        # check the length of current word\n",
    "        word_len = len(word)\n",
    "        # check the length of current token in sample tokens\n",
    "        tok_len = len(filter_tokens[tok_idx])\n",
    "\n",
    "        # Note: We are using the strategy that will\n",
    "        # assume that 1st word piece label is the \n",
    "        # label for the entire word.\n",
    "        # Hence, get the label for current token\n",
    "        tok_labl =  filter_labels[tok_idx]\n",
    "\n",
    "        # update the pair\n",
    "        pair = (word, tok_labl)\n",
    "\n",
    "        # increment the idx till word_len becomes equal to tok len\n",
    "        while word_len > tok_len:\n",
    "            # increment token idex\n",
    "            tok_idx +=1\n",
    "            # add the length of next token\n",
    "            tok_len += len(filter_tokens[tok_idx])\n",
    "        tok_idx+=1\n",
    "        res.append(pair)\n",
    "    return res"
   ]
  },
  {
   "cell_type": "markdown",
   "id": "63e3be9a-f95a-48a0-b845-17155abadaad",
   "metadata": {},
   "source": [
    "#### 4. Create a function to compute clean prediction for a sentence"
   ]
  },
  {
   "cell_type": "code",
   "execution_count": 277,
   "id": "7292b823-19af-4821-8f05-57c59ed1dfae",
   "metadata": {},
   "outputs": [],
   "source": [
    "def make_prediction(sentence, model, tokenizer, unseen_word_label='O', sent_delimiter=\" \", device='cpu'):\n",
    "    \n",
    "    # check if sentence is a list of words\n",
    "    if isinstance(sentence, str):\n",
    "        # create the string\n",
    "        sentence = sentence.strip().split(sent_delimiter)\n",
    "\n",
    "    # compute raw predictions\n",
    "    sample_token, sample_label = make_raw_prediction(sentence, model, tokenizer, unseen_word_label, device)\n",
    "\n",
    "    # preprocess raw prediction to make clean predictions\n",
    "    clean_pred_ = preprocess_raw_prediction(sentence, sample_token, sample_label)\n",
    "\n",
    "    return clean_pred_"
   ]
  },
  {
   "cell_type": "markdown",
   "id": "3131fa79-133d-4fe4-a6b1-04c99b4559c6",
   "metadata": {},
   "source": [
    "## L. Inference\n",
    "<p>\n",
    "The most advantageous aspect is the ability to swiftly evaluate the model using novel, previously unencountered sentences. In this context, we utilize the prediction of the initial word piece for each word.\n",
    "</p>"
   ]
  },
  {
   "cell_type": "markdown",
   "id": "166fa441-cb67-453b-90de-6c3be707c67e",
   "metadata": {},
   "source": [
    "#### Enter Any Sentence"
   ]
  },
  {
   "cell_type": "code",
   "execution_count": 291,
   "id": "f327bb25-f273-4aa2-9fed-e76ac0e18de7",
   "metadata": {},
   "outputs": [
    {
     "name": "stdin",
     "output_type": "stream",
     "text": [
      "Enter any sentence: Samsung was founded in 1938 by Lee Byung-chul as a trading company and opened a development center in Warsaw , Poland , in 2000 .\n"
     ]
    }
   ],
   "source": [
    "sent_ = input(\"Enter any sentence:\")"
   ]
  },
  {
   "cell_type": "code",
   "execution_count": 292,
   "id": "ce01a79f-33af-414c-943b-a1dc88224ab6",
   "metadata": {},
   "outputs": [
    {
     "name": "stdout",
     "output_type": "stream",
     "text": [
      "The sentence entered is:\n",
      " Samsung was founded in 1938 by Lee Byung-chul as a trading company and opened a development center in Warsaw , Poland , in 2000 .\n"
     ]
    }
   ],
   "source": [
    "print(f\"The sentence entered is:\\n {sent_}\")\n",
    "\n",
    "# compute label predictions\n",
    "pred_labels_ = make_prediction(sent_, model=best_model, tokenizer=tokenizer, device='cpu')"
   ]
  },
  {
   "cell_type": "markdown",
   "id": "6e267dc0-232f-4667-8ee4-2f595b06194a",
   "metadata": {},
   "source": [
    "#### View Results as DataFrame"
   ]
  },
  {
   "cell_type": "code",
   "execution_count": 293,
   "id": "9d7e3589-2d47-4a70-9702-db8123abd512",
   "metadata": {},
   "outputs": [
    {
     "data": {
      "text/html": [
       "<div>\n",
       "<style scoped>\n",
       "    .dataframe tbody tr th:only-of-type {\n",
       "        vertical-align: middle;\n",
       "    }\n",
       "\n",
       "    .dataframe tbody tr th {\n",
       "        vertical-align: top;\n",
       "    }\n",
       "\n",
       "    .dataframe thead th {\n",
       "        text-align: right;\n",
       "    }\n",
       "</style>\n",
       "<table border=\"1\" class=\"dataframe\">\n",
       "  <thead>\n",
       "    <tr style=\"text-align: right;\">\n",
       "      <th></th>\n",
       "      <th>0</th>\n",
       "      <th>1</th>\n",
       "      <th>2</th>\n",
       "      <th>3</th>\n",
       "      <th>4</th>\n",
       "      <th>5</th>\n",
       "      <th>6</th>\n",
       "      <th>7</th>\n",
       "      <th>8</th>\n",
       "      <th>9</th>\n",
       "      <th>10</th>\n",
       "      <th>11</th>\n",
       "      <th>12</th>\n",
       "      <th>13</th>\n",
       "      <th>14</th>\n",
       "      <th>15</th>\n",
       "      <th>16</th>\n",
       "      <th>17</th>\n",
       "      <th>18</th>\n",
       "      <th>19</th>\n",
       "      <th>20</th>\n",
       "      <th>21</th>\n",
       "      <th>22</th>\n",
       "      <th>23</th>\n",
       "      <th>24</th>\n",
       "    </tr>\n",
       "  </thead>\n",
       "  <tbody>\n",
       "    <tr>\n",
       "      <th>Token</th>\n",
       "      <td>Samsung</td>\n",
       "      <td>was</td>\n",
       "      <td>founded</td>\n",
       "      <td>in</td>\n",
       "      <td>1938</td>\n",
       "      <td>by</td>\n",
       "      <td>Lee</td>\n",
       "      <td>Byung-chul</td>\n",
       "      <td>as</td>\n",
       "      <td>a</td>\n",
       "      <td>trading</td>\n",
       "      <td>company</td>\n",
       "      <td>and</td>\n",
       "      <td>opened</td>\n",
       "      <td>a</td>\n",
       "      <td>development</td>\n",
       "      <td>center</td>\n",
       "      <td>in</td>\n",
       "      <td>Warsaw</td>\n",
       "      <td>,</td>\n",
       "      <td>Poland</td>\n",
       "      <td>,</td>\n",
       "      <td>in</td>\n",
       "      <td>2000</td>\n",
       "      <td>.</td>\n",
       "    </tr>\n",
       "    <tr>\n",
       "      <th>Labels</th>\n",
       "      <td>B-org</td>\n",
       "      <td>O</td>\n",
       "      <td>O</td>\n",
       "      <td>O</td>\n",
       "      <td>B-tim</td>\n",
       "      <td>O</td>\n",
       "      <td>B-per</td>\n",
       "      <td>I-per</td>\n",
       "      <td>O</td>\n",
       "      <td>O</td>\n",
       "      <td>O</td>\n",
       "      <td>O</td>\n",
       "      <td>O</td>\n",
       "      <td>O</td>\n",
       "      <td>O</td>\n",
       "      <td>O</td>\n",
       "      <td>O</td>\n",
       "      <td>O</td>\n",
       "      <td>B-geo</td>\n",
       "      <td>O</td>\n",
       "      <td>B-geo</td>\n",
       "      <td>O</td>\n",
       "      <td>O</td>\n",
       "      <td>B-tim</td>\n",
       "      <td>O</td>\n",
       "    </tr>\n",
       "  </tbody>\n",
       "</table>\n",
       "</div>"
      ],
      "text/plain": [
       "             0    1        2   3      4   5      6           7   8  9   \\\n",
       "Token   Samsung  was  founded  in   1938  by    Lee  Byung-chul  as  a   \n",
       "Labels    B-org    O        O   O  B-tim   O  B-per       I-per   O  O   \n",
       "\n",
       "             10       11   12      13 14           15      16  17      18 19  \\\n",
       "Token   trading  company  and  opened  a  development  center  in  Warsaw  ,   \n",
       "Labels        O        O    O       O  O            O       O   O   B-geo  O   \n",
       "\n",
       "            20 21  22     23 24  \n",
       "Token   Poland  ,  in   2000  .  \n",
       "Labels   B-geo  O   O  B-tim  O  "
      ]
     },
     "execution_count": 293,
     "metadata": {},
     "output_type": "execute_result"
    }
   ],
   "source": [
    "pred_df_ = pd.DataFrame(data=pred_labels_, columns=['Token', 'Labels'])\n",
    "pred_df_.T"
   ]
  },
  {
   "cell_type": "markdown",
   "id": "1443b86a-1d1c-4f9e-9ee9-3901907c60a5",
   "metadata": {},
   "source": [
    "### Alternate Way - Giving Input as List \n",
    "<p> Here we will give input sentence as <b>list of words</b></p>"
   ]
  },
  {
   "cell_type": "code",
   "execution_count": 297,
   "id": "ba3f4651-5dbd-4b41-b91b-9d39c1223fba",
   "metadata": {},
   "outputs": [],
   "source": [
    "# same input sentence as list of words\n",
    "sent_list_ = ['Samsung', 'was', 'founded', 'in', '1938', 'by', 'Lee', 'Byung-chul', 'as', 'a', 'trading',\n",
    "              'company', 'and', 'opened', 'a', 'development', 'center', 'in', 'Warsaw', ',',\n",
    "              'Poland', ',', 'in', '2000']\n",
    "\n",
    "# compute label predictions\n",
    "pred_labels_ = make_prediction(sent_list_, model=best_model, tokenizer=tokenizer, device='cpu')"
   ]
  },
  {
   "cell_type": "code",
   "execution_count": 298,
   "id": "44491e98-5460-4ab8-83d2-576167b732a3",
   "metadata": {},
   "outputs": [
    {
     "name": "stdout",
     "output_type": "stream",
     "text": [
      "[('Samsung', 'B-org'), ('was', 'O'), ('founded', 'O'), ('in', 'O'), ('1938', 'B-tim'), ('by', 'O'), ('Lee', 'B-per'), ('Byung-chul', 'I-per'), ('as', 'O'), ('a', 'O'), ('trading', 'O'), ('company', 'O'), ('and', 'O'), ('opened', 'O'), ('a', 'O'), ('development', 'O'), ('center', 'O'), ('in', 'O'), ('Warsaw', 'B-geo'), (',', 'O'), ('Poland', 'B-geo'), (',', 'O'), ('in', 'O'), ('2000', 'B-tim')]\n"
     ]
    }
   ],
   "source": [
    "print(pred_labels_)"
   ]
  },
  {
   "cell_type": "markdown",
   "id": "5f27bd54-3663-4c80-a336-40741d8ec547",
   "metadata": {},
   "source": [
    "#### View Results as DataFrame"
   ]
  },
  {
   "cell_type": "code",
   "execution_count": 299,
   "id": "46e665b5-dde2-44c0-8926-74e19180c4a4",
   "metadata": {},
   "outputs": [
    {
     "data": {
      "text/html": [
       "<div>\n",
       "<style scoped>\n",
       "    .dataframe tbody tr th:only-of-type {\n",
       "        vertical-align: middle;\n",
       "    }\n",
       "\n",
       "    .dataframe tbody tr th {\n",
       "        vertical-align: top;\n",
       "    }\n",
       "\n",
       "    .dataframe thead th {\n",
       "        text-align: right;\n",
       "    }\n",
       "</style>\n",
       "<table border=\"1\" class=\"dataframe\">\n",
       "  <thead>\n",
       "    <tr style=\"text-align: right;\">\n",
       "      <th></th>\n",
       "      <th>0</th>\n",
       "      <th>1</th>\n",
       "      <th>2</th>\n",
       "      <th>3</th>\n",
       "      <th>4</th>\n",
       "      <th>5</th>\n",
       "      <th>6</th>\n",
       "      <th>7</th>\n",
       "      <th>8</th>\n",
       "      <th>9</th>\n",
       "      <th>10</th>\n",
       "      <th>11</th>\n",
       "      <th>12</th>\n",
       "      <th>13</th>\n",
       "      <th>14</th>\n",
       "      <th>15</th>\n",
       "      <th>16</th>\n",
       "      <th>17</th>\n",
       "      <th>18</th>\n",
       "      <th>19</th>\n",
       "      <th>20</th>\n",
       "      <th>21</th>\n",
       "      <th>22</th>\n",
       "      <th>23</th>\n",
       "    </tr>\n",
       "  </thead>\n",
       "  <tbody>\n",
       "    <tr>\n",
       "      <th>Token</th>\n",
       "      <td>Samsung</td>\n",
       "      <td>was</td>\n",
       "      <td>founded</td>\n",
       "      <td>in</td>\n",
       "      <td>1938</td>\n",
       "      <td>by</td>\n",
       "      <td>Lee</td>\n",
       "      <td>Byung-chul</td>\n",
       "      <td>as</td>\n",
       "      <td>a</td>\n",
       "      <td>trading</td>\n",
       "      <td>company</td>\n",
       "      <td>and</td>\n",
       "      <td>opened</td>\n",
       "      <td>a</td>\n",
       "      <td>development</td>\n",
       "      <td>center</td>\n",
       "      <td>in</td>\n",
       "      <td>Warsaw</td>\n",
       "      <td>,</td>\n",
       "      <td>Poland</td>\n",
       "      <td>,</td>\n",
       "      <td>in</td>\n",
       "      <td>2000</td>\n",
       "    </tr>\n",
       "    <tr>\n",
       "      <th>Labels</th>\n",
       "      <td>B-org</td>\n",
       "      <td>O</td>\n",
       "      <td>O</td>\n",
       "      <td>O</td>\n",
       "      <td>B-tim</td>\n",
       "      <td>O</td>\n",
       "      <td>B-per</td>\n",
       "      <td>I-per</td>\n",
       "      <td>O</td>\n",
       "      <td>O</td>\n",
       "      <td>O</td>\n",
       "      <td>O</td>\n",
       "      <td>O</td>\n",
       "      <td>O</td>\n",
       "      <td>O</td>\n",
       "      <td>O</td>\n",
       "      <td>O</td>\n",
       "      <td>O</td>\n",
       "      <td>B-geo</td>\n",
       "      <td>O</td>\n",
       "      <td>B-geo</td>\n",
       "      <td>O</td>\n",
       "      <td>O</td>\n",
       "      <td>B-tim</td>\n",
       "    </tr>\n",
       "  </tbody>\n",
       "</table>\n",
       "</div>"
      ],
      "text/plain": [
       "             0    1        2   3      4   5      6           7   8  9   \\\n",
       "Token   Samsung  was  founded  in   1938  by    Lee  Byung-chul  as  a   \n",
       "Labels    B-org    O        O   O  B-tim   O  B-per       I-per   O  O   \n",
       "\n",
       "             10       11   12      13 14           15      16  17      18 19  \\\n",
       "Token   trading  company  and  opened  a  development  center  in  Warsaw  ,   \n",
       "Labels        O        O    O       O  O            O       O   O   B-geo  O   \n",
       "\n",
       "            20 21  22     23  \n",
       "Token   Poland  ,  in   2000  \n",
       "Labels   B-geo  O   O  B-tim  "
      ]
     },
     "execution_count": 299,
     "metadata": {},
     "output_type": "execute_result"
    }
   ],
   "source": [
    "pred_df_ = pd.DataFrame(data=pred_labels_, columns=['Token', 'Labels'])\n",
    "pred_df_.T"
   ]
  },
  {
   "cell_type": "markdown",
   "id": "bb24f2e0-638c-48f3-bb42-8df106ac7f95",
   "metadata": {},
   "source": [
    "## M. Saving And loading Utilities for the Model and Tokenizer"
   ]
  },
  {
   "cell_type": "markdown",
   "id": "7935bf8d-9309-4c4e-acf6-69b9b95fd439",
   "metadata": {},
   "source": [
    "#### Function to save and load the model & tokenizer"
   ]
  },
  {
   "cell_type": "code",
   "execution_count": 300,
   "id": "00448930-c09b-49b4-9d88-c83ae3bbbef4",
   "metadata": {},
   "outputs": [],
   "source": [
    "def save_model(model, saved_model_path):\n",
    "    try:\n",
    "        # save the state dict\n",
    "        model.save_pretrained(saved_model_path)\n",
    "        print(f\"model saved successfully at {saved_model_path} ...\")\n",
    "        return True\n",
    "    except Exception as e:\n",
    "        print(f\"ERROR: {e}\")\n",
    "        print(\"unable to save the model..\")\n",
    "    return False\n",
    "\n",
    "def load_model(saved_model_path):\n",
    "    try:\n",
    "        # load the state dict\n",
    "        model = BertForTokenClassification.from_pretrained(saved_model_path)\n",
    "        print(\"model loaded successfully\")\n",
    "        return model\n",
    "    except Exception as e:\n",
    "        print(f\"ERROR: {e}\")\n",
    "        print(\"unable to load the model..\")\n",
    "        return False\n",
    "\n",
    "def save_tokenizer(tokenizer, saved_tokenizer_path):\n",
    "    try:\n",
    "        # save the state dict\n",
    "        tokenizer.save_pretrained(saved_tokenizer_path, save_tokenizer=True)\n",
    "        print(f\"tokenizer saved successfully at {saved_tokenizer_path} ...\")\n",
    "        return True\n",
    "    except Exception as e:\n",
    "        print(f\"ERROR: {e}\")\n",
    "        print(\"unable to save the model..\")\n",
    "    return False\n",
    "\n",
    "def load_tokenizer(saved_tokenizer_path):\n",
    "    try:\n",
    "        # load the state dict\n",
    "        tokenizer = BertTokenizer.from_pretrained(saved_tokenizer_path)\n",
    "        print(\"tokenizer loaded successfully\")\n",
    "        return tokenizer\n",
    "    except Exception as e:\n",
    "        print(f\"ERROR: {e}\")\n",
    "        print(\"unable to load the tokenizer..\")\n",
    "        return False"
   ]
  },
  {
   "cell_type": "markdown",
   "id": "8ab35eed-07ec-4d5c-b854-fc272ea69fb0",
   "metadata": {},
   "source": [
    "#### Save the trained model"
   ]
  },
  {
   "cell_type": "code",
   "execution_count": 301,
   "id": "fff0c45f-0703-4ad8-b0da-f35556f2973b",
   "metadata": {},
   "outputs": [
    {
     "name": "stdout",
     "output_type": "stream",
     "text": [
      "model saved successfully at /Users/akg/jupyter/kaggle/project_ner/model/bert_ner/BERT_NER_L_12_T_10_D_128 ...\n"
     ]
    },
    {
     "data": {
      "text/plain": [
       "True"
      ]
     },
     "execution_count": 301,
     "metadata": {},
     "output_type": "execute_result"
    }
   ],
   "source": [
    "dir_to_save = \"/Users/akg/jupyter/kaggle/project_ner/model/bert_ner\"\n",
    "model_name = \"BERT_NER_L_12_T_10_D_128\"\n",
    "\n",
    "model_dir_path = f\"{dir_to_save}/{model_name}\"\n",
    "\n",
    "# save the model\n",
    "save_model(model=model, saved_model_path=model_dir_path)"
   ]
  },
  {
   "cell_type": "markdown",
   "id": "5e55a2cf-e5b2-4211-9ab6-7ecfeb6c2b87",
   "metadata": {},
   "source": [
    "#### Save the Tokenizer"
   ]
  },
  {
   "cell_type": "code",
   "execution_count": 302,
   "id": "d0b0f3d5-e62d-4f7b-830b-b493e8be0c35",
   "metadata": {},
   "outputs": [
    {
     "name": "stdout",
     "output_type": "stream",
     "text": [
      "tokenizer saved successfully at /Users/akg/jupyter/kaggle/project_ner/model/bert_ner/BERT_TOKENIZER ...\n"
     ]
    },
    {
     "data": {
      "text/plain": [
       "True"
      ]
     },
     "execution_count": 302,
     "metadata": {},
     "output_type": "execute_result"
    }
   ],
   "source": [
    "dir_to_save = \"/Users/akg/jupyter/kaggle/project_ner/model/bert_ner\"\n",
    "tokenizer_name = \"BERT_TOKENIZER\"\n",
    "\n",
    "tokenizer_dir_path = f\"{dir_to_save}/{tokenizer_name}\"\n",
    "\n",
    "# save the model\n",
    "save_tokenizer(tokenizer=tokenizer, saved_tokenizer_path=tokenizer_dir_path)"
   ]
  },
  {
   "cell_type": "markdown",
   "id": "9f284a5a-7b98-4c17-a022-645259078484",
   "metadata": {},
   "source": [
    "#### Load the Model and Tokenizer (for future use)"
   ]
  },
  {
   "cell_type": "code",
   "execution_count": 303,
   "id": "29045132-0730-403e-9032-87a754ceeafe",
   "metadata": {},
   "outputs": [
    {
     "name": "stdout",
     "output_type": "stream",
     "text": [
      "model loaded successfully\n",
      "tokenizer loaded successfully\n"
     ]
    }
   ],
   "source": [
    "# load the saved model\n",
    "loaded_model = load_model(model_dir_path)\n",
    "\n",
    "# load the saved tokenizer\n",
    "loaded_tokenizer = load_tokenizer(tokenizer_dir_path)"
   ]
  },
  {
   "cell_type": "markdown",
   "id": "7f7246ba-257a-4bdb-a8ee-1b0b8b736d7b",
   "metadata": {},
   "source": [
    "#### Lets check the Loaded model and tokenizer"
   ]
  },
  {
   "cell_type": "code",
   "execution_count": 306,
   "id": "8e9ffdeb-6804-46d5-9bb6-2fe30e880c67",
   "metadata": {},
   "outputs": [],
   "source": [
    "new_sent_ = \"Samsung was founded in 1938 by Lee Byung-chul as a trading company and opened a\\\n",
    " development center in Warsaw , Poland , in 2000 .\""
   ]
  },
  {
   "cell_type": "code",
   "execution_count": 307,
   "id": "3376f94a-df08-49d0-80bd-dd40f230240a",
   "metadata": {},
   "outputs": [],
   "source": [
    "# We will use loaded model and loaded tokenizer\n",
    "new_pred_ = make_prediction(sentence=new_sent_, model=loaded_model, tokenizer=loaded_tokenizer, device='cpu')"
   ]
  },
  {
   "cell_type": "markdown",
   "id": "1a5fe6a5-6f73-4158-811c-a5d5f3340b04",
   "metadata": {},
   "source": [
    "#### View pred as DF"
   ]
  },
  {
   "cell_type": "code",
   "execution_count": 308,
   "id": "735d980c-c6b8-407c-9ea0-d820e837f055",
   "metadata": {},
   "outputs": [
    {
     "data": {
      "text/html": [
       "<div>\n",
       "<style scoped>\n",
       "    .dataframe tbody tr th:only-of-type {\n",
       "        vertical-align: middle;\n",
       "    }\n",
       "\n",
       "    .dataframe tbody tr th {\n",
       "        vertical-align: top;\n",
       "    }\n",
       "\n",
       "    .dataframe thead th {\n",
       "        text-align: right;\n",
       "    }\n",
       "</style>\n",
       "<table border=\"1\" class=\"dataframe\">\n",
       "  <thead>\n",
       "    <tr style=\"text-align: right;\">\n",
       "      <th></th>\n",
       "      <th>0</th>\n",
       "      <th>1</th>\n",
       "      <th>2</th>\n",
       "      <th>3</th>\n",
       "      <th>4</th>\n",
       "      <th>5</th>\n",
       "      <th>6</th>\n",
       "      <th>7</th>\n",
       "      <th>8</th>\n",
       "      <th>9</th>\n",
       "      <th>10</th>\n",
       "      <th>11</th>\n",
       "      <th>12</th>\n",
       "      <th>13</th>\n",
       "      <th>14</th>\n",
       "      <th>15</th>\n",
       "      <th>16</th>\n",
       "      <th>17</th>\n",
       "      <th>18</th>\n",
       "      <th>19</th>\n",
       "      <th>20</th>\n",
       "      <th>21</th>\n",
       "      <th>22</th>\n",
       "      <th>23</th>\n",
       "      <th>24</th>\n",
       "    </tr>\n",
       "  </thead>\n",
       "  <tbody>\n",
       "    <tr>\n",
       "      <th>Token</th>\n",
       "      <td>Samsung</td>\n",
       "      <td>was</td>\n",
       "      <td>founded</td>\n",
       "      <td>in</td>\n",
       "      <td>1938</td>\n",
       "      <td>by</td>\n",
       "      <td>Lee</td>\n",
       "      <td>Byung-chul</td>\n",
       "      <td>as</td>\n",
       "      <td>a</td>\n",
       "      <td>trading</td>\n",
       "      <td>company</td>\n",
       "      <td>and</td>\n",
       "      <td>opened</td>\n",
       "      <td>a</td>\n",
       "      <td>development</td>\n",
       "      <td>center</td>\n",
       "      <td>in</td>\n",
       "      <td>Warsaw</td>\n",
       "      <td>,</td>\n",
       "      <td>Poland</td>\n",
       "      <td>,</td>\n",
       "      <td>in</td>\n",
       "      <td>2000</td>\n",
       "      <td>.</td>\n",
       "    </tr>\n",
       "    <tr>\n",
       "      <th>Pred_Label</th>\n",
       "      <td>B-org</td>\n",
       "      <td>O</td>\n",
       "      <td>O</td>\n",
       "      <td>O</td>\n",
       "      <td>B-tim</td>\n",
       "      <td>O</td>\n",
       "      <td>B-per</td>\n",
       "      <td>I-per</td>\n",
       "      <td>O</td>\n",
       "      <td>O</td>\n",
       "      <td>O</td>\n",
       "      <td>O</td>\n",
       "      <td>O</td>\n",
       "      <td>O</td>\n",
       "      <td>O</td>\n",
       "      <td>O</td>\n",
       "      <td>O</td>\n",
       "      <td>O</td>\n",
       "      <td>B-geo</td>\n",
       "      <td>O</td>\n",
       "      <td>B-geo</td>\n",
       "      <td>O</td>\n",
       "      <td>O</td>\n",
       "      <td>B-tim</td>\n",
       "      <td>O</td>\n",
       "    </tr>\n",
       "  </tbody>\n",
       "</table>\n",
       "</div>"
      ],
      "text/plain": [
       "                 0    1        2   3      4   5      6           7   8  9   \\\n",
       "Token       Samsung  was  founded  in   1938  by    Lee  Byung-chul  as  a   \n",
       "Pred_Label    B-org    O        O   O  B-tim   O  B-per       I-per   O  O   \n",
       "\n",
       "                 10       11   12      13 14           15      16  17      18  \\\n",
       "Token       trading  company  and  opened  a  development  center  in  Warsaw   \n",
       "Pred_Label        O        O    O       O  O            O       O   O   B-geo   \n",
       "\n",
       "           19      20 21  22     23 24  \n",
       "Token       ,  Poland  ,  in   2000  .  \n",
       "Pred_Label  O   B-geo  O   O  B-tim  O  "
      ]
     },
     "execution_count": 308,
     "metadata": {},
     "output_type": "execute_result"
    }
   ],
   "source": [
    "new_df_ = pd.DataFrame(new_pred_, columns=['Token','Pred_Label'])\n",
    "new_df_.T"
   ]
  },
  {
   "cell_type": "markdown",
   "id": "96067b28-07fe-4b48-b62f-5b2afb1aa6e5",
   "metadata": {},
   "source": [
    "<p> Again, with our <font color=brown><b>loaded model and tokenizer</b></font>, the <b>results</b> are very promising &#x1F60A</p>"
   ]
  },
  {
   "cell_type": "markdown",
   "id": "1ca9d6a6-098d-4e4b-8d4b-ec51b9136095",
   "metadata": {},
   "source": [
    "<p><i style='color:brown'><b>\"As far as laws of mathematics refer to reality, they are not certain; as far they are certain, they do not refer to reality\"</b></i> -- Sir Albert Einstein</p>"
   ]
  }
 ],
 "metadata": {
  "kernelspec": {
   "display_name": "jup_env",
   "language": "python",
   "name": "jup_env"
  },
  "language_info": {
   "codemirror_mode": {
    "name": "ipython",
    "version": 3
   },
   "file_extension": ".py",
   "mimetype": "text/x-python",
   "name": "python",
   "nbconvert_exporter": "python",
   "pygments_lexer": "ipython3",
   "version": "3.12.3"
  }
 },
 "nbformat": 4,
 "nbformat_minor": 5
}
