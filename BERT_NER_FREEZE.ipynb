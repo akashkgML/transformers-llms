{
 "cells": [
  {
   "cell_type": "markdown",
   "id": "4577c06b-15eb-4991-af1c-5deb00659bfd",
   "metadata": {},
   "source": [
    "# Publicis Sapient Project - Named Entity Recognition\n",
    "\n",
    "## <font color=brown>Baseline-Model</font>"
   ]
  },
  {
   "cell_type": "markdown",
   "id": "66fcd64e-36ac-4ba4-857f-19ab53ecef1e",
   "metadata": {},
   "source": [
    "# Introduction\n",
    "<p><b>What is NER?</b><br>\n",
    "    NER, or Named Entity Recognition, is a component of Natural Language Processing (NLP) that focuses on identifying and categorizing named entities within a given text.\n",
    "</p>\n",
    "<p><b>What it does?</b><br>\n",
    "NER locates and classifies named entities in text, such as people, places, organizations, time expressions, and quantities.\n",
    "</p>\n",
    "<p>\n",
    "    <b>How it works?</b><br>\n",
    "    Named Entity Recognition (NER) detects specific words or phrases within a document and subsequently categorizes them into established classifications.\n",
    "</p>\n",
    "<p>\n",
    "    <b>Why it's useful?</b><br>\n",
    "    Named Entity Recognition (NER) enhances document translation by offering contextual insights that aid in comprehending sentences. For instance, in the sentence \"Apple released a new iPhone today,\" NER can recognize \"Apple\" as an organization.\n",
    "</p>\n",
    "\n",
    "<p><b>Notebook Strategy</b><br>\n",
    "    In this notebook, we will utilize <font style='color:brown'><b>BertForTokenClassification</b></font>, a model provided by the <font color=blue>Transformers </font>library from HuggingFace.\n",
    "    This model\n",
    "    is built on the <font color=blue>BERT architecture</font> and features a token <font color=blue>classification head</font>, enabling it to perform predictions at the <font color=blue>token level</font>\n",
    "    instead of the sequence level. Named entity recognition is generally approached as a token classification task, which is the purpose of\n",
    "    our implementation\n",
    "</p>\n",
    "<p>This notebook explores the concept of <font color=blue><b>transfer learning</b></font>, which involves initially pretraining a large neural network in an unsupervised manner, followed by <font color=blue>fine-tuning</blue></font> the network for a specific task. In this instance, BERT serves as the pretrained neural network, having been trained on two tasks: masked language modeling and next sentence prediction.</p>\n",
    "<p><b>Fine-tuning</b> involves supervised learning, which indicates that a <b>labeled dataset</b> is required.</p>\n",
    "<p>\n",
    "    <b>Note:</b>\n",
    "    <br>\n",
    "    <ol>\n",
    "        <li>\n",
    "            This notebook presupposes that the reader possesses a fundamental understanding of several key concepts and technologies that are essential for effectively engaging with the content presented herein. Specifically, it assumes familiarity with deep learning, which is a subset of machine learning that focuses on algorithms inspired by the structure and function of the brain, particularly artificial neural networks.\n",
    "        </li>\n",
    "        <li>\n",
    "        Additionally, the reader should have a working knowledge of BERT (Bidirectional Encoder Representations from Transformers), a state-of-the-art natural language processing model developed by Google. BERT is designed to understand the context of words in a sentence by considering the words that come before and after them, making it particularly effective for tasks such as text classification, question answering, and language inference.\n",
    "    </li>\n",
    "        <li>\n",
    "            Furthermore, proficiency in the PyTorch framework is also assumed. PyTorch is an open-source machine learning library widely used for applications in deep learning and artificial intelligence. It provides a flexible and dynamic computational graph, which allows for easy experimentation and debugging, making it a popular choice among researchers and practitioners in the field.\n",
    "        </li>\n",
    "    </ol>\n",
    "    In summary, this notebook is intended for individuals who are already well-versed in these foundational topics, as it will build upon this knowledge to explore more advanced concepts and applications related to deep learning, BERT, and the use of PyTorch for implementing various models and techniques.\n",
    "</p>\n",
    "\n",
    "<p>\n",
    "    <b>Notebook Sections</b><br>\n",
    "    This notebook is divided into following sections:\n",
    "    <ul>\n",
    "        <li>A. Setting Environment</li>\n",
    "        <li>B. Set the Device (cpu or mps)</li>\n",
    "        <li>C. Reading Dataset</li>\n",
    "        <li>D. PreProcessing Dataset</li>\n",
    "        <li>E. Setting Tokenizer</li>\n",
    "        <li>F. Seen Dataset</li>\n",
    "        <li>G. Preparing the Input Data</li>\n",
    "        <li>H. Create the Model, Optimizer and Scheduler</li>\n",
    "        <li>I. Model Training</li>\n",
    "        <li>J. Evaluation</li>\n",
    "        <li>K. Testing Trained Model</li>\n",
    "        <li>L. Helper Function</li>\n",
    "        <li>M. Inference</li>\n",
    "        <li>N. Saving and Loading Utilities for Model</li>   \n",
    "    </ul>\n",
    "</p>"
   ]
  },
  {
   "cell_type": "markdown",
   "id": "5d75c074-6739-49b9-9c90-507eaade8297",
   "metadata": {},
   "source": [
    "## A. Setting up the environment and importing Python libraries\n",
    "<p>\n",
    "    This notebook assumes that you have the following libraries installed:\n",
    "    <ul>\n",
    "        <li>pandas</li>\n",
    "        <li>numpy</li>\n",
    "        <li>sklearn</li>\n",
    "        <li>pytorch</li>\n",
    "        <li>transformers</li>\n",
    "        <li>matplotlib</li>\n",
    "        <li>seaborn</li>\n",
    "    </ul>\n",
    "\n",
    "Note: Please ensure that you have all the libraries installed.\n",
    "\n",
    "It is recommended to use the cpu device in case mac osx mps (Gpus) are not available.\n",
    "</p>"
   ]
  },
  {
   "cell_type": "code",
   "execution_count": 136,
   "id": "4cbc71e0-9831-4d1b-bb37-d13e4480ddc9",
   "metadata": {},
   "outputs": [],
   "source": [
    "# Uncomment to install libraries\n",
    "# !pip install pandas\n",
    "# !pip install numpy\n",
    "# !pip install scikit-learn\n",
    "# !pip install torch\n",
    "# !pip install transformers\n",
    "# !pip install matplotlib\n",
    "# !pip install seaborn\n",
    "\n",
    "# Note: For zsh shell remove exclamation (!) mark"
   ]
  },
  {
   "cell_type": "code",
   "execution_count": 9,
   "id": "cdf1ca18-c805-4dcf-a685-0ba9e51cda9f",
   "metadata": {},
   "outputs": [],
   "source": [
    "import collections\n",
    "from itertools import chain\n",
    "import random\n",
    "\n",
    "import pandas as pd\n",
    "import numpy as np\n",
    "\n",
    "from sklearn.model_selection import train_test_split\n",
    "from sklearn.metrics import f1_score, accuracy_score, precision_score, recall_score\n",
    "from sklearn.metrics import confusion_matrix, multilabel_confusion_matrix\n",
    "\n",
    "import torch\n",
    "from torch import nn\n",
    "from torch.utils.data import Dataset, DataLoader\n",
    "from torch.utils.data import RandomSampler, SequentialSampler\n",
    "from torch.utils.data import TensorDataset, random_split\n",
    "from torch.optim import AdamW\n",
    "\n",
    "from transformers import BertTokenizer\n",
    "from transformers import BertForTokenClassification\n",
    "from transformers import get_linear_schedule_with_warmup\n",
    "\n",
    "import matplotlib.pyplot as plt\n",
    "import seaborn as sns"
   ]
  },
  {
   "cell_type": "markdown",
   "id": "f7b0ae82-c652-4741-8a48-4dd16a578bc4",
   "metadata": {},
   "source": [
    "## B. Set Device - Check if MPS (Metal Performance Shaders) is available\n",
    "<p>\n",
    "    PyTorch uses the new Metal Performance Shaders (MPS) backend for GPU training acceleration. This MPS backend extends the PyTorch\n",
    "    framework, providing scripts and capabilities to set up and run operations on Mac.\n",
    "</p>"
   ]
  },
  {
   "cell_type": "code",
   "execution_count": 10,
   "id": "b54cb411-fd0a-4e44-a0c8-e6669a7f752c",
   "metadata": {},
   "outputs": [],
   "source": [
    "def get_device(force_cpu_device=False):\n",
    "    # default device\n",
    "    device = torch.device('cpu')\n",
    "    # Check that MPS  is available\n",
    "    if not torch.backends.mps.is_available():\n",
    "        if not torch.backends.mps.is_built():\n",
    "            print(\"MPS not available because the current PyTorch install was not \"\n",
    "                  \"built with MPS enabled.\")\n",
    "        else:\n",
    "            print(\"MPS not available because the current MacOS version is not 12.3+ \"\n",
    "                  \"and/or you do not have an MPS-enabled device on this machine.\")\n",
    "\n",
    "    else:\n",
    "        mps_device = torch.device(\"mps\")\n",
    "        device = mps_device\n",
    "        print(\"mps device found\")\n",
    "    # Force to use the cpu device\n",
    "    if force_cpu_device:\n",
    "        print(\"force to use cpu\")\n",
    "        device = torch.device('cpu')\n",
    "    return device"
   ]
  },
  {
   "cell_type": "code",
   "execution_count": 11,
   "id": "c8e1a12d-c595-424f-9980-c6b4ffcc5851",
   "metadata": {},
   "outputs": [
    {
     "name": "stdout",
     "output_type": "stream",
     "text": [
      "mps device found\n",
      "device to be used: mps\n"
     ]
    }
   ],
   "source": [
    "device = get_device()\n",
    "print(f\"device to be used: {device}\")"
   ]
  },
  {
   "cell_type": "markdown",
   "id": "7c358b5c-2228-4ea3-bcb8-93dce397dbc2",
   "metadata": {},
   "source": [
    "## C. Reading Dataset"
   ]
  },
  {
   "cell_type": "code",
   "execution_count": 13,
   "id": "bc3b6998-8dd8-47ac-9dda-f79d64e30eaf",
   "metadata": {},
   "outputs": [],
   "source": [
    "# setting the filepath\n",
    "file_path = \"/Users/akg/jupyter/company_interview/sapient/data/ner_dataset.csv\"\n",
    "\n",
    "# read the raw data\n",
    "raw_df = pd.read_csv(file_path, engine='python', sep=',', encoding='latin1')"
   ]
  },
  {
   "cell_type": "markdown",
   "id": "f85b87e2-f5f6-4b55-98b9-ef86f0c387d8",
   "metadata": {},
   "source": [
    "#### Peek into raw data"
   ]
  },
  {
   "cell_type": "code",
   "execution_count": 14,
   "id": "17657e1e-fee7-4b1f-8b73-479de63b9fad",
   "metadata": {},
   "outputs": [
    {
     "data": {
      "text/html": [
       "<div>\n",
       "<style scoped>\n",
       "    .dataframe tbody tr th:only-of-type {\n",
       "        vertical-align: middle;\n",
       "    }\n",
       "\n",
       "    .dataframe tbody tr th {\n",
       "        vertical-align: top;\n",
       "    }\n",
       "\n",
       "    .dataframe thead th {\n",
       "        text-align: right;\n",
       "    }\n",
       "</style>\n",
       "<table border=\"1\" class=\"dataframe\">\n",
       "  <thead>\n",
       "    <tr style=\"text-align: right;\">\n",
       "      <th></th>\n",
       "      <th>Sentence #</th>\n",
       "      <th>Word</th>\n",
       "      <th>POS</th>\n",
       "      <th>Tag</th>\n",
       "    </tr>\n",
       "  </thead>\n",
       "  <tbody>\n",
       "    <tr>\n",
       "      <th>0</th>\n",
       "      <td>Sentence: 1</td>\n",
       "      <td>Thousands</td>\n",
       "      <td>NNS</td>\n",
       "      <td>O</td>\n",
       "    </tr>\n",
       "    <tr>\n",
       "      <th>1</th>\n",
       "      <td>NaN</td>\n",
       "      <td>of</td>\n",
       "      <td>IN</td>\n",
       "      <td>O</td>\n",
       "    </tr>\n",
       "    <tr>\n",
       "      <th>2</th>\n",
       "      <td>NaN</td>\n",
       "      <td>demonstrators</td>\n",
       "      <td>NNS</td>\n",
       "      <td>O</td>\n",
       "    </tr>\n",
       "    <tr>\n",
       "      <th>3</th>\n",
       "      <td>NaN</td>\n",
       "      <td>have</td>\n",
       "      <td>VBP</td>\n",
       "      <td>O</td>\n",
       "    </tr>\n",
       "    <tr>\n",
       "      <th>4</th>\n",
       "      <td>NaN</td>\n",
       "      <td>marched</td>\n",
       "      <td>VBN</td>\n",
       "      <td>O</td>\n",
       "    </tr>\n",
       "  </tbody>\n",
       "</table>\n",
       "</div>"
      ],
      "text/plain": [
       "    Sentence #           Word  POS Tag\n",
       "0  Sentence: 1      Thousands  NNS   O\n",
       "1          NaN             of   IN   O\n",
       "2          NaN  demonstrators  NNS   O\n",
       "3          NaN           have  VBP   O\n",
       "4          NaN        marched  VBN   O"
      ]
     },
     "execution_count": 14,
     "metadata": {},
     "output_type": "execute_result"
    }
   ],
   "source": [
    "raw_df.head()"
   ]
  },
  {
   "cell_type": "markdown",
   "id": "9ea680e8-9c77-4d03-b096-c783b831219e",
   "metadata": {},
   "source": [
    "## D. Preprocessing Data"
   ]
  },
  {
   "cell_type": "markdown",
   "id": "79619c04-b860-4d44-9032-03536a6be8f0",
   "metadata": {},
   "source": [
    "### 1. Check if there are any NaN values in Word and Tag Columns"
   ]
  },
  {
   "cell_type": "markdown",
   "id": "a85db6e3-4a76-4608-a903-086bef2c96a5",
   "metadata": {},
   "source": [
    "#### 1.1. Tag columns"
   ]
  },
  {
   "cell_type": "code",
   "execution_count": 18,
   "id": "69b7025c-2c08-48c1-aa24-a73ae1a0ba9c",
   "metadata": {},
   "outputs": [],
   "source": [
    "tag_null_mask = raw_df[['Tag']].isnull().any(axis=1)\n",
    "tag_null_rows = raw_df[tag_null_mask]"
   ]
  },
  {
   "cell_type": "code",
   "execution_count": 19,
   "id": "02b7b0d3-900f-458f-a2a8-87b257b7fe10",
   "metadata": {},
   "outputs": [
    {
     "name": "stdout",
     "output_type": "stream",
     "text": [
      "number of rows where tag is NaN: 0\n"
     ]
    }
   ],
   "source": [
    "print(f\"number of rows where tag is NaN: {tag_null_rows.size}\")"
   ]
  },
  {
   "cell_type": "markdown",
   "id": "11703e61-8bf2-4ce6-8674-971a4627cc17",
   "metadata": {},
   "source": [
    "#### 1.2. Word columns"
   ]
  },
  {
   "cell_type": "code",
   "execution_count": 20,
   "id": "8a7edada-62d6-4328-a2a3-35f01c70a72c",
   "metadata": {},
   "outputs": [],
   "source": [
    "word_null_mask = raw_df[['Word']].isnull().any(axis=1)\n",
    "word_null_rows = raw_df[word_null_mask]"
   ]
  },
  {
   "cell_type": "code",
   "execution_count": 21,
   "id": "e18826da-4476-4575-b469-2815dbef6d3a",
   "metadata": {},
   "outputs": [
    {
     "name": "stdout",
     "output_type": "stream",
     "text": [
      "number of rows where word is NaN: 40\n"
     ]
    }
   ],
   "source": [
    "print(f\"number of rows where word is NaN: {word_null_rows.size}\")"
   ]
  },
  {
   "cell_type": "markdown",
   "id": "cf8b97ff-543a-4801-805c-ba5ae8be0dfc",
   "metadata": {},
   "source": [
    "##### 1.2. a) Let us have a look at the sentences where word is null"
   ]
  },
  {
   "cell_type": "code",
   "execution_count": 22,
   "id": "ce9b4e34-ff21-46e4-a527-39e3692c42a6",
   "metadata": {},
   "outputs": [],
   "source": [
    "word_null_index = word_null_rows.index.to_list()"
   ]
  },
  {
   "cell_type": "markdown",
   "id": "d817b393-551a-42ef-802e-cb614cd6232e",
   "metadata": {},
   "source": [
    "##### 1.2. b) First sentence where Word have NaN Value"
   ]
  },
  {
   "cell_type": "code",
   "execution_count": 23,
   "id": "11556fb2-57df-4ca9-9136-57e8f8528d9e",
   "metadata": {},
   "outputs": [
    {
     "data": {
      "text/html": [
       "<div>\n",
       "<style scoped>\n",
       "    .dataframe tbody tr th:only-of-type {\n",
       "        vertical-align: middle;\n",
       "    }\n",
       "\n",
       "    .dataframe tbody tr th {\n",
       "        vertical-align: top;\n",
       "    }\n",
       "\n",
       "    .dataframe thead th {\n",
       "        text-align: right;\n",
       "    }\n",
       "</style>\n",
       "<table border=\"1\" class=\"dataframe\">\n",
       "  <thead>\n",
       "    <tr style=\"text-align: right;\">\n",
       "      <th></th>\n",
       "      <th>Sentence #</th>\n",
       "      <th>Word</th>\n",
       "      <th>POS</th>\n",
       "      <th>Tag</th>\n",
       "    </tr>\n",
       "  </thead>\n",
       "  <tbody>\n",
       "    <tr>\n",
       "      <th>197658</th>\n",
       "      <td>Sentence: 9047</td>\n",
       "      <td>NaN</td>\n",
       "      <td>NN</td>\n",
       "      <td>O</td>\n",
       "    </tr>\n",
       "    <tr>\n",
       "      <th>197659</th>\n",
       "      <td>NaN</td>\n",
       "      <td>of</td>\n",
       "      <td>IN</td>\n",
       "      <td>O</td>\n",
       "    </tr>\n",
       "    <tr>\n",
       "      <th>197660</th>\n",
       "      <td>NaN</td>\n",
       "      <td>the</td>\n",
       "      <td>DT</td>\n",
       "      <td>O</td>\n",
       "    </tr>\n",
       "    <tr>\n",
       "      <th>197661</th>\n",
       "      <td>NaN</td>\n",
       "      <td>32</td>\n",
       "      <td>CD</td>\n",
       "      <td>O</td>\n",
       "    </tr>\n",
       "    <tr>\n",
       "      <th>197662</th>\n",
       "      <td>NaN</td>\n",
       "      <td>freed</td>\n",
       "      <td>VBN</td>\n",
       "      <td>O</td>\n",
       "    </tr>\n",
       "    <tr>\n",
       "      <th>197663</th>\n",
       "      <td>NaN</td>\n",
       "      <td>Saturday</td>\n",
       "      <td>NNP</td>\n",
       "      <td>B-tim</td>\n",
       "    </tr>\n",
       "  </tbody>\n",
       "</table>\n",
       "</div>"
      ],
      "text/plain": [
       "            Sentence #      Word  POS    Tag\n",
       "197658  Sentence: 9047       NaN   NN      O\n",
       "197659             NaN        of   IN      O\n",
       "197660             NaN       the   DT      O\n",
       "197661             NaN        32   CD      O\n",
       "197662             NaN     freed  VBN      O\n",
       "197663             NaN  Saturday  NNP  B-tim"
      ]
     },
     "execution_count": 23,
     "metadata": {},
     "output_type": "execute_result"
    }
   ],
   "source": [
    "# Lets look at the first sentence with NaN value\n",
    "raw_df.loc[word_null_index[0]:word_null_index[0]+5]"
   ]
  },
  {
   "cell_type": "markdown",
   "id": "3c8b5b86-c701-468d-a2aa-027272f4bacb",
   "metadata": {},
   "source": [
    "Here we can see that <b>NaN</b> words could be <b>None</b> so the sentence - \"None of the 32 freed ...\" makes more sense\n",
    "rather than 'NaN of the 32 freed'"
   ]
  },
  {
   "cell_type": "markdown",
   "id": "0328790b-9d57-4b07-9d7a-efb8e1322514",
   "metadata": {},
   "source": [
    "##### 1.2. c) Second sentence where Word have NaN Value"
   ]
  },
  {
   "cell_type": "code",
   "execution_count": 25,
   "id": "dfae121a-af0a-4d7e-a08a-a036308b9244",
   "metadata": {},
   "outputs": [
    {
     "data": {
      "text/html": [
       "<div>\n",
       "<style scoped>\n",
       "    .dataframe tbody tr th:only-of-type {\n",
       "        vertical-align: middle;\n",
       "    }\n",
       "\n",
       "    .dataframe tbody tr th {\n",
       "        vertical-align: top;\n",
       "    }\n",
       "\n",
       "    .dataframe thead th {\n",
       "        text-align: right;\n",
       "    }\n",
       "</style>\n",
       "<table border=\"1\" class=\"dataframe\">\n",
       "  <thead>\n",
       "    <tr style=\"text-align: right;\">\n",
       "      <th></th>\n",
       "      <th>Sentence #</th>\n",
       "      <th>Word</th>\n",
       "      <th>POS</th>\n",
       "      <th>Tag</th>\n",
       "    </tr>\n",
       "  </thead>\n",
       "  <tbody>\n",
       "    <tr>\n",
       "      <th>256026</th>\n",
       "      <td>Sentence: 11709</td>\n",
       "      <td>NaN</td>\n",
       "      <td>NN</td>\n",
       "      <td>O</td>\n",
       "    </tr>\n",
       "    <tr>\n",
       "      <th>256027</th>\n",
       "      <td>NaN</td>\n",
       "      <td>of</td>\n",
       "      <td>IN</td>\n",
       "      <td>O</td>\n",
       "    </tr>\n",
       "    <tr>\n",
       "      <th>256028</th>\n",
       "      <td>NaN</td>\n",
       "      <td>the</td>\n",
       "      <td>DT</td>\n",
       "      <td>O</td>\n",
       "    </tr>\n",
       "    <tr>\n",
       "      <th>256029</th>\n",
       "      <td>NaN</td>\n",
       "      <td>injuries</td>\n",
       "      <td>NNS</td>\n",
       "      <td>O</td>\n",
       "    </tr>\n",
       "    <tr>\n",
       "      <th>256030</th>\n",
       "      <td>NaN</td>\n",
       "      <td>was</td>\n",
       "      <td>VBD</td>\n",
       "      <td>O</td>\n",
       "    </tr>\n",
       "    <tr>\n",
       "      <th>256031</th>\n",
       "      <td>NaN</td>\n",
       "      <td>serious</td>\n",
       "      <td>JJ</td>\n",
       "      <td>O</td>\n",
       "    </tr>\n",
       "  </tbody>\n",
       "</table>\n",
       "</div>"
      ],
      "text/plain": [
       "             Sentence #      Word  POS Tag\n",
       "256026  Sentence: 11709       NaN   NN   O\n",
       "256027              NaN        of   IN   O\n",
       "256028              NaN       the   DT   O\n",
       "256029              NaN  injuries  NNS   O\n",
       "256030              NaN       was  VBD   O\n",
       "256031              NaN   serious   JJ   O"
      ]
     },
     "execution_count": 25,
     "metadata": {},
     "output_type": "execute_result"
    }
   ],
   "source": [
    "# Lets look at the second sentence with NaN value\n",
    "raw_df.loc[word_null_index[1]:word_null_index[1]+5]"
   ]
  },
  {
   "cell_type": "markdown",
   "id": "91549985-b1d6-463a-b2e6-008e388a36a8",
   "metadata": {},
   "source": [
    "Here also, we can see that <b>NaN</b> words could be <b>None</b> so the sentence - 'None of the injuries ...\" makes more sense\n",
    "rather than 'NaN of the injuries ...'"
   ]
  },
  {
   "cell_type": "markdown",
   "id": "4bb8233a-d855-4366-9756-a368cb50353e",
   "metadata": {},
   "source": [
    "#### Conclusion\n",
    "We can safely replace the <b>NaN</b> with <b>None</b> so that the corresponding sentences makes more sense."
   ]
  },
  {
   "cell_type": "markdown",
   "id": "cb90c764-e81b-4e9f-bac1-2a4832280031",
   "metadata": {},
   "source": [
    "### 2. Replace NaN with None"
   ]
  },
  {
   "cell_type": "code",
   "execution_count": 26,
   "id": "99af704f-a0fb-47c3-8686-8cc56b5cd91d",
   "metadata": {},
   "outputs": [],
   "source": [
    "# Replace the word\n",
    "raw_df.Word = raw_df.Word.fillna('None')"
   ]
  },
  {
   "cell_type": "markdown",
   "id": "51793c8e-5fdd-408d-b7ca-ceae88dc4819",
   "metadata": {},
   "source": [
    "#### 2.1. Check if the values are replaced successfully"
   ]
  },
  {
   "cell_type": "code",
   "execution_count": 27,
   "id": "e4fc0bd0-411e-4dbc-99d0-359d34f77d45",
   "metadata": {},
   "outputs": [],
   "source": [
    "word_null_mask = raw_df[['Word']].isnull().any(axis=1)\n",
    "word_null_rows = raw_df[word_null_mask]"
   ]
  },
  {
   "cell_type": "code",
   "execution_count": 28,
   "id": "eb3538b1-4c34-4928-ae02-5dfaf3a90347",
   "metadata": {},
   "outputs": [
    {
     "name": "stdout",
     "output_type": "stream",
     "text": [
      "number of rows where word is NaN: 0\n"
     ]
    }
   ],
   "source": [
    "print(f\"number of rows where word is NaN: {word_null_rows.size}\")"
   ]
  },
  {
   "cell_type": "markdown",
   "id": "ccc37280-9bec-4da8-b2ff-042935b154fc",
   "metadata": {},
   "source": [
    "#### 2.2. Let us check if values are indeed replaced"
   ]
  },
  {
   "cell_type": "code",
   "execution_count": 22,
   "id": "2bf48d39-46cf-43ce-949c-ed3ef5c1e7d4",
   "metadata": {},
   "outputs": [
    {
     "data": {
      "text/html": [
       "<div>\n",
       "<style scoped>\n",
       "    .dataframe tbody tr th:only-of-type {\n",
       "        vertical-align: middle;\n",
       "    }\n",
       "\n",
       "    .dataframe tbody tr th {\n",
       "        vertical-align: top;\n",
       "    }\n",
       "\n",
       "    .dataframe thead th {\n",
       "        text-align: right;\n",
       "    }\n",
       "</style>\n",
       "<table border=\"1\" class=\"dataframe\">\n",
       "  <thead>\n",
       "    <tr style=\"text-align: right;\">\n",
       "      <th></th>\n",
       "      <th>Sentence #</th>\n",
       "      <th>Word</th>\n",
       "      <th>POS</th>\n",
       "      <th>Tag</th>\n",
       "    </tr>\n",
       "  </thead>\n",
       "  <tbody>\n",
       "    <tr>\n",
       "      <th>197658</th>\n",
       "      <td>Sentence: 9047</td>\n",
       "      <td>None</td>\n",
       "      <td>NN</td>\n",
       "      <td>O</td>\n",
       "    </tr>\n",
       "    <tr>\n",
       "      <th>256026</th>\n",
       "      <td>Sentence: 11709</td>\n",
       "      <td>None</td>\n",
       "      <td>NN</td>\n",
       "      <td>O</td>\n",
       "    </tr>\n",
       "    <tr>\n",
       "      <th>257069</th>\n",
       "      <td>Sentence: 11759</td>\n",
       "      <td>None</td>\n",
       "      <td>NN</td>\n",
       "      <td>O</td>\n",
       "    </tr>\n",
       "    <tr>\n",
       "      <th>571211</th>\n",
       "      <td>Sentence: 26129</td>\n",
       "      <td>None</td>\n",
       "      <td>NN</td>\n",
       "      <td>O</td>\n",
       "    </tr>\n",
       "    <tr>\n",
       "      <th>613777</th>\n",
       "      <td>Sentence: 28049</td>\n",
       "      <td>None</td>\n",
       "      <td>NN</td>\n",
       "      <td>O</td>\n",
       "    </tr>\n",
       "    <tr>\n",
       "      <th>747019</th>\n",
       "      <td>Sentence: 34152</td>\n",
       "      <td>None</td>\n",
       "      <td>NN</td>\n",
       "      <td>O</td>\n",
       "    </tr>\n",
       "    <tr>\n",
       "      <th>901758</th>\n",
       "      <td>Sentence: 41181</td>\n",
       "      <td>None</td>\n",
       "      <td>NN</td>\n",
       "      <td>O</td>\n",
       "    </tr>\n",
       "    <tr>\n",
       "      <th>903054</th>\n",
       "      <td>Sentence: 41244</td>\n",
       "      <td>None</td>\n",
       "      <td>NN</td>\n",
       "      <td>O</td>\n",
       "    </tr>\n",
       "    <tr>\n",
       "      <th>944880</th>\n",
       "      <td>Sentence: 43177</td>\n",
       "      <td>None</td>\n",
       "      <td>NN</td>\n",
       "      <td>O</td>\n",
       "    </tr>\n",
       "    <tr>\n",
       "      <th>1003438</th>\n",
       "      <td>Sentence: 45887</td>\n",
       "      <td>None</td>\n",
       "      <td>NN</td>\n",
       "      <td>O</td>\n",
       "    </tr>\n",
       "  </tbody>\n",
       "</table>\n",
       "</div>"
      ],
      "text/plain": [
       "              Sentence #  Word POS Tag\n",
       "197658    Sentence: 9047  None  NN   O\n",
       "256026   Sentence: 11709  None  NN   O\n",
       "257069   Sentence: 11759  None  NN   O\n",
       "571211   Sentence: 26129  None  NN   O\n",
       "613777   Sentence: 28049  None  NN   O\n",
       "747019   Sentence: 34152  None  NN   O\n",
       "901758   Sentence: 41181  None  NN   O\n",
       "903054   Sentence: 41244  None  NN   O\n",
       "944880   Sentence: 43177  None  NN   O\n",
       "1003438  Sentence: 45887  None  NN   O"
      ]
     },
     "execution_count": 22,
     "metadata": {},
     "output_type": "execute_result"
    }
   ],
   "source": [
    "raw_df.iloc[word_null_index]"
   ]
  },
  {
   "cell_type": "markdown",
   "id": "fc8d3bdb-d3b0-40d7-8fbc-564f7f4afa3e",
   "metadata": {},
   "source": [
    "#### 3) Convert Word column to lower case (Imp)\n",
    "```\n",
    "Bert-base-uncased transforms word to [unk] token if it starts with Capital Word.\n",
    "```"
   ]
  },
  {
   "cell_type": "code",
   "execution_count": 23,
   "id": "b8fdefc2-ad75-417b-8252-524e63d0b271",
   "metadata": {},
   "outputs": [],
   "source": [
    "#raw_df.Word = raw_df.Word.str.lower()"
   ]
  },
  {
   "cell_type": "code",
   "execution_count": 24,
   "id": "cdca147a-8193-4496-8402-e029b01a94ac",
   "metadata": {},
   "outputs": [
    {
     "data": {
      "text/html": [
       "<div>\n",
       "<style scoped>\n",
       "    .dataframe tbody tr th:only-of-type {\n",
       "        vertical-align: middle;\n",
       "    }\n",
       "\n",
       "    .dataframe tbody tr th {\n",
       "        vertical-align: top;\n",
       "    }\n",
       "\n",
       "    .dataframe thead th {\n",
       "        text-align: right;\n",
       "    }\n",
       "</style>\n",
       "<table border=\"1\" class=\"dataframe\">\n",
       "  <thead>\n",
       "    <tr style=\"text-align: right;\">\n",
       "      <th></th>\n",
       "      <th>Word</th>\n",
       "    </tr>\n",
       "  </thead>\n",
       "  <tbody>\n",
       "    <tr>\n",
       "      <th>0</th>\n",
       "      <td>thousands</td>\n",
       "    </tr>\n",
       "    <tr>\n",
       "      <th>1</th>\n",
       "      <td>of</td>\n",
       "    </tr>\n",
       "    <tr>\n",
       "      <th>2</th>\n",
       "      <td>demonstrators</td>\n",
       "    </tr>\n",
       "    <tr>\n",
       "      <th>3</th>\n",
       "      <td>have</td>\n",
       "    </tr>\n",
       "    <tr>\n",
       "      <th>4</th>\n",
       "      <td>marched</td>\n",
       "    </tr>\n",
       "  </tbody>\n",
       "</table>\n",
       "</div>"
      ],
      "text/plain": [
       "            Word\n",
       "0      thousands\n",
       "1             of\n",
       "2  demonstrators\n",
       "3           have\n",
       "4        marched"
      ]
     },
     "execution_count": 24,
     "metadata": {},
     "output_type": "execute_result"
    }
   ],
   "source": [
    "#raw_df[['Word']].head(5)"
   ]
  },
  {
   "cell_type": "markdown",
   "id": "c29ced8d-1b04-4148-b6e5-ef4c7123c8c0",
   "metadata": {},
   "source": [
    "#### 2.3. Get list of indices where each sentence begins"
   ]
  },
  {
   "cell_type": "code",
   "execution_count": 29,
   "id": "f75ba72e-b05c-4612-bb77-d31f7c785247",
   "metadata": {},
   "outputs": [],
   "source": [
    "# compute the row indices indicating the begining of each sentence\n",
    "sent_index_col = 'Sentence #'\n",
    "sent_idx = raw_df[raw_df[sent_index_col].notnull()].index.tolist()"
   ]
  },
  {
   "cell_type": "code",
   "execution_count": 31,
   "id": "c6dbbeec-a034-470a-adc1-ee8abac9f692",
   "metadata": {},
   "outputs": [
    {
     "name": "stdout",
     "output_type": "stream",
     "text": [
      "Total number of sentences: 47959\n"
     ]
    }
   ],
   "source": [
    "# total number of sentences\n",
    "print(f\"Total number of sentences: {len(sent_idx)}\")"
   ]
  },
  {
   "cell_type": "markdown",
   "id": "49289ec0-6eab-4463-ae13-6183b7ebbd54",
   "metadata": {},
   "source": [
    "#### 2.4. Compute list of sentences and corresponding list of labels"
   ]
  },
  {
   "cell_type": "code",
   "execution_count": 32,
   "id": "37555d96-0182-4cd8-a813-a2fb1b8c6863",
   "metadata": {},
   "outputs": [],
   "source": [
    "# column name information\n",
    "tag_col = 'Tag'\n",
    "word_col = 'Word'\n",
    "\n",
    "# list of words forming the sentences\n",
    "all_sentences = []\n",
    "\n",
    "# list of corresponding labels for each tokens\n",
    "all_labels = []\n",
    "\n",
    "# do for each sentence and labels\n",
    "for i in range(len(sent_idx)-1):\n",
    "    all_sentences.append(raw_df.loc[sent_idx[i]:sent_idx[i+1]-1,word_col].tolist())\n",
    "    all_labels.append(raw_df.loc[sent_idx[i]:sent_idx[i+1]-1,tag_col].tolist())\n",
    "\n",
    "# append the last sentence as well\n",
    "all_sentences.append(raw_df.loc[sent_idx[-1]:,word_col].tolist())\n",
    "all_labels.append(raw_df.loc[sent_idx[-1]:,tag_col].tolist())"
   ]
  },
  {
   "cell_type": "code",
   "execution_count": 33,
   "id": "0ec48740-4880-4533-842b-0fb8144eb900",
   "metadata": {},
   "outputs": [
    {
     "name": "stdout",
     "output_type": "stream",
     "text": [
      "total number of sentences = 47959\n",
      "total number of labels = 47959\n"
     ]
    }
   ],
   "source": [
    "print(f\"total number of sentences = {len(all_sentences)}\")\n",
    "print(f\"total number of labels = {len(all_labels)}\")"
   ]
  },
  {
   "cell_type": "markdown",
   "id": "45b1cd7f-e0a8-4cee-b50e-1cea11909234",
   "metadata": {},
   "source": [
    "#### 2.5 Compute frequence of each tag"
   ]
  },
  {
   "cell_type": "code",
   "execution_count": 34,
   "id": "b33b3f7d-81ff-4654-a061-702e7654cdc6",
   "metadata": {},
   "outputs": [
    {
     "data": {
      "text/plain": [
       "Tag\n",
       "O        887908\n",
       "B-geo     37644\n",
       "B-tim     20333\n",
       "B-org     20143\n",
       "I-per     17251\n",
       "B-per     16990\n",
       "I-org     16784\n",
       "B-gpe     15870\n",
       "I-geo      7414\n",
       "I-tim      6528\n",
       "B-art       402\n",
       "B-eve       308\n",
       "I-art       297\n",
       "I-eve       253\n",
       "B-nat       201\n",
       "I-gpe       198\n",
       "I-nat        51\n",
       "Name: count, dtype: int64"
      ]
     },
     "execution_count": 34,
     "metadata": {},
     "output_type": "execute_result"
    }
   ],
   "source": [
    "unique_tags = raw_df.Tag.value_counts()\n",
    "unique_tags"
   ]
  },
  {
   "cell_type": "markdown",
   "id": "bf59bb08-7d05-4eb3-ac38-c1f0405dfc45",
   "metadata": {},
   "source": [
    "### 3. Remove the sentences that doesn't contain our targeted entities"
   ]
  },
  {
   "cell_type": "markdown",
   "id": "5bf9833b-9711-45f6-81fb-de571b03e576",
   "metadata": {},
   "source": [
    "##### Helper functions"
   ]
  },
  {
   "cell_type": "code",
   "execution_count": 35,
   "id": "ab4667d4-3a34-4750-9c92-4ec895d74d05",
   "metadata": {},
   "outputs": [],
   "source": [
    "# Helper Functions\n",
    "\n",
    "# Function to check if all values in the list are same\n",
    "# and equal to 'val'\n",
    "def check_all(L, val):\n",
    "    \"\"\"\n",
    "    Function to check if all values in a list L are\n",
    "    equal to 'val'\n",
    "    \"\"\"\n",
    "    return all(x == val and x is not True for x in L)\n",
    "\n",
    "# Function to remove list of indices from a List\n",
    "def del_list_indexes(l, id_to_del):\n",
    "    \"\"\"\n",
    "    Function to remove list of indices from a list\n",
    "    \"\"\"\n",
    "    somelist = [i for j, i in enumerate(l) if j not in id_to_del]\n",
    "    return somelist"
   ]
  },
  {
   "cell_type": "markdown",
   "id": "1c3aa15e-0cc3-4916-8b16-8dd942d135f6",
   "metadata": {},
   "source": [
    "#### 3.1. Remove the sentences that contain only \"O\" tags and don't contain any other target labels"
   ]
  },
  {
   "cell_type": "code",
   "execution_count": 36,
   "id": "a815e4d7-fa76-4975-9daa-27c7cd873add",
   "metadata": {},
   "outputs": [
    {
     "name": "stdout",
     "output_type": "stream",
     "text": [
      "number of sentences which contains all 'O' labels: 7042\n"
     ]
    }
   ],
   "source": [
    "# This is to remove the sentences that doesn't contain our targeted entities.\n",
    "idx_to_remove = []\n",
    "for index, labels_ in enumerate(all_labels):\n",
    "    if check_all(labels_, \"O\"):\n",
    "        idx_to_remove.append(index)\n",
    "\n",
    "# Total number of sentences which contains all \"O\" labels\n",
    "print(f\"number of sentences which contains all 'O' labels: {len(idx_to_remove)}\")"
   ]
  },
  {
   "cell_type": "code",
   "execution_count": 37,
   "id": "0ba006d3-4c3f-44b2-b887-196b8a4c00da",
   "metadata": {},
   "outputs": [
    {
     "name": "stdout",
     "output_type": "stream",
     "text": [
      "Few sample indices are: [3, 10, 36, 38]\n",
      "sample sentence: ['Police', 'put', 'the', 'number', 'of', 'marchers', 'at', '10,000', 'while', 'organizers', 'claimed', 'it', 'was', '1,00,000', '.']\n",
      "sample labels: ['O', 'O', 'O', 'O', 'O', 'O', 'O', 'O', 'O', 'O', 'O', 'O', 'O', 'O', 'O']\n"
     ]
    }
   ],
   "source": [
    "# check Sample Index\n",
    "print(f\"Few sample indices are: {idx_to_remove[:4]}\")\n",
    "\n",
    "# check any computed index if it contains all \"O\"\n",
    "print(f\"sample sentence: {all_sentences[idx_to_remove[0]]}\")\n",
    "print(f\"sample labels: {all_labels[idx_to_remove[0]]}\")"
   ]
  },
  {
   "cell_type": "markdown",
   "id": "2362bc9e-db4e-4ea7-be27-4157183b1182",
   "metadata": {},
   "source": [
    "#### 3.2. Update the sentences and labels list after deleting the indices for all \"O\" sentences"
   ]
  },
  {
   "cell_type": "code",
   "execution_count": 38,
   "id": "89e64a65-d04b-4c70-8a0d-e59a23a4fdc4",
   "metadata": {},
   "outputs": [
    {
     "name": "stdout",
     "output_type": "stream",
     "text": [
      "Total number of sentences after removing unwanted sentences containing all 'O' labels\n",
      "(updated) total number of sentences = 40917\n",
      "(updated) total number of labels = 40917\n"
     ]
    }
   ],
   "source": [
    "# remove indices to be deleted get new label list \n",
    "all_labels_ = del_list_indexes(all_labels, idx_to_remove)\n",
    "\n",
    "# remove indices to be deleted get new sentence list \n",
    "all_sentences_ = del_list_indexes(all_sentences, idx_to_remove)\n",
    "\n",
    "# Inormation for updated sentences\n",
    "print(\"Total number of sentences after removing unwanted sentences containing all 'O' labels\")\n",
    "print(f\"(updated) total number of sentences = {len(all_sentences_)}\")\n",
    "print(f\"(updated) total number of labels = {len(all_labels_)}\")"
   ]
  },
  {
   "cell_type": "markdown",
   "id": "2885a14c-ce2c-42ba-8972-53c387622121",
   "metadata": {},
   "source": [
    "#### 3.3. Compute new frequency of tags"
   ]
  },
  {
   "cell_type": "code",
   "execution_count": 39,
   "id": "1ea84b70-c600-4fe4-a2d2-806037b87d47",
   "metadata": {},
   "outputs": [
    {
     "data": {
      "text/plain": [
       "Counter({'O': 770252,\n",
       "         'B-geo': 37644,\n",
       "         'B-tim': 20333,\n",
       "         'B-org': 20143,\n",
       "         'I-per': 17251,\n",
       "         'B-per': 16990,\n",
       "         'I-org': 16784,\n",
       "         'B-gpe': 15870,\n",
       "         'I-geo': 7414,\n",
       "         'I-tim': 6528,\n",
       "         'B-art': 402,\n",
       "         'B-eve': 308,\n",
       "         'I-art': 297,\n",
       "         'I-eve': 253,\n",
       "         'B-nat': 201,\n",
       "         'I-gpe': 198,\n",
       "         'I-nat': 51})"
      ]
     },
     "execution_count": 39,
     "metadata": {},
     "output_type": "execute_result"
    }
   ],
   "source": [
    "# Flattent the nested list\n",
    "flatten_list = np.concatenate(all_labels_).ravel().tolist()\n",
    "\n",
    "# Compute the updated frequency of each tags\n",
    "counter = collections.Counter(flatten_list)\n",
    "\n",
    "# display the frequencies\n",
    "counter"
   ]
  },
  {
   "cell_type": "markdown",
   "id": "b090818f-4e41-4b2e-b507-3a9dd855493b",
   "metadata": {},
   "source": [
    "#### 3.4. Peek into example sentences"
   ]
  },
  {
   "cell_type": "code",
   "execution_count": 40,
   "id": "bde6cf0c-017a-4f72-a194-61015da90944",
   "metadata": {},
   "outputs": [
    {
     "name": "stdout",
     "output_type": "stream",
     "text": [
      "First Sentence\n",
      "---------------\n",
      "text: Thousands of demonstrators have marched through London to protest the war in Iraq and demand the withdrawal of British troops from that country .\n",
      "\n",
      "tokens: ['Thousands', 'of', 'demonstrators', 'have', 'marched', 'through', 'London', 'to', 'protest', 'the', 'war', 'in', 'Iraq', 'and', 'demand', 'the', 'withdrawal', 'of', 'British', 'troops', 'from', 'that', 'country', '.']\n",
      "\n",
      "labels: ['O', 'O', 'O', 'O', 'O', 'O', 'B-geo', 'O', 'O', 'O', 'O', 'O', 'B-geo', 'O', 'O', 'O', 'O', 'O', 'B-gpe', 'O', 'O', 'O', 'O', 'O']\n",
      "\n",
      "Last Sentence\n",
      "---------------\n",
      "text: Indian forces said they responded to the attack\n",
      "\n",
      "tokens: ['Indian', 'forces', 'said', 'they', 'responded', 'to', 'the', 'attack']\n",
      "\n",
      "labels: ['B-gpe', 'O', 'O', 'O', 'O', 'O', 'O', 'O']\n"
     ]
    }
   ],
   "source": [
    "# check if the sentences are properly collected with their labels\n",
    "# first sentence\n",
    "example_sentence_first = all_sentences[0]\n",
    "example_label_first = all_labels[0]\n",
    "\n",
    "# last sentence\n",
    "example_sentence_last = all_sentences[-1]\n",
    "example_label_last = all_labels[-1]\n",
    "\n",
    "# print information of sentences along with labels\n",
    "# ================================================\n",
    "print(\"First Sentence\")\n",
    "print(\"---------------\")\n",
    "print(f\"text: {' '.join(example_sentence_first)}\\n\")\n",
    "print(f\"tokens: {example_sentence_first}\\n\")\n",
    "print(f\"labels: {example_label_first}\\n\")\n",
    "\n",
    "print(\"Last Sentence\")\n",
    "print(\"---------------\")\n",
    "print(f\"text: {' '.join(example_sentence_last)}\\n\")\n",
    "print(f\"tokens: {example_sentence_last}\\n\")\n",
    "print(f\"labels: {example_label_last}\")"
   ]
  },
  {
   "cell_type": "markdown",
   "id": "02c4ee37-3840-4636-8b9d-6e0ead722870",
   "metadata": {},
   "source": [
    "### 4. Splitting Data - Seen and Unseen/Held-out-data/Test Data\n",
    "\n",
    "\n",
    "<b>All Data</b> - Will be split into <b>seen</b>(80%) and <b>unseen/test</b> data (20%)\n",
    "\n",
    "1. <b>Seen Dataset</b> - Think of it as the data which the model see's to get the final model which is ready to be used.\n",
    "It is used to train and validate the model hence it will be further splitted into:\n",
    "- training dataset(90%) and validation dataset(10%)\n",
    "\n",
    "2. <b>Test Data</b> - It is unseen data a.k.a Test data or held-out-data. It is used for testing the final trained model\n",
    "\n",
    "<p>\n",
    "So eventually we will have the following datasets:\n",
    "    \n",
    "1. training data\n",
    "2. validation data\n",
    "3. test data (unseen)\n",
    "</p>"
   ]
  },
  {
   "cell_type": "markdown",
   "id": "1c230813-aee0-44f3-b2b0-dda5adf487db",
   "metadata": {},
   "source": [
    "#### 4.1. Split the Data into 'seen data' and 'test (unseen) data'\n",
    "- \"All data\" = Seen data + Unseen/Test data"
   ]
  },
  {
   "cell_type": "code",
   "execution_count": 42,
   "id": "c98952a9-fde5-4077-bc52-19f302048c58",
   "metadata": {},
   "outputs": [],
   "source": [
    "# split the all data into seen and test data (unseen data)\n",
    "seen_sentences, test_sentences, seen_labels, test_labels = train_test_split(\n",
    "    all_sentences_, all_labels_, test_size=0.2, random_state=50, shuffle=True)"
   ]
  },
  {
   "cell_type": "markdown",
   "id": "d2b6e9f4-019e-4397-ac44-9c37601a3612",
   "metadata": {},
   "source": [
    "#### 4.2. Number of sentences in seen and test data"
   ]
  },
  {
   "cell_type": "code",
   "execution_count": 43,
   "id": "f0c10c18-5725-4e15-b0f7-0cd3e5e36052",
   "metadata": {},
   "outputs": [
    {
     "name": "stdout",
     "output_type": "stream",
     "text": [
      "Seen Data information (the data which will further be slitted into train and validation dataset):\n",
      "---------------------\n",
      "total number of sentences in seen data: 32733\n",
      "total number of sequence of labels in seen data: 32733\n",
      "\n",
      "Test Data (or Unseen data) information:\n",
      "---------------------------------------\n",
      "total number of sentences in test data: 8184\n",
      "total number of sequence of labels in test data: 8184\n",
      "\n"
     ]
    }
   ],
   "source": [
    "print(\"Seen Data information (the data which will further be slitted into train and validation dataset):\")\n",
    "print(\"---------------------\")\n",
    "print(f\"total number of sentences in seen data: {len(seen_sentences)}\")\n",
    "print(f\"total number of sequence of labels in seen data: {len(seen_labels)}\\n\")\n",
    "\n",
    "print(\"Test Data (or Unseen data) information:\")\n",
    "print(\"---------------------------------------\")\n",
    "print(f\"total number of sentences in test data: {len(test_sentences)}\")\n",
    "print(f\"total number of sequence of labels in test data: {len(test_labels)}\\n\")"
   ]
  },
  {
   "cell_type": "markdown",
   "id": "d08bacac-4920-451d-b897-8e4ce17242bf",
   "metadata": {},
   "source": [
    "## E. Tokenizer\n",
    "```\n",
    "We will use BERT Tokenizer to tokenize the sentences.\n",
    "- Preparing input text data for Feeding it into BERT model by converting and spilting the text into tokens and mapping the tokens using BertTokenizer functon\n",
    "```"
   ]
  },
  {
   "cell_type": "code",
   "execution_count": 56,
   "id": "bf3c587f-4625-4985-a118-40098f0dfcfd",
   "metadata": {},
   "outputs": [],
   "source": [
    "# tokenizer from Bert uncased\n",
    "tokenizer = BertTokenizer.from_pretrained('bert-base-uncased', clean_up_tokenization_spaces=True)"
   ]
  },
  {
   "cell_type": "markdown",
   "id": "088bef23-998e-43c8-96b1-33e97dd46ec0",
   "metadata": {},
   "source": [
    "####  Setting Tokenizer Parameters"
   ]
  },
  {
   "cell_type": "code",
   "execution_count": 44,
   "id": "471f9d66-c7ea-49fc-98c7-492bd140b822",
   "metadata": {},
   "outputs": [],
   "source": [
    "# Note: Here max len is the number of words of sentence we will consider\n",
    "MAX_LEN = 125 # max length of sentence (before padding)\n",
    "\n",
    "# This is max seq len\n",
    "MAX_PAD_LEN = 128 # max length of (tokenized + padded tokens)"
   ]
  },
  {
   "cell_type": "markdown",
   "id": "0c74458d-8448-46c9-9933-7aa53b19519b",
   "metadata": {},
   "source": [
    "## F. Dealing with 'Seen' Dataset\n",
    "This is the data that we will use to build the <b>final model</b> ready to be deployed in <b>production</b> environment"
   ]
  },
  {
   "cell_type": "markdown",
   "id": "a13d301d-04e1-42ad-aff8-27f511309334",
   "metadata": {},
   "source": [
    "### 1. Computing Label2Idx and Idx2Label Map"
   ]
  },
  {
   "cell_type": "markdown",
   "id": "40dbc215-b397-4d26-bca5-e79b26ac588f",
   "metadata": {},
   "source": [
    "#### 1.1. Computing Unique Labels"
   ]
  },
  {
   "cell_type": "code",
   "execution_count": 49,
   "id": "bfcb8c1f-d3d9-4416-bc2b-bd8cad892ce7",
   "metadata": {},
   "outputs": [
    {
     "name": "stdout",
     "output_type": "stream",
     "text": [
      "total number of unique labels: 17\n"
     ]
    }
   ],
   "source": [
    "# compute the unique labels from the seen data\n",
    "unique_labels = set(chain(*seen_labels))\n",
    "\n",
    "print(f\"total number of unique labels: {len(unique_labels)}\")"
   ]
  },
  {
   "cell_type": "markdown",
   "id": "0071639c-b7ad-413c-88f6-83292797f050",
   "metadata": {},
   "source": [
    "#### 1.2. Mapping labels to integers - label2idx"
   ]
  },
  {
   "cell_type": "code",
   "execution_count": 50,
   "id": "f0d38f31-45fc-45f6-88d8-ec84914772d9",
   "metadata": {},
   "outputs": [],
   "source": [
    "# Mapping labels to integers\n",
    "# ---------------------------\n",
    "\n",
    "# Map that store label-id pairs\n",
    "label2idx = {}\n",
    "\n",
    "# For each label, compute the index\n",
    "for (i, label) in enumerate(unique_labels):\n",
    "    # Map it to its integer\n",
    "    label2idx[label] = i"
   ]
  },
  {
   "cell_type": "markdown",
   "id": "27389c0a-64ac-47e1-add5-2680749059ea",
   "metadata": {},
   "source": [
    "##### 1.2. a) Peek into label to index mapping"
   ]
  },
  {
   "cell_type": "code",
   "execution_count": 51,
   "id": "5f09e208-cd78-4625-a210-f294d203376f",
   "metadata": {},
   "outputs": [
    {
     "name": "stdout",
     "output_type": "stream",
     "text": [
      "{'I-art': 0, 'I-eve': 1, 'B-art': 2, 'B-eve': 3, 'I-org': 4, 'I-tim': 5, 'I-gpe': 6, 'B-per': 7, 'B-org': 8, 'O': 9, 'B-geo': 10, 'I-per': 11, 'I-geo': 12, 'B-tim': 13, 'B-nat': 14, 'I-nat': 15, 'B-gpe': 16}\n"
     ]
    }
   ],
   "source": [
    "print(label2idx)"
   ]
  },
  {
   "cell_type": "markdown",
   "id": "320712cb-9526-4c79-bbaf-e0f72f0b2c8a",
   "metadata": {},
   "source": [
    "#### 1.3. Mapping integers to labels - idx2label"
   ]
  },
  {
   "cell_type": "code",
   "execution_count": 52,
   "id": "d47c4b44-7e9b-4ca2-81f6-9848695aabaa",
   "metadata": {},
   "outputs": [],
   "source": [
    "idx2label = {v:k for k,v in label2idx.items()}"
   ]
  },
  {
   "cell_type": "markdown",
   "id": "82c4c199-ef79-4d70-82cf-e35b019faba9",
   "metadata": {},
   "source": [
    "##### 1.3. a) Peek into index to label mapping"
   ]
  },
  {
   "cell_type": "code",
   "execution_count": 53,
   "id": "bb27fc39-049c-4da6-b62e-57eee88f56f0",
   "metadata": {},
   "outputs": [
    {
     "name": "stdout",
     "output_type": "stream",
     "text": [
      "{0: 'I-art', 1: 'I-eve', 2: 'B-art', 3: 'B-eve', 4: 'I-org', 5: 'I-tim', 6: 'I-gpe', 7: 'B-per', 8: 'B-org', 9: 'O', 10: 'B-geo', 11: 'I-per', 12: 'I-geo', 13: 'B-tim', 14: 'B-nat', 15: 'I-nat', 16: 'B-gpe'}\n"
     ]
    }
   ],
   "source": [
    "print(idx2label)"
   ]
  },
  {
   "cell_type": "markdown",
   "id": "94529749-f71f-43f3-9a67-374090dfbe82",
   "metadata": {},
   "source": [
    "### 2. Computing the length of each sentence"
   ]
  },
  {
   "cell_type": "code",
   "execution_count": 57,
   "id": "d6cd03a2-896e-49df-b12b-695cea7fa365",
   "metadata": {},
   "outputs": [],
   "source": [
    "# list containing length of each sentence\n",
    "# Note: Here we have added truncation = true becuase some of the sentences\n",
    "# have max length > 512 so we will truncate them\n",
    "length_of_sentences = [len(tokenizer.encode(' '.join(i), add_special_tokens=True, truncation=True)) for i in seen_sentences]"
   ]
  },
  {
   "cell_type": "markdown",
   "id": "a0924e39-b4b1-481c-baf7-51d816d73c18",
   "metadata": {},
   "source": [
    "#### 2.1. Min, Max and Median length of sentences"
   ]
  },
  {
   "cell_type": "code",
   "execution_count": 58,
   "id": "6ec3ce4e-90ba-4f22-9cae-0623a9ce6cf7",
   "metadata": {},
   "outputs": [
    {
     "name": "stdout",
     "output_type": "stream",
     "text": [
      "Minimum Sentence length: 4\n",
      "Maximum Sentence length: 154\n",
      "Median Sentence length: 27\n"
     ]
    }
   ],
   "source": [
    "max_sent_len = max(length_of_sentences)\n",
    "min_sent_len = min(length_of_sentences)\n",
    "median_sent_len = int(np.median(length_of_sentences))\n",
    "\n",
    "print(f\"Minimum Sentence length: {min_sent_len}\") \n",
    "print(f\"Maximum Sentence length: {max_sent_len}\") \n",
    "print(f\"Median Sentence length: {median_sent_len}\") "
   ]
  },
  {
   "cell_type": "markdown",
   "id": "07fcac20-c653-4ef5-896d-0457d74b9803",
   "metadata": {},
   "source": [
    "#### 2.3 Histograms of lengths"
   ]
  },
  {
   "cell_type": "code",
   "execution_count": 59,
   "id": "37051659-c932-4a5b-b89b-ebd5b787fadb",
   "metadata": {},
   "outputs": [
    {
     "data": {
      "text/plain": [
       "<Figure size 2400x2400 with 0 Axes>"
      ]
     },
     "metadata": {},
     "output_type": "display_data"
    },
    {
     "data": {
      "image/png": "[encoded data removed]",
      "text/plain": [
       "<Figure size 500x500 with 1 Axes>"
      ]
     },
     "metadata": {},
     "output_type": "display_data"
    }
   ],
   "source": [
    "sns.set(style='darkgrid')\n",
    "\n",
    "# Increase the plot size and font size.\n",
    "sns.set(font_scale=1.5)\n",
    "plt.figure(figsize=(24,24))\n",
    "plt.rcParams[\"figure.figsize\"] = (10,5)\n",
    "\n",
    "# Plot the distribution of comment lengths.\n",
    "sns.displot(length_of_sentences, kde=False, rug=False,color='plum')\n",
    "\n",
    "plt.title('Sentence Lengths')\n",
    "plt.xlabel('Sentence Length')\n",
    "plt.ylabel('# of Sentences')\n",
    "plt.show()"
   ]
  },
  {
   "cell_type": "markdown",
   "id": "91957b09-2498-41eb-9678-c07c7bcf159f",
   "metadata": {},
   "source": [
    "### 3. Lets check the encoding of bert tokenizer on a sample sentence"
   ]
  },
  {
   "cell_type": "code",
   "execution_count": 61,
   "id": "d4db4068-3b72-42e2-a015-bcfc06e6380b",
   "metadata": {},
   "outputs": [
    {
     "name": "stdout",
     "output_type": "stream",
     "text": [
      "sample sentence:\n",
      "['A', 'huge', 'slick', 'of', 'toxic', 'chemicals', 'has', 'entered', 'Russian', 'territory', 'from', 'China', 'after', 'flowing', 'downstream', 'from', 'a', 'chemical-plant', 'explosion', 'last', 'month', '.']\n",
      "\n",
      "num of words in sample sentence: 22\n"
     ]
    }
   ],
   "source": [
    "sample_sentence = seen_sentences[1]\n",
    "print(f\"sample sentence:\\n{sample_sentence}\\n\")\n",
    "print(f\"num of words in sample sentence: {len(sample_sentence)}\")"
   ]
  },
  {
   "cell_type": "markdown",
   "id": "486033e0-db20-4e9d-b6ec-ffdd09dfcf80",
   "metadata": {},
   "source": [
    "#### 3.1. Encoding a sample sentence"
   ]
  },
  {
   "cell_type": "code",
   "execution_count": 62,
   "id": "be36552c-2a78-4907-a84d-5fb320cb8b20",
   "metadata": {},
   "outputs": [
    {
     "name": "stdout",
     "output_type": "stream",
     "text": [
      "sample tokens:\n",
      "['a', 'huge', 'slick', 'of', 'toxic', 'chemicals', 'has', 'entered', 'russian', 'territory', 'from', 'china', 'after', 'flowing', 'downstream', 'from', 'a', 'chemical', '-', 'plant', 'explosion', 'last', 'month', '.']\n",
      "num of tokens: 24\n",
      "\n",
      "sample encodings are:\n",
      "[101, 1037, 4121, 13554, 1997, 11704, 12141, 2038, 3133, 2845, 3700, 2013, 2859, 2044, 8577, 13248, 2013, 1037, 5072, 1011, 3269, 7738, 2197, 3204, 1012, 102]\n",
      "num of integer id tokens: 26\n",
      "\n",
      "Hence, num of additional tokens included are: 2\n"
     ]
    }
   ],
   "source": [
    "# compute the encodings on the sample sentence\n",
    "# i.e convert the tokens to integer ids as per the Bert Tokenizer\n",
    "sample_tokens = tokenizer.tokenize(' '.join(sample_sentence))\n",
    "print(f\"sample tokens:\\n{sample_tokens}\")\n",
    "print(f\"num of tokens: {len(sample_tokens)}\\n\")\n",
    "\n",
    "# This will add special [CLS] at the begining and [SEP] token at the end of sentence.\n",
    "sample_encodings = tokenizer.encode(' '.join(sample_sentence))\n",
    "\n",
    "# We can check the new tokens with special tokens included\n",
    "print(f\"sample encodings are:\\n{sample_encodings}\")\n",
    "print(f\"num of integer id tokens: {len(sample_encodings)}\\n\")\n",
    "\n",
    "# number of aditional tokens\n",
    "print(f\"Hence, num of additional tokens included are: {len(sample_encodings) - len(sample_tokens)}\")"
   ]
  },
  {
   "cell_type": "markdown",
   "id": "37ad36df-b995-4a8a-b943-1ae85cb69fd3",
   "metadata": {},
   "source": [
    "#### 3.2 Decoding the encoded sample"
   ]
  },
  {
   "cell_type": "code",
   "execution_count": 63,
   "id": "b1601d28-2968-48bc-b969-466c0e27a232",
   "metadata": {},
   "outputs": [
    {
     "name": "stdout",
     "output_type": "stream",
     "text": [
      "sample decodings:\n",
      "[CLS] a huge slick of toxic chemicals has entered russian territory from china after flowing downstream from a chemical - plant explosion last month. [SEP] \n",
      "\n",
      "the decoded sample have following tokens:\n",
      "['[CLS]', 'a', 'huge', 'slick', 'of', 'toxic', 'chemicals', 'has', 'entered', 'russian', 'territory', 'from', 'china', 'after', 'flowing', 'downstream', 'from', 'a', 'chemical', '-', 'plant', 'explosion', 'last', 'month.', '[SEP]']\n",
      "\n",
      "num of tokens in decoded sentence: 25\n"
     ]
    }
   ],
   "source": [
    "# Here, decoding means coverting the intger ids back to string\n",
    "sample_decodings = tokenizer.decode(sample_encodings)\n",
    "# check if special tokens [cls] and [sep] are indeed added\n",
    "print(f\"sample decodings:\\n{sample_decodings}\",\"\\n\")\n",
    "print(f\"the decoded sample have following tokens:\\n{sample_decodings.split(\" \")}\\n\")\n",
    "print(f\"num of tokens in decoded sentence: {len(sample_decodings.split(\" \"))}\")"
   ]
  },
  {
   "cell_type": "markdown",
   "id": "e04ec1a8-c554-4731-ba72-2866a9021e1c",
   "metadata": {},
   "source": [
    "## G. Preparing the Input to be fed into BERT Model \n",
    "\n",
    "We need to compute the following:\n",
    "1. Input ids\n",
    "2. Attention Masks\n",
    "3. Padded Token Labels"
   ]
  },
  {
   "cell_type": "markdown",
   "id": "3f0d8e55-cbc4-469e-9a51-7b20b1a3e164",
   "metadata": {},
   "source": [
    "### 1. Computing Input Ids and Attention Masks"
   ]
  },
  {
   "cell_type": "code",
   "execution_count": 64,
   "id": "7b8b4d48-1bd8-4757-91eb-0e065f47cd57",
   "metadata": {},
   "outputs": [],
   "source": [
    "def get_input_ids_and_attention_masks(sentences, tokenizer, max_length=MAX_PAD_LEN):\n",
    "    \"\"\"\n",
    "    Function to compute Input Ids and Attention Masks.\n",
    "    It tokenize all of the sentences and map the tokens to thier word IDs.\n",
    "    \"\"\"\n",
    "    # stores the input ids for each sentence\n",
    "    input_ids = []\n",
    "    # stores the attention mask for each sentence\n",
    "    attention_masks = []\n",
    "\n",
    "    # For every sentence, find the input ids and attention masks\n",
    "    # as torch tensor\n",
    "    for sent in sentences:\n",
    "        # `encode_plus` will:\n",
    "        #   (1) Tokenize the sentence.\n",
    "        #   (2) Prepend the `[CLS]` token to the start.\n",
    "        #   (3) Append the `[SEP]` token to the end.\n",
    "        #   (4) Map tokens to their IDs.\n",
    "        #   (5) Pad or truncate the sentence to `max_length`\n",
    "        #   (6) Create attention masks for [PAD] tokens.\n",
    "        encoded_dict = tokenizer.encode_plus(\n",
    "                            ' '.join(sent),     # Sentence to encode.\n",
    "                            add_special_tokens = True,     # Add '[CLS]' and '[SEP]'\n",
    "                            truncation=True,\n",
    "                            max_length = MAX_PAD_LEN,     # Pad & truncate all sentences.\n",
    "                            padding='max_length',\n",
    "                            return_attention_mask = True,     # Construct attn. masks.\n",
    "                            return_tensors = 'pt',     # Return pytorch tensors.\n",
    "                       )\n",
    "        # Add the input ids\n",
    "        input_ids.append(encoded_dict['input_ids'][0])\n",
    "    \n",
    "        # And the attention mask\n",
    "        attention_masks.append(encoded_dict['attention_mask'][0])\n",
    "        \n",
    "    return input_ids, attention_masks"
   ]
  },
  {
   "cell_type": "code",
   "execution_count": 65,
   "id": "d169903c-af38-458c-9b4d-5479ba7c8f93",
   "metadata": {},
   "outputs": [],
   "source": [
    "# compute the input ids, attention mask for each sentence in seen data\n",
    "input_ids, attention_masks = get_input_ids_and_attention_masks(sentences=seen_sentences,\n",
    "                                                                 tokenizer=tokenizer,\n",
    "                                                                 max_length=MAX_PAD_LEN)"
   ]
  },
  {
   "cell_type": "markdown",
   "id": "8864cdd1-cb80-4ede-b844-11a8de37a8af",
   "metadata": {},
   "source": [
    "#### 1.1 Lets check the input ids, attention masks for a sentence in seen data"
   ]
  },
  {
   "cell_type": "code",
   "execution_count": 66,
   "id": "ccbaa630-cee8-49f5-bcc7-9949d8f91d84",
   "metadata": {},
   "outputs": [
    {
     "name": "stdout",
     "output_type": "stream",
     "text": [
      "Original:  ['The', 'witnesses', 'say', 'Ethiopian', 'troops', 'opened', 'fire', 'after', 'the', 'blast', '.']\n",
      "Token IDs: tensor([  101,  1996,  9390,  2360, 15101,  3629,  2441,  2543,  2044,  1996,\n",
      "         8479,  1012,   102,     0,     0,     0,     0,     0,     0,     0,\n",
      "            0,     0,     0,     0,     0,     0,     0,     0,     0,     0,\n",
      "            0,     0,     0,     0,     0,     0,     0,     0,     0,     0,\n",
      "            0,     0,     0,     0,     0,     0,     0,     0,     0,     0,\n",
      "            0,     0,     0,     0,     0,     0,     0,     0,     0,     0,\n",
      "            0,     0,     0,     0,     0,     0,     0,     0,     0,     0,\n",
      "            0,     0,     0,     0,     0,     0,     0,     0,     0,     0,\n",
      "            0,     0,     0,     0,     0,     0,     0,     0,     0,     0,\n",
      "            0,     0,     0,     0,     0,     0,     0,     0,     0,     0,\n",
      "            0,     0,     0,     0,     0,     0,     0,     0,     0,     0,\n",
      "            0,     0,     0,     0,     0,     0,     0,     0,     0,     0,\n",
      "            0,     0,     0,     0,     0,     0,     0,     0])\n",
      "Masks: tensor([1, 1, 1, 1, 1, 1, 1, 1, 1, 1, 1, 1, 1, 0, 0, 0, 0, 0, 0, 0, 0, 0, 0, 0,\n",
      "        0, 0, 0, 0, 0, 0, 0, 0, 0, 0, 0, 0, 0, 0, 0, 0, 0, 0, 0, 0, 0, 0, 0, 0,\n",
      "        0, 0, 0, 0, 0, 0, 0, 0, 0, 0, 0, 0, 0, 0, 0, 0, 0, 0, 0, 0, 0, 0, 0, 0,\n",
      "        0, 0, 0, 0, 0, 0, 0, 0, 0, 0, 0, 0, 0, 0, 0, 0, 0, 0, 0, 0, 0, 0, 0, 0,\n",
      "        0, 0, 0, 0, 0, 0, 0, 0, 0, 0, 0, 0, 0, 0, 0, 0, 0, 0, 0, 0, 0, 0, 0, 0,\n",
      "        0, 0, 0, 0, 0, 0, 0, 0])\n"
     ]
    }
   ],
   "source": [
    "# lets check for the sentence with index 2\n",
    "print('Original: ', seen_sentences[2])\n",
    "print('Token IDs:', input_ids[2])\n",
    "print('Masks:', attention_masks[2])"
   ]
  },
  {
   "cell_type": "markdown",
   "id": "914c4a21-bfee-4c11-b378-32be85aafdc2",
   "metadata": {},
   "source": [
    "### 2. Computing labels for BERT tokens\n",
    "<p>\n",
    "<font color=brown>Bert Tokenizer</font> adds additional <b>subwords</b> during its tokenization process hence it is\n",
    "very important to ensure that the final tokens from BERT Tokenizer are <b>mapped</b> to <b>correct\n",
    "labels.</b>\n",
    "\n",
    "To achieve the same we will use two functions:\n",
    "\n",
    "<b>1. tokenize_and_preserve labels:</b> - This will do the tokenization at the word level for each sentence and then map the\n",
    "correct label for the word to each of its subwords or tokens.\n",
    "\n",
    "<b>2. match_tokens_labels</b> - This function will help to compute the new padded labels (of max pad len) in which each of the\n",
    "token is mapped to correct label.\n",
    "\n",
    "\n",
    "Note:\n",
    "- For <b>special</b> tokens and <b>padded</b> tokens, we will use <b>-100</b>\n",
    "- <b>-100</b> is the null id token or <b>ignore token</b>.\n",
    "</p>"
   ]
  },
  {
   "cell_type": "code",
   "execution_count": 81,
   "id": "bcc7953f-af35-4cf7-a58b-68806f4fff39",
   "metadata": {},
   "outputs": [],
   "source": [
    "def tokenize_and_preserve_labels(sentence, text_labels, tokenizer, max_len=MAX_LEN):\n",
    "    \"\"\"\n",
    "    Tokenization at the word piece level complicates the process\n",
    "    of aligning word labels with their corresponding individual word\n",
    "    pieces. This method processes each word sequentially, facilitating\n",
    "    the accurate retention of labels for each subword. While this approach\n",
    "    may result in a slight increase in processing time, it ultimately\n",
    "    contributes to improved accuracy for our model.\n",
    "\n",
    "    params:\n",
    "    -------\n",
    "    - sentence: list of words\n",
    "    - text_labels: list of tags\n",
    "    - max_len: maximum length of sentence (as # of words) to consider\n",
    "    \"\"\"\n",
    "    tokenized_sentence = []\n",
    "    labels = []\n",
    " \n",
    "    for word, label in zip(sentence, text_labels):\n",
    "\n",
    "        # Tokenize the word and count # of subwords the word is broken into\n",
    "        tokenized_word = tokenizer.tokenize(word)\n",
    "        n_subwords = len(tokenized_word)\n",
    "        \n",
    "        ## if sentence consist of more than 125 words, discard the later words.\n",
    "        if(len(tokenized_sentence)>=max_len):\n",
    "            return tokenized_sentence, labels\n",
    "        # Add the tokenized word to the final tokenized word list\n",
    "        tokenized_sentence.extend(tokenized_word)\n",
    "        # Add the same label to the new list of labels `n_subwords` times\n",
    "        labels.extend([label] * n_subwords)\n",
    "\n",
    "    return tokenized_sentence, labels\n",
    "\n",
    "\n",
    "def match_tokens_labels(sentences, labels, label2idx_map, max_pad_len=MAX_PAD_LEN, ignore_token = -100):\n",
    "    \"\"\"\n",
    "    The process involves taking the tokenized text along with\n",
    "    the original tags, which are linked to the non-tokenized\n",
    "    words, to generate an array of tags corresponding to each\n",
    "    individual token. This method links each token to the tag\n",
    "    of its respective original word.\n",
    "    \"\"\"\n",
    "    labels_ = []\n",
    "    for sent, labl in zip(sentences, labels):\n",
    "        t_sen, t_labl = tokenize_and_preserve_labels(sent, labl, tokenizer)\n",
    "        labels = [ignore_token]*max_pad_len\n",
    "        for i, tok in enumerate(t_labl):\n",
    "            if label2idx_map.get(tok) != None and i< max_pad_len - 1:\n",
    "                labels[i+1]=label2idx_map.get(tok)\n",
    "        labels_.append(labels)\n",
    "    # return new padded labels\n",
    "    return labels_"
   ]
  },
  {
   "cell_type": "markdown",
   "id": "48916437-a66c-421b-a0c2-52c727f94215",
   "metadata": {},
   "source": [
    "#### 2.1. Compute the final token labels (of max sequence length) for each sentence"
   ]
  },
  {
   "cell_type": "code",
   "execution_count": 82,
   "id": "157a571a-7ada-49c9-b1a4-e68366b19442",
   "metadata": {},
   "outputs": [],
   "source": [
    "token_labels = match_tokens_labels(seen_sentences, seen_labels, label2idx_map=label2idx, max_pad_len=128, ignore_token = -100)"
   ]
  },
  {
   "cell_type": "markdown",
   "id": "286fad69-e9d0-4576-a4a5-c9cc133621e8",
   "metadata": {},
   "source": [
    "#### 2.2. Lets view a sample sentence, original word labels and its corresponding tokenized sentence, input ids, attention masks, token labels "
   ]
  },
  {
   "cell_type": "code",
   "execution_count": 83,
   "id": "ab008e7f-f498-4da9-af15-0d860e267e74",
   "metadata": {},
   "outputs": [
    {
     "name": "stdout",
     "output_type": "stream",
     "text": [
      "\n",
      "Sentence:     ['A', 'huge', 'slick', 'of', 'toxic', 'chemicals', 'has', 'entered', 'Russian', 'territory', 'from', 'China', 'after', 'flowing', 'downstream', 'from', 'a', 'chemical-plant', 'explosion', 'last', 'month', '.']\n",
      "\n",
      "len Sentence:     22\n",
      "\n",
      "Labels:       ['O', 'O', 'O', 'O', 'O', 'O', 'O', 'O', 'B-gpe', 'O', 'O', 'B-geo', 'O', 'O', 'O', 'O', 'O', 'O', 'O', 'O', 'O', 'O']\n",
      "\n",
      "len Labels:       22\n",
      "\n",
      "BERT Tokens:  ['a', 'huge', 'slick', 'of', 'toxic', 'chemicals', 'has', 'entered', 'russian', 'territory', 'from', 'china', 'after', 'flowing', 'downstream', 'from', 'a', 'chemical', '-', 'plant', 'explosion', 'last', 'month', '.']\n",
      "\n",
      "len BERT Tokens:  24\n",
      "\n",
      "Input IDs:    tensor([  101,  1037,  4121, 13554,  1997, 11704, 12141,  2038,  3133,  2845,\n",
      "         3700,  2013,  2859,  2044,  8577, 13248,  2013,  1037,  5072,  1011,\n",
      "         3269,  7738,  2197,  3204,  1012,   102,     0,     0,     0,     0,\n",
      "            0,     0,     0,     0,     0,     0,     0,     0,     0,     0,\n",
      "            0,     0,     0,     0,     0,     0,     0,     0,     0,     0,\n",
      "            0,     0,     0,     0,     0,     0,     0,     0,     0,     0,\n",
      "            0,     0,     0,     0,     0,     0,     0,     0,     0,     0,\n",
      "            0,     0,     0,     0,     0,     0,     0,     0,     0,     0,\n",
      "            0,     0,     0,     0,     0,     0,     0,     0,     0,     0,\n",
      "            0,     0,     0,     0,     0,     0,     0,     0,     0,     0,\n",
      "            0,     0,     0,     0,     0,     0,     0,     0,     0,     0,\n",
      "            0,     0,     0,     0,     0,     0,     0,     0,     0,     0,\n",
      "            0,     0,     0,     0,     0,     0,     0,     0])\n",
      "\n",
      "len Token IDs:    128\n",
      "\n",
      "New Token Labels:   [-100, 9, 9, 9, 9, 9, 9, 9, 9, 16, 9, 9, 10, 9, 9, 9, 9, 9, 9, 9, 9, 9, 9, 9, 9, -100, -100, -100, -100, -100, -100, -100, -100, -100, -100, -100, -100, -100, -100, -100, -100, -100, -100, -100, -100, -100, -100, -100, -100, -100, -100, -100, -100, -100, -100, -100, -100, -100, -100, -100, -100, -100, -100, -100, -100, -100, -100, -100, -100, -100, -100, -100, -100, -100, -100, -100, -100, -100, -100, -100, -100, -100, -100, -100, -100, -100, -100, -100, -100, -100, -100, -100, -100, -100, -100, -100, -100, -100, -100, -100, -100, -100, -100, -100, -100, -100, -100, -100, -100, -100, -100, -100, -100, -100, -100, -100, -100, -100, -100, -100, -100, -100, -100, -100, -100, -100, -100, -100]\n",
      "\n",
      "len New Token Labels:   128\n",
      "\n",
      "Mask:         tensor([1, 1, 1, 1, 1, 1, 1, 1, 1, 1, 1, 1, 1, 1, 1, 1, 1, 1, 1, 1, 1, 1, 1, 1,\n",
      "        1, 1, 0, 0, 0, 0, 0, 0, 0, 0, 0, 0, 0, 0, 0, 0, 0, 0, 0, 0, 0, 0, 0, 0,\n",
      "        0, 0, 0, 0, 0, 0, 0, 0, 0, 0, 0, 0, 0, 0, 0, 0, 0, 0, 0, 0, 0, 0, 0, 0,\n",
      "        0, 0, 0, 0, 0, 0, 0, 0, 0, 0, 0, 0, 0, 0, 0, 0, 0, 0, 0, 0, 0, 0, 0, 0,\n",
      "        0, 0, 0, 0, 0, 0, 0, 0, 0, 0, 0, 0, 0, 0, 0, 0, 0, 0, 0, 0, 0, 0, 0, 0,\n",
      "        0, 0, 0, 0, 0, 0, 0, 0])\n",
      "\n",
      "len Mask:         128\n"
     ]
    }
   ],
   "source": [
    "# Lets choos the sentence at index 1 as a sample sentence\n",
    "\n",
    "# This is a sample sentence\n",
    "print('\\nSentence:    ', seen_sentences[1])\n",
    "print('\\nlen Sentence:    ', len(seen_sentences[1]))\n",
    "\n",
    "# Original labels for sample sentence\n",
    "print('\\nLabels:      ', seen_labels[1])\n",
    "print('\\nlen Labels:      ', len(seen_labels[1]))\n",
    "\n",
    "# Tokenization of the sample sentence from BERT Tokenizer\n",
    "print('\\nBERT Tokens: ', tokenizer.tokenize(' '.join(seen_sentences[1])))\n",
    "print('\\nlen BERT Tokens: ', len(tokenizer.tokenize(' '.join(seen_sentences[1]))))\n",
    "\n",
    "# Input IDs or encodings of the tokenized sentence (including padded tokens)\n",
    "# It contains special tokens encodings - '[CLS]' at the start\n",
    "# and ['SEP'] at the end but before padded tokens\n",
    "print('\\nInput IDs:   ', input_ids[1])\n",
    "print('\\nlen Token IDs:   ', len(input_ids[1]))\n",
    "\n",
    "# New Token Labels for the tokenized sentence (including padded tokens)\n",
    "print('\\nNew Token Labels:  ', token_labels[1])\n",
    "print('\\nlen New Token Labels:  ', len(token_labels[1]))\n",
    "\n",
    "# Attention Masks for the tokenized sentence (including padded tokens)\n",
    "print('\\nMask:        ', attention_masks[1])\n",
    "print('\\nlen Mask:        ', len(attention_masks[1]))\n",
    "\n",
    "# Note: (Important)\n",
    "# -----------------\n",
    "# The length of padded Input Ids, Token Labels and Attention Masks has to be equal\n",
    "# Their length are equal to max_pad_len parameter"
   ]
  },
  {
   "cell_type": "markdown",
   "id": "32aad189-1c95-4505-baf4-60275519fa28",
   "metadata": {},
   "source": [
    "#### 2.3. Convert the lists into PyTorch tensors using torch.stack"
   ]
  },
  {
   "cell_type": "code",
   "execution_count": 70,
   "id": "17f0a282-0e22-4c4d-b1fa-a3a9a66b3f37",
   "metadata": {},
   "outputs": [],
   "source": [
    "# pytorch tensor for input ids\n",
    "pt_input_ids = torch.stack(input_ids, dim=0)\n",
    "\n",
    "# pytorch tensor for attention masks\n",
    "pt_attention_masks = torch.stack(attention_masks, dim=0)\n",
    "\n",
    "# pytorch tensor for labels\n",
    "pt_labels = torch.tensor(token_labels, dtype=torch.long)"
   ]
  },
  {
   "cell_type": "markdown",
   "id": "e7523875-e163-4cd5-bfdf-659bde69ce62",
   "metadata": {},
   "source": [
    "#### 2.4. Create TensorDataset"
   ]
  },
  {
   "cell_type": "code",
   "execution_count": 71,
   "id": "3e93e4b3-9293-448e-9a37-94af63656750",
   "metadata": {},
   "outputs": [],
   "source": [
    "# Combine the training inputs into a TensorDataset.\n",
    "dataset = TensorDataset(pt_input_ids, pt_attention_masks, pt_labels)"
   ]
  },
  {
   "cell_type": "markdown",
   "id": "95d34a29-f682-4a74-b63d-2dd2a32b9246",
   "metadata": {},
   "source": [
    "#### 2.5. Split the \"seen data\" into training dataset and validation datatset"
   ]
  },
  {
   "cell_type": "code",
   "execution_count": 72,
   "id": "897b8526-440c-49a3-9b93-c51e28b98afb",
   "metadata": {},
   "outputs": [
    {
     "name": "stdout",
     "output_type": "stream",
     "text": [
      "29,459 training samples\n",
      "3,274 validation samples\n"
     ]
    }
   ],
   "source": [
    "# Create a 90-10 train-validation split.\n",
    "train_size = int(0.9 * len(dataset))\n",
    "valid_size = len(dataset) - train_size\n",
    "\n",
    "# Divide the dataset by randomly selecting samples.\n",
    "train_dataset, valid_dataset = random_split(dataset, [train_size, valid_size])\n",
    "\n",
    "print('{:>5,} training samples'.format(train_size))\n",
    "print('{:>5,} validation samples'.format(valid_size))"
   ]
  },
  {
   "cell_type": "markdown",
   "id": "166bfd1f-013f-4693-89f0-3fd16d5385eb",
   "metadata": {},
   "source": [
    "#### 2.5. Convert tensors into Batches for batch wise training and using RandomSampler for selecting the batch Randomly"
   ]
  },
  {
   "cell_type": "code",
   "execution_count": 73,
   "id": "2ffe5fe2-1d6c-4610-a192-b357df455f02",
   "metadata": {},
   "outputs": [],
   "source": [
    "# set the batch size\n",
    "batch_size = 32\n",
    "\n",
    "# load the training data\n",
    "train_dataloader = DataLoader(train_dataset, sampler = RandomSampler(train_dataset),\n",
    "                              batch_size = batch_size )\n",
    "\n",
    "# load the validation dataset\n",
    "valid_dataloader = DataLoader(valid_dataset, sampler = SequentialSampler(valid_dataset),\n",
    "                                   batch_size = batch_size)"
   ]
  },
  {
   "cell_type": "markdown",
   "id": "2faced18-6420-4757-8523-b6a32107ec7d",
   "metadata": {},
   "source": [
    "## H. Set the model, optimizer and scheduler"
   ]
  },
  {
   "cell_type": "markdown",
   "id": "7dcde737-5442-430b-82c5-99e89a2f3e10",
   "metadata": {},
   "source": [
    "### 1. Create the Model (by Using 12 Layer BERT Model for our task)"
   ]
  },
  {
   "cell_type": "code",
   "execution_count": 74,
   "id": "e778e0d1-2438-4b9f-a795-211542e3ed44",
   "metadata": {},
   "outputs": [
    {
     "name": "stderr",
     "output_type": "stream",
     "text": [
      "Some weights of BertForTokenClassification were not initialized from the model checkpoint at bert-base-uncased and are newly initialized: ['classifier.bias', 'classifier.weight']\n",
      "You should probably TRAIN this model on a down-stream task to be able to use it for predictions and inference.\n"
     ]
    },
    {
     "data": {
      "text/plain": [
       "BertForTokenClassification(\n",
       "  (bert): BertModel(\n",
       "    (embeddings): BertEmbeddings(\n",
       "      (word_embeddings): Embedding(30522, 768, padding_idx=0)\n",
       "      (position_embeddings): Embedding(512, 768)\n",
       "      (token_type_embeddings): Embedding(2, 768)\n",
       "      (LayerNorm): LayerNorm((768,), eps=1e-12, elementwise_affine=True)\n",
       "      (dropout): Dropout(p=0.1, inplace=False)\n",
       "    )\n",
       "    (encoder): BertEncoder(\n",
       "      (layer): ModuleList(\n",
       "        (0-11): 12 x BertLayer(\n",
       "          (attention): BertAttention(\n",
       "            (self): BertSdpaSelfAttention(\n",
       "              (query): Linear(in_features=768, out_features=768, bias=True)\n",
       "              (key): Linear(in_features=768, out_features=768, bias=True)\n",
       "              (value): Linear(in_features=768, out_features=768, bias=True)\n",
       "              (dropout): Dropout(p=0.1, inplace=False)\n",
       "            )\n",
       "            (output): BertSelfOutput(\n",
       "              (dense): Linear(in_features=768, out_features=768, bias=True)\n",
       "              (LayerNorm): LayerNorm((768,), eps=1e-12, elementwise_affine=True)\n",
       "              (dropout): Dropout(p=0.1, inplace=False)\n",
       "            )\n",
       "          )\n",
       "          (intermediate): BertIntermediate(\n",
       "            (dense): Linear(in_features=768, out_features=3072, bias=True)\n",
       "            (intermediate_act_fn): GELUActivation()\n",
       "          )\n",
       "          (output): BertOutput(\n",
       "            (dense): Linear(in_features=3072, out_features=768, bias=True)\n",
       "            (LayerNorm): LayerNorm((768,), eps=1e-12, elementwise_affine=True)\n",
       "            (dropout): Dropout(p=0.1, inplace=False)\n",
       "          )\n",
       "        )\n",
       "      )\n",
       "    )\n",
       "  )\n",
       "  (dropout): Dropout(p=0.1, inplace=False)\n",
       "  (classifier): Linear(in_features=768, out_features=17, bias=True)\n",
       ")"
      ]
     },
     "execution_count": 74,
     "metadata": {},
     "output_type": "execute_result"
    }
   ],
   "source": [
    "model = BertForTokenClassification.from_pretrained(\"bert-base-uncased\", num_labels = len(label2idx))\n",
    "\n",
    "# move the model to the device\n",
    "model.to(device)"
   ]
  },
  {
   "cell_type": "markdown",
   "id": "0ef55e85-84f6-48e7-b3e2-3169faecd16d",
   "metadata": {},
   "source": [
    "### 2. Set the Adams Optimizer\n",
    "\n",
    "<b> Optimizer - AdamW:</b>\n",
    "\n",
    "<font color=brown>AdamW</font> is a stochastic optimization method that modifies the typical implementation of weight decay\n",
    "in Adam, by decoupling weight decay from the gradient update.\n",
    "\n",
    "<b>Learning Rate:</b>\n",
    "\n",
    "<font color=brown>Learning rate</font> is a tuning parameter in machine learning and statistics that controls how much\n",
    "a model's parameters adjust during each iteration of an optimization algorithm. It's a floating\n",
    "point number that's usually between 0.01 and 0.1\n",
    "\n",
    "<b>Adam Epsilon:</b>\n",
    "\n",
    "The parameter <font color=brown>epsilon</font> shows up in the update step.\n",
    "\n",
    "θ_t <- θ_{t-1} - α • mhat_t / (sqrt(vhat_t) + ε)\n",
    "\n",
    "It is primarily used as a guard against a zero second second moment causing a division by zero case. If it is too large it will bias the moment estimation.\n",
    "```"
   ]
  },
  {
   "cell_type": "code",
   "execution_count": 75,
   "id": "5d76956a-4f0a-4455-8228-672cbf353863",
   "metadata": {},
   "outputs": [],
   "source": [
    "# set the learning rate\n",
    "learning_rate = 1e-6\n",
    "\n",
    "# set the adam's epsilon\n",
    "# The term added to the denominator to improve numerical stability\n",
    "adam_epsilon = 1e-7\n",
    "\n",
    "# Load the AdamW optimizer\n",
    "optimizer = AdamW(model.parameters(),\n",
    "                  lr = learning_rate, # args.learning_rate \n",
    "                  eps = adam_epsilon # args.adam_epsilon \n",
    "                )"
   ]
  },
  {
   "cell_type": "markdown",
   "id": "8e6b4ae9-9484-43b8-9137-4b3ffd91e20e",
   "metadata": {},
   "source": [
    "### 3. Set the number of epochs"
   ]
  },
  {
   "cell_type": "code",
   "execution_count": 77,
   "id": "d2becaec-6bec-4244-a879-c17c2a01ace0",
   "metadata": {},
   "outputs": [
    {
     "name": "stdout",
     "output_type": "stream",
     "text": [
      "total steps: 9210\n"
     ]
    }
   ],
   "source": [
    "# Number of training epochs \n",
    "epochs = 10\n",
    "\n",
    "# Total number of training steps is number of batches * number of epochs.\n",
    "total_steps = len(train_dataloader) * epochs\n",
    "\n",
    "print(f\"total steps: {total_steps}\")"
   ]
  },
  {
   "cell_type": "markdown",
   "id": "84ff4876-b668-410b-9c1f-d3157683b892",
   "metadata": {},
   "source": [
    "### 4. Create the learning rate scheduler\n",
    "<p>\n",
    "A <font color=brown><b>scheduler</b></font> is to make <b>learning rate</b> <font color=blue>adaptive</font> to the gradient descent optimization procedure, so you can increase performance and reduce training time.\n",
    "    \n",
    "In <font color=brown>PyTorch</font>, a model is updated by an optimizer and learning rate is a parameter of the optimizer.\n",
    "\n",
    "<i>Learning rate schedule is an algorithm to update the learning rate in an optimizer</i>.\n",
    "</p>"
   ]
  },
  {
   "cell_type": "code",
   "execution_count": 78,
   "id": "6e92182c-562f-4163-b01c-fe1b4be08559",
   "metadata": {},
   "outputs": [],
   "source": [
    "# create the learning scheduler\n",
    "scheduler = get_linear_schedule_with_warmup(optimizer, \n",
    "                                            num_warmup_steps = 0,\n",
    "                                            num_training_steps = total_steps)"
   ]
  },
  {
   "cell_type": "markdown",
   "id": "2e2a22d9-4164-41f1-96f9-a73900981880",
   "metadata": {},
   "source": [
    "## I. Model Training"
   ]
  },
  {
   "cell_type": "markdown",
   "id": "626cf4c8-fd47-4bd9-9aba-a65b464edf31",
   "metadata": {},
   "source": [
    "### 1. Create the training loop\n",
    "<p>\n",
    "A typical <font color=brown>training loop</font> in PyTorch iterates over the batches for a given number of epochs.\n",
    "\n",
    "- In each batch iteration, we first compute the forward pass to obtain the neural network outputs.\n",
    "- Then, we reset the gradient from the previous iteration and perform backpropagation to obtain\n",
    "the gradient of the loss with respect to the model weights.\n",
    "- Finally, we update the weights based on the loss gradients using stochastic gradient descent.\n",
    "\n",
    "Since we are using learning scheduler for the adaptive learning rate, we call <font color=brown>scheduler.step()</font> to\n",
    "update the learning rate (as per the learning scheduler) after every epoch.\n",
    "</p>"
   ]
  },
  {
   "cell_type": "code",
   "execution_count": 79,
   "id": "360c9439-ddca-43ec-a162-ef1d1869c884",
   "metadata": {},
   "outputs": [],
   "source": [
    "def train_loop(model, train_dataloader, optimizer,  batch_size, epochs, device=torch.device('cpu'), seed_val=42):\n",
    "    \n",
    "    # set the random seed\n",
    "    seed_val = seed_val\n",
    "    # set the random seeds\n",
    "    random.seed(seed_val)\n",
    "    np.random.seed(seed_val)\n",
    "    torch.manual_seed(seed_val)\n",
    "\n",
    "    # store loss values for each epoch\n",
    "    loss_values = []\n",
    "\n",
    "    for epoch_i in range(0, epochs):\n",
    "        print('======== Epoch {:} / {:} ========'.format(epoch_i + 1, epochs))\n",
    "        print('Training...')\n",
    "        # training loss\n",
    "        total_loss = 0\n",
    "    \n",
    "        # train mode\n",
    "        model.train()\n",
    "\n",
    "        for step, batch in enumerate(train_dataloader):\n",
    "            if step%40 == 0 and not step == 0:\n",
    "                # report progress of the training\n",
    "                print('  Batch {:>5,}  of  {:>5,}.'.format(step, len(train_dataloader)))\n",
    "\n",
    "                # batch input ids\n",
    "                batch_input_ids = batch[0].to(device)\n",
    "                # batch input mask\n",
    "                batch_input_mask = batch[1].to(device)\n",
    "                # batch labels\n",
    "                batch_labels = batch[2].to(device)\n",
    "\n",
    "                # Zero the gradients to start fresh next time\n",
    "                model.zero_grad()\n",
    "\n",
    "                # get the output\n",
    "                outputs = model(batch_input_ids, token_type_ids=None,\n",
    "                                attention_mask=batch_input_mask, labels=batch_labels)\n",
    "                loss = outputs[0]\n",
    "                \n",
    "                # add the loss\n",
    "                total_loss += loss.item()\n",
    "            \n",
    "                # gradient computing step\n",
    "                # -----------------------\n",
    "                # loss.backward() computes dloss/dx for every parameter x which\n",
    "                # has requires_grad=True. These are accumulated into x.grad\n",
    "                # for every parameter x.\n",
    "                loss.backward()\n",
    "\n",
    "                # clips the norm of the overall gradient by concatenating all\n",
    "                # parameters passed to the function\n",
    "                torch.nn.utils.clip_grad_norm_(model.parameters(), 1.0)\n",
    "            \n",
    "                # Tell the optimizer the gradients, then step.\n",
    "                # Performs a single optimization step (parameter update)\n",
    "            optimizer.step()\n",
    "\n",
    "            # We need this step to dynamically change learning rate\n",
    "            # else it won’t be changed.\n",
    "            #\n",
    "            # For example: \n",
    "            # for epoch in range(1, 25):\n",
    "            #    exp_lr_scheduler.step()\n",
    "            #    print('Epoch {}, lr {}'.format(epoch, optimizer.param_groups[0]['lr']))\n",
    "            #\n",
    "            # Epoch 1, lr 0.001\n",
    "            # Epoch 6, lr 0.001\n",
    "            # Epoch 7, lr 0.0001\n",
    "            # ......\n",
    "            # Epoch 13, lr 0.0001\n",
    "            # Epoch 14, lr 1e-05\n",
    "            # Let’s make the training process start with a larger learning rate\n",
    "            # and end with a smaller rate. To introduce a learning rate scheduler,\n",
    "            # you need to run its step() function in the training loop.\n",
    "            scheduler.step()\n",
    "\n",
    "        # Compute the average training loss per instance\n",
    "        avg_train_loss = total_loss / len(train_dataloader)            \n",
    "        loss_values.append(avg_train_loss)\n",
    "        print(\"  Average training loss: {0:.4f}\".format(avg_train_loss))\n",
    "\n",
    "    return loss_values"
   ]
  },
  {
   "cell_type": "markdown",
   "id": "4bd5f392-4503-467e-a7d2-94d008ca2288",
   "metadata": {},
   "source": [
    "#### 1.1. Train the model\n",
    "<p>Train the BERT Model and compute training loss</p>"
   ]
  },
  {
   "cell_type": "code",
   "execution_count": 84,
   "id": "53a65746-c6cf-493f-af57-e5351cf9603d",
   "metadata": {},
   "outputs": [
    {
     "name": "stdout",
     "output_type": "stream",
     "text": [
      "======== Epoch 1 / 10 ========\n",
      "Training...\n",
      "  Batch    40  of    921.\n",
      "  Batch    80  of    921.\n",
      "  Batch   120  of    921.\n",
      "  Batch   160  of    921.\n",
      "  Batch   200  of    921.\n",
      "  Batch   240  of    921.\n",
      "  Batch   280  of    921.\n",
      "  Batch   320  of    921.\n",
      "  Batch   360  of    921.\n",
      "  Batch   400  of    921.\n",
      "  Batch   440  of    921.\n",
      "  Batch   480  of    921.\n",
      "  Batch   520  of    921.\n",
      "  Batch   560  of    921.\n",
      "  Batch   600  of    921.\n",
      "  Batch   640  of    921.\n",
      "  Batch   680  of    921.\n",
      "  Batch   720  of    921.\n",
      "  Batch   760  of    921.\n",
      "  Batch   800  of    921.\n",
      "  Batch   840  of    921.\n",
      "  Batch   880  of    921.\n",
      "  Batch   920  of    921.\n",
      "  Average training loss: 0.0240\n",
      "======== Epoch 2 / 10 ========\n",
      "Training...\n",
      "  Batch    40  of    921.\n",
      "  Batch    80  of    921.\n",
      "  Batch   120  of    921.\n",
      "  Batch   160  of    921.\n",
      "  Batch   200  of    921.\n",
      "  Batch   240  of    921.\n",
      "  Batch   280  of    921.\n",
      "  Batch   320  of    921.\n",
      "  Batch   360  of    921.\n",
      "  Batch   400  of    921.\n",
      "  Batch   440  of    921.\n",
      "  Batch   480  of    921.\n",
      "  Batch   520  of    921.\n",
      "  Batch   560  of    921.\n",
      "  Batch   600  of    921.\n",
      "  Batch   640  of    921.\n",
      "  Batch   680  of    921.\n",
      "  Batch   720  of    921.\n",
      "  Batch   760  of    921.\n",
      "  Batch   800  of    921.\n",
      "  Batch   840  of    921.\n",
      "  Batch   880  of    921.\n",
      "  Batch   920  of    921.\n",
      "  Average training loss: 0.0094\n",
      "======== Epoch 3 / 10 ========\n",
      "Training...\n",
      "  Batch    40  of    921.\n",
      "  Batch    80  of    921.\n",
      "  Batch   120  of    921.\n",
      "  Batch   160  of    921.\n",
      "  Batch   200  of    921.\n",
      "  Batch   240  of    921.\n",
      "  Batch   280  of    921.\n",
      "  Batch   320  of    921.\n",
      "  Batch   360  of    921.\n",
      "  Batch   400  of    921.\n",
      "  Batch   440  of    921.\n",
      "  Batch   480  of    921.\n",
      "  Batch   520  of    921.\n",
      "  Batch   560  of    921.\n",
      "  Batch   600  of    921.\n",
      "  Batch   640  of    921.\n",
      "  Batch   680  of    921.\n",
      "  Batch   720  of    921.\n",
      "  Batch   760  of    921.\n",
      "  Batch   800  of    921.\n",
      "  Batch   840  of    921.\n",
      "  Batch   880  of    921.\n",
      "  Batch   920  of    921.\n",
      "  Average training loss: 0.0077\n",
      "======== Epoch 4 / 10 ========\n",
      "Training...\n",
      "  Batch    40  of    921.\n",
      "  Batch    80  of    921.\n",
      "  Batch   120  of    921.\n",
      "  Batch   160  of    921.\n",
      "  Batch   200  of    921.\n",
      "  Batch   240  of    921.\n",
      "  Batch   280  of    921.\n",
      "  Batch   320  of    921.\n",
      "  Batch   360  of    921.\n",
      "  Batch   400  of    921.\n",
      "  Batch   440  of    921.\n",
      "  Batch   480  of    921.\n",
      "  Batch   520  of    921.\n",
      "  Batch   560  of    921.\n",
      "  Batch   600  of    921.\n",
      "  Batch   640  of    921.\n",
      "  Batch   680  of    921.\n",
      "  Batch   720  of    921.\n",
      "  Batch   760  of    921.\n",
      "  Batch   800  of    921.\n",
      "  Batch   840  of    921.\n",
      "  Batch   880  of    921.\n",
      "  Batch   920  of    921.\n",
      "  Average training loss: 0.0068\n",
      "======== Epoch 5 / 10 ========\n",
      "Training...\n",
      "  Batch    40  of    921.\n",
      "  Batch    80  of    921.\n",
      "  Batch   120  of    921.\n",
      "  Batch   160  of    921.\n",
      "  Batch   200  of    921.\n",
      "  Batch   240  of    921.\n",
      "  Batch   280  of    921.\n",
      "  Batch   320  of    921.\n",
      "  Batch   360  of    921.\n",
      "  Batch   400  of    921.\n",
      "  Batch   440  of    921.\n",
      "  Batch   480  of    921.\n",
      "  Batch   520  of    921.\n",
      "  Batch   560  of    921.\n",
      "  Batch   600  of    921.\n",
      "  Batch   640  of    921.\n",
      "  Batch   680  of    921.\n",
      "  Batch   720  of    921.\n",
      "  Batch   760  of    921.\n",
      "  Batch   800  of    921.\n",
      "  Batch   840  of    921.\n",
      "  Batch   880  of    921.\n",
      "  Batch   920  of    921.\n",
      "  Average training loss: 0.0059\n",
      "======== Epoch 6 / 10 ========\n",
      "Training...\n",
      "  Batch    40  of    921.\n",
      "  Batch    80  of    921.\n",
      "  Batch   120  of    921.\n",
      "  Batch   160  of    921.\n",
      "  Batch   200  of    921.\n",
      "  Batch   240  of    921.\n",
      "  Batch   280  of    921.\n",
      "  Batch   320  of    921.\n",
      "  Batch   360  of    921.\n",
      "  Batch   400  of    921.\n",
      "  Batch   440  of    921.\n",
      "  Batch   480  of    921.\n",
      "  Batch   520  of    921.\n",
      "  Batch   560  of    921.\n",
      "  Batch   600  of    921.\n",
      "  Batch   640  of    921.\n",
      "  Batch   680  of    921.\n",
      "  Batch   720  of    921.\n",
      "  Batch   760  of    921.\n",
      "  Batch   800  of    921.\n",
      "  Batch   840  of    921.\n",
      "  Batch   880  of    921.\n",
      "  Batch   920  of    921.\n",
      "  Average training loss: 0.0057\n",
      "======== Epoch 7 / 10 ========\n",
      "Training...\n",
      "  Batch    40  of    921.\n",
      "  Batch    80  of    921.\n",
      "  Batch   120  of    921.\n",
      "  Batch   160  of    921.\n",
      "  Batch   200  of    921.\n",
      "  Batch   240  of    921.\n",
      "  Batch   280  of    921.\n",
      "  Batch   320  of    921.\n",
      "  Batch   360  of    921.\n",
      "  Batch   400  of    921.\n",
      "  Batch   440  of    921.\n",
      "  Batch   480  of    921.\n",
      "  Batch   520  of    921.\n",
      "  Batch   560  of    921.\n",
      "  Batch   600  of    921.\n",
      "  Batch   640  of    921.\n",
      "  Batch   680  of    921.\n",
      "  Batch   720  of    921.\n",
      "  Batch   760  of    921.\n",
      "  Batch   800  of    921.\n",
      "  Batch   840  of    921.\n",
      "  Batch   880  of    921.\n",
      "  Batch   920  of    921.\n",
      "  Average training loss: 0.0054\n",
      "======== Epoch 8 / 10 ========\n",
      "Training...\n",
      "  Batch    40  of    921.\n",
      "  Batch    80  of    921.\n",
      "  Batch   120  of    921.\n",
      "  Batch   160  of    921.\n",
      "  Batch   200  of    921.\n",
      "  Batch   240  of    921.\n",
      "  Batch   280  of    921.\n",
      "  Batch   320  of    921.\n",
      "  Batch   360  of    921.\n",
      "  Batch   400  of    921.\n",
      "  Batch   440  of    921.\n",
      "  Batch   480  of    921.\n",
      "  Batch   520  of    921.\n",
      "  Batch   560  of    921.\n",
      "  Batch   600  of    921.\n",
      "  Batch   640  of    921.\n",
      "  Batch   680  of    921.\n",
      "  Batch   720  of    921.\n",
      "  Batch   760  of    921.\n",
      "  Batch   800  of    921.\n",
      "  Batch   840  of    921.\n",
      "  Batch   880  of    921.\n",
      "  Batch   920  of    921.\n",
      "  Average training loss: 0.0053\n",
      "======== Epoch 9 / 10 ========\n",
      "Training...\n",
      "  Batch    40  of    921.\n",
      "  Batch    80  of    921.\n",
      "  Batch   120  of    921.\n",
      "  Batch   160  of    921.\n",
      "  Batch   200  of    921.\n",
      "  Batch   240  of    921.\n",
      "  Batch   280  of    921.\n",
      "  Batch   320  of    921.\n",
      "  Batch   360  of    921.\n",
      "  Batch   400  of    921.\n",
      "  Batch   440  of    921.\n",
      "  Batch   480  of    921.\n",
      "  Batch   520  of    921.\n",
      "  Batch   560  of    921.\n",
      "  Batch   600  of    921.\n",
      "  Batch   640  of    921.\n",
      "  Batch   680  of    921.\n",
      "  Batch   720  of    921.\n",
      "  Batch   760  of    921.\n",
      "  Batch   800  of    921.\n",
      "  Batch   840  of    921.\n",
      "  Batch   880  of    921.\n",
      "  Batch   920  of    921.\n",
      "  Average training loss: 0.0055\n",
      "======== Epoch 10 / 10 ========\n",
      "Training...\n",
      "  Batch    40  of    921.\n",
      "  Batch    80  of    921.\n",
      "  Batch   120  of    921.\n",
      "  Batch   160  of    921.\n",
      "  Batch   200  of    921.\n",
      "  Batch   240  of    921.\n",
      "  Batch   280  of    921.\n",
      "  Batch   320  of    921.\n",
      "  Batch   360  of    921.\n",
      "  Batch   400  of    921.\n",
      "  Batch   440  of    921.\n",
      "  Batch   480  of    921.\n",
      "  Batch   520  of    921.\n",
      "  Batch   560  of    921.\n",
      "  Batch   600  of    921.\n",
      "  Batch   640  of    921.\n",
      "  Batch   680  of    921.\n",
      "  Batch   720  of    921.\n",
      "  Batch   760  of    921.\n",
      "  Batch   800  of    921.\n",
      "  Batch   840  of    921.\n",
      "  Batch   880  of    921.\n",
      "  Batch   920  of    921.\n",
      "  Average training loss: 0.0049\n"
     ]
    }
   ],
   "source": [
    "train_loss_values = train_loop(model, train_dataloader, optimizer,  batch_size, epochs=epochs, device=device)"
   ]
  },
  {
   "cell_type": "markdown",
   "id": "fdcd92d0-1a6e-40b5-b2b7-03ddda9f8be6",
   "metadata": {},
   "source": [
    "#### 1.3. Draw the graph for training loss to see its progress after every epoch"
   ]
  },
  {
   "cell_type": "code",
   "execution_count": 85,
   "id": "9c973a58-6d97-4a70-84bf-ea9045b800ae",
   "metadata": {},
   "outputs": [
    {
     "data": {
      "image/png": "[encoded data removed]",
      "text/plain": [
       "<Figure size 800x400 with 1 Axes>"
      ]
     },
     "metadata": {},
     "output_type": "display_data"
    }
   ],
   "source": [
    "%matplotlib inline\n",
    "\n",
    "# Use plot styling from seaborn.\n",
    "sns.set(style='darkgrid')\n",
    "\n",
    "# Increase the plot size and font size.\n",
    "sns.set(font_scale=1.5)\n",
    "plt.rcParams[\"figure.figsize\"] = (8,4)\n",
    "\n",
    "# Plot the learning curve.\n",
    "plt.plot(train_loss_values, 'b-o')\n",
    "\n",
    "# Label the plot.\n",
    "plt.title(\"Training loss\")\n",
    "plt.xlabel(\"Epoch\")\n",
    "plt.ylabel(\"Loss\")\n",
    "\n",
    "plt.show()"
   ]
  },
  {
   "cell_type": "markdown",
   "id": "40a1f4f6-03eb-4214-88ea-932c2dd5a36d",
   "metadata": {},
   "source": [
    "## J. Evaluation"
   ]
  },
  {
   "cell_type": "markdown",
   "id": "28fea865-8a68-4395-aee2-42e4a8c6f788",
   "metadata": {},
   "source": [
    "### 1. Validation dataset - Evaluate Performance of trained Model\n",
    "<p>\n",
    "With our <font color=blue> model trained </font>, it's time to assess how well it performs on the test set, which consists of 10% of the seen data.\n",
    "\n",
    "Keep in mind that during this evaluation,\n",
    "1. we won't be making any gradient updates;\n",
    "2. the model will simply provide its logits.\n",
    "</p>"
   ]
  },
  {
   "cell_type": "markdown",
   "id": "7d9cf207-bf2d-46aa-aec1-ee0ce4c95e6c",
   "metadata": {},
   "source": [
    "### 1.1. Predicting labels for sentences in valid dataset"
   ]
  },
  {
   "cell_type": "code",
   "execution_count": 86,
   "id": "fa6ba4b8-23f5-448e-97cf-8da4a9751235",
   "metadata": {},
   "outputs": [
    {
     "name": "stdout",
     "output_type": "stream",
     "text": [
      "Predicting labels for 3,274 validation sentences...\n",
      "Done\n"
     ]
    }
   ],
   "source": [
    "print('Predicting labels for {:,} validation sentences...'.format(valid_size))\n",
    "\n",
    "# Put model in evaluation mode\n",
    "model.eval()\n",
    "\n",
    "# Tracking variables \n",
    "predictions_for_valid , true_labels_for_valid = [], []\n",
    "\n",
    "# Do Predictions\n",
    "for batch in valid_dataloader:\n",
    "    # Add batch to GPU if available\n",
    "    batch = tuple(t.to(device) for t in batch)\n",
    "\n",
    "    # Unpack the inputs from our dataloader\n",
    "    batch_input_ids, batch_input_mask, batch_labels = batch\n",
    "\n",
    "    # Telling the model not to compute or store gradients, saving memory\n",
    "    with torch.no_grad():\n",
    "        # Forward pass, calculate logit predictions\n",
    "        outputs = model(batch_input_ids, token_type_ids=None, \n",
    "                      attention_mask=batch_input_mask)\n",
    "\n",
    "        logits = outputs[0]\n",
    "\n",
    "        # Move logits and labels to CPU\n",
    "        logits = logits.detach().cpu().numpy()\n",
    "        label_ids = batch_labels.to('cpu').numpy()\n",
    "\n",
    "        # Store predictions and true labels\n",
    "        predictions_for_valid.append(logits)\n",
    "        true_labels_for_valid.append(label_ids)\n",
    "\n",
    "print(\"Done\")"
   ]
  },
  {
   "cell_type": "markdown",
   "id": "d3d959ec-7ff3-4b4e-8bbe-8f28f9aae0de",
   "metadata": {},
   "source": [
    "#### 1.2. Computing the Performance Metrics on Validation Dataset"
   ]
  },
  {
   "cell_type": "code",
   "execution_count": 87,
   "id": "f7d40fc5-97d2-4523-9e7e-6153dee84991",
   "metadata": {},
   "outputs": [
    {
     "name": "stdout",
     "output_type": "stream",
     "text": [
      "After flattening the batches, the predictions have shape:\n",
      "     (3274, 128, 17)\n",
      "\n",
      "After choosing the highest scoring label for each token, prediction label ids have shape:\n",
      "     (3274, 128)\n",
      "\n",
      "After flattening the sentences, the predictions have shape:\n",
      "     (419072,)\n",
      "and ground truth have shape:\n",
      "     (419072,)\n"
     ]
    }
   ],
   "source": [
    "# First, combine the results across the batches.\n",
    "all_predictions_for_valid = np.concatenate(predictions_for_valid, axis=0)\n",
    "all_true_labels_for_valid = np.concatenate(true_labels_for_valid, axis=0)\n",
    "\n",
    "print(\"After flattening the batches, the predictions have shape:\")\n",
    "print(\"    \", all_predictions_for_valid.shape)\n",
    "# [valid_size x seq_len x num_labels]\n",
    "\n",
    "# Next, let's remove the third dimension (axis 2), which has the scores\n",
    "# for all 17 labels.\n",
    "\n",
    "# For each token, pick the label with the highest score.\n",
    "predicted_label_ids_for_valid = np.argmax(all_predictions_for_valid, axis=2)\n",
    "\n",
    "print(\"\\nAfter choosing the highest scoring label for each token, prediction label ids have shape:\")\n",
    "print(\"    \", predicted_label_ids_for_valid.shape)\n",
    "\n",
    "# Eliminate axis 0, which corresponds to the sentences.\n",
    "predicted_label_ids_for_valid = np.concatenate(predicted_label_ids_for_valid, axis=0)\n",
    "all_true_labels_for_valid = np.concatenate(all_true_labels_for_valid, axis=0)\n",
    "\n",
    "\n",
    "print(\"\\nAfter flattening the sentences, the predictions have shape:\")\n",
    "print(\"    \", predicted_label_ids_for_valid.shape)\n",
    "\n",
    "print(\"and ground truth have shape:\")\n",
    "print(\"    \", all_true_labels_for_valid.shape)"
   ]
  },
  {
   "cell_type": "markdown",
   "id": "223c7b87-9f63-4dde-ab0d-2edf6f18e335",
   "metadata": {},
   "source": [
    "### 1.3. Removing the null id tokens (=-100) (a.k.a ignore tokens)"
   ]
  },
  {
   "cell_type": "code",
   "execution_count": 88,
   "id": "c4b6b822-4961-4357-adca-35f411ec4ac5",
   "metadata": {},
   "outputs": [
    {
     "name": "stdout",
     "output_type": "stream",
     "text": [
      "Before filtering out `null` tokens, length = 419,072\n",
      "After filtering out `null` tokens, length = 83,592\n",
      "\n",
      "i.e total num of unwanted labels id (=-100) for which we dont need predictions are: 335480\n"
     ]
    }
   ],
   "source": [
    "# Construct new lists of predictions which don't include any null tokens.\n",
    "real_token_predictions_for_valid = []\n",
    "real_token_labels_for_valid = []\n",
    "\n",
    "# For each of the input tokens in the true labels of validation dataset...\n",
    "for i in range(len(all_true_labels_for_valid)):\n",
    "\n",
    "    # If it's not a token with a null label id ( = -100 ) ...\n",
    "    if not all_true_labels_for_valid[i] == -100:\n",
    "        \n",
    "        # Add the prediction and the ground truth to their lists.\n",
    "        real_token_predictions_for_valid.append(predicted_label_ids_for_valid[i])\n",
    "        real_token_labels_for_valid.append(all_true_labels_for_valid[i])\n",
    "\n",
    "print(\"Before filtering out `null` tokens, length = {:,}\".format(len(all_true_labels_for_valid)))\n",
    "print(\"After filtering out `null` tokens, length = {:,}\".format(len(real_token_labels_for_valid)))\n",
    "\n",
    "print(f\"\\ni.e total num of unwanted labels id (=-100) for which we dont need predictions are: {\n",
    "len(all_true_labels_for_valid) - len(real_token_labels_for_valid)}\")"
   ]
  },
  {
   "cell_type": "markdown",
   "id": "1b190321-92a3-4d53-a547-2a77f3534f49",
   "metadata": {},
   "source": [
    "#### 1.4. Computing classfication report - Accuracy, precision, recall and f1 score (micro, macro and weighted)"
   ]
  },
  {
   "cell_type": "code",
   "execution_count": 89,
   "id": "aa9f6af6-852b-4fba-aa5d-54c7b04261f2",
   "metadata": {},
   "outputs": [
    {
     "name": "stdout",
     "output_type": "stream",
     "text": [
      "accuracy score: 94.27%\n",
      "----- macro scores --------\n",
      "macro precision score: 80.762%\n",
      "macro recall score: 45.134%\n",
      "macro f1 score: 45.856%\n",
      "----- micro scores --------\n",
      "micro precision score: 94.27%\n",
      "micro recall score: 94.27%\n",
      "micro f1 score: 94.27%\n",
      "----- weighted scores --------\n",
      "weighted precision score: 94.17%\n",
      "weighted recall score: 94.27%\n",
      "weighted f1 score: 94.01%\n"
     ]
    }
   ],
   "source": [
    "# computing the accuracy\n",
    "accuracy_for_valid = accuracy_score(y_true=real_token_labels_for_valid,\n",
    "                                    y_pred=real_token_predictions_for_valid)\n",
    "\n",
    "print(\"accuracy score: {:.2%}\".format(accuracy_for_valid))\n",
    "\n",
    "# compute the macro precision\n",
    "macro_precision_for_valid = precision_score(y_true=real_token_labels_for_valid,\n",
    "                                            y_pred=real_token_predictions_for_valid,\n",
    "                                            average='macro', zero_division=np.nan)\n",
    "# compute the macro recall\n",
    "macro_recall_for_valid = recall_score(y_true=real_token_labels_for_valid,\n",
    "                                      y_pred=real_token_predictions_for_valid,\n",
    "                                      average='macro')\n",
    "# compute the macro f1_score\n",
    "macro_f1_score_for_valid = f1_score(y_true = real_token_labels_for_valid,\n",
    "                                    y_pred = real_token_predictions_for_valid,\n",
    "                                    average='macro')\n",
    "\n",
    "print(\"----- macro scores --------\")\n",
    "print(\"macro precision score: {:.3%}\".format(macro_precision_for_valid))\n",
    "print(\"macro recall score: {:.3%}\".format(macro_recall_for_valid))\n",
    "print(\"macro f1 score: {:.3%}\".format(macro_f1_score_for_valid))\n",
    "\n",
    "# ---- micro scores -------\n",
    "micro_precision_for_valid = precision_score(y_true=real_token_labels_for_valid,\n",
    "                                            y_pred=real_token_predictions_for_valid,\n",
    "                                            average='micro', zero_division=np.nan)\n",
    "\n",
    "micro_recall_for_valid = recall_score(y_true=real_token_labels_for_valid,\n",
    "                                      y_pred=real_token_predictions_for_valid,\n",
    "                                      average='micro')\n",
    "\n",
    "micro_f1_score_for_valid = f1_score(y_true = real_token_labels_for_valid,\n",
    "                                    y_pred = real_token_predictions_for_valid,\n",
    "                                    average='micro')\n",
    "\n",
    "\n",
    "print(\"----- micro scores --------\")\n",
    "print(\"micro precision score: {:.2%}\".format(micro_precision_for_valid))\n",
    "print(\"micro recall score: {:.2%}\".format(micro_recall_for_valid))\n",
    "print(\"micro f1 score: {:.2%}\".format(micro_f1_score_for_valid))\n",
    "\n",
    "# ------ weighted scores------\n",
    "\n",
    "wt_precision_for_valid = precision_score(y_true=real_token_labels_for_valid,\n",
    "                                            y_pred=real_token_predictions_for_valid,\n",
    "                                            average='weighted', zero_division=np.nan)\n",
    "\n",
    "wt_recall_for_valid = recall_score(y_true=real_token_labels_for_valid,\n",
    "                                      y_pred=real_token_predictions_for_valid,\n",
    "                                      average='weighted')\n",
    "\n",
    "wt_f1_score_for_valid = f1_score(y_true = real_token_labels_for_valid,\n",
    "                                    y_pred = real_token_predictions_for_valid,\n",
    "                                    average='weighted')\n",
    "\n",
    "print(\"----- weighted scores --------\")\n",
    "print(\"weighted precision score: {:.2%}\".format(wt_precision_for_valid))\n",
    "print(\"weighted recall score: {:.2%}\".format(wt_recall_for_valid))\n",
    "print(\"weighted f1 score: {:.2%}\".format(wt_f1_score_for_valid))"
   ]
  },
  {
   "cell_type": "markdown",
   "id": "8483239c-9520-43c2-acd4-b6299f71dfc6",
   "metadata": {},
   "source": [
    "#### 1.5 Confusion Matrix"
   ]
  },
  {
   "cell_type": "code",
   "execution_count": 90,
   "id": "5d987ea5-5504-49bb-982b-54ef7f0c2d4a",
   "metadata": {},
   "outputs": [
    {
     "name": "stdout",
     "output_type": "stream",
     "text": [
      "Confusion Matrix DataFrame\n"
     ]
    },
    {
     "data": {
      "text/html": [
       "<div>\n",
       "<style scoped>\n",
       "    .dataframe tbody tr th:only-of-type {\n",
       "        vertical-align: middle;\n",
       "    }\n",
       "\n",
       "    .dataframe tbody tr th {\n",
       "        vertical-align: top;\n",
       "    }\n",
       "\n",
       "    .dataframe thead th {\n",
       "        text-align: right;\n",
       "    }\n",
       "</style>\n",
       "<table border=\"1\" class=\"dataframe\">\n",
       "  <thead>\n",
       "    <tr style=\"text-align: right;\">\n",
       "      <th></th>\n",
       "      <th>I-art</th>\n",
       "      <th>I-eve</th>\n",
       "      <th>B-art</th>\n",
       "      <th>B-eve</th>\n",
       "      <th>I-org</th>\n",
       "      <th>I-tim</th>\n",
       "      <th>I-gpe</th>\n",
       "      <th>B-per</th>\n",
       "      <th>B-org</th>\n",
       "      <th>O</th>\n",
       "      <th>B-geo</th>\n",
       "      <th>I-per</th>\n",
       "      <th>I-geo</th>\n",
       "      <th>B-tim</th>\n",
       "      <th>B-nat</th>\n",
       "      <th>I-nat</th>\n",
       "      <th>B-gpe</th>\n",
       "    </tr>\n",
       "  </thead>\n",
       "  <tbody>\n",
       "    <tr>\n",
       "      <th>I-art</th>\n",
       "      <td>0</td>\n",
       "      <td>0</td>\n",
       "      <td>0</td>\n",
       "      <td>0</td>\n",
       "      <td>14</td>\n",
       "      <td>0</td>\n",
       "      <td>0</td>\n",
       "      <td>0</td>\n",
       "      <td>0</td>\n",
       "      <td>8</td>\n",
       "      <td>0</td>\n",
       "      <td>7</td>\n",
       "      <td>2</td>\n",
       "      <td>0</td>\n",
       "      <td>0</td>\n",
       "      <td>0</td>\n",
       "      <td>0</td>\n",
       "    </tr>\n",
       "    <tr>\n",
       "      <th>I-eve</th>\n",
       "      <td>0</td>\n",
       "      <td>0</td>\n",
       "      <td>0</td>\n",
       "      <td>0</td>\n",
       "      <td>9</td>\n",
       "      <td>2</td>\n",
       "      <td>0</td>\n",
       "      <td>0</td>\n",
       "      <td>0</td>\n",
       "      <td>8</td>\n",
       "      <td>0</td>\n",
       "      <td>0</td>\n",
       "      <td>0</td>\n",
       "      <td>2</td>\n",
       "      <td>0</td>\n",
       "      <td>0</td>\n",
       "      <td>0</td>\n",
       "    </tr>\n",
       "    <tr>\n",
       "      <th>B-art</th>\n",
       "      <td>0</td>\n",
       "      <td>0</td>\n",
       "      <td>0</td>\n",
       "      <td>0</td>\n",
       "      <td>1</td>\n",
       "      <td>0</td>\n",
       "      <td>0</td>\n",
       "      <td>2</td>\n",
       "      <td>25</td>\n",
       "      <td>12</td>\n",
       "      <td>14</td>\n",
       "      <td>0</td>\n",
       "      <td>1</td>\n",
       "      <td>0</td>\n",
       "      <td>0</td>\n",
       "      <td>0</td>\n",
       "      <td>2</td>\n",
       "    </tr>\n",
       "    <tr>\n",
       "      <th>B-eve</th>\n",
       "      <td>0</td>\n",
       "      <td>0</td>\n",
       "      <td>0</td>\n",
       "      <td>0</td>\n",
       "      <td>1</td>\n",
       "      <td>7</td>\n",
       "      <td>0</td>\n",
       "      <td>0</td>\n",
       "      <td>4</td>\n",
       "      <td>7</td>\n",
       "      <td>7</td>\n",
       "      <td>0</td>\n",
       "      <td>1</td>\n",
       "      <td>3</td>\n",
       "      <td>0</td>\n",
       "      <td>0</td>\n",
       "      <td>2</td>\n",
       "    </tr>\n",
       "    <tr>\n",
       "      <th>I-org</th>\n",
       "      <td>0</td>\n",
       "      <td>0</td>\n",
       "      <td>0</td>\n",
       "      <td>0</td>\n",
       "      <td>823</td>\n",
       "      <td>1</td>\n",
       "      <td>0</td>\n",
       "      <td>32</td>\n",
       "      <td>93</td>\n",
       "      <td>242</td>\n",
       "      <td>37</td>\n",
       "      <td>246</td>\n",
       "      <td>68</td>\n",
       "      <td>0</td>\n",
       "      <td>0</td>\n",
       "      <td>0</td>\n",
       "      <td>6</td>\n",
       "    </tr>\n",
       "    <tr>\n",
       "      <th>I-tim</th>\n",
       "      <td>0</td>\n",
       "      <td>0</td>\n",
       "      <td>0</td>\n",
       "      <td>0</td>\n",
       "      <td>5</td>\n",
       "      <td>280</td>\n",
       "      <td>0</td>\n",
       "      <td>4</td>\n",
       "      <td>1</td>\n",
       "      <td>164</td>\n",
       "      <td>6</td>\n",
       "      <td>5</td>\n",
       "      <td>1</td>\n",
       "      <td>119</td>\n",
       "      <td>0</td>\n",
       "      <td>0</td>\n",
       "      <td>4</td>\n",
       "    </tr>\n",
       "    <tr>\n",
       "      <th>I-gpe</th>\n",
       "      <td>0</td>\n",
       "      <td>0</td>\n",
       "      <td>0</td>\n",
       "      <td>0</td>\n",
       "      <td>0</td>\n",
       "      <td>0</td>\n",
       "      <td>0</td>\n",
       "      <td>0</td>\n",
       "      <td>0</td>\n",
       "      <td>0</td>\n",
       "      <td>0</td>\n",
       "      <td>0</td>\n",
       "      <td>3</td>\n",
       "      <td>0</td>\n",
       "      <td>0</td>\n",
       "      <td>0</td>\n",
       "      <td>8</td>\n",
       "    </tr>\n",
       "    <tr>\n",
       "      <th>B-per</th>\n",
       "      <td>0</td>\n",
       "      <td>0</td>\n",
       "      <td>0</td>\n",
       "      <td>0</td>\n",
       "      <td>8</td>\n",
       "      <td>0</td>\n",
       "      <td>0</td>\n",
       "      <td>1681</td>\n",
       "      <td>61</td>\n",
       "      <td>56</td>\n",
       "      <td>77</td>\n",
       "      <td>115</td>\n",
       "      <td>2</td>\n",
       "      <td>1</td>\n",
       "      <td>0</td>\n",
       "      <td>0</td>\n",
       "      <td>15</td>\n",
       "    </tr>\n",
       "    <tr>\n",
       "      <th>B-org</th>\n",
       "      <td>0</td>\n",
       "      <td>0</td>\n",
       "      <td>0</td>\n",
       "      <td>0</td>\n",
       "      <td>45</td>\n",
       "      <td>1</td>\n",
       "      <td>0</td>\n",
       "      <td>153</td>\n",
       "      <td>1495</td>\n",
       "      <td>248</td>\n",
       "      <td>397</td>\n",
       "      <td>75</td>\n",
       "      <td>3</td>\n",
       "      <td>4</td>\n",
       "      <td>0</td>\n",
       "      <td>0</td>\n",
       "      <td>66</td>\n",
       "    </tr>\n",
       "    <tr>\n",
       "      <th>O</th>\n",
       "      <td>0</td>\n",
       "      <td>0</td>\n",
       "      <td>0</td>\n",
       "      <td>0</td>\n",
       "      <td>226</td>\n",
       "      <td>13</td>\n",
       "      <td>0</td>\n",
       "      <td>55</td>\n",
       "      <td>214</td>\n",
       "      <td>64758</td>\n",
       "      <td>153</td>\n",
       "      <td>48</td>\n",
       "      <td>28</td>\n",
       "      <td>134</td>\n",
       "      <td>0</td>\n",
       "      <td>0</td>\n",
       "      <td>93</td>\n",
       "    </tr>\n",
       "    <tr>\n",
       "      <th>B-geo</th>\n",
       "      <td>0</td>\n",
       "      <td>0</td>\n",
       "      <td>0</td>\n",
       "      <td>0</td>\n",
       "      <td>8</td>\n",
       "      <td>0</td>\n",
       "      <td>0</td>\n",
       "      <td>64</td>\n",
       "      <td>184</td>\n",
       "      <td>107</td>\n",
       "      <td>4104</td>\n",
       "      <td>37</td>\n",
       "      <td>49</td>\n",
       "      <td>3</td>\n",
       "      <td>0</td>\n",
       "      <td>0</td>\n",
       "      <td>32</td>\n",
       "    </tr>\n",
       "    <tr>\n",
       "      <th>I-per</th>\n",
       "      <td>0</td>\n",
       "      <td>0</td>\n",
       "      <td>0</td>\n",
       "      <td>0</td>\n",
       "      <td>32</td>\n",
       "      <td>1</td>\n",
       "      <td>0</td>\n",
       "      <td>58</td>\n",
       "      <td>12</td>\n",
       "      <td>16</td>\n",
       "      <td>1</td>\n",
       "      <td>2523</td>\n",
       "      <td>13</td>\n",
       "      <td>0</td>\n",
       "      <td>0</td>\n",
       "      <td>0</td>\n",
       "      <td>3</td>\n",
       "    </tr>\n",
       "    <tr>\n",
       "      <th>I-geo</th>\n",
       "      <td>0</td>\n",
       "      <td>0</td>\n",
       "      <td>0</td>\n",
       "      <td>0</td>\n",
       "      <td>65</td>\n",
       "      <td>1</td>\n",
       "      <td>0</td>\n",
       "      <td>0</td>\n",
       "      <td>3</td>\n",
       "      <td>31</td>\n",
       "      <td>73</td>\n",
       "      <td>64</td>\n",
       "      <td>474</td>\n",
       "      <td>0</td>\n",
       "      <td>0</td>\n",
       "      <td>0</td>\n",
       "      <td>4</td>\n",
       "    </tr>\n",
       "    <tr>\n",
       "      <th>B-tim</th>\n",
       "      <td>0</td>\n",
       "      <td>0</td>\n",
       "      <td>0</td>\n",
       "      <td>0</td>\n",
       "      <td>0</td>\n",
       "      <td>17</td>\n",
       "      <td>0</td>\n",
       "      <td>0</td>\n",
       "      <td>5</td>\n",
       "      <td>211</td>\n",
       "      <td>39</td>\n",
       "      <td>2</td>\n",
       "      <td>2</td>\n",
       "      <td>1440</td>\n",
       "      <td>0</td>\n",
       "      <td>0</td>\n",
       "      <td>0</td>\n",
       "    </tr>\n",
       "    <tr>\n",
       "      <th>B-nat</th>\n",
       "      <td>0</td>\n",
       "      <td>0</td>\n",
       "      <td>0</td>\n",
       "      <td>0</td>\n",
       "      <td>0</td>\n",
       "      <td>0</td>\n",
       "      <td>0</td>\n",
       "      <td>1</td>\n",
       "      <td>3</td>\n",
       "      <td>19</td>\n",
       "      <td>4</td>\n",
       "      <td>0</td>\n",
       "      <td>2</td>\n",
       "      <td>0</td>\n",
       "      <td>0</td>\n",
       "      <td>0</td>\n",
       "      <td>0</td>\n",
       "    </tr>\n",
       "    <tr>\n",
       "      <th>I-nat</th>\n",
       "      <td>0</td>\n",
       "      <td>0</td>\n",
       "      <td>0</td>\n",
       "      <td>0</td>\n",
       "      <td>1</td>\n",
       "      <td>0</td>\n",
       "      <td>0</td>\n",
       "      <td>0</td>\n",
       "      <td>0</td>\n",
       "      <td>10</td>\n",
       "      <td>0</td>\n",
       "      <td>0</td>\n",
       "      <td>0</td>\n",
       "      <td>0</td>\n",
       "      <td>0</td>\n",
       "      <td>0</td>\n",
       "      <td>0</td>\n",
       "    </tr>\n",
       "    <tr>\n",
       "      <th>B-gpe</th>\n",
       "      <td>0</td>\n",
       "      <td>0</td>\n",
       "      <td>0</td>\n",
       "      <td>0</td>\n",
       "      <td>0</td>\n",
       "      <td>0</td>\n",
       "      <td>0</td>\n",
       "      <td>1</td>\n",
       "      <td>9</td>\n",
       "      <td>7</td>\n",
       "      <td>115</td>\n",
       "      <td>0</td>\n",
       "      <td>4</td>\n",
       "      <td>0</td>\n",
       "      <td>0</td>\n",
       "      <td>0</td>\n",
       "      <td>1224</td>\n",
       "    </tr>\n",
       "  </tbody>\n",
       "</table>\n",
       "</div>"
      ],
      "text/plain": [
       "       I-art  I-eve  B-art  B-eve  I-org  I-tim  I-gpe  B-per  B-org      O  \\\n",
       "I-art      0      0      0      0     14      0      0      0      0      8   \n",
       "I-eve      0      0      0      0      9      2      0      0      0      8   \n",
       "B-art      0      0      0      0      1      0      0      2     25     12   \n",
       "B-eve      0      0      0      0      1      7      0      0      4      7   \n",
       "I-org      0      0      0      0    823      1      0     32     93    242   \n",
       "I-tim      0      0      0      0      5    280      0      4      1    164   \n",
       "I-gpe      0      0      0      0      0      0      0      0      0      0   \n",
       "B-per      0      0      0      0      8      0      0   1681     61     56   \n",
       "B-org      0      0      0      0     45      1      0    153   1495    248   \n",
       "O          0      0      0      0    226     13      0     55    214  64758   \n",
       "B-geo      0      0      0      0      8      0      0     64    184    107   \n",
       "I-per      0      0      0      0     32      1      0     58     12     16   \n",
       "I-geo      0      0      0      0     65      1      0      0      3     31   \n",
       "B-tim      0      0      0      0      0     17      0      0      5    211   \n",
       "B-nat      0      0      0      0      0      0      0      1      3     19   \n",
       "I-nat      0      0      0      0      1      0      0      0      0     10   \n",
       "B-gpe      0      0      0      0      0      0      0      1      9      7   \n",
       "\n",
       "       B-geo  I-per  I-geo  B-tim  B-nat  I-nat  B-gpe  \n",
       "I-art      0      7      2      0      0      0      0  \n",
       "I-eve      0      0      0      2      0      0      0  \n",
       "B-art     14      0      1      0      0      0      2  \n",
       "B-eve      7      0      1      3      0      0      2  \n",
       "I-org     37    246     68      0      0      0      6  \n",
       "I-tim      6      5      1    119      0      0      4  \n",
       "I-gpe      0      0      3      0      0      0      8  \n",
       "B-per     77    115      2      1      0      0     15  \n",
       "B-org    397     75      3      4      0      0     66  \n",
       "O        153     48     28    134      0      0     93  \n",
       "B-geo   4104     37     49      3      0      0     32  \n",
       "I-per      1   2523     13      0      0      0      3  \n",
       "I-geo     73     64    474      0      0      0      4  \n",
       "B-tim     39      2      2   1440      0      0      0  \n",
       "B-nat      4      0      2      0      0      0      0  \n",
       "I-nat      0      0      0      0      0      0      0  \n",
       "B-gpe    115      0      4      0      0      0   1224  "
      ]
     },
     "execution_count": 90,
     "metadata": {},
     "output_type": "execute_result"
    }
   ],
   "source": [
    "label_names_ = list(label2idx.keys())\n",
    "label_ids_ = [i for i in range(len(label_names_))]\n",
    "\n",
    "# compute confusion matrix collectively\n",
    "cm_for_valid = confusion_matrix(y_true=real_token_labels_for_valid,\n",
    "                                y_pred=real_token_predictions_for_valid,\n",
    "                                labels=label_ids_,\n",
    "                               )\n",
    "\n",
    "# compute multilabel confusion matrix\n",
    "# Here it will compute cm at the class level\n",
    "# labels are binarized under a one-vs-rest way\n",
    "mcm_for_valid = multilabel_confusion_matrix(y_true=real_token_labels_for_valid,\n",
    "                                        y_pred=real_token_predictions_for_valid,\n",
    "                                        labels=label_ids_,\n",
    "                                       )\n",
    "\n",
    "\n",
    "\n",
    "df_cm_for_valid = pd.DataFrame(cm_for_valid, index=label_names_, columns=label_names_)\n",
    "\n",
    "print(\"Confusion Matrix DataFrame\")\n",
    "df_cm_for_valid"
   ]
  },
  {
   "cell_type": "markdown",
   "id": "389b36a2-36fb-4f7d-a1b7-5053045a6f19",
   "metadata": {},
   "source": [
    "#### 1.6. Plot the confusion matrix for valid dataset"
   ]
  },
  {
   "cell_type": "code",
   "execution_count": 91,
   "id": "2b4517b3-6ef7-43b5-a871-2ca3466540d0",
   "metadata": {},
   "outputs": [
    {
     "data": {
      "image/png": "[encoded data removed]",
      "text/plain": [
       "<Figure size 1000x800 with 2 Axes>"
      ]
     },
     "metadata": {},
     "output_type": "display_data"
    }
   ],
   "source": [
    "#specify size of heatmap\n",
    "fig, ax = plt.subplots(figsize=(10, 8))\n",
    "\n",
    "sns.heatmap(df_cm_for_valid, annot=True, fmt=\"g\", annot_kws={\"size\": 8}).set(title='Confusion Matrix')\n",
    "plt.xlabel(\"Predicted Labels\")\n",
    "plt.ylabel(\"True Labels\")\n",
    "\n",
    "# get current figure to save\n",
    "#fig_cm_valid = plt.gcf()\n",
    "\n",
    "# show the plot\n",
    "plt.show()\n",
    "# save the fig\n",
    "#fig_cm_valid.savefig('valid_cm.png', bbox_inches='tight', dpi=1600)"
   ]
  },
  {
   "cell_type": "markdown",
   "id": "931a7535-7e55-47ee-bd88-513813577994",
   "metadata": {},
   "source": [
    "#### 1.7. Label-Wise Classification report "
   ]
  },
  {
   "cell_type": "code",
   "execution_count": 92,
   "id": "3e0ca6bf-e80a-4a3c-a2ce-928815f8fb82",
   "metadata": {},
   "outputs": [
    {
     "name": "stdout",
     "output_type": "stream",
     "text": [
      "Classification Report for each label\n",
      "\n",
      "              precision    recall  f1-score   support\n",
      "\n",
      "       I-art       0.00      0.00      0.00        31\n",
      "       I-eve       0.00      0.00      0.00        21\n",
      "       B-art       0.00      0.00      0.00        57\n",
      "       B-eve       0.00      0.00      0.00        32\n",
      "       I-org       0.66      0.53      0.59      1548\n",
      "       I-tim       0.87      0.48      0.61       589\n",
      "       I-gpe       0.00      0.00      0.00        11\n",
      "       B-per       0.82      0.83      0.83      2016\n",
      "       B-org       0.71      0.60      0.65      2487\n",
      "           O       0.98      0.99      0.98     65722\n",
      "       B-geo       0.82      0.89      0.85      4588\n",
      "       I-per       0.81      0.95      0.87      2659\n",
      "       I-geo       0.73      0.66      0.69       715\n",
      "       B-tim       0.84      0.84      0.84      1716\n",
      "       B-nat       0.00      0.00      0.00        29\n",
      "       I-nat       0.00      0.00      0.00        11\n",
      "       B-gpe       0.84      0.90      0.87      1360\n",
      "\n",
      "    accuracy                           0.94     83592\n",
      "   macro avg       0.48      0.45      0.46     83592\n",
      "weighted avg       0.94      0.94      0.94     83592\n",
      "\n"
     ]
    }
   ],
   "source": [
    "from sklearn.metrics import classification_report\n",
    "\n",
    "clf_report_for_valid = classification_report(y_true=real_token_labels_for_valid,\n",
    "                                             y_pred=real_token_predictions_for_valid,\n",
    "                                             labels=[x for x in range(len(label2idx))],\n",
    "                                             target_names=list(label2idx.keys()),\n",
    "                                             zero_division=0\n",
    "                                            )\n",
    "\n",
    "print(\"Classification Report for each label\\n\")\n",
    "print(clf_report_for_valid)"
   ]
  },
  {
   "cell_type": "markdown",
   "id": "2574ec64-1ef0-4f7b-a87b-9ed8cef9a619",
   "metadata": {},
   "source": [
    "#### 1.8. Confusion Matrix for each Label (One Vs All Fashion)"
   ]
  },
  {
   "cell_type": "code",
   "execution_count": 93,
   "id": "d52217ed-65a1-451c-a0b9-ee038d271677",
   "metadata": {},
   "outputs": [
    {
     "name": "stdout",
     "output_type": "stream",
     "text": [
      "Confusion Matrix for I-art\n"
     ]
    },
    {
     "data": {
      "text/html": [
       "<div>\n",
       "<style scoped>\n",
       "    .dataframe tbody tr th:only-of-type {\n",
       "        vertical-align: middle;\n",
       "    }\n",
       "\n",
       "    .dataframe tbody tr th {\n",
       "        vertical-align: top;\n",
       "    }\n",
       "\n",
       "    .dataframe thead th {\n",
       "        text-align: right;\n",
       "    }\n",
       "</style>\n",
       "<table border=\"1\" class=\"dataframe\">\n",
       "  <thead>\n",
       "    <tr style=\"text-align: right;\">\n",
       "      <th></th>\n",
       "      <th>not_I-art</th>\n",
       "      <th>I-art</th>\n",
       "    </tr>\n",
       "  </thead>\n",
       "  <tbody>\n",
       "    <tr>\n",
       "      <th>not_I-art</th>\n",
       "      <td>83561</td>\n",
       "      <td>0</td>\n",
       "    </tr>\n",
       "    <tr>\n",
       "      <th>I-art</th>\n",
       "      <td>31</td>\n",
       "      <td>0</td>\n",
       "    </tr>\n",
       "  </tbody>\n",
       "</table>\n",
       "</div>"
      ],
      "text/plain": [
       "           not_I-art  I-art\n",
       "not_I-art      83561      0\n",
       "I-art             31      0"
      ]
     },
     "metadata": {},
     "output_type": "display_data"
    },
    {
     "name": "stdout",
     "output_type": "stream",
     "text": [
      "-----------------------------\n",
      "\n",
      "Confusion Matrix for I-eve\n"
     ]
    },
    {
     "data": {
      "text/html": [
       "<div>\n",
       "<style scoped>\n",
       "    .dataframe tbody tr th:only-of-type {\n",
       "        vertical-align: middle;\n",
       "    }\n",
       "\n",
       "    .dataframe tbody tr th {\n",
       "        vertical-align: top;\n",
       "    }\n",
       "\n",
       "    .dataframe thead th {\n",
       "        text-align: right;\n",
       "    }\n",
       "</style>\n",
       "<table border=\"1\" class=\"dataframe\">\n",
       "  <thead>\n",
       "    <tr style=\"text-align: right;\">\n",
       "      <th></th>\n",
       "      <th>not_I-eve</th>\n",
       "      <th>I-eve</th>\n",
       "    </tr>\n",
       "  </thead>\n",
       "  <tbody>\n",
       "    <tr>\n",
       "      <th>not_I-eve</th>\n",
       "      <td>83571</td>\n",
       "      <td>0</td>\n",
       "    </tr>\n",
       "    <tr>\n",
       "      <th>I-eve</th>\n",
       "      <td>21</td>\n",
       "      <td>0</td>\n",
       "    </tr>\n",
       "  </tbody>\n",
       "</table>\n",
       "</div>"
      ],
      "text/plain": [
       "           not_I-eve  I-eve\n",
       "not_I-eve      83571      0\n",
       "I-eve             21      0"
      ]
     },
     "metadata": {},
     "output_type": "display_data"
    },
    {
     "name": "stdout",
     "output_type": "stream",
     "text": [
      "-----------------------------\n",
      "\n",
      "Confusion Matrix for B-art\n"
     ]
    },
    {
     "data": {
      "text/html": [
       "<div>\n",
       "<style scoped>\n",
       "    .dataframe tbody tr th:only-of-type {\n",
       "        vertical-align: middle;\n",
       "    }\n",
       "\n",
       "    .dataframe tbody tr th {\n",
       "        vertical-align: top;\n",
       "    }\n",
       "\n",
       "    .dataframe thead th {\n",
       "        text-align: right;\n",
       "    }\n",
       "</style>\n",
       "<table border=\"1\" class=\"dataframe\">\n",
       "  <thead>\n",
       "    <tr style=\"text-align: right;\">\n",
       "      <th></th>\n",
       "      <th>not_B-art</th>\n",
       "      <th>B-art</th>\n",
       "    </tr>\n",
       "  </thead>\n",
       "  <tbody>\n",
       "    <tr>\n",
       "      <th>not_B-art</th>\n",
       "      <td>83535</td>\n",
       "      <td>0</td>\n",
       "    </tr>\n",
       "    <tr>\n",
       "      <th>B-art</th>\n",
       "      <td>57</td>\n",
       "      <td>0</td>\n",
       "    </tr>\n",
       "  </tbody>\n",
       "</table>\n",
       "</div>"
      ],
      "text/plain": [
       "           not_B-art  B-art\n",
       "not_B-art      83535      0\n",
       "B-art             57      0"
      ]
     },
     "metadata": {},
     "output_type": "display_data"
    },
    {
     "name": "stdout",
     "output_type": "stream",
     "text": [
      "-----------------------------\n",
      "\n",
      "Confusion Matrix for B-eve\n"
     ]
    },
    {
     "data": {
      "text/html": [
       "<div>\n",
       "<style scoped>\n",
       "    .dataframe tbody tr th:only-of-type {\n",
       "        vertical-align: middle;\n",
       "    }\n",
       "\n",
       "    .dataframe tbody tr th {\n",
       "        vertical-align: top;\n",
       "    }\n",
       "\n",
       "    .dataframe thead th {\n",
       "        text-align: right;\n",
       "    }\n",
       "</style>\n",
       "<table border=\"1\" class=\"dataframe\">\n",
       "  <thead>\n",
       "    <tr style=\"text-align: right;\">\n",
       "      <th></th>\n",
       "      <th>not_B-eve</th>\n",
       "      <th>B-eve</th>\n",
       "    </tr>\n",
       "  </thead>\n",
       "  <tbody>\n",
       "    <tr>\n",
       "      <th>not_B-eve</th>\n",
       "      <td>83560</td>\n",
       "      <td>0</td>\n",
       "    </tr>\n",
       "    <tr>\n",
       "      <th>B-eve</th>\n",
       "      <td>32</td>\n",
       "      <td>0</td>\n",
       "    </tr>\n",
       "  </tbody>\n",
       "</table>\n",
       "</div>"
      ],
      "text/plain": [
       "           not_B-eve  B-eve\n",
       "not_B-eve      83560      0\n",
       "B-eve             32      0"
      ]
     },
     "metadata": {},
     "output_type": "display_data"
    },
    {
     "name": "stdout",
     "output_type": "stream",
     "text": [
      "-----------------------------\n",
      "\n",
      "Confusion Matrix for I-org\n"
     ]
    },
    {
     "data": {
      "text/html": [
       "<div>\n",
       "<style scoped>\n",
       "    .dataframe tbody tr th:only-of-type {\n",
       "        vertical-align: middle;\n",
       "    }\n",
       "\n",
       "    .dataframe tbody tr th {\n",
       "        vertical-align: top;\n",
       "    }\n",
       "\n",
       "    .dataframe thead th {\n",
       "        text-align: right;\n",
       "    }\n",
       "</style>\n",
       "<table border=\"1\" class=\"dataframe\">\n",
       "  <thead>\n",
       "    <tr style=\"text-align: right;\">\n",
       "      <th></th>\n",
       "      <th>not_I-org</th>\n",
       "      <th>I-org</th>\n",
       "    </tr>\n",
       "  </thead>\n",
       "  <tbody>\n",
       "    <tr>\n",
       "      <th>not_I-org</th>\n",
       "      <td>81629</td>\n",
       "      <td>415</td>\n",
       "    </tr>\n",
       "    <tr>\n",
       "      <th>I-org</th>\n",
       "      <td>725</td>\n",
       "      <td>823</td>\n",
       "    </tr>\n",
       "  </tbody>\n",
       "</table>\n",
       "</div>"
      ],
      "text/plain": [
       "           not_I-org  I-org\n",
       "not_I-org      81629    415\n",
       "I-org            725    823"
      ]
     },
     "metadata": {},
     "output_type": "display_data"
    },
    {
     "name": "stdout",
     "output_type": "stream",
     "text": [
      "-----------------------------\n",
      "\n",
      "Confusion Matrix for I-tim\n"
     ]
    },
    {
     "data": {
      "text/html": [
       "<div>\n",
       "<style scoped>\n",
       "    .dataframe tbody tr th:only-of-type {\n",
       "        vertical-align: middle;\n",
       "    }\n",
       "\n",
       "    .dataframe tbody tr th {\n",
       "        vertical-align: top;\n",
       "    }\n",
       "\n",
       "    .dataframe thead th {\n",
       "        text-align: right;\n",
       "    }\n",
       "</style>\n",
       "<table border=\"1\" class=\"dataframe\">\n",
       "  <thead>\n",
       "    <tr style=\"text-align: right;\">\n",
       "      <th></th>\n",
       "      <th>not_I-tim</th>\n",
       "      <th>I-tim</th>\n",
       "    </tr>\n",
       "  </thead>\n",
       "  <tbody>\n",
       "    <tr>\n",
       "      <th>not_I-tim</th>\n",
       "      <td>82960</td>\n",
       "      <td>43</td>\n",
       "    </tr>\n",
       "    <tr>\n",
       "      <th>I-tim</th>\n",
       "      <td>309</td>\n",
       "      <td>280</td>\n",
       "    </tr>\n",
       "  </tbody>\n",
       "</table>\n",
       "</div>"
      ],
      "text/plain": [
       "           not_I-tim  I-tim\n",
       "not_I-tim      82960     43\n",
       "I-tim            309    280"
      ]
     },
     "metadata": {},
     "output_type": "display_data"
    },
    {
     "name": "stdout",
     "output_type": "stream",
     "text": [
      "-----------------------------\n",
      "\n",
      "Confusion Matrix for I-gpe\n"
     ]
    },
    {
     "data": {
      "text/html": [
       "<div>\n",
       "<style scoped>\n",
       "    .dataframe tbody tr th:only-of-type {\n",
       "        vertical-align: middle;\n",
       "    }\n",
       "\n",
       "    .dataframe tbody tr th {\n",
       "        vertical-align: top;\n",
       "    }\n",
       "\n",
       "    .dataframe thead th {\n",
       "        text-align: right;\n",
       "    }\n",
       "</style>\n",
       "<table border=\"1\" class=\"dataframe\">\n",
       "  <thead>\n",
       "    <tr style=\"text-align: right;\">\n",
       "      <th></th>\n",
       "      <th>not_I-gpe</th>\n",
       "      <th>I-gpe</th>\n",
       "    </tr>\n",
       "  </thead>\n",
       "  <tbody>\n",
       "    <tr>\n",
       "      <th>not_I-gpe</th>\n",
       "      <td>83581</td>\n",
       "      <td>0</td>\n",
       "    </tr>\n",
       "    <tr>\n",
       "      <th>I-gpe</th>\n",
       "      <td>11</td>\n",
       "      <td>0</td>\n",
       "    </tr>\n",
       "  </tbody>\n",
       "</table>\n",
       "</div>"
      ],
      "text/plain": [
       "           not_I-gpe  I-gpe\n",
       "not_I-gpe      83581      0\n",
       "I-gpe             11      0"
      ]
     },
     "metadata": {},
     "output_type": "display_data"
    },
    {
     "name": "stdout",
     "output_type": "stream",
     "text": [
      "-----------------------------\n",
      "\n",
      "Confusion Matrix for B-per\n"
     ]
    },
    {
     "data": {
      "text/html": [
       "<div>\n",
       "<style scoped>\n",
       "    .dataframe tbody tr th:only-of-type {\n",
       "        vertical-align: middle;\n",
       "    }\n",
       "\n",
       "    .dataframe tbody tr th {\n",
       "        vertical-align: top;\n",
       "    }\n",
       "\n",
       "    .dataframe thead th {\n",
       "        text-align: right;\n",
       "    }\n",
       "</style>\n",
       "<table border=\"1\" class=\"dataframe\">\n",
       "  <thead>\n",
       "    <tr style=\"text-align: right;\">\n",
       "      <th></th>\n",
       "      <th>not_B-per</th>\n",
       "      <th>B-per</th>\n",
       "    </tr>\n",
       "  </thead>\n",
       "  <tbody>\n",
       "    <tr>\n",
       "      <th>not_B-per</th>\n",
       "      <td>81206</td>\n",
       "      <td>370</td>\n",
       "    </tr>\n",
       "    <tr>\n",
       "      <th>B-per</th>\n",
       "      <td>335</td>\n",
       "      <td>1681</td>\n",
       "    </tr>\n",
       "  </tbody>\n",
       "</table>\n",
       "</div>"
      ],
      "text/plain": [
       "           not_B-per  B-per\n",
       "not_B-per      81206    370\n",
       "B-per            335   1681"
      ]
     },
     "metadata": {},
     "output_type": "display_data"
    },
    {
     "name": "stdout",
     "output_type": "stream",
     "text": [
      "-----------------------------\n",
      "\n",
      "Confusion Matrix for B-org\n"
     ]
    },
    {
     "data": {
      "text/html": [
       "<div>\n",
       "<style scoped>\n",
       "    .dataframe tbody tr th:only-of-type {\n",
       "        vertical-align: middle;\n",
       "    }\n",
       "\n",
       "    .dataframe tbody tr th {\n",
       "        vertical-align: top;\n",
       "    }\n",
       "\n",
       "    .dataframe thead th {\n",
       "        text-align: right;\n",
       "    }\n",
       "</style>\n",
       "<table border=\"1\" class=\"dataframe\">\n",
       "  <thead>\n",
       "    <tr style=\"text-align: right;\">\n",
       "      <th></th>\n",
       "      <th>not_B-org</th>\n",
       "      <th>B-org</th>\n",
       "    </tr>\n",
       "  </thead>\n",
       "  <tbody>\n",
       "    <tr>\n",
       "      <th>not_B-org</th>\n",
       "      <td>80491</td>\n",
       "      <td>614</td>\n",
       "    </tr>\n",
       "    <tr>\n",
       "      <th>B-org</th>\n",
       "      <td>992</td>\n",
       "      <td>1495</td>\n",
       "    </tr>\n",
       "  </tbody>\n",
       "</table>\n",
       "</div>"
      ],
      "text/plain": [
       "           not_B-org  B-org\n",
       "not_B-org      80491    614\n",
       "B-org            992   1495"
      ]
     },
     "metadata": {},
     "output_type": "display_data"
    },
    {
     "name": "stdout",
     "output_type": "stream",
     "text": [
      "-----------------------------\n",
      "\n",
      "Confusion Matrix for O\n"
     ]
    },
    {
     "data": {
      "text/html": [
       "<div>\n",
       "<style scoped>\n",
       "    .dataframe tbody tr th:only-of-type {\n",
       "        vertical-align: middle;\n",
       "    }\n",
       "\n",
       "    .dataframe tbody tr th {\n",
       "        vertical-align: top;\n",
       "    }\n",
       "\n",
       "    .dataframe thead th {\n",
       "        text-align: right;\n",
       "    }\n",
       "</style>\n",
       "<table border=\"1\" class=\"dataframe\">\n",
       "  <thead>\n",
       "    <tr style=\"text-align: right;\">\n",
       "      <th></th>\n",
       "      <th>not_O</th>\n",
       "      <th>O</th>\n",
       "    </tr>\n",
       "  </thead>\n",
       "  <tbody>\n",
       "    <tr>\n",
       "      <th>not_O</th>\n",
       "      <td>16724</td>\n",
       "      <td>1146</td>\n",
       "    </tr>\n",
       "    <tr>\n",
       "      <th>O</th>\n",
       "      <td>964</td>\n",
       "      <td>64758</td>\n",
       "    </tr>\n",
       "  </tbody>\n",
       "</table>\n",
       "</div>"
      ],
      "text/plain": [
       "       not_O      O\n",
       "not_O  16724   1146\n",
       "O        964  64758"
      ]
     },
     "metadata": {},
     "output_type": "display_data"
    },
    {
     "name": "stdout",
     "output_type": "stream",
     "text": [
      "-----------------------------\n",
      "\n",
      "Confusion Matrix for B-geo\n"
     ]
    },
    {
     "data": {
      "text/html": [
       "<div>\n",
       "<style scoped>\n",
       "    .dataframe tbody tr th:only-of-type {\n",
       "        vertical-align: middle;\n",
       "    }\n",
       "\n",
       "    .dataframe tbody tr th {\n",
       "        vertical-align: top;\n",
       "    }\n",
       "\n",
       "    .dataframe thead th {\n",
       "        text-align: right;\n",
       "    }\n",
       "</style>\n",
       "<table border=\"1\" class=\"dataframe\">\n",
       "  <thead>\n",
       "    <tr style=\"text-align: right;\">\n",
       "      <th></th>\n",
       "      <th>not_B-geo</th>\n",
       "      <th>B-geo</th>\n",
       "    </tr>\n",
       "  </thead>\n",
       "  <tbody>\n",
       "    <tr>\n",
       "      <th>not_B-geo</th>\n",
       "      <td>78081</td>\n",
       "      <td>923</td>\n",
       "    </tr>\n",
       "    <tr>\n",
       "      <th>B-geo</th>\n",
       "      <td>484</td>\n",
       "      <td>4104</td>\n",
       "    </tr>\n",
       "  </tbody>\n",
       "</table>\n",
       "</div>"
      ],
      "text/plain": [
       "           not_B-geo  B-geo\n",
       "not_B-geo      78081    923\n",
       "B-geo            484   4104"
      ]
     },
     "metadata": {},
     "output_type": "display_data"
    },
    {
     "name": "stdout",
     "output_type": "stream",
     "text": [
      "-----------------------------\n",
      "\n",
      "Confusion Matrix for I-per\n"
     ]
    },
    {
     "data": {
      "text/html": [
       "<div>\n",
       "<style scoped>\n",
       "    .dataframe tbody tr th:only-of-type {\n",
       "        vertical-align: middle;\n",
       "    }\n",
       "\n",
       "    .dataframe tbody tr th {\n",
       "        vertical-align: top;\n",
       "    }\n",
       "\n",
       "    .dataframe thead th {\n",
       "        text-align: right;\n",
       "    }\n",
       "</style>\n",
       "<table border=\"1\" class=\"dataframe\">\n",
       "  <thead>\n",
       "    <tr style=\"text-align: right;\">\n",
       "      <th></th>\n",
       "      <th>not_I-per</th>\n",
       "      <th>I-per</th>\n",
       "    </tr>\n",
       "  </thead>\n",
       "  <tbody>\n",
       "    <tr>\n",
       "      <th>not_I-per</th>\n",
       "      <td>80334</td>\n",
       "      <td>599</td>\n",
       "    </tr>\n",
       "    <tr>\n",
       "      <th>I-per</th>\n",
       "      <td>136</td>\n",
       "      <td>2523</td>\n",
       "    </tr>\n",
       "  </tbody>\n",
       "</table>\n",
       "</div>"
      ],
      "text/plain": [
       "           not_I-per  I-per\n",
       "not_I-per      80334    599\n",
       "I-per            136   2523"
      ]
     },
     "metadata": {},
     "output_type": "display_data"
    },
    {
     "name": "stdout",
     "output_type": "stream",
     "text": [
      "-----------------------------\n",
      "\n",
      "Confusion Matrix for I-geo\n"
     ]
    },
    {
     "data": {
      "text/html": [
       "<div>\n",
       "<style scoped>\n",
       "    .dataframe tbody tr th:only-of-type {\n",
       "        vertical-align: middle;\n",
       "    }\n",
       "\n",
       "    .dataframe tbody tr th {\n",
       "        vertical-align: top;\n",
       "    }\n",
       "\n",
       "    .dataframe thead th {\n",
       "        text-align: right;\n",
       "    }\n",
       "</style>\n",
       "<table border=\"1\" class=\"dataframe\">\n",
       "  <thead>\n",
       "    <tr style=\"text-align: right;\">\n",
       "      <th></th>\n",
       "      <th>not_I-geo</th>\n",
       "      <th>I-geo</th>\n",
       "    </tr>\n",
       "  </thead>\n",
       "  <tbody>\n",
       "    <tr>\n",
       "      <th>not_I-geo</th>\n",
       "      <td>82698</td>\n",
       "      <td>179</td>\n",
       "    </tr>\n",
       "    <tr>\n",
       "      <th>I-geo</th>\n",
       "      <td>241</td>\n",
       "      <td>474</td>\n",
       "    </tr>\n",
       "  </tbody>\n",
       "</table>\n",
       "</div>"
      ],
      "text/plain": [
       "           not_I-geo  I-geo\n",
       "not_I-geo      82698    179\n",
       "I-geo            241    474"
      ]
     },
     "metadata": {},
     "output_type": "display_data"
    },
    {
     "name": "stdout",
     "output_type": "stream",
     "text": [
      "-----------------------------\n",
      "\n",
      "Confusion Matrix for B-tim\n"
     ]
    },
    {
     "data": {
      "text/html": [
       "<div>\n",
       "<style scoped>\n",
       "    .dataframe tbody tr th:only-of-type {\n",
       "        vertical-align: middle;\n",
       "    }\n",
       "\n",
       "    .dataframe tbody tr th {\n",
       "        vertical-align: top;\n",
       "    }\n",
       "\n",
       "    .dataframe thead th {\n",
       "        text-align: right;\n",
       "    }\n",
       "</style>\n",
       "<table border=\"1\" class=\"dataframe\">\n",
       "  <thead>\n",
       "    <tr style=\"text-align: right;\">\n",
       "      <th></th>\n",
       "      <th>not_B-tim</th>\n",
       "      <th>B-tim</th>\n",
       "    </tr>\n",
       "  </thead>\n",
       "  <tbody>\n",
       "    <tr>\n",
       "      <th>not_B-tim</th>\n",
       "      <td>81610</td>\n",
       "      <td>266</td>\n",
       "    </tr>\n",
       "    <tr>\n",
       "      <th>B-tim</th>\n",
       "      <td>276</td>\n",
       "      <td>1440</td>\n",
       "    </tr>\n",
       "  </tbody>\n",
       "</table>\n",
       "</div>"
      ],
      "text/plain": [
       "           not_B-tim  B-tim\n",
       "not_B-tim      81610    266\n",
       "B-tim            276   1440"
      ]
     },
     "metadata": {},
     "output_type": "display_data"
    },
    {
     "name": "stdout",
     "output_type": "stream",
     "text": [
      "-----------------------------\n",
      "\n",
      "Confusion Matrix for B-nat\n"
     ]
    },
    {
     "data": {
      "text/html": [
       "<div>\n",
       "<style scoped>\n",
       "    .dataframe tbody tr th:only-of-type {\n",
       "        vertical-align: middle;\n",
       "    }\n",
       "\n",
       "    .dataframe tbody tr th {\n",
       "        vertical-align: top;\n",
       "    }\n",
       "\n",
       "    .dataframe thead th {\n",
       "        text-align: right;\n",
       "    }\n",
       "</style>\n",
       "<table border=\"1\" class=\"dataframe\">\n",
       "  <thead>\n",
       "    <tr style=\"text-align: right;\">\n",
       "      <th></th>\n",
       "      <th>not_B-nat</th>\n",
       "      <th>B-nat</th>\n",
       "    </tr>\n",
       "  </thead>\n",
       "  <tbody>\n",
       "    <tr>\n",
       "      <th>not_B-nat</th>\n",
       "      <td>83563</td>\n",
       "      <td>0</td>\n",
       "    </tr>\n",
       "    <tr>\n",
       "      <th>B-nat</th>\n",
       "      <td>29</td>\n",
       "      <td>0</td>\n",
       "    </tr>\n",
       "  </tbody>\n",
       "</table>\n",
       "</div>"
      ],
      "text/plain": [
       "           not_B-nat  B-nat\n",
       "not_B-nat      83563      0\n",
       "B-nat             29      0"
      ]
     },
     "metadata": {},
     "output_type": "display_data"
    },
    {
     "name": "stdout",
     "output_type": "stream",
     "text": [
      "-----------------------------\n",
      "\n",
      "Confusion Matrix for I-nat\n"
     ]
    },
    {
     "data": {
      "text/html": [
       "<div>\n",
       "<style scoped>\n",
       "    .dataframe tbody tr th:only-of-type {\n",
       "        vertical-align: middle;\n",
       "    }\n",
       "\n",
       "    .dataframe tbody tr th {\n",
       "        vertical-align: top;\n",
       "    }\n",
       "\n",
       "    .dataframe thead th {\n",
       "        text-align: right;\n",
       "    }\n",
       "</style>\n",
       "<table border=\"1\" class=\"dataframe\">\n",
       "  <thead>\n",
       "    <tr style=\"text-align: right;\">\n",
       "      <th></th>\n",
       "      <th>not_I-nat</th>\n",
       "      <th>I-nat</th>\n",
       "    </tr>\n",
       "  </thead>\n",
       "  <tbody>\n",
       "    <tr>\n",
       "      <th>not_I-nat</th>\n",
       "      <td>83581</td>\n",
       "      <td>0</td>\n",
       "    </tr>\n",
       "    <tr>\n",
       "      <th>I-nat</th>\n",
       "      <td>11</td>\n",
       "      <td>0</td>\n",
       "    </tr>\n",
       "  </tbody>\n",
       "</table>\n",
       "</div>"
      ],
      "text/plain": [
       "           not_I-nat  I-nat\n",
       "not_I-nat      83581      0\n",
       "I-nat             11      0"
      ]
     },
     "metadata": {},
     "output_type": "display_data"
    },
    {
     "name": "stdout",
     "output_type": "stream",
     "text": [
      "-----------------------------\n",
      "\n",
      "Confusion Matrix for B-gpe\n"
     ]
    },
    {
     "data": {
      "text/html": [
       "<div>\n",
       "<style scoped>\n",
       "    .dataframe tbody tr th:only-of-type {\n",
       "        vertical-align: middle;\n",
       "    }\n",
       "\n",
       "    .dataframe tbody tr th {\n",
       "        vertical-align: top;\n",
       "    }\n",
       "\n",
       "    .dataframe thead th {\n",
       "        text-align: right;\n",
       "    }\n",
       "</style>\n",
       "<table border=\"1\" class=\"dataframe\">\n",
       "  <thead>\n",
       "    <tr style=\"text-align: right;\">\n",
       "      <th></th>\n",
       "      <th>not_B-gpe</th>\n",
       "      <th>B-gpe</th>\n",
       "    </tr>\n",
       "  </thead>\n",
       "  <tbody>\n",
       "    <tr>\n",
       "      <th>not_B-gpe</th>\n",
       "      <td>81997</td>\n",
       "      <td>235</td>\n",
       "    </tr>\n",
       "    <tr>\n",
       "      <th>B-gpe</th>\n",
       "      <td>136</td>\n",
       "      <td>1224</td>\n",
       "    </tr>\n",
       "  </tbody>\n",
       "</table>\n",
       "</div>"
      ],
      "text/plain": [
       "           not_B-gpe  B-gpe\n",
       "not_B-gpe      81997    235\n",
       "B-gpe            136   1224"
      ]
     },
     "metadata": {},
     "output_type": "display_data"
    },
    {
     "name": "stdout",
     "output_type": "stream",
     "text": [
      "-----------------------------\n",
      "\n"
     ]
    }
   ],
   "source": [
    "# Label wise confusin matrix (one vs all fashion)\n",
    "for label_, l_cm in zip(label_names_, mcm_for_valid):\n",
    "    col_names_ = [f\"not_{label_}\",label_]\n",
    "    print(f\"Confusion Matrix for {label_}\")\n",
    "    ldf = pd.DataFrame(l_cm, index=col_names_, columns=col_names_)\n",
    "    display(ldf)\n",
    "    print(\"-----------------------------\\n\")"
   ]
  },
  {
   "cell_type": "markdown",
   "id": "7c5a05a7-7cba-47d5-8a48-579bc5f74e3d",
   "metadata": {},
   "source": [
    "### 2. Preparing the Test dataset\n",
    "<p>Preparing the <font color=brown><b>Test dataset</b></font> same as <b>training dataset</b> for predicting the results\n",
    "    of our Trained model\n",
    "</p>"
   ]
  },
  {
   "cell_type": "markdown",
   "id": "952d7b8f-08eb-48f1-b2c0-da33955aa65b",
   "metadata": {},
   "source": [
    "#### 2.1. Create the input ids, attention mask for the test data"
   ]
  },
  {
   "cell_type": "code",
   "execution_count": 94,
   "id": "ccc99124-ff70-43e4-b194-7ac0eb664a52",
   "metadata": {},
   "outputs": [],
   "source": [
    "# compute the input ids, attention mask for each sentence in seen data\n",
    "input_ids, attention_masks = get_input_ids_and_attention_masks(sentences=test_sentences,\n",
    "                                                                 tokenizer=tokenizer,\n",
    "                                                                 max_length=MAX_PAD_LEN)"
   ]
  },
  {
   "cell_type": "markdown",
   "id": "5b7d5674-56bc-4075-9921-a2c8a2ea3178",
   "metadata": {},
   "source": [
    "##### Peek into 1st sentence's input ids, attention masks"
   ]
  },
  {
   "cell_type": "code",
   "execution_count": 96,
   "id": "7b603c83-00b7-4a63-9606-98bd6557c8a5",
   "metadata": {},
   "outputs": [
    {
     "name": "stdout",
     "output_type": "stream",
     "text": [
      "Original:  ['Abu', 'Farraj', 'al-Libbi', ',', 'a', 'top', 'al-Qaida', 'operative', 'and', 'close', 'associate', 'of', 'Osama', 'bin', 'Laden', 'who', 'is', 'wanted', 'for', 'two', 'attempts', 'to', 'assassinate', 'Pakistani', 'President', 'Pervez', 'Musharraf', ',', 'has', 'been', 'arrested', 'in', 'Pakistan', '.']\n",
      "\n",
      "Token IDs: tensor([  101,  8273,  2521, 14220,  2632,  1011,  5622, 10322,  2072,  1010,\n",
      "         1037,  2327,  2632,  1011,  1053, 14326,  2050, 12160,  1998,  2485,\n",
      "         5482,  1997,  9808,  8067,  8026, 14887,  2040,  2003,  2359,  2005,\n",
      "         2048,  4740,  2000, 25683,  9889,  2343,  2566, 26132, 14163,  7377,\n",
      "        11335,  2546,  1010,  2038,  2042,  4727,  1999,  4501,  1012,   102,\n",
      "            0,     0,     0,     0,     0,     0,     0,     0,     0,     0,\n",
      "            0,     0,     0,     0,     0,     0,     0,     0,     0,     0,\n",
      "            0,     0,     0,     0,     0,     0,     0,     0,     0,     0,\n",
      "            0,     0,     0,     0,     0,     0,     0,     0,     0,     0,\n",
      "            0,     0,     0,     0,     0,     0,     0,     0,     0,     0,\n",
      "            0,     0,     0,     0,     0,     0,     0,     0,     0,     0,\n",
      "            0,     0,     0,     0,     0,     0,     0,     0,     0,     0,\n",
      "            0,     0,     0,     0,     0,     0,     0,     0])\n",
      "\n",
      "Masks: tensor([1, 1, 1, 1, 1, 1, 1, 1, 1, 1, 1, 1, 1, 1, 1, 1, 1, 1, 1, 1, 1, 1, 1, 1,\n",
      "        1, 1, 1, 1, 1, 1, 1, 1, 1, 1, 1, 1, 1, 1, 1, 1, 1, 1, 1, 1, 1, 1, 1, 1,\n",
      "        1, 1, 0, 0, 0, 0, 0, 0, 0, 0, 0, 0, 0, 0, 0, 0, 0, 0, 0, 0, 0, 0, 0, 0,\n",
      "        0, 0, 0, 0, 0, 0, 0, 0, 0, 0, 0, 0, 0, 0, 0, 0, 0, 0, 0, 0, 0, 0, 0, 0,\n",
      "        0, 0, 0, 0, 0, 0, 0, 0, 0, 0, 0, 0, 0, 0, 0, 0, 0, 0, 0, 0, 0, 0, 0, 0,\n",
      "        0, 0, 0, 0, 0, 0, 0, 0])\n"
     ]
    }
   ],
   "source": [
    "print('Original: ', test_sentences[0])\n",
    "print('\\nToken IDs:', input_ids[0])\n",
    "print('\\nMasks:', attention_masks[0])"
   ]
  },
  {
   "cell_type": "markdown",
   "id": "e5717efc-7b15-465e-bb7d-e84533d4f32c",
   "metadata": {},
   "source": [
    "#### 2.2. Compute the final token labels (of max sequence length) for each sentence "
   ]
  },
  {
   "cell_type": "code",
   "execution_count": 97,
   "id": "e9eb5a4f-3eec-47ed-92a2-34f4ad6628e3",
   "metadata": {},
   "outputs": [],
   "source": [
    "token_labels = match_tokens_labels(test_sentences, test_labels, label2idx_map=label2idx,\n",
    "                                   max_pad_len=MAX_PAD_LEN, ignore_token = -100)"
   ]
  },
  {
   "cell_type": "markdown",
   "id": "05d8a89b-e345-424d-86d1-052bf2662cee",
   "metadata": {},
   "source": [
    "##### Lets view a sample sentence, original word labels and its corresponding tokenized sentence, input ids, attention masks, token labels "
   ]
  },
  {
   "cell_type": "code",
   "execution_count": 98,
   "id": "9fb7adc4-a3db-43bb-87bf-51e2320dffd0",
   "metadata": {},
   "outputs": [
    {
     "name": "stdout",
     "output_type": "stream",
     "text": [
      "\n",
      "Sentence:     ['Persistent', 'concerns', 'about', 'economic', 'and', 'political', 'instability', 'have', 'also', 'contributed', 'to', 'a', 'decline', 'in', 'Pakistani', 'stocks', '.']\n",
      "\n",
      "Labels:       ['O', 'O', 'O', 'O', 'O', 'O', 'O', 'O', 'O', 'O', 'O', 'O', 'O', 'O', 'B-gpe', 'O', 'O']\n",
      "\n",
      "BERT Tokens:  ['persistent', 'concerns', 'about', 'economic', 'and', 'political', 'instability', 'have', 'also', 'contributed', 'to', 'a', 'decline', 'in', 'pakistani', 'stocks', '.']\n",
      "\n",
      "Token IDs:    tensor([  101, 14516,  5936,  2055,  3171,  1998,  2576, 18549,  2031,  2036,\n",
      "         5201,  2000,  1037,  6689,  1999,  9889, 15768,  1012,   102,     0,\n",
      "            0,     0,     0,     0,     0,     0,     0,     0,     0,     0,\n",
      "            0,     0,     0,     0,     0,     0,     0,     0,     0,     0,\n",
      "            0,     0,     0,     0,     0,     0,     0,     0,     0,     0,\n",
      "            0,     0,     0,     0,     0,     0,     0,     0,     0,     0,\n",
      "            0,     0,     0,     0,     0,     0,     0,     0,     0,     0,\n",
      "            0,     0,     0,     0,     0,     0,     0,     0,     0,     0,\n",
      "            0,     0,     0,     0,     0,     0,     0,     0,     0,     0,\n",
      "            0,     0,     0,     0,     0,     0,     0,     0,     0,     0,\n",
      "            0,     0,     0,     0,     0,     0,     0,     0,     0,     0,\n",
      "            0,     0,     0,     0,     0,     0,     0,     0,     0,     0,\n",
      "            0,     0,     0,     0,     0,     0,     0,     0])\n",
      "\n",
      "New Labels:   [-100, 9, 9, 9, 9, 9, 9, 9, 9, 9, 9, 9, 9, 9, 9, 16, 9, 9, -100, -100, -100, -100, -100, -100, -100, -100, -100, -100, -100, -100, -100, -100, -100, -100, -100, -100, -100, -100, -100, -100, -100, -100, -100, -100, -100, -100, -100, -100, -100, -100, -100, -100, -100, -100, -100, -100, -100, -100, -100, -100, -100, -100, -100, -100, -100, -100, -100, -100, -100, -100, -100, -100, -100, -100, -100, -100, -100, -100, -100, -100, -100, -100, -100, -100, -100, -100, -100, -100, -100, -100, -100, -100, -100, -100, -100, -100, -100, -100, -100, -100, -100, -100, -100, -100, -100, -100, -100, -100, -100, -100, -100, -100, -100, -100, -100, -100, -100, -100, -100, -100, -100, -100, -100, -100, -100, -100, -100, -100]\n",
      "\n",
      "Mask:         tensor([1, 1, 1, 1, 1, 1, 1, 1, 1, 1, 1, 1, 1, 1, 1, 1, 1, 1, 1, 0, 0, 0, 0, 0,\n",
      "        0, 0, 0, 0, 0, 0, 0, 0, 0, 0, 0, 0, 0, 0, 0, 0, 0, 0, 0, 0, 0, 0, 0, 0,\n",
      "        0, 0, 0, 0, 0, 0, 0, 0, 0, 0, 0, 0, 0, 0, 0, 0, 0, 0, 0, 0, 0, 0, 0, 0,\n",
      "        0, 0, 0, 0, 0, 0, 0, 0, 0, 0, 0, 0, 0, 0, 0, 0, 0, 0, 0, 0, 0, 0, 0, 0,\n",
      "        0, 0, 0, 0, 0, 0, 0, 0, 0, 0, 0, 0, 0, 0, 0, 0, 0, 0, 0, 0, 0, 0, 0, 0,\n",
      "        0, 0, 0, 0, 0, 0, 0, 0])\n"
     ]
    }
   ],
   "source": [
    "print('\\nSentence:    ', test_sentences[2])\n",
    "print('\\nLabels:      ', test_labels[2])\n",
    "print('\\nBERT Tokens: ', tokenizer.tokenize(' '.join(test_sentences[2])))\n",
    "print('\\nToken IDs:   ', input_ids[2])\n",
    "print('\\nNew Labels:  ', token_labels[2])\n",
    "print('\\nMask:        ', attention_masks[2])"
   ]
  },
  {
   "cell_type": "markdown",
   "id": "7d3991c7-b0f3-417a-859d-d8fac2f56d5d",
   "metadata": {},
   "source": [
    "#### 2.3. Convert the list into pyTorch Tensors"
   ]
  },
  {
   "cell_type": "code",
   "execution_count": 99,
   "id": "10f71718-c7e7-4fb3-b299-68562154e27d",
   "metadata": {},
   "outputs": [],
   "source": [
    "import torch\n",
    "\n",
    "# pytorch tensor for input ids\n",
    "pt_input_ids = torch.stack(input_ids, dim=0)\n",
    "\n",
    "# pytorch tensor for attention masks\n",
    "pt_attention_masks = torch.stack(attention_masks, dim=0)\n",
    "\n",
    "# pytorch tensor for labels\n",
    "pt_labels = torch.tensor(token_labels, dtype=torch.long)"
   ]
  },
  {
   "cell_type": "markdown",
   "id": "1ab5a478-05ac-4aed-84d1-40325a40fd43",
   "metadata": {},
   "source": [
    "##### Check the shapes"
   ]
  },
  {
   "cell_type": "code",
   "execution_count": 100,
   "id": "fd8efd0a-f563-4b36-9315-1dbae3311f1a",
   "metadata": {},
   "outputs": [
    {
     "data": {
      "text/plain": [
       "(torch.Size([8184, 128]), torch.Size([8184, 128]), torch.Size([8184, 128]))"
      ]
     },
     "execution_count": 100,
     "metadata": {},
     "output_type": "execute_result"
    }
   ],
   "source": [
    "pt_input_ids.shape, pt_attention_masks.shape, pt_labels.shape"
   ]
  },
  {
   "cell_type": "markdown",
   "id": "948b34c6-b69d-453f-aaca-0b8b2831d6a7",
   "metadata": {},
   "source": [
    "#### 2.4. Create Test TesnsorDataset"
   ]
  },
  {
   "cell_type": "code",
   "execution_count": 101,
   "id": "cedfa03a-3896-42eb-a720-619afaaaaa67",
   "metadata": {},
   "outputs": [],
   "source": [
    "from torch.utils.data import TensorDataset, random_split\n",
    "\n",
    "# Combine the training inputs into a TensorDataset.\n",
    "test_dataset = TensorDataset(pt_input_ids, pt_attention_masks, pt_labels)"
   ]
  },
  {
   "cell_type": "markdown",
   "id": "e61792c0-d745-42d4-aca8-911468d164fa",
   "metadata": {},
   "source": [
    "#### 2.5. Convert tensors into Batches for batch wise testing\n",
    "<p>We will use <b>SequentialSampler</b> for selecting the batch Sequentially</p>"
   ]
  },
  {
   "cell_type": "code",
   "execution_count": 102,
   "id": "08916514-c2eb-4b4d-a3da-72c49f3f3dd5",
   "metadata": {},
   "outputs": [],
   "source": [
    "from torch.utils.data import DataLoader, SequentialSampler\n",
    "\n",
    "# set the batch size\n",
    "batch_size = 32\n",
    "\n",
    "# load the validation dataset\n",
    "test_dataloader = DataLoader(test_dataset, sampler = SequentialSampler(test_dataset),\n",
    "                                   batch_size = batch_size)"
   ]
  },
  {
   "cell_type": "markdown",
   "id": "626daa59-c478-450d-a3eb-7bbc9fb8c0fd",
   "metadata": {},
   "source": [
    "#### 2.6. Prediction on Test Dataset"
   ]
  },
  {
   "cell_type": "code",
   "execution_count": 103,
   "id": "6bff874c-3b6b-447f-adf5-2b12d3530553",
   "metadata": {},
   "outputs": [
    {
     "name": "stdout",
     "output_type": "stream",
     "text": [
      "Predicting labels for 8,184 test sentences...\n",
      "Done\n"
     ]
    }
   ],
   "source": [
    "print('Predicting labels for {:,} test sentences...'.format(len(pt_input_ids)))\n",
    "\n",
    "# Put model in evaluation mode\n",
    "model.eval()\n",
    "\n",
    "# Tracking variables \n",
    "predictions_for_test , true_labels_for_test = [], []\n",
    "\n",
    "# Do Predictions\n",
    "for batch in test_dataloader:\n",
    "    # Add batch to GPU if available\n",
    "    batch = tuple(t.to(device) for t in batch)\n",
    "\n",
    "    # Unpack the inputs from our dataloader\n",
    "    batch_input_ids, batch_input_mask, batch_labels = batch\n",
    "\n",
    "    # Telling the model not to compute or store gradients, saving memory and \n",
    "    with torch.no_grad():\n",
    "        # Forward pass, calculate logit predictions\n",
    "        outputs = model(batch_input_ids, token_type_ids=None, \n",
    "                      attention_mask=batch_input_mask)\n",
    "\n",
    "        logits = outputs[0]\n",
    "\n",
    "        # Move logits and labels to CPU\n",
    "        logits = logits.detach().cpu().numpy()\n",
    "        label_ids = batch_labels.to('cpu').numpy()\n",
    "\n",
    "        # Store predictions and true labels\n",
    "        predictions_for_test.append(logits)\n",
    "        true_labels_for_test.append(label_ids)\n",
    "print(\"Done\")"
   ]
  },
  {
   "cell_type": "markdown",
   "id": "9fb14f31-5879-4644-8c81-b736a48096ca",
   "metadata": {},
   "source": [
    "#### 2.7. Computing the Performance Metrics on Validation Dataset"
   ]
  },
  {
   "cell_type": "code",
   "execution_count": 104,
   "id": "c2d02c07-a315-4795-91b2-ea316541f6fe",
   "metadata": {},
   "outputs": [
    {
     "name": "stdout",
     "output_type": "stream",
     "text": [
      "After flattening the batches, the predictions have shape:\n",
      "     (8184, 128, 17)\n",
      "\n",
      "After choosing the highest scoring label for each token, prediction label ids have shape:\n",
      "     (8184, 128)\n",
      "\n",
      "After flattening the sentences, the predictions have shape:\n",
      "     (1047552,)\n",
      "and ground truth have shape:\n",
      "     (1047552,)\n"
     ]
    }
   ],
   "source": [
    "# Each elem of prediction for valid is a list of size 32 = batch size\n",
    "\n",
    "# First, combine the results across the batches.\n",
    "all_predictions_for_test = np.concatenate(predictions_for_test, axis=0)\n",
    "all_true_labels_for_test = np.concatenate(true_labels_for_test, axis=0)\n",
    "\n",
    "print(\"After flattening the batches, the predictions have shape:\")\n",
    "print(\"    \", all_predictions_for_test.shape)\n",
    "\n",
    "# Next, let's remove the third dimension (axis 2), which has the scores\n",
    "# for all 18 labels.\n",
    "\n",
    "# For each token, pick the label with the highest score.\n",
    "predicted_label_ids_for_test = np.argmax(all_predictions_for_test, axis=2)\n",
    "\n",
    "print(\"\\nAfter choosing the highest scoring label for each token, prediction label ids have shape:\")\n",
    "print(\"    \", predicted_label_ids_for_test.shape)\n",
    "\n",
    "# Eliminate axis 0, which corresponds to the sentences.\n",
    "predicted_label_ids_for_test = np.concatenate(predicted_label_ids_for_test, axis=0)\n",
    "all_true_labels_for_test = np.concatenate(all_true_labels_for_test, axis=0)\n",
    "\n",
    "\n",
    "print(\"\\nAfter flattening the sentences, the predictions have shape:\")\n",
    "print(\"    \", predicted_label_ids_for_test.shape)\n",
    "\n",
    "print(\"and ground truth have shape:\")\n",
    "print(\"    \", all_true_labels_for_test.shape)"
   ]
  },
  {
   "cell_type": "markdown",
   "id": "f4c0dd5e-9fcb-46ae-bfc3-c99c4ceb356c",
   "metadata": {},
   "source": [
    "### 2.8. Removing the null id tokens (=-100) (a.k.a ignore tokens)"
   ]
  },
  {
   "cell_type": "code",
   "execution_count": 105,
   "id": "585aae3d-6dea-4ccf-bf84-0a87d9eb2d69",
   "metadata": {},
   "outputs": [
    {
     "name": "stdout",
     "output_type": "stream",
     "text": [
      "Before filtering out `null` tokens, length = 1,047,552\n",
      "After filtering out `null` tokens, length = 209,464\n",
      "\n",
      "i.e total num of unwanted labels id (=-100) for which we dont need predictions are: 838088\n"
     ]
    }
   ],
   "source": [
    "# Construct new lists of predictions which don't include any null tokens.\n",
    "real_token_predictions_for_test = []\n",
    "real_token_labels_for_test = []\n",
    "\n",
    "# For each of the input tokens in the true labels of validation dataset...\n",
    "for i in range(len(all_true_labels_for_test)):\n",
    "\n",
    "    # If it's not a token with a null label id ( = -100 ) ...\n",
    "    if not all_true_labels_for_test[i] == -100:\n",
    "        \n",
    "        # Add the prediction and the ground truth to their lists.\n",
    "        real_token_predictions_for_test.append(predicted_label_ids_for_test[i])\n",
    "        real_token_labels_for_test.append(all_true_labels_for_test[i])\n",
    "\n",
    "print(\"Before filtering out `null` tokens, length = {:,}\".format(len(all_true_labels_for_test)))\n",
    "print(\"After filtering out `null` tokens, length = {:,}\".format(len(real_token_labels_for_test)))\n",
    "\n",
    "print(f\"\\ni.e total num of unwanted labels id (=-100) for which we dont need predictions are: {\n",
    "len(all_true_labels_for_test) - len(real_token_labels_for_test)}\")"
   ]
  },
  {
   "cell_type": "markdown",
   "id": "91dafbd7-ebb7-407e-a86e-78d65437b0c5",
   "metadata": {},
   "source": [
    "#### 2.9. Compute Overall classfication report - Accuracy, precision, recall and f1 score (both micro and macro)"
   ]
  },
  {
   "cell_type": "code",
   "execution_count": 106,
   "id": "5248dc4c-ac1c-4f84-8531-2497a5e03bd1",
   "metadata": {},
   "outputs": [
    {
     "name": "stdout",
     "output_type": "stream",
     "text": [
      "accuracy score: 94.08%\n",
      "----- macro scores --------\n",
      "macro precision score: 80.150%\n",
      "macro recall score: 45.140%\n",
      "macro f1 score: 45.807%\n",
      "----- micro scores --------\n",
      "micro precision score: 94.08%\n",
      "micro recall score: 94.08%\n",
      "micro f1 score: 94.08%\n"
     ]
    }
   ],
   "source": [
    "from sklearn.metrics import f1_score, accuracy_score, precision_score, recall_score\n",
    "\n",
    "# computing the accuracy\n",
    "accuracy_for_test = accuracy_score(y_true=real_token_labels_for_test,\n",
    "                                    y_pred=real_token_predictions_for_test)\n",
    "\n",
    "print(\"accuracy score: {:.2%}\".format(accuracy_for_test))\n",
    "\n",
    "# compute the macro precision\n",
    "macro_precision_for_test = precision_score(y_true=real_token_labels_for_test,\n",
    "                                            y_pred=real_token_predictions_for_test,\n",
    "                                            average='macro', zero_division=np.nan)\n",
    "# compute the macro recall\n",
    "macro_recall_for_test = recall_score(y_true=real_token_labels_for_test,\n",
    "                                      y_pred=real_token_predictions_for_test,\n",
    "                                      average='macro')\n",
    "# compute the macro f1_score\n",
    "macro_f1_score_for_test = f1_score(y_true = real_token_labels_for_test,\n",
    "                                    y_pred = real_token_predictions_for_test,\n",
    "                                    average='macro')\n",
    "\n",
    "print(\"----- macro scores --------\")\n",
    "print(\"macro precision score: {:.3%}\".format(macro_precision_for_test))\n",
    "print(\"macro recall score: {:.3%}\".format(macro_recall_for_test))\n",
    "print(\"macro f1 score: {:.3%}\".format(macro_f1_score_for_test))\n",
    "\n",
    "\n",
    "micro_precision_for_test = precision_score(y_true=real_token_labels_for_test,\n",
    "                                            y_pred=real_token_predictions_for_test,\n",
    "                                            average='micro', zero_division=np.nan)\n",
    "\n",
    "micro_recall_for_test = recall_score(y_true=real_token_labels_for_test,\n",
    "                                      y_pred=real_token_predictions_for_test,\n",
    "                                      average='micro')\n",
    "\n",
    "micro_f1_score_for_test = f1_score(y_true = real_token_labels_for_test,\n",
    "                                    y_pred = real_token_predictions_for_test,\n",
    "                                    average='micro')\n",
    "\n",
    "print(\"----- micro scores --------\")\n",
    "print(\"micro precision score: {:.2%}\".format(micro_precision_for_test))\n",
    "print(\"micro recall score: {:.2%}\".format(micro_recall_for_test))\n",
    "print(\"micro f1 score: {:.2%}\".format(micro_f1_score_for_test))"
   ]
  },
  {
   "cell_type": "markdown",
   "id": "b3bc90e8-7247-4186-afc2-a838746a428a",
   "metadata": {},
   "source": [
    "#### 2.10. Confusion Matrix - Test Data"
   ]
  },
  {
   "cell_type": "code",
   "execution_count": 107,
   "id": "336ff3be-93a5-4f4f-9136-89d2071c76e1",
   "metadata": {},
   "outputs": [
    {
     "name": "stdout",
     "output_type": "stream",
     "text": [
      "Confusion Matrix DataFrame for Test Data\n"
     ]
    },
    {
     "data": {
      "text/html": [
       "<div>\n",
       "<style scoped>\n",
       "    .dataframe tbody tr th:only-of-type {\n",
       "        vertical-align: middle;\n",
       "    }\n",
       "\n",
       "    .dataframe tbody tr th {\n",
       "        vertical-align: top;\n",
       "    }\n",
       "\n",
       "    .dataframe thead th {\n",
       "        text-align: right;\n",
       "    }\n",
       "</style>\n",
       "<table border=\"1\" class=\"dataframe\">\n",
       "  <thead>\n",
       "    <tr style=\"text-align: right;\">\n",
       "      <th></th>\n",
       "      <th>I-art</th>\n",
       "      <th>I-eve</th>\n",
       "      <th>B-art</th>\n",
       "      <th>B-eve</th>\n",
       "      <th>I-org</th>\n",
       "      <th>I-tim</th>\n",
       "      <th>I-gpe</th>\n",
       "      <th>B-per</th>\n",
       "      <th>B-org</th>\n",
       "      <th>O</th>\n",
       "      <th>B-geo</th>\n",
       "      <th>I-per</th>\n",
       "      <th>I-geo</th>\n",
       "      <th>B-tim</th>\n",
       "      <th>B-nat</th>\n",
       "      <th>I-nat</th>\n",
       "      <th>B-gpe</th>\n",
       "    </tr>\n",
       "  </thead>\n",
       "  <tbody>\n",
       "    <tr>\n",
       "      <th>I-art</th>\n",
       "      <td>0</td>\n",
       "      <td>0</td>\n",
       "      <td>0</td>\n",
       "      <td>0</td>\n",
       "      <td>28</td>\n",
       "      <td>1</td>\n",
       "      <td>0</td>\n",
       "      <td>0</td>\n",
       "      <td>8</td>\n",
       "      <td>26</td>\n",
       "      <td>2</td>\n",
       "      <td>3</td>\n",
       "      <td>3</td>\n",
       "      <td>0</td>\n",
       "      <td>0</td>\n",
       "      <td>0</td>\n",
       "      <td>0</td>\n",
       "    </tr>\n",
       "    <tr>\n",
       "      <th>I-eve</th>\n",
       "      <td>0</td>\n",
       "      <td>0</td>\n",
       "      <td>0</td>\n",
       "      <td>0</td>\n",
       "      <td>10</td>\n",
       "      <td>10</td>\n",
       "      <td>0</td>\n",
       "      <td>0</td>\n",
       "      <td>1</td>\n",
       "      <td>17</td>\n",
       "      <td>0</td>\n",
       "      <td>1</td>\n",
       "      <td>7</td>\n",
       "      <td>1</td>\n",
       "      <td>0</td>\n",
       "      <td>0</td>\n",
       "      <td>0</td>\n",
       "    </tr>\n",
       "    <tr>\n",
       "      <th>B-art</th>\n",
       "      <td>0</td>\n",
       "      <td>0</td>\n",
       "      <td>0</td>\n",
       "      <td>0</td>\n",
       "      <td>5</td>\n",
       "      <td>0</td>\n",
       "      <td>0</td>\n",
       "      <td>11</td>\n",
       "      <td>75</td>\n",
       "      <td>44</td>\n",
       "      <td>13</td>\n",
       "      <td>0</td>\n",
       "      <td>0</td>\n",
       "      <td>0</td>\n",
       "      <td>0</td>\n",
       "      <td>0</td>\n",
       "      <td>4</td>\n",
       "    </tr>\n",
       "    <tr>\n",
       "      <th>B-eve</th>\n",
       "      <td>0</td>\n",
       "      <td>0</td>\n",
       "      <td>0</td>\n",
       "      <td>0</td>\n",
       "      <td>3</td>\n",
       "      <td>10</td>\n",
       "      <td>0</td>\n",
       "      <td>1</td>\n",
       "      <td>5</td>\n",
       "      <td>25</td>\n",
       "      <td>6</td>\n",
       "      <td>0</td>\n",
       "      <td>1</td>\n",
       "      <td>6</td>\n",
       "      <td>0</td>\n",
       "      <td>0</td>\n",
       "      <td>3</td>\n",
       "    </tr>\n",
       "    <tr>\n",
       "      <th>I-org</th>\n",
       "      <td>0</td>\n",
       "      <td>0</td>\n",
       "      <td>0</td>\n",
       "      <td>0</td>\n",
       "      <td>2218</td>\n",
       "      <td>4</td>\n",
       "      <td>0</td>\n",
       "      <td>96</td>\n",
       "      <td>180</td>\n",
       "      <td>641</td>\n",
       "      <td>112</td>\n",
       "      <td>548</td>\n",
       "      <td>201</td>\n",
       "      <td>6</td>\n",
       "      <td>0</td>\n",
       "      <td>0</td>\n",
       "      <td>17</td>\n",
       "    </tr>\n",
       "    <tr>\n",
       "      <th>I-tim</th>\n",
       "      <td>0</td>\n",
       "      <td>0</td>\n",
       "      <td>0</td>\n",
       "      <td>0</td>\n",
       "      <td>10</td>\n",
       "      <td>693</td>\n",
       "      <td>0</td>\n",
       "      <td>1</td>\n",
       "      <td>8</td>\n",
       "      <td>306</td>\n",
       "      <td>30</td>\n",
       "      <td>6</td>\n",
       "      <td>7</td>\n",
       "      <td>282</td>\n",
       "      <td>0</td>\n",
       "      <td>0</td>\n",
       "      <td>1</td>\n",
       "    </tr>\n",
       "    <tr>\n",
       "      <th>I-gpe</th>\n",
       "      <td>0</td>\n",
       "      <td>0</td>\n",
       "      <td>0</td>\n",
       "      <td>0</td>\n",
       "      <td>0</td>\n",
       "      <td>0</td>\n",
       "      <td>0</td>\n",
       "      <td>0</td>\n",
       "      <td>0</td>\n",
       "      <td>5</td>\n",
       "      <td>2</td>\n",
       "      <td>0</td>\n",
       "      <td>15</td>\n",
       "      <td>0</td>\n",
       "      <td>0</td>\n",
       "      <td>0</td>\n",
       "      <td>23</td>\n",
       "    </tr>\n",
       "    <tr>\n",
       "      <th>B-per</th>\n",
       "      <td>0</td>\n",
       "      <td>0</td>\n",
       "      <td>0</td>\n",
       "      <td>0</td>\n",
       "      <td>22</td>\n",
       "      <td>0</td>\n",
       "      <td>0</td>\n",
       "      <td>4178</td>\n",
       "      <td>231</td>\n",
       "      <td>135</td>\n",
       "      <td>149</td>\n",
       "      <td>378</td>\n",
       "      <td>5</td>\n",
       "      <td>3</td>\n",
       "      <td>0</td>\n",
       "      <td>0</td>\n",
       "      <td>27</td>\n",
       "    </tr>\n",
       "    <tr>\n",
       "      <th>B-org</th>\n",
       "      <td>0</td>\n",
       "      <td>0</td>\n",
       "      <td>0</td>\n",
       "      <td>0</td>\n",
       "      <td>129</td>\n",
       "      <td>3</td>\n",
       "      <td>0</td>\n",
       "      <td>436</td>\n",
       "      <td>4034</td>\n",
       "      <td>637</td>\n",
       "      <td>1198</td>\n",
       "      <td>173</td>\n",
       "      <td>15</td>\n",
       "      <td>13</td>\n",
       "      <td>0</td>\n",
       "      <td>0</td>\n",
       "      <td>109</td>\n",
       "    </tr>\n",
       "    <tr>\n",
       "      <th>O</th>\n",
       "      <td>0</td>\n",
       "      <td>0</td>\n",
       "      <td>0</td>\n",
       "      <td>0</td>\n",
       "      <td>602</td>\n",
       "      <td>60</td>\n",
       "      <td>0</td>\n",
       "      <td>160</td>\n",
       "      <td>547</td>\n",
       "      <td>161663</td>\n",
       "      <td>388</td>\n",
       "      <td>166</td>\n",
       "      <td>61</td>\n",
       "      <td>307</td>\n",
       "      <td>0</td>\n",
       "      <td>0</td>\n",
       "      <td>215</td>\n",
       "    </tr>\n",
       "    <tr>\n",
       "      <th>B-geo</th>\n",
       "      <td>0</td>\n",
       "      <td>0</td>\n",
       "      <td>0</td>\n",
       "      <td>0</td>\n",
       "      <td>19</td>\n",
       "      <td>0</td>\n",
       "      <td>0</td>\n",
       "      <td>173</td>\n",
       "      <td>449</td>\n",
       "      <td>308</td>\n",
       "      <td>10202</td>\n",
       "      <td>113</td>\n",
       "      <td>123</td>\n",
       "      <td>14</td>\n",
       "      <td>0</td>\n",
       "      <td>0</td>\n",
       "      <td>76</td>\n",
       "    </tr>\n",
       "    <tr>\n",
       "      <th>I-per</th>\n",
       "      <td>0</td>\n",
       "      <td>0</td>\n",
       "      <td>0</td>\n",
       "      <td>0</td>\n",
       "      <td>57</td>\n",
       "      <td>0</td>\n",
       "      <td>0</td>\n",
       "      <td>103</td>\n",
       "      <td>4</td>\n",
       "      <td>57</td>\n",
       "      <td>5</td>\n",
       "      <td>6138</td>\n",
       "      <td>26</td>\n",
       "      <td>0</td>\n",
       "      <td>0</td>\n",
       "      <td>0</td>\n",
       "      <td>9</td>\n",
       "    </tr>\n",
       "    <tr>\n",
       "      <th>I-geo</th>\n",
       "      <td>0</td>\n",
       "      <td>0</td>\n",
       "      <td>0</td>\n",
       "      <td>0</td>\n",
       "      <td>199</td>\n",
       "      <td>2</td>\n",
       "      <td>0</td>\n",
       "      <td>7</td>\n",
       "      <td>21</td>\n",
       "      <td>102</td>\n",
       "      <td>156</td>\n",
       "      <td>166</td>\n",
       "      <td>1164</td>\n",
       "      <td>1</td>\n",
       "      <td>0</td>\n",
       "      <td>0</td>\n",
       "      <td>14</td>\n",
       "    </tr>\n",
       "    <tr>\n",
       "      <th>B-tim</th>\n",
       "      <td>0</td>\n",
       "      <td>0</td>\n",
       "      <td>0</td>\n",
       "      <td>0</td>\n",
       "      <td>3</td>\n",
       "      <td>66</td>\n",
       "      <td>0</td>\n",
       "      <td>4</td>\n",
       "      <td>25</td>\n",
       "      <td>539</td>\n",
       "      <td>124</td>\n",
       "      <td>7</td>\n",
       "      <td>4</td>\n",
       "      <td>3613</td>\n",
       "      <td>0</td>\n",
       "      <td>0</td>\n",
       "      <td>2</td>\n",
       "    </tr>\n",
       "    <tr>\n",
       "      <th>B-nat</th>\n",
       "      <td>0</td>\n",
       "      <td>0</td>\n",
       "      <td>0</td>\n",
       "      <td>0</td>\n",
       "      <td>2</td>\n",
       "      <td>1</td>\n",
       "      <td>0</td>\n",
       "      <td>1</td>\n",
       "      <td>11</td>\n",
       "      <td>54</td>\n",
       "      <td>9</td>\n",
       "      <td>0</td>\n",
       "      <td>2</td>\n",
       "      <td>0</td>\n",
       "      <td>0</td>\n",
       "      <td>0</td>\n",
       "      <td>0</td>\n",
       "    </tr>\n",
       "    <tr>\n",
       "      <th>I-nat</th>\n",
       "      <td>0</td>\n",
       "      <td>0</td>\n",
       "      <td>0</td>\n",
       "      <td>0</td>\n",
       "      <td>0</td>\n",
       "      <td>0</td>\n",
       "      <td>0</td>\n",
       "      <td>0</td>\n",
       "      <td>0</td>\n",
       "      <td>8</td>\n",
       "      <td>0</td>\n",
       "      <td>1</td>\n",
       "      <td>2</td>\n",
       "      <td>0</td>\n",
       "      <td>0</td>\n",
       "      <td>0</td>\n",
       "      <td>0</td>\n",
       "    </tr>\n",
       "    <tr>\n",
       "      <th>B-gpe</th>\n",
       "      <td>0</td>\n",
       "      <td>0</td>\n",
       "      <td>0</td>\n",
       "      <td>0</td>\n",
       "      <td>0</td>\n",
       "      <td>0</td>\n",
       "      <td>0</td>\n",
       "      <td>0</td>\n",
       "      <td>18</td>\n",
       "      <td>10</td>\n",
       "      <td>300</td>\n",
       "      <td>0</td>\n",
       "      <td>13</td>\n",
       "      <td>0</td>\n",
       "      <td>0</td>\n",
       "      <td>0</td>\n",
       "      <td>3151</td>\n",
       "    </tr>\n",
       "  </tbody>\n",
       "</table>\n",
       "</div>"
      ],
      "text/plain": [
       "       I-art  I-eve  B-art  B-eve  I-org  I-tim  I-gpe  B-per  B-org       O  \\\n",
       "I-art      0      0      0      0     28      1      0      0      8      26   \n",
       "I-eve      0      0      0      0     10     10      0      0      1      17   \n",
       "B-art      0      0      0      0      5      0      0     11     75      44   \n",
       "B-eve      0      0      0      0      3     10      0      1      5      25   \n",
       "I-org      0      0      0      0   2218      4      0     96    180     641   \n",
       "I-tim      0      0      0      0     10    693      0      1      8     306   \n",
       "I-gpe      0      0      0      0      0      0      0      0      0       5   \n",
       "B-per      0      0      0      0     22      0      0   4178    231     135   \n",
       "B-org      0      0      0      0    129      3      0    436   4034     637   \n",
       "O          0      0      0      0    602     60      0    160    547  161663   \n",
       "B-geo      0      0      0      0     19      0      0    173    449     308   \n",
       "I-per      0      0      0      0     57      0      0    103      4      57   \n",
       "I-geo      0      0      0      0    199      2      0      7     21     102   \n",
       "B-tim      0      0      0      0      3     66      0      4     25     539   \n",
       "B-nat      0      0      0      0      2      1      0      1     11      54   \n",
       "I-nat      0      0      0      0      0      0      0      0      0       8   \n",
       "B-gpe      0      0      0      0      0      0      0      0     18      10   \n",
       "\n",
       "       B-geo  I-per  I-geo  B-tim  B-nat  I-nat  B-gpe  \n",
       "I-art      2      3      3      0      0      0      0  \n",
       "I-eve      0      1      7      1      0      0      0  \n",
       "B-art     13      0      0      0      0      0      4  \n",
       "B-eve      6      0      1      6      0      0      3  \n",
       "I-org    112    548    201      6      0      0     17  \n",
       "I-tim     30      6      7    282      0      0      1  \n",
       "I-gpe      2      0     15      0      0      0     23  \n",
       "B-per    149    378      5      3      0      0     27  \n",
       "B-org   1198    173     15     13      0      0    109  \n",
       "O        388    166     61    307      0      0    215  \n",
       "B-geo  10202    113    123     14      0      0     76  \n",
       "I-per      5   6138     26      0      0      0      9  \n",
       "I-geo    156    166   1164      1      0      0     14  \n",
       "B-tim    124      7      4   3613      0      0      2  \n",
       "B-nat      9      0      2      0      0      0      0  \n",
       "I-nat      0      1      2      0      0      0      0  \n",
       "B-gpe    300      0     13      0      0      0   3151  "
      ]
     },
     "execution_count": 107,
     "metadata": {},
     "output_type": "execute_result"
    }
   ],
   "source": [
    "# compute confusion matrix collectively\n",
    "cm_for_test = confusion_matrix(y_true=real_token_labels_for_test,\n",
    "                                y_pred=real_token_predictions_for_test,\n",
    "                                labels=label_ids_,\n",
    "                               )\n",
    "\n",
    "# compute multilabel confusion matrix\n",
    "# Here it will compute cm at the class level\n",
    "# labels are binarized under a one-vs-rest way\n",
    "mcm_for_test = multilabel_confusion_matrix(y_true=real_token_labels_for_test,\n",
    "                                        y_pred=real_token_predictions_for_test,\n",
    "                                        labels=label_ids_,\n",
    "                                       )\n",
    "\n",
    "\n",
    "\n",
    "df_cm_for_test = pd.DataFrame(cm_for_test, index=label_names_, columns=label_names_)\n",
    "\n",
    "print(\"Confusion Matrix DataFrame for Test Data\")\n",
    "df_cm_for_test"
   ]
  },
  {
   "cell_type": "markdown",
   "id": "7b70e9af-a93e-44aa-a091-b3cbcaaa1938",
   "metadata": {},
   "source": [
    "#### 2.11. Plotting Confusion Matrix - Test Data"
   ]
  },
  {
   "cell_type": "code",
   "execution_count": 108,
   "id": "da0d1160-9396-4349-8755-c94208dd6123",
   "metadata": {},
   "outputs": [
    {
     "data": {
      "image/png": "[encoded data removed]",
      "text/plain": [
       "<Figure size 1000x800 with 2 Axes>"
      ]
     },
     "metadata": {},
     "output_type": "display_data"
    }
   ],
   "source": [
    "#specify size of heatmap\n",
    "fig, ax = plt.subplots(figsize=(10, 8))\n",
    "\n",
    "sns.heatmap(df_cm_for_test, annot=True, fmt=\"g\", annot_kws={\"size\": 8}).set(title='Confusion Matrix - Test Data')\n",
    "plt.xlabel(\"Predicted Labels\")\n",
    "plt.ylabel(\"True Labels\")\n",
    "plt.show()\n",
    "#fig.savefig('test_cm.png', bbox_inches='tight', dpi=1600)"
   ]
  },
  {
   "cell_type": "markdown",
   "id": "48aca1de-9699-4906-8cd0-7bf7e2ee69f1",
   "metadata": {},
   "source": [
    "#### 2.12. Compute the Label-Level Classification report for Test Dataset"
   ]
  },
  {
   "cell_type": "code",
   "execution_count": 109,
   "id": "1e39d42d-f873-44ff-b879-c932991bff76",
   "metadata": {},
   "outputs": [
    {
     "name": "stdout",
     "output_type": "stream",
     "text": [
      "              precision    recall  f1-score   support\n",
      "\n",
      "       I-art       0.00      0.00      0.00        71\n",
      "       I-eve       0.00      0.00      0.00        47\n",
      "       B-art       0.00      0.00      0.00       152\n",
      "       B-eve       0.00      0.00      0.00        60\n",
      "       I-org       0.67      0.55      0.61      4023\n",
      "       I-tim       0.82      0.52      0.63      1344\n",
      "       I-gpe       0.00      0.00      0.00        45\n",
      "       B-per       0.81      0.81      0.81      5128\n",
      "       B-org       0.72      0.60      0.65      6747\n",
      "           O       0.98      0.98      0.98    164169\n",
      "       B-geo       0.80      0.89      0.84     11477\n",
      "       I-per       0.80      0.96      0.87      6399\n",
      "       I-geo       0.71      0.64      0.67      1832\n",
      "       B-tim       0.85      0.82      0.84      4387\n",
      "       B-nat       0.00      0.00      0.00        80\n",
      "       I-nat       0.00      0.00      0.00        11\n",
      "       B-gpe       0.86      0.90      0.88      3492\n",
      "\n",
      "    accuracy                           0.94    209464\n",
      "   macro avg       0.47      0.45      0.46    209464\n",
      "weighted avg       0.94      0.94      0.94    209464\n",
      "\n"
     ]
    }
   ],
   "source": [
    "from sklearn.metrics import classification_report\n",
    "\n",
    "clf_report_for_test = classification_report(y_true=real_token_labels_for_test,\n",
    "                                             y_pred=real_token_predictions_for_test,\n",
    "                                             labels=[x for x in range(len(label2idx))],\n",
    "                                             target_names=list(label2idx.keys()),\n",
    "                                             zero_division=0\n",
    "                                            )\n",
    "\n",
    "print(clf_report_for_test)"
   ]
  },
  {
   "cell_type": "markdown",
   "id": "7de254e1-18f1-40b5-97f0-a7b559da7724",
   "metadata": {},
   "source": [
    "#### 2.13. Compute Confusion Matrix for each label (One Vs All Fashion)"
   ]
  },
  {
   "cell_type": "code",
   "execution_count": 110,
   "id": "77c90c7a-8ffa-45c4-a116-13ab314073b1",
   "metadata": {},
   "outputs": [
    {
     "name": "stdout",
     "output_type": "stream",
     "text": [
      "Confusion Matrix for I-art\n"
     ]
    },
    {
     "data": {
      "text/html": [
       "<div>\n",
       "<style scoped>\n",
       "    .dataframe tbody tr th:only-of-type {\n",
       "        vertical-align: middle;\n",
       "    }\n",
       "\n",
       "    .dataframe tbody tr th {\n",
       "        vertical-align: top;\n",
       "    }\n",
       "\n",
       "    .dataframe thead th {\n",
       "        text-align: right;\n",
       "    }\n",
       "</style>\n",
       "<table border=\"1\" class=\"dataframe\">\n",
       "  <thead>\n",
       "    <tr style=\"text-align: right;\">\n",
       "      <th></th>\n",
       "      <th>not_I-art</th>\n",
       "      <th>I-art</th>\n",
       "    </tr>\n",
       "  </thead>\n",
       "  <tbody>\n",
       "    <tr>\n",
       "      <th>not_I-art</th>\n",
       "      <td>209393</td>\n",
       "      <td>0</td>\n",
       "    </tr>\n",
       "    <tr>\n",
       "      <th>I-art</th>\n",
       "      <td>71</td>\n",
       "      <td>0</td>\n",
       "    </tr>\n",
       "  </tbody>\n",
       "</table>\n",
       "</div>"
      ],
      "text/plain": [
       "           not_I-art  I-art\n",
       "not_I-art     209393      0\n",
       "I-art             71      0"
      ]
     },
     "metadata": {},
     "output_type": "display_data"
    },
    {
     "name": "stdout",
     "output_type": "stream",
     "text": [
      "-----------------------------\n",
      "\n",
      "Confusion Matrix for I-eve\n"
     ]
    },
    {
     "data": {
      "text/html": [
       "<div>\n",
       "<style scoped>\n",
       "    .dataframe tbody tr th:only-of-type {\n",
       "        vertical-align: middle;\n",
       "    }\n",
       "\n",
       "    .dataframe tbody tr th {\n",
       "        vertical-align: top;\n",
       "    }\n",
       "\n",
       "    .dataframe thead th {\n",
       "        text-align: right;\n",
       "    }\n",
       "</style>\n",
       "<table border=\"1\" class=\"dataframe\">\n",
       "  <thead>\n",
       "    <tr style=\"text-align: right;\">\n",
       "      <th></th>\n",
       "      <th>not_I-eve</th>\n",
       "      <th>I-eve</th>\n",
       "    </tr>\n",
       "  </thead>\n",
       "  <tbody>\n",
       "    <tr>\n",
       "      <th>not_I-eve</th>\n",
       "      <td>209417</td>\n",
       "      <td>0</td>\n",
       "    </tr>\n",
       "    <tr>\n",
       "      <th>I-eve</th>\n",
       "      <td>47</td>\n",
       "      <td>0</td>\n",
       "    </tr>\n",
       "  </tbody>\n",
       "</table>\n",
       "</div>"
      ],
      "text/plain": [
       "           not_I-eve  I-eve\n",
       "not_I-eve     209417      0\n",
       "I-eve             47      0"
      ]
     },
     "metadata": {},
     "output_type": "display_data"
    },
    {
     "name": "stdout",
     "output_type": "stream",
     "text": [
      "-----------------------------\n",
      "\n",
      "Confusion Matrix for B-art\n"
     ]
    },
    {
     "data": {
      "text/html": [
       "<div>\n",
       "<style scoped>\n",
       "    .dataframe tbody tr th:only-of-type {\n",
       "        vertical-align: middle;\n",
       "    }\n",
       "\n",
       "    .dataframe tbody tr th {\n",
       "        vertical-align: top;\n",
       "    }\n",
       "\n",
       "    .dataframe thead th {\n",
       "        text-align: right;\n",
       "    }\n",
       "</style>\n",
       "<table border=\"1\" class=\"dataframe\">\n",
       "  <thead>\n",
       "    <tr style=\"text-align: right;\">\n",
       "      <th></th>\n",
       "      <th>not_B-art</th>\n",
       "      <th>B-art</th>\n",
       "    </tr>\n",
       "  </thead>\n",
       "  <tbody>\n",
       "    <tr>\n",
       "      <th>not_B-art</th>\n",
       "      <td>209312</td>\n",
       "      <td>0</td>\n",
       "    </tr>\n",
       "    <tr>\n",
       "      <th>B-art</th>\n",
       "      <td>152</td>\n",
       "      <td>0</td>\n",
       "    </tr>\n",
       "  </tbody>\n",
       "</table>\n",
       "</div>"
      ],
      "text/plain": [
       "           not_B-art  B-art\n",
       "not_B-art     209312      0\n",
       "B-art            152      0"
      ]
     },
     "metadata": {},
     "output_type": "display_data"
    },
    {
     "name": "stdout",
     "output_type": "stream",
     "text": [
      "-----------------------------\n",
      "\n",
      "Confusion Matrix for B-eve\n"
     ]
    },
    {
     "data": {
      "text/html": [
       "<div>\n",
       "<style scoped>\n",
       "    .dataframe tbody tr th:only-of-type {\n",
       "        vertical-align: middle;\n",
       "    }\n",
       "\n",
       "    .dataframe tbody tr th {\n",
       "        vertical-align: top;\n",
       "    }\n",
       "\n",
       "    .dataframe thead th {\n",
       "        text-align: right;\n",
       "    }\n",
       "</style>\n",
       "<table border=\"1\" class=\"dataframe\">\n",
       "  <thead>\n",
       "    <tr style=\"text-align: right;\">\n",
       "      <th></th>\n",
       "      <th>not_B-eve</th>\n",
       "      <th>B-eve</th>\n",
       "    </tr>\n",
       "  </thead>\n",
       "  <tbody>\n",
       "    <tr>\n",
       "      <th>not_B-eve</th>\n",
       "      <td>209404</td>\n",
       "      <td>0</td>\n",
       "    </tr>\n",
       "    <tr>\n",
       "      <th>B-eve</th>\n",
       "      <td>60</td>\n",
       "      <td>0</td>\n",
       "    </tr>\n",
       "  </tbody>\n",
       "</table>\n",
       "</div>"
      ],
      "text/plain": [
       "           not_B-eve  B-eve\n",
       "not_B-eve     209404      0\n",
       "B-eve             60      0"
      ]
     },
     "metadata": {},
     "output_type": "display_data"
    },
    {
     "name": "stdout",
     "output_type": "stream",
     "text": [
      "-----------------------------\n",
      "\n",
      "Confusion Matrix for I-org\n"
     ]
    },
    {
     "data": {
      "text/html": [
       "<div>\n",
       "<style scoped>\n",
       "    .dataframe tbody tr th:only-of-type {\n",
       "        vertical-align: middle;\n",
       "    }\n",
       "\n",
       "    .dataframe tbody tr th {\n",
       "        vertical-align: top;\n",
       "    }\n",
       "\n",
       "    .dataframe thead th {\n",
       "        text-align: right;\n",
       "    }\n",
       "</style>\n",
       "<table border=\"1\" class=\"dataframe\">\n",
       "  <thead>\n",
       "    <tr style=\"text-align: right;\">\n",
       "      <th></th>\n",
       "      <th>not_I-org</th>\n",
       "      <th>I-org</th>\n",
       "    </tr>\n",
       "  </thead>\n",
       "  <tbody>\n",
       "    <tr>\n",
       "      <th>not_I-org</th>\n",
       "      <td>204352</td>\n",
       "      <td>1089</td>\n",
       "    </tr>\n",
       "    <tr>\n",
       "      <th>I-org</th>\n",
       "      <td>1805</td>\n",
       "      <td>2218</td>\n",
       "    </tr>\n",
       "  </tbody>\n",
       "</table>\n",
       "</div>"
      ],
      "text/plain": [
       "           not_I-org  I-org\n",
       "not_I-org     204352   1089\n",
       "I-org           1805   2218"
      ]
     },
     "metadata": {},
     "output_type": "display_data"
    },
    {
     "name": "stdout",
     "output_type": "stream",
     "text": [
      "-----------------------------\n",
      "\n",
      "Confusion Matrix for I-tim\n"
     ]
    },
    {
     "data": {
      "text/html": [
       "<div>\n",
       "<style scoped>\n",
       "    .dataframe tbody tr th:only-of-type {\n",
       "        vertical-align: middle;\n",
       "    }\n",
       "\n",
       "    .dataframe tbody tr th {\n",
       "        vertical-align: top;\n",
       "    }\n",
       "\n",
       "    .dataframe thead th {\n",
       "        text-align: right;\n",
       "    }\n",
       "</style>\n",
       "<table border=\"1\" class=\"dataframe\">\n",
       "  <thead>\n",
       "    <tr style=\"text-align: right;\">\n",
       "      <th></th>\n",
       "      <th>not_I-tim</th>\n",
       "      <th>I-tim</th>\n",
       "    </tr>\n",
       "  </thead>\n",
       "  <tbody>\n",
       "    <tr>\n",
       "      <th>not_I-tim</th>\n",
       "      <td>207963</td>\n",
       "      <td>157</td>\n",
       "    </tr>\n",
       "    <tr>\n",
       "      <th>I-tim</th>\n",
       "      <td>651</td>\n",
       "      <td>693</td>\n",
       "    </tr>\n",
       "  </tbody>\n",
       "</table>\n",
       "</div>"
      ],
      "text/plain": [
       "           not_I-tim  I-tim\n",
       "not_I-tim     207963    157\n",
       "I-tim            651    693"
      ]
     },
     "metadata": {},
     "output_type": "display_data"
    },
    {
     "name": "stdout",
     "output_type": "stream",
     "text": [
      "-----------------------------\n",
      "\n",
      "Confusion Matrix for I-gpe\n"
     ]
    },
    {
     "data": {
      "text/html": [
       "<div>\n",
       "<style scoped>\n",
       "    .dataframe tbody tr th:only-of-type {\n",
       "        vertical-align: middle;\n",
       "    }\n",
       "\n",
       "    .dataframe tbody tr th {\n",
       "        vertical-align: top;\n",
       "    }\n",
       "\n",
       "    .dataframe thead th {\n",
       "        text-align: right;\n",
       "    }\n",
       "</style>\n",
       "<table border=\"1\" class=\"dataframe\">\n",
       "  <thead>\n",
       "    <tr style=\"text-align: right;\">\n",
       "      <th></th>\n",
       "      <th>not_I-gpe</th>\n",
       "      <th>I-gpe</th>\n",
       "    </tr>\n",
       "  </thead>\n",
       "  <tbody>\n",
       "    <tr>\n",
       "      <th>not_I-gpe</th>\n",
       "      <td>209419</td>\n",
       "      <td>0</td>\n",
       "    </tr>\n",
       "    <tr>\n",
       "      <th>I-gpe</th>\n",
       "      <td>45</td>\n",
       "      <td>0</td>\n",
       "    </tr>\n",
       "  </tbody>\n",
       "</table>\n",
       "</div>"
      ],
      "text/plain": [
       "           not_I-gpe  I-gpe\n",
       "not_I-gpe     209419      0\n",
       "I-gpe             45      0"
      ]
     },
     "metadata": {},
     "output_type": "display_data"
    },
    {
     "name": "stdout",
     "output_type": "stream",
     "text": [
      "-----------------------------\n",
      "\n",
      "Confusion Matrix for B-per\n"
     ]
    },
    {
     "data": {
      "text/html": [
       "<div>\n",
       "<style scoped>\n",
       "    .dataframe tbody tr th:only-of-type {\n",
       "        vertical-align: middle;\n",
       "    }\n",
       "\n",
       "    .dataframe tbody tr th {\n",
       "        vertical-align: top;\n",
       "    }\n",
       "\n",
       "    .dataframe thead th {\n",
       "        text-align: right;\n",
       "    }\n",
       "</style>\n",
       "<table border=\"1\" class=\"dataframe\">\n",
       "  <thead>\n",
       "    <tr style=\"text-align: right;\">\n",
       "      <th></th>\n",
       "      <th>not_B-per</th>\n",
       "      <th>B-per</th>\n",
       "    </tr>\n",
       "  </thead>\n",
       "  <tbody>\n",
       "    <tr>\n",
       "      <th>not_B-per</th>\n",
       "      <td>203343</td>\n",
       "      <td>993</td>\n",
       "    </tr>\n",
       "    <tr>\n",
       "      <th>B-per</th>\n",
       "      <td>950</td>\n",
       "      <td>4178</td>\n",
       "    </tr>\n",
       "  </tbody>\n",
       "</table>\n",
       "</div>"
      ],
      "text/plain": [
       "           not_B-per  B-per\n",
       "not_B-per     203343    993\n",
       "B-per            950   4178"
      ]
     },
     "metadata": {},
     "output_type": "display_data"
    },
    {
     "name": "stdout",
     "output_type": "stream",
     "text": [
      "-----------------------------\n",
      "\n",
      "Confusion Matrix for B-org\n"
     ]
    },
    {
     "data": {
      "text/html": [
       "<div>\n",
       "<style scoped>\n",
       "    .dataframe tbody tr th:only-of-type {\n",
       "        vertical-align: middle;\n",
       "    }\n",
       "\n",
       "    .dataframe tbody tr th {\n",
       "        vertical-align: top;\n",
       "    }\n",
       "\n",
       "    .dataframe thead th {\n",
       "        text-align: right;\n",
       "    }\n",
       "</style>\n",
       "<table border=\"1\" class=\"dataframe\">\n",
       "  <thead>\n",
       "    <tr style=\"text-align: right;\">\n",
       "      <th></th>\n",
       "      <th>not_B-org</th>\n",
       "      <th>B-org</th>\n",
       "    </tr>\n",
       "  </thead>\n",
       "  <tbody>\n",
       "    <tr>\n",
       "      <th>not_B-org</th>\n",
       "      <td>201134</td>\n",
       "      <td>1583</td>\n",
       "    </tr>\n",
       "    <tr>\n",
       "      <th>B-org</th>\n",
       "      <td>2713</td>\n",
       "      <td>4034</td>\n",
       "    </tr>\n",
       "  </tbody>\n",
       "</table>\n",
       "</div>"
      ],
      "text/plain": [
       "           not_B-org  B-org\n",
       "not_B-org     201134   1583\n",
       "B-org           2713   4034"
      ]
     },
     "metadata": {},
     "output_type": "display_data"
    },
    {
     "name": "stdout",
     "output_type": "stream",
     "text": [
      "-----------------------------\n",
      "\n",
      "Confusion Matrix for O\n"
     ]
    },
    {
     "data": {
      "text/html": [
       "<div>\n",
       "<style scoped>\n",
       "    .dataframe tbody tr th:only-of-type {\n",
       "        vertical-align: middle;\n",
       "    }\n",
       "\n",
       "    .dataframe tbody tr th {\n",
       "        vertical-align: top;\n",
       "    }\n",
       "\n",
       "    .dataframe thead th {\n",
       "        text-align: right;\n",
       "    }\n",
       "</style>\n",
       "<table border=\"1\" class=\"dataframe\">\n",
       "  <thead>\n",
       "    <tr style=\"text-align: right;\">\n",
       "      <th></th>\n",
       "      <th>not_O</th>\n",
       "      <th>O</th>\n",
       "    </tr>\n",
       "  </thead>\n",
       "  <tbody>\n",
       "    <tr>\n",
       "      <th>not_O</th>\n",
       "      <td>42381</td>\n",
       "      <td>2914</td>\n",
       "    </tr>\n",
       "    <tr>\n",
       "      <th>O</th>\n",
       "      <td>2506</td>\n",
       "      <td>161663</td>\n",
       "    </tr>\n",
       "  </tbody>\n",
       "</table>\n",
       "</div>"
      ],
      "text/plain": [
       "       not_O       O\n",
       "not_O  42381    2914\n",
       "O       2506  161663"
      ]
     },
     "metadata": {},
     "output_type": "display_data"
    },
    {
     "name": "stdout",
     "output_type": "stream",
     "text": [
      "-----------------------------\n",
      "\n",
      "Confusion Matrix for B-geo\n"
     ]
    },
    {
     "data": {
      "text/html": [
       "<div>\n",
       "<style scoped>\n",
       "    .dataframe tbody tr th:only-of-type {\n",
       "        vertical-align: middle;\n",
       "    }\n",
       "\n",
       "    .dataframe tbody tr th {\n",
       "        vertical-align: top;\n",
       "    }\n",
       "\n",
       "    .dataframe thead th {\n",
       "        text-align: right;\n",
       "    }\n",
       "</style>\n",
       "<table border=\"1\" class=\"dataframe\">\n",
       "  <thead>\n",
       "    <tr style=\"text-align: right;\">\n",
       "      <th></th>\n",
       "      <th>not_B-geo</th>\n",
       "      <th>B-geo</th>\n",
       "    </tr>\n",
       "  </thead>\n",
       "  <tbody>\n",
       "    <tr>\n",
       "      <th>not_B-geo</th>\n",
       "      <td>195493</td>\n",
       "      <td>2494</td>\n",
       "    </tr>\n",
       "    <tr>\n",
       "      <th>B-geo</th>\n",
       "      <td>1275</td>\n",
       "      <td>10202</td>\n",
       "    </tr>\n",
       "  </tbody>\n",
       "</table>\n",
       "</div>"
      ],
      "text/plain": [
       "           not_B-geo  B-geo\n",
       "not_B-geo     195493   2494\n",
       "B-geo           1275  10202"
      ]
     },
     "metadata": {},
     "output_type": "display_data"
    },
    {
     "name": "stdout",
     "output_type": "stream",
     "text": [
      "-----------------------------\n",
      "\n",
      "Confusion Matrix for I-per\n"
     ]
    },
    {
     "data": {
      "text/html": [
       "<div>\n",
       "<style scoped>\n",
       "    .dataframe tbody tr th:only-of-type {\n",
       "        vertical-align: middle;\n",
       "    }\n",
       "\n",
       "    .dataframe tbody tr th {\n",
       "        vertical-align: top;\n",
       "    }\n",
       "\n",
       "    .dataframe thead th {\n",
       "        text-align: right;\n",
       "    }\n",
       "</style>\n",
       "<table border=\"1\" class=\"dataframe\">\n",
       "  <thead>\n",
       "    <tr style=\"text-align: right;\">\n",
       "      <th></th>\n",
       "      <th>not_I-per</th>\n",
       "      <th>I-per</th>\n",
       "    </tr>\n",
       "  </thead>\n",
       "  <tbody>\n",
       "    <tr>\n",
       "      <th>not_I-per</th>\n",
       "      <td>201503</td>\n",
       "      <td>1562</td>\n",
       "    </tr>\n",
       "    <tr>\n",
       "      <th>I-per</th>\n",
       "      <td>261</td>\n",
       "      <td>6138</td>\n",
       "    </tr>\n",
       "  </tbody>\n",
       "</table>\n",
       "</div>"
      ],
      "text/plain": [
       "           not_I-per  I-per\n",
       "not_I-per     201503   1562\n",
       "I-per            261   6138"
      ]
     },
     "metadata": {},
     "output_type": "display_data"
    },
    {
     "name": "stdout",
     "output_type": "stream",
     "text": [
      "-----------------------------\n",
      "\n",
      "Confusion Matrix for I-geo\n"
     ]
    },
    {
     "data": {
      "text/html": [
       "<div>\n",
       "<style scoped>\n",
       "    .dataframe tbody tr th:only-of-type {\n",
       "        vertical-align: middle;\n",
       "    }\n",
       "\n",
       "    .dataframe tbody tr th {\n",
       "        vertical-align: top;\n",
       "    }\n",
       "\n",
       "    .dataframe thead th {\n",
       "        text-align: right;\n",
       "    }\n",
       "</style>\n",
       "<table border=\"1\" class=\"dataframe\">\n",
       "  <thead>\n",
       "    <tr style=\"text-align: right;\">\n",
       "      <th></th>\n",
       "      <th>not_I-geo</th>\n",
       "      <th>I-geo</th>\n",
       "    </tr>\n",
       "  </thead>\n",
       "  <tbody>\n",
       "    <tr>\n",
       "      <th>not_I-geo</th>\n",
       "      <td>207147</td>\n",
       "      <td>485</td>\n",
       "    </tr>\n",
       "    <tr>\n",
       "      <th>I-geo</th>\n",
       "      <td>668</td>\n",
       "      <td>1164</td>\n",
       "    </tr>\n",
       "  </tbody>\n",
       "</table>\n",
       "</div>"
      ],
      "text/plain": [
       "           not_I-geo  I-geo\n",
       "not_I-geo     207147    485\n",
       "I-geo            668   1164"
      ]
     },
     "metadata": {},
     "output_type": "display_data"
    },
    {
     "name": "stdout",
     "output_type": "stream",
     "text": [
      "-----------------------------\n",
      "\n",
      "Confusion Matrix for B-tim\n"
     ]
    },
    {
     "data": {
      "text/html": [
       "<div>\n",
       "<style scoped>\n",
       "    .dataframe tbody tr th:only-of-type {\n",
       "        vertical-align: middle;\n",
       "    }\n",
       "\n",
       "    .dataframe tbody tr th {\n",
       "        vertical-align: top;\n",
       "    }\n",
       "\n",
       "    .dataframe thead th {\n",
       "        text-align: right;\n",
       "    }\n",
       "</style>\n",
       "<table border=\"1\" class=\"dataframe\">\n",
       "  <thead>\n",
       "    <tr style=\"text-align: right;\">\n",
       "      <th></th>\n",
       "      <th>not_B-tim</th>\n",
       "      <th>B-tim</th>\n",
       "    </tr>\n",
       "  </thead>\n",
       "  <tbody>\n",
       "    <tr>\n",
       "      <th>not_B-tim</th>\n",
       "      <td>204444</td>\n",
       "      <td>633</td>\n",
       "    </tr>\n",
       "    <tr>\n",
       "      <th>B-tim</th>\n",
       "      <td>774</td>\n",
       "      <td>3613</td>\n",
       "    </tr>\n",
       "  </tbody>\n",
       "</table>\n",
       "</div>"
      ],
      "text/plain": [
       "           not_B-tim  B-tim\n",
       "not_B-tim     204444    633\n",
       "B-tim            774   3613"
      ]
     },
     "metadata": {},
     "output_type": "display_data"
    },
    {
     "name": "stdout",
     "output_type": "stream",
     "text": [
      "-----------------------------\n",
      "\n",
      "Confusion Matrix for B-nat\n"
     ]
    },
    {
     "data": {
      "text/html": [
       "<div>\n",
       "<style scoped>\n",
       "    .dataframe tbody tr th:only-of-type {\n",
       "        vertical-align: middle;\n",
       "    }\n",
       "\n",
       "    .dataframe tbody tr th {\n",
       "        vertical-align: top;\n",
       "    }\n",
       "\n",
       "    .dataframe thead th {\n",
       "        text-align: right;\n",
       "    }\n",
       "</style>\n",
       "<table border=\"1\" class=\"dataframe\">\n",
       "  <thead>\n",
       "    <tr style=\"text-align: right;\">\n",
       "      <th></th>\n",
       "      <th>not_B-nat</th>\n",
       "      <th>B-nat</th>\n",
       "    </tr>\n",
       "  </thead>\n",
       "  <tbody>\n",
       "    <tr>\n",
       "      <th>not_B-nat</th>\n",
       "      <td>209384</td>\n",
       "      <td>0</td>\n",
       "    </tr>\n",
       "    <tr>\n",
       "      <th>B-nat</th>\n",
       "      <td>80</td>\n",
       "      <td>0</td>\n",
       "    </tr>\n",
       "  </tbody>\n",
       "</table>\n",
       "</div>"
      ],
      "text/plain": [
       "           not_B-nat  B-nat\n",
       "not_B-nat     209384      0\n",
       "B-nat             80      0"
      ]
     },
     "metadata": {},
     "output_type": "display_data"
    },
    {
     "name": "stdout",
     "output_type": "stream",
     "text": [
      "-----------------------------\n",
      "\n",
      "Confusion Matrix for I-nat\n"
     ]
    },
    {
     "data": {
      "text/html": [
       "<div>\n",
       "<style scoped>\n",
       "    .dataframe tbody tr th:only-of-type {\n",
       "        vertical-align: middle;\n",
       "    }\n",
       "\n",
       "    .dataframe tbody tr th {\n",
       "        vertical-align: top;\n",
       "    }\n",
       "\n",
       "    .dataframe thead th {\n",
       "        text-align: right;\n",
       "    }\n",
       "</style>\n",
       "<table border=\"1\" class=\"dataframe\">\n",
       "  <thead>\n",
       "    <tr style=\"text-align: right;\">\n",
       "      <th></th>\n",
       "      <th>not_I-nat</th>\n",
       "      <th>I-nat</th>\n",
       "    </tr>\n",
       "  </thead>\n",
       "  <tbody>\n",
       "    <tr>\n",
       "      <th>not_I-nat</th>\n",
       "      <td>209453</td>\n",
       "      <td>0</td>\n",
       "    </tr>\n",
       "    <tr>\n",
       "      <th>I-nat</th>\n",
       "      <td>11</td>\n",
       "      <td>0</td>\n",
       "    </tr>\n",
       "  </tbody>\n",
       "</table>\n",
       "</div>"
      ],
      "text/plain": [
       "           not_I-nat  I-nat\n",
       "not_I-nat     209453      0\n",
       "I-nat             11      0"
      ]
     },
     "metadata": {},
     "output_type": "display_data"
    },
    {
     "name": "stdout",
     "output_type": "stream",
     "text": [
      "-----------------------------\n",
      "\n",
      "Confusion Matrix for B-gpe\n"
     ]
    },
    {
     "data": {
      "text/html": [
       "<div>\n",
       "<style scoped>\n",
       "    .dataframe tbody tr th:only-of-type {\n",
       "        vertical-align: middle;\n",
       "    }\n",
       "\n",
       "    .dataframe tbody tr th {\n",
       "        vertical-align: top;\n",
       "    }\n",
       "\n",
       "    .dataframe thead th {\n",
       "        text-align: right;\n",
       "    }\n",
       "</style>\n",
       "<table border=\"1\" class=\"dataframe\">\n",
       "  <thead>\n",
       "    <tr style=\"text-align: right;\">\n",
       "      <th></th>\n",
       "      <th>not_B-gpe</th>\n",
       "      <th>B-gpe</th>\n",
       "    </tr>\n",
       "  </thead>\n",
       "  <tbody>\n",
       "    <tr>\n",
       "      <th>not_B-gpe</th>\n",
       "      <td>205472</td>\n",
       "      <td>500</td>\n",
       "    </tr>\n",
       "    <tr>\n",
       "      <th>B-gpe</th>\n",
       "      <td>341</td>\n",
       "      <td>3151</td>\n",
       "    </tr>\n",
       "  </tbody>\n",
       "</table>\n",
       "</div>"
      ],
      "text/plain": [
       "           not_B-gpe  B-gpe\n",
       "not_B-gpe     205472    500\n",
       "B-gpe            341   3151"
      ]
     },
     "metadata": {},
     "output_type": "display_data"
    },
    {
     "name": "stdout",
     "output_type": "stream",
     "text": [
      "-----------------------------\n",
      "\n"
     ]
    }
   ],
   "source": [
    "# Label wise confusin matrix (one vs all fashion)\n",
    "for label_, l_cm in zip(label_names_, mcm_for_test):\n",
    "    col_names_ = [f\"not_{label_}\",label_]\n",
    "    print(f\"Confusion Matrix for {label_}\")\n",
    "    ldf = pd.DataFrame(l_cm, index=col_names_, columns=col_names_)\n",
    "    display(ldf)\n",
    "    print(\"-----------------------------\\n\")"
   ]
  },
  {
   "cell_type": "markdown",
   "id": "ce024a8d-13ea-4f59-92d0-a19123d16595",
   "metadata": {},
   "source": [
    "## K. Testing the Trained Model\n",
    "<p>In this section we will test out <b>trained model</b> on a given sentence in Test Data by its <b>index number</b> on test dataset</p>"
   ]
  },
  {
   "cell_type": "code",
   "execution_count": 112,
   "id": "470e69c3-10e5-447f-9a0b-01ebaabe4365",
   "metadata": {},
   "outputs": [
    {
     "name": "stdout",
     "output_type": "stream",
     "text": [
      "Every test sentence has an index number associated with it.\n",
      "\n",
      "To see the prediction labels for a test sentence,\n",
      "please enter a number, between 0 and 8183\n"
     ]
    }
   ],
   "source": [
    "print(\"Every test sentence has an index number associated with it.\")\n",
    "print(\"\\nTo see the prediction labels for a test sentence,\")\n",
    "print(f\"please enter a number, between 0 and {len(test_sentences)-1}\")"
   ]
  },
  {
   "cell_type": "markdown",
   "id": "9290f57a-0100-4d55-8866-1427ad4a2f12",
   "metadata": {},
   "source": [
    "### 1. Enter the index of test sentence to be tested"
   ]
  },
  {
   "cell_type": "code",
   "execution_count": 113,
   "id": "60fab8bc-6f90-44b9-bb4f-0da55dd1a09c",
   "metadata": {},
   "outputs": [
    {
     "name": "stdin",
     "output_type": "stream",
     "text": [
      "Enter index : 1\n"
     ]
    }
   ],
   "source": [
    "test_sentence_num = int(input (\"Enter index :\") )"
   ]
  },
  {
   "cell_type": "code",
   "execution_count": 114,
   "id": "88b0727f-15c5-41da-8ee7-8bc3f196ea63",
   "metadata": {},
   "outputs": [
    {
     "name": "stdout",
     "output_type": "stream",
     "text": [
      "Entered number is: 1\n",
      "\n",
      "The sentence associated with index 1 is:\n",
      "\n",
      "test sentence: ['Meanwhile', ',', 'Iraq', \"'s\", 'interim', 'government', 'said', 'the', 'country', \"'s\", 'borders', 'will', 'be', 'closed', 'for', 'five', 'days', 'from', 'February', '17', '-', 'apparently', 'to', 'boost', 'security', 'during', 'the', 'major', \"Shi'ite\", 'Muslim', 'religious', 'observance', 'of', 'Ashura', '.']\n",
      "test labels: ['O', 'O', 'B-geo', 'O', 'O', 'O', 'O', 'O', 'O', 'O', 'O', 'O', 'O', 'O', 'O', 'B-tim', 'O', 'B-tim', 'I-tim', 'I-tim', 'I-tim', 'O', 'O', 'O', 'O', 'O', 'O', 'O', 'B-geo', 'I-geo', 'O', 'O', 'B-geo', 'I-geo', 'O']\n"
     ]
    }
   ],
   "source": [
    "print(f\"Entered number is: {test_sentence_num}\\n\")\n",
    "print(f\"The sentence associated with index {test_sentence_num} is:\\n\")\n",
    "test_sentence = test_sentences[test_sentence_num]\n",
    "print(f\"test sentence: {test_sentence}\")\n",
    "test_label = test_labels[test_sentence_num]\n",
    "print(f\"test labels: {test_label}\")"
   ]
  },
  {
   "cell_type": "markdown",
   "id": "d6e8f483-f3e6-44ea-bcdb-d812ed3b5f92",
   "metadata": {},
   "source": [
    "### 2. Checking the Results"
   ]
  },
  {
   "cell_type": "code",
   "execution_count": 115,
   "id": "7d02575c-41fd-40e2-aed0-fdddb4a73258",
   "metadata": {},
   "outputs": [
    {
     "name": "stdout",
     "output_type": "stream",
     "text": [
      "['[CLS]', 'meanwhile', ',', 'iraq', \"'\", 's', 'interim', 'government', 'said', 'the', 'country', \"'\", 's', 'borders', 'will', 'be', 'closed', 'for', 'five', 'days', 'from', 'february', '17', '-', 'apparently', 'to', 'boost', 'security', 'during', 'the', 'major', 'shi', \"'\", 'ite', 'muslim', 'religious', 'observance', 'of', 'ashura', '.', '[SEP]']\n"
     ]
    }
   ],
   "source": [
    "# To see all the columns of pandas df\n",
    "pd.set_option('display.max_columns', None)\n",
    "\n",
    "# Encoding and convert the sentences into tensors\n",
    "sample_sentence = tokenizer.encode(' '.join(test_sentence))\n",
    "sample_input_ids = torch.tensor([sample_sentence]).to(device)\n",
    "\n",
    "\n",
    "# Predicting the test sample using model() function\n",
    "with torch.no_grad():\n",
    "    output = model(sample_input_ids)\n",
    "\n",
    "# Extract the labels\n",
    "label_indices = np.argmax(output[0].to('cpu').numpy(), axis=2)\n",
    "\n",
    "# Function which retrieves key value for our Label Dictionary\n",
    "# Note: For words that don't exist we will simply use the label \"O\"\n",
    "def get_key(val):\n",
    "    for key, value in label2idx.items():\n",
    "         if val == value:\n",
    "             return key\n",
    "    return \"O\"\n",
    "\n",
    "#Tokenize  \n",
    "tokens = tokenizer.convert_ids_to_tokens(sample_input_ids.to('cpu').numpy()[0])\n",
    "new_tokens, new_label = [], []\n",
    "for token, label_idx in zip(tokens, label_indices[0]):\n",
    "    if token.startswith(\"##\"):\n",
    "        new_tokens[-1] = new_tokens[-1] + token[2:]\n",
    "    else:\n",
    "        new_label.append(get_key(label_idx))\n",
    "        new_tokens.append(token)\n",
    "print(new_tokens)\n",
    "\n",
    "#Appending Tokens and Labels\n",
    "sample_token=[]\n",
    "sample_label=[]\n",
    "for token, label in zip(new_tokens, new_label):\n",
    "    sample_token.append(token) \n",
    "    sample_label.append(label)"
   ]
  },
  {
   "cell_type": "markdown",
   "id": "3044440f-8c21-4a7f-90bc-e0586b361926",
   "metadata": {},
   "source": [
    "### 3. Visualize the raw output"
   ]
  },
  {
   "cell_type": "code",
   "execution_count": 116,
   "id": "102f550b-0399-44a4-966c-7ef3fbbba023",
   "metadata": {},
   "outputs": [
    {
     "data": {
      "text/html": [
       "<div>\n",
       "<style scoped>\n",
       "    .dataframe tbody tr th:only-of-type {\n",
       "        vertical-align: middle;\n",
       "    }\n",
       "\n",
       "    .dataframe tbody tr th {\n",
       "        vertical-align: top;\n",
       "    }\n",
       "\n",
       "    .dataframe thead th {\n",
       "        text-align: right;\n",
       "    }\n",
       "</style>\n",
       "<table border=\"1\" class=\"dataframe\">\n",
       "  <thead>\n",
       "    <tr style=\"text-align: right;\">\n",
       "      <th></th>\n",
       "      <th>0</th>\n",
       "      <th>1</th>\n",
       "      <th>2</th>\n",
       "      <th>3</th>\n",
       "      <th>4</th>\n",
       "      <th>5</th>\n",
       "      <th>6</th>\n",
       "      <th>7</th>\n",
       "      <th>8</th>\n",
       "      <th>9</th>\n",
       "      <th>10</th>\n",
       "      <th>11</th>\n",
       "      <th>12</th>\n",
       "      <th>13</th>\n",
       "      <th>14</th>\n",
       "      <th>15</th>\n",
       "      <th>16</th>\n",
       "      <th>17</th>\n",
       "      <th>18</th>\n",
       "      <th>19</th>\n",
       "      <th>20</th>\n",
       "      <th>21</th>\n",
       "      <th>22</th>\n",
       "      <th>23</th>\n",
       "      <th>24</th>\n",
       "      <th>25</th>\n",
       "      <th>26</th>\n",
       "      <th>27</th>\n",
       "      <th>28</th>\n",
       "      <th>29</th>\n",
       "      <th>30</th>\n",
       "      <th>31</th>\n",
       "      <th>32</th>\n",
       "      <th>33</th>\n",
       "      <th>34</th>\n",
       "      <th>35</th>\n",
       "      <th>36</th>\n",
       "      <th>37</th>\n",
       "      <th>38</th>\n",
       "      <th>39</th>\n",
       "      <th>40</th>\n",
       "    </tr>\n",
       "  </thead>\n",
       "  <tbody>\n",
       "    <tr>\n",
       "      <th>Token</th>\n",
       "      <td>[CLS]</td>\n",
       "      <td>meanwhile</td>\n",
       "      <td>,</td>\n",
       "      <td>iraq</td>\n",
       "      <td>'</td>\n",
       "      <td>s</td>\n",
       "      <td>interim</td>\n",
       "      <td>government</td>\n",
       "      <td>said</td>\n",
       "      <td>the</td>\n",
       "      <td>country</td>\n",
       "      <td>'</td>\n",
       "      <td>s</td>\n",
       "      <td>borders</td>\n",
       "      <td>will</td>\n",
       "      <td>be</td>\n",
       "      <td>closed</td>\n",
       "      <td>for</td>\n",
       "      <td>five</td>\n",
       "      <td>days</td>\n",
       "      <td>from</td>\n",
       "      <td>february</td>\n",
       "      <td>17</td>\n",
       "      <td>-</td>\n",
       "      <td>apparently</td>\n",
       "      <td>to</td>\n",
       "      <td>boost</td>\n",
       "      <td>security</td>\n",
       "      <td>during</td>\n",
       "      <td>the</td>\n",
       "      <td>major</td>\n",
       "      <td>shi</td>\n",
       "      <td>'</td>\n",
       "      <td>ite</td>\n",
       "      <td>muslim</td>\n",
       "      <td>religious</td>\n",
       "      <td>observance</td>\n",
       "      <td>of</td>\n",
       "      <td>ashura</td>\n",
       "      <td>.</td>\n",
       "      <td>[SEP]</td>\n",
       "    </tr>\n",
       "    <tr>\n",
       "      <th>sample label</th>\n",
       "      <td>O</td>\n",
       "      <td>O</td>\n",
       "      <td>O</td>\n",
       "      <td>B-geo</td>\n",
       "      <td>O</td>\n",
       "      <td>O</td>\n",
       "      <td>O</td>\n",
       "      <td>O</td>\n",
       "      <td>O</td>\n",
       "      <td>O</td>\n",
       "      <td>O</td>\n",
       "      <td>O</td>\n",
       "      <td>O</td>\n",
       "      <td>O</td>\n",
       "      <td>O</td>\n",
       "      <td>O</td>\n",
       "      <td>O</td>\n",
       "      <td>O</td>\n",
       "      <td>B-tim</td>\n",
       "      <td>O</td>\n",
       "      <td>O</td>\n",
       "      <td>B-tim</td>\n",
       "      <td>I-tim</td>\n",
       "      <td>O</td>\n",
       "      <td>O</td>\n",
       "      <td>O</td>\n",
       "      <td>O</td>\n",
       "      <td>O</td>\n",
       "      <td>O</td>\n",
       "      <td>O</td>\n",
       "      <td>O</td>\n",
       "      <td>O</td>\n",
       "      <td>O</td>\n",
       "      <td>O</td>\n",
       "      <td>O</td>\n",
       "      <td>O</td>\n",
       "      <td>O</td>\n",
       "      <td>O</td>\n",
       "      <td>B-geo</td>\n",
       "      <td>O</td>\n",
       "      <td>O</td>\n",
       "    </tr>\n",
       "  </tbody>\n",
       "</table>\n",
       "</div>"
      ],
      "text/plain": [
       "                 0          1  2      3  4  5        6           7     8   \\\n",
       "Token         [CLS]  meanwhile  ,   iraq  '  s  interim  government  said   \n",
       "sample label      O          O  O  B-geo  O  O        O           O     O   \n",
       "\n",
       "               9        10 11 12       13    14  15      16   17     18    19  \\\n",
       "Token         the  country  '  s  borders  will  be  closed  for   five  days   \n",
       "sample label    O        O  O  O        O     O   O       O    O  B-tim     O   \n",
       "\n",
       "                20        21     22 23          24  25     26        27  \\\n",
       "Token         from  february     17  -  apparently  to  boost  security   \n",
       "sample label     O     B-tim  I-tim  O           O   O      O         O   \n",
       "\n",
       "                  28   29     30   31 32   33      34         35          36  \\\n",
       "Token         during  the  major  shi  '  ite  muslim  religious  observance   \n",
       "sample label       O    O      O    O  O    O       O          O           O   \n",
       "\n",
       "              37      38 39     40  \n",
       "Token         of  ashura  .  [SEP]  \n",
       "sample label   O   B-geo  O      O  "
      ]
     },
     "execution_count": 116,
     "metadata": {},
     "output_type": "execute_result"
    }
   ],
   "source": [
    "df=pd.DataFrame({\"Token\":sample_token,\"sample label\":sample_label})\n",
    "df.T"
   ]
  },
  {
   "cell_type": "markdown",
   "id": "bc9f602e-d2ad-426e-9f21-c70aa531eeee",
   "metadata": {},
   "source": [
    "### 4. Processing Raw Prediction\n",
    "\n",
    "<p>As we can see in the <b>raw output</b>, the total number of tokens can be <b>greater</b> than the length of test sentence.\n",
    "    \n",
    "As per the requirements of the Project, we need to ensure that individual <font color=brown>word pieces</font> are futher clubbed\n",
    "into <font color=brown>one single word</font> (as present in the original test sentence) so that length of sample token is equal\n",
    "to length of clean tokens. Hence we will create a function to achieve the same.\n",
    "\n",
    "Also we don't need <b>special tokens</b> at the begining and at the end of a sentence.\n",
    "</p>"
   ]
  },
  {
   "cell_type": "code",
   "execution_count": 117,
   "id": "4a20ca04-07e9-4bc8-a908-78748f3b9095",
   "metadata": {},
   "outputs": [],
   "source": [
    "def preprocess_raw_prediction(test_sentence, sample_token, sample_label):\n",
    "    # remove special tokens and corresponding labels\n",
    "    # they are not required\n",
    "    filter_tokens = sample_token[1:-1]\n",
    "    filter_labels = sample_label[1:-1]\n",
    "\n",
    "    # Result stored in list as token, label pair\n",
    "    res = []\n",
    "    # initial index for list of sample tokens\n",
    "    tok_idx = 0\n",
    "    \n",
    "    # iterate through each token of test sentence\n",
    "    for word in test_sentence:\n",
    "        # pair to store the current word and its label\n",
    "        pair = tuple()\n",
    "        # check the length of current word\n",
    "        word_len = len(word)\n",
    "        # check the length of current token in sample tokens\n",
    "        tok_len = len(filter_tokens[tok_idx])\n",
    "\n",
    "        # Note: We are using the strategy that will\n",
    "        # assume that 1st word piece label is the \n",
    "        # label for the entire word.\n",
    "        # Hence, get the label for current token\n",
    "        tok_labl =  filter_labels[tok_idx]\n",
    "\n",
    "        # update the pair\n",
    "        pair = (word, tok_labl)\n",
    "\n",
    "        # increment the idx till word_len becomes equal to tok len\n",
    "        while word_len > tok_len:\n",
    "            # increment token idex\n",
    "            tok_idx +=1\n",
    "            # add the length of next token\n",
    "            tok_len += len(filter_tokens[tok_idx])\n",
    "        tok_idx+=1\n",
    "        res.append(pair)\n",
    "    return res"
   ]
  },
  {
   "cell_type": "markdown",
   "id": "35655554-254c-4176-b0ec-f987fd0ef365",
   "metadata": {},
   "source": [
    "#### 5. Compute the clean Prediction"
   ]
  },
  {
   "cell_type": "code",
   "execution_count": 118,
   "id": "18c13435-7866-40f5-a5ed-1c9ecf0a8d3e",
   "metadata": {},
   "outputs": [
    {
     "name": "stdout",
     "output_type": "stream",
     "text": [
      "[('Meanwhile', 'O'), (',', 'O'), ('Iraq', 'B-geo'), (\"'s\", 'O'), ('interim', 'O'), ('government', 'O'), ('said', 'O'), ('the', 'O'), ('country', 'O'), (\"'s\", 'O'), ('borders', 'O'), ('will', 'O'), ('be', 'O'), ('closed', 'O'), ('for', 'O'), ('five', 'B-tim'), ('days', 'O'), ('from', 'O'), ('February', 'B-tim'), ('17', 'I-tim'), ('-', 'O'), ('apparently', 'O'), ('to', 'O'), ('boost', 'O'), ('security', 'O'), ('during', 'O'), ('the', 'O'), ('major', 'O'), (\"Shi'ite\", 'O'), ('Muslim', 'O'), ('religious', 'O'), ('observance', 'O'), ('of', 'O'), ('Ashura', 'B-geo'), ('.', 'O')]\n"
     ]
    }
   ],
   "source": [
    "# compute the prediction result\n",
    "res = preprocess_raw_prediction(test_sentence, sample_token, sample_label)\n",
    "# print token and their predicted label in pairs\n",
    "print(res)"
   ]
  },
  {
   "cell_type": "markdown",
   "id": "2b55020a-c6d0-4bf2-bf44-d92aaf99ea8e",
   "metadata": {},
   "source": [
    "### 6. View clean Predictions as a DataFrame"
   ]
  },
  {
   "cell_type": "code",
   "execution_count": 119,
   "id": "1b45cbf9-68f9-48f0-ae81-9efbc2d92b04",
   "metadata": {},
   "outputs": [
    {
     "data": {
      "text/html": [
       "<div>\n",
       "<style scoped>\n",
       "    .dataframe tbody tr th:only-of-type {\n",
       "        vertical-align: middle;\n",
       "    }\n",
       "\n",
       "    .dataframe tbody tr th {\n",
       "        vertical-align: top;\n",
       "    }\n",
       "\n",
       "    .dataframe thead th {\n",
       "        text-align: right;\n",
       "    }\n",
       "</style>\n",
       "<table border=\"1\" class=\"dataframe\">\n",
       "  <thead>\n",
       "    <tr style=\"text-align: right;\">\n",
       "      <th></th>\n",
       "      <th>0</th>\n",
       "      <th>1</th>\n",
       "      <th>2</th>\n",
       "      <th>3</th>\n",
       "      <th>4</th>\n",
       "      <th>5</th>\n",
       "      <th>6</th>\n",
       "      <th>7</th>\n",
       "      <th>8</th>\n",
       "      <th>9</th>\n",
       "      <th>10</th>\n",
       "      <th>11</th>\n",
       "      <th>12</th>\n",
       "      <th>13</th>\n",
       "      <th>14</th>\n",
       "      <th>15</th>\n",
       "      <th>16</th>\n",
       "      <th>17</th>\n",
       "      <th>18</th>\n",
       "      <th>19</th>\n",
       "      <th>20</th>\n",
       "      <th>21</th>\n",
       "      <th>22</th>\n",
       "      <th>23</th>\n",
       "      <th>24</th>\n",
       "      <th>25</th>\n",
       "      <th>26</th>\n",
       "      <th>27</th>\n",
       "      <th>28</th>\n",
       "      <th>29</th>\n",
       "      <th>30</th>\n",
       "      <th>31</th>\n",
       "      <th>32</th>\n",
       "      <th>33</th>\n",
       "      <th>34</th>\n",
       "    </tr>\n",
       "  </thead>\n",
       "  <tbody>\n",
       "    <tr>\n",
       "      <th>Token</th>\n",
       "      <td>Meanwhile</td>\n",
       "      <td>,</td>\n",
       "      <td>Iraq</td>\n",
       "      <td>'s</td>\n",
       "      <td>interim</td>\n",
       "      <td>government</td>\n",
       "      <td>said</td>\n",
       "      <td>the</td>\n",
       "      <td>country</td>\n",
       "      <td>'s</td>\n",
       "      <td>borders</td>\n",
       "      <td>will</td>\n",
       "      <td>be</td>\n",
       "      <td>closed</td>\n",
       "      <td>for</td>\n",
       "      <td>five</td>\n",
       "      <td>days</td>\n",
       "      <td>from</td>\n",
       "      <td>February</td>\n",
       "      <td>17</td>\n",
       "      <td>-</td>\n",
       "      <td>apparently</td>\n",
       "      <td>to</td>\n",
       "      <td>boost</td>\n",
       "      <td>security</td>\n",
       "      <td>during</td>\n",
       "      <td>the</td>\n",
       "      <td>major</td>\n",
       "      <td>Shi'ite</td>\n",
       "      <td>Muslim</td>\n",
       "      <td>religious</td>\n",
       "      <td>observance</td>\n",
       "      <td>of</td>\n",
       "      <td>Ashura</td>\n",
       "      <td>.</td>\n",
       "    </tr>\n",
       "    <tr>\n",
       "      <th>Pred_Label</th>\n",
       "      <td>O</td>\n",
       "      <td>O</td>\n",
       "      <td>B-geo</td>\n",
       "      <td>O</td>\n",
       "      <td>O</td>\n",
       "      <td>O</td>\n",
       "      <td>O</td>\n",
       "      <td>O</td>\n",
       "      <td>O</td>\n",
       "      <td>O</td>\n",
       "      <td>O</td>\n",
       "      <td>O</td>\n",
       "      <td>O</td>\n",
       "      <td>O</td>\n",
       "      <td>O</td>\n",
       "      <td>B-tim</td>\n",
       "      <td>O</td>\n",
       "      <td>O</td>\n",
       "      <td>B-tim</td>\n",
       "      <td>I-tim</td>\n",
       "      <td>O</td>\n",
       "      <td>O</td>\n",
       "      <td>O</td>\n",
       "      <td>O</td>\n",
       "      <td>O</td>\n",
       "      <td>O</td>\n",
       "      <td>O</td>\n",
       "      <td>O</td>\n",
       "      <td>O</td>\n",
       "      <td>O</td>\n",
       "      <td>O</td>\n",
       "      <td>O</td>\n",
       "      <td>O</td>\n",
       "      <td>B-geo</td>\n",
       "      <td>O</td>\n",
       "    </tr>\n",
       "  </tbody>\n",
       "</table>\n",
       "</div>"
      ],
      "text/plain": [
       "                   0  1      2   3        4           5     6    7        8   \\\n",
       "Token       Meanwhile  ,   Iraq  's  interim  government  said  the  country   \n",
       "Pred_Label          O  O  B-geo   O        O           O     O    O        O   \n",
       "\n",
       "            9        10    11  12      13   14     15    16    17        18  \\\n",
       "Token       's  borders  will  be  closed  for   five  days  from  February   \n",
       "Pred_Label   O        O     O   O       O    O  B-tim     O     O     B-tim   \n",
       "\n",
       "               19 20          21  22     23        24      25   26     27  \\\n",
       "Token          17  -  apparently  to  boost  security  during  the  major   \n",
       "Pred_Label  I-tim  O           O   O      O         O       O    O      O   \n",
       "\n",
       "                 28      29         30          31  32      33 34  \n",
       "Token       Shi'ite  Muslim  religious  observance  of  Ashura  .  \n",
       "Pred_Label        O       O          O           O   O   B-geo  O  "
      ]
     },
     "execution_count": 119,
     "metadata": {},
     "output_type": "execute_result"
    }
   ],
   "source": [
    "# create DataFrame using data\n",
    "df = pd.DataFrame(data=res, columns=['Token','Pred_Label'])\n",
    "df.T"
   ]
  },
  {
   "cell_type": "markdown",
   "id": "b02b6178-739b-4b63-8cd2-cbe3233d442e",
   "metadata": {},
   "source": [
    "##### ********************************* Testing Ends Here ******************************************************"
   ]
  },
  {
   "cell_type": "markdown",
   "id": "a214d739-a44c-4f0a-bf2f-9f1637dc2df0",
   "metadata": {},
   "source": [
    "## L. Helper Functions to cosolidate the logic we have defined in above cells\n",
    "<p>\n",
    "We will create the following functions:\n",
    "    \n",
    "1. <b>create_input_ids</b> - Function to create <font color=brown>Input Ids</font> for a given sentence\n",
    "2. <b>make_raw_prediction</b> - Function to compute <font color=brown>raw predictions</font>\n",
    "3. <b>make_prediction</b> - Function to compute <font color=brown>CLEAN predictions</font> (as required by the Project)\n",
    "\n",
    "And then we will check the final prediction on the test sentence that\n",
    "we used in Testing Phase defined above\n",
    "</p>"
   ]
  },
  {
   "cell_type": "markdown",
   "id": "d861b0e2-6916-42dc-9888-52b1d2f09643",
   "metadata": {},
   "source": [
    "#### 1. Create a function to produce input id sample for a sentence"
   ]
  },
  {
   "cell_type": "code",
   "execution_count": 120,
   "id": "2b0261f6-fbc9-4dac-bbc0-f7f0ded50fb5",
   "metadata": {},
   "outputs": [],
   "source": [
    "def create_input_ids(sentence, tokenizer):\n",
    "    \"\"\"\n",
    "    Create sample input ids for a given sentence using the tokenizer\n",
    "    \"\"\"\n",
    "    # Encoding and convert the sentences into tensors\n",
    "    sample_sentence = tokenizer.encode(' '.join(sentence))\n",
    "    sample_input_ids = torch.tensor([sample_sentence])\n",
    "    \n",
    "    return sample_input_ids"
   ]
  },
  {
   "cell_type": "markdown",
   "id": "b72fd2e5-a781-4bc1-873f-1115fada1f98",
   "metadata": {},
   "source": [
    "#### 2. Create a function to produce raw prediction for a sentence"
   ]
  },
  {
   "cell_type": "code",
   "execution_count": 121,
   "id": "7330377a-09ae-4b14-8ddc-445bc73dfe36",
   "metadata": {},
   "outputs": [],
   "source": [
    "def make_raw_prediction(sentence, model, tokenizer, unseen_word_label='O', device='cpu'):\n",
    "    \n",
    "    # Function which retrieves key value for our Label Dictionary\n",
    "    def get_key(val):\n",
    "        for key, value in label2idx.items():\n",
    "             if val == value:\n",
    "                 return key\n",
    "        return unseen_word_label\n",
    "\n",
    "    try:\n",
    "        device = torch.device(device)\n",
    "    except:\n",
    "        print(f\"unable to move to device {device}. Hence using cpu.\")\n",
    "        device = torch.device('cpu')\n",
    "\n",
    "    # move model to device\n",
    "    model.to(device)\n",
    "    \n",
    "    # Create sample input ids\n",
    "    sample_input_ids = create_input_ids(sentence, tokenizer)\n",
    "\n",
    "    # move the input ids to device\n",
    "    sample_input_ids.to(device)\n",
    "    \n",
    "    # Predicting the test sample using model() function\n",
    "    with torch.no_grad():\n",
    "        output = model(sample_input_ids)\n",
    "\n",
    "    # Extract the labels\n",
    "    label_indices = np.argmax(output[0].to('cpu').numpy(), axis=2)\n",
    "    \n",
    "    #Tokenize  \n",
    "    tokens = tokenizer.convert_ids_to_tokens(sample_input_ids.to('cpu').numpy()[0])\n",
    "\n",
    "    # We need to club wordpieces starting with \"##' in a single word\n",
    "    new_tokens, new_label = [], []\n",
    "    for token, label_idx in zip(tokens, label_indices[0]):\n",
    "        if token.startswith(\"##\"):\n",
    "            new_tokens[-1] = new_tokens[-1] + token[2:]\n",
    "        else:\n",
    "            new_label.append(get_key(label_idx))\n",
    "            new_tokens.append(token)\n",
    "\n",
    "    #Appending Tokens and Labels\n",
    "    sample_token=[]\n",
    "    sample_label=[]\n",
    "    for token, label in zip(new_tokens, new_label):\n",
    "        sample_token.append(token) \n",
    "        sample_label.append(label)\n",
    "        \n",
    "    return sample_token, sample_label"
   ]
  },
  {
   "cell_type": "markdown",
   "id": "c4942327-f0d2-4d83-ba56-ca25b7e61ae1",
   "metadata": {},
   "source": [
    "#### 3. Create a function to compute clean prediction for a sentence"
   ]
  },
  {
   "cell_type": "code",
   "execution_count": 137,
   "id": "d951c755-bd29-430e-96fe-e6f8aee6ec6b",
   "metadata": {},
   "outputs": [],
   "source": [
    "def make_prediction(sentence, model, tokenizer, unseen_word_label='O', sent_delimiter=\" \", device='cpu'):\n",
    "    \n",
    "    # check if sentence is a list of words\n",
    "    if isinstance(sentence, str):\n",
    "        # create the string\n",
    "        sentence = sentence.strip().split(sent_delimiter)\n",
    "\n",
    "    # compute raw predictions\n",
    "    sample_token, sample_label = make_raw_prediction(sentence, model, tokenizer, unseen_word_label, device)\n",
    "\n",
    "    # preprocess raw prediction to make clean predictions\n",
    "    clean_pred_ = preprocess_raw_prediction(sentence, sample_token, sample_label)\n",
    "\n",
    "    return clean_pred_"
   ]
  },
  {
   "cell_type": "markdown",
   "id": "a39bf857-df50-494d-9f79-f1ef4bfbe857",
   "metadata": {},
   "source": [
    "#### 4. Lets check the make prediction function\n",
    "<p>We will use the <b>same</b> test sentence that we used in testing phase, so that we can <b>verify</b> the result of the functions created above.</p>"
   ]
  },
  {
   "cell_type": "code",
   "execution_count": 123,
   "id": "c8873ec8-692a-4280-aa23-3f1e44796c00",
   "metadata": {},
   "outputs": [
    {
     "name": "stdout",
     "output_type": "stream",
     "text": [
      "test sentence:\n",
      " Meanwhile , Iraq 's interim government said the country 's borders will be closed for five days from February 17 - apparently to boost security during the major Shi'ite Muslim religious observance of Ashura .\n",
      "\n",
      "Token - Predicted Label Results\n"
     ]
    },
    {
     "data": {
      "text/html": [
       "<div>\n",
       "<style scoped>\n",
       "    .dataframe tbody tr th:only-of-type {\n",
       "        vertical-align: middle;\n",
       "    }\n",
       "\n",
       "    .dataframe tbody tr th {\n",
       "        vertical-align: top;\n",
       "    }\n",
       "\n",
       "    .dataframe thead th {\n",
       "        text-align: right;\n",
       "    }\n",
       "</style>\n",
       "<table border=\"1\" class=\"dataframe\">\n",
       "  <thead>\n",
       "    <tr style=\"text-align: right;\">\n",
       "      <th></th>\n",
       "      <th>0</th>\n",
       "      <th>1</th>\n",
       "      <th>2</th>\n",
       "      <th>3</th>\n",
       "      <th>4</th>\n",
       "      <th>5</th>\n",
       "      <th>6</th>\n",
       "      <th>7</th>\n",
       "      <th>8</th>\n",
       "      <th>9</th>\n",
       "      <th>10</th>\n",
       "      <th>11</th>\n",
       "      <th>12</th>\n",
       "      <th>13</th>\n",
       "      <th>14</th>\n",
       "      <th>15</th>\n",
       "      <th>16</th>\n",
       "      <th>17</th>\n",
       "      <th>18</th>\n",
       "      <th>19</th>\n",
       "      <th>20</th>\n",
       "      <th>21</th>\n",
       "      <th>22</th>\n",
       "      <th>23</th>\n",
       "      <th>24</th>\n",
       "      <th>25</th>\n",
       "      <th>26</th>\n",
       "      <th>27</th>\n",
       "      <th>28</th>\n",
       "      <th>29</th>\n",
       "      <th>30</th>\n",
       "      <th>31</th>\n",
       "      <th>32</th>\n",
       "      <th>33</th>\n",
       "      <th>34</th>\n",
       "    </tr>\n",
       "  </thead>\n",
       "  <tbody>\n",
       "    <tr>\n",
       "      <th>Token</th>\n",
       "      <td>Meanwhile</td>\n",
       "      <td>,</td>\n",
       "      <td>Iraq</td>\n",
       "      <td>'s</td>\n",
       "      <td>interim</td>\n",
       "      <td>government</td>\n",
       "      <td>said</td>\n",
       "      <td>the</td>\n",
       "      <td>country</td>\n",
       "      <td>'s</td>\n",
       "      <td>borders</td>\n",
       "      <td>will</td>\n",
       "      <td>be</td>\n",
       "      <td>closed</td>\n",
       "      <td>for</td>\n",
       "      <td>five</td>\n",
       "      <td>days</td>\n",
       "      <td>from</td>\n",
       "      <td>February</td>\n",
       "      <td>17</td>\n",
       "      <td>-</td>\n",
       "      <td>apparently</td>\n",
       "      <td>to</td>\n",
       "      <td>boost</td>\n",
       "      <td>security</td>\n",
       "      <td>during</td>\n",
       "      <td>the</td>\n",
       "      <td>major</td>\n",
       "      <td>Shi'ite</td>\n",
       "      <td>Muslim</td>\n",
       "      <td>religious</td>\n",
       "      <td>observance</td>\n",
       "      <td>of</td>\n",
       "      <td>Ashura</td>\n",
       "      <td>.</td>\n",
       "    </tr>\n",
       "    <tr>\n",
       "      <th>Pred_Label</th>\n",
       "      <td>O</td>\n",
       "      <td>O</td>\n",
       "      <td>B-geo</td>\n",
       "      <td>O</td>\n",
       "      <td>O</td>\n",
       "      <td>O</td>\n",
       "      <td>O</td>\n",
       "      <td>O</td>\n",
       "      <td>O</td>\n",
       "      <td>O</td>\n",
       "      <td>O</td>\n",
       "      <td>O</td>\n",
       "      <td>O</td>\n",
       "      <td>O</td>\n",
       "      <td>O</td>\n",
       "      <td>B-tim</td>\n",
       "      <td>O</td>\n",
       "      <td>O</td>\n",
       "      <td>B-tim</td>\n",
       "      <td>I-tim</td>\n",
       "      <td>O</td>\n",
       "      <td>O</td>\n",
       "      <td>O</td>\n",
       "      <td>O</td>\n",
       "      <td>O</td>\n",
       "      <td>O</td>\n",
       "      <td>O</td>\n",
       "      <td>O</td>\n",
       "      <td>O</td>\n",
       "      <td>O</td>\n",
       "      <td>O</td>\n",
       "      <td>O</td>\n",
       "      <td>O</td>\n",
       "      <td>B-geo</td>\n",
       "      <td>O</td>\n",
       "    </tr>\n",
       "  </tbody>\n",
       "</table>\n",
       "</div>"
      ],
      "text/plain": [
       "                   0  1      2   3        4           5     6    7        8   \\\n",
       "Token       Meanwhile  ,   Iraq  's  interim  government  said  the  country   \n",
       "Pred_Label          O  O  B-geo   O        O           O     O    O        O   \n",
       "\n",
       "            9        10    11  12      13   14     15    16    17        18  \\\n",
       "Token       's  borders  will  be  closed  for   five  days  from  February   \n",
       "Pred_Label   O        O     O   O       O    O  B-tim     O     O     B-tim   \n",
       "\n",
       "               19 20          21  22     23        24      25   26     27  \\\n",
       "Token          17  -  apparently  to  boost  security  during  the  major   \n",
       "Pred_Label  I-tim  O           O   O      O         O       O    O      O   \n",
       "\n",
       "                 28      29         30          31  32      33 34  \n",
       "Token       Shi'ite  Muslim  religious  observance  of  Ashura  .  \n",
       "Pred_Label        O       O          O           O   O   B-geo  O  "
      ]
     },
     "execution_count": 123,
     "metadata": {},
     "output_type": "execute_result"
    }
   ],
   "source": [
    "# display the test sentence\n",
    "print(f\"test sentence:\\n {\" \".join(test_sentence)}\")\n",
    "\n",
    "# compute the clean predictions using the function 'make prediction'\n",
    "pred_ = make_prediction(test_sentence, model, tokenizer, device='cpu')\n",
    "\n",
    "# create dataframe for pred_ for better viewing\n",
    "print(\"\\nToken - Predicted Label Results\")\n",
    "df = pd.DataFrame(data=pred_, columns=['Token','Pred_Label'])\n",
    "df.T"
   ]
  },
  {
   "cell_type": "markdown",
   "id": "653f4af9-d78b-4be4-9366-f687ccb3e406",
   "metadata": {},
   "source": [
    "# M. Inference\n",
    "\n",
    "<p>\n",
    "    The most <b>advantageous</b> aspect is the ability to swiftly evaluate the model using novel, previously <b>unencountered</b> sentences. In this\n",
    "    context, we utilize the prediction of the initial word piece for each word.\n",
    "</p>"
   ]
  },
  {
   "cell_type": "markdown",
   "id": "90e64c7d-7691-47e3-94dc-11b46f4acd4d",
   "metadata": {},
   "source": [
    "### 1. Enter any sentence"
   ]
  },
  {
   "cell_type": "code",
   "execution_count": 140,
   "id": "c12b27a4-5244-4f17-a29f-55bec9e9fbc1",
   "metadata": {},
   "outputs": [
    {
     "name": "stdin",
     "output_type": "stream",
     "text": [
      "Enter any sentence: The company Sapient was founded on November 6, 1990, by Jerry Greenberg and J. Stuart Moore in Cambridge, Massachusetts\n"
     ]
    }
   ],
   "source": [
    "sent_ = input(\"Enter any sentence:\")"
   ]
  },
  {
   "cell_type": "code",
   "execution_count": 141,
   "id": "90a3afb7-68c3-430e-bb18-2790b4a2ef88",
   "metadata": {},
   "outputs": [
    {
     "name": "stdout",
     "output_type": "stream",
     "text": [
      "The sentence entered is:\n",
      " The company Sapient was founded on November 6, 1990, by Jerry Greenberg and J. Stuart Moore in Cambridge, Massachusetts\n"
     ]
    }
   ],
   "source": [
    "print(f\"The sentence entered is:\\n {sent_}\")\n",
    "\n",
    "# compute label predictions\n",
    "pred_labels_ = make_prediction(sent_, model=model, tokenizer=tokenizer, device='cpu')"
   ]
  },
  {
   "cell_type": "markdown",
   "id": "cedc1ffc-b9d5-47dc-98ca-f0feedc83903",
   "metadata": {},
   "source": [
    "### 2. View Results as DataFrame"
   ]
  },
  {
   "cell_type": "code",
   "execution_count": 126,
   "id": "29746ac7-bed6-4f4d-9a3d-135e84528adf",
   "metadata": {},
   "outputs": [
    {
     "data": {
      "text/html": [
       "<div>\n",
       "<style scoped>\n",
       "    .dataframe tbody tr th:only-of-type {\n",
       "        vertical-align: middle;\n",
       "    }\n",
       "\n",
       "    .dataframe tbody tr th {\n",
       "        vertical-align: top;\n",
       "    }\n",
       "\n",
       "    .dataframe thead th {\n",
       "        text-align: right;\n",
       "    }\n",
       "</style>\n",
       "<table border=\"1\" class=\"dataframe\">\n",
       "  <thead>\n",
       "    <tr style=\"text-align: right;\">\n",
       "      <th></th>\n",
       "      <th>0</th>\n",
       "      <th>1</th>\n",
       "      <th>2</th>\n",
       "      <th>3</th>\n",
       "      <th>4</th>\n",
       "      <th>5</th>\n",
       "      <th>6</th>\n",
       "      <th>7</th>\n",
       "      <th>8</th>\n",
       "      <th>9</th>\n",
       "      <th>10</th>\n",
       "      <th>11</th>\n",
       "      <th>12</th>\n",
       "      <th>13</th>\n",
       "      <th>14</th>\n",
       "      <th>15</th>\n",
       "      <th>16</th>\n",
       "      <th>17</th>\n",
       "      <th>18</th>\n",
       "    </tr>\n",
       "  </thead>\n",
       "  <tbody>\n",
       "    <tr>\n",
       "      <th>Token</th>\n",
       "      <td>The</td>\n",
       "      <td>company</td>\n",
       "      <td>Sapient</td>\n",
       "      <td>was</td>\n",
       "      <td>founded</td>\n",
       "      <td>on</td>\n",
       "      <td>November</td>\n",
       "      <td>6,</td>\n",
       "      <td>1990,</td>\n",
       "      <td>by</td>\n",
       "      <td>Jerry</td>\n",
       "      <td>Greenberg</td>\n",
       "      <td>and</td>\n",
       "      <td>J.</td>\n",
       "      <td>Stuart</td>\n",
       "      <td>Moore</td>\n",
       "      <td>in</td>\n",
       "      <td>Cambridge,</td>\n",
       "      <td>Massachusetts</td>\n",
       "    </tr>\n",
       "    <tr>\n",
       "      <th>Labels</th>\n",
       "      <td>O</td>\n",
       "      <td>O</td>\n",
       "      <td>B-org</td>\n",
       "      <td>O</td>\n",
       "      <td>O</td>\n",
       "      <td>O</td>\n",
       "      <td>B-tim</td>\n",
       "      <td>I-tim</td>\n",
       "      <td>I-tim</td>\n",
       "      <td>O</td>\n",
       "      <td>B-per</td>\n",
       "      <td>I-per</td>\n",
       "      <td>O</td>\n",
       "      <td>B-per</td>\n",
       "      <td>I-per</td>\n",
       "      <td>I-per</td>\n",
       "      <td>O</td>\n",
       "      <td>B-geo</td>\n",
       "      <td>B-geo</td>\n",
       "    </tr>\n",
       "  </tbody>\n",
       "</table>\n",
       "</div>"
      ],
      "text/plain": [
       "         0        1        2    3        4   5         6      7      8   9   \\\n",
       "Token   The  company  Sapient  was  founded  on  November     6,  1990,  by   \n",
       "Labels    O        O    B-org    O        O   O     B-tim  I-tim  I-tim   O   \n",
       "\n",
       "           10         11   12     13      14     15  16          17  \\\n",
       "Token   Jerry  Greenberg  and     J.  Stuart  Moore  in  Cambridge,   \n",
       "Labels  B-per      I-per    O  B-per   I-per  I-per   O       B-geo   \n",
       "\n",
       "                   18  \n",
       "Token   Massachusetts  \n",
       "Labels          B-geo  "
      ]
     },
     "execution_count": 126,
     "metadata": {},
     "output_type": "execute_result"
    }
   ],
   "source": [
    "# compute the predictions\n",
    "pred_df_ = pd.DataFrame(data=pred_labels_, columns=['Token', 'Labels'])\n",
    "pred_df_.T"
   ]
  },
  {
   "cell_type": "markdown",
   "id": "b08e6b86-5010-4fd8-b1c1-1b95358eb5cc",
   "metadata": {},
   "source": [
    "<p> The <b>results</b> are very promising &#x1F60A</p>"
   ]
  },
  {
   "cell_type": "markdown",
   "id": "344ccc1a-ef47-40e1-bd14-8cefc346e7f8",
   "metadata": {},
   "source": [
    "## N. Saving And loading Utilities for the Model and Tokenizer"
   ]
  },
  {
   "cell_type": "markdown",
   "id": "fcdab399-10e5-4946-a6ed-8d7a65246d4c",
   "metadata": {},
   "source": [
    "#### 1. Function to save and load the model & tokenizer"
   ]
  },
  {
   "cell_type": "code",
   "execution_count": 127,
   "id": "e0a5316c-a8a5-4d2c-9a67-0120fbbcedcb",
   "metadata": {},
   "outputs": [],
   "source": [
    "def save_model(model, saved_model_path):\n",
    "    try:\n",
    "        # save the state dict\n",
    "        model.save_pretrained(saved_model_path)\n",
    "        print(f\"model saved successfully at {saved_model_path} ...\")\n",
    "        return True\n",
    "    except Exception as e:\n",
    "        print(f\"ERROR: {e}\")\n",
    "        print(\"unable to save the model..\")\n",
    "    return False\n",
    "\n",
    "def load_model(saved_model_path):\n",
    "    try:\n",
    "        # load the state dict\n",
    "        model = BertForTokenClassification.from_pretrained(saved_model_path)\n",
    "        print(\"model loaded successfully\")\n",
    "        return model\n",
    "    except Exception as e:\n",
    "        print(f\"ERROR: {e}\")\n",
    "        print(\"unable to load the model..\")\n",
    "        return False\n",
    "\n",
    "\n",
    "def save_tokenizer(tokenizer, saved_tokenizer_path):\n",
    "    try:\n",
    "        # save the state dict\n",
    "        tokenizer.save_pretrained(saved_tokenizer_path, save_tokenizer=True)\n",
    "        print(f\"tokenizer saved successfully at {saved_tokenizer_path} ...\")\n",
    "        return True\n",
    "    except Exception as e:\n",
    "        print(f\"ERROR: {e}\")\n",
    "        print(\"unable to save the model..\")\n",
    "    return False\n",
    "\n",
    "\n",
    "def load_tokenizer(saved_tokenizer_path):\n",
    "    try:\n",
    "        # load the state dict\n",
    "        tokenizer = BertTokenizer.from_pretrained(saved_tokenizer_path)\n",
    "        print(\"tokenizer loaded successfully\")\n",
    "        return tokenizer\n",
    "    except Exception as e:\n",
    "        print(f\"ERROR: {e}\")\n",
    "        print(\"unable to load the tokenizer..\")\n",
    "        return False"
   ]
  },
  {
   "cell_type": "markdown",
   "id": "e8e2fdc1-1716-4182-89bd-139b8153e2b5",
   "metadata": {},
   "source": [
    "#### 2. Save the trained model"
   ]
  },
  {
   "cell_type": "code",
   "execution_count": 128,
   "id": "b2afd05d-05a3-4f5b-b1ef-50c13c29a4e7",
   "metadata": {},
   "outputs": [
    {
     "name": "stdout",
     "output_type": "stream",
     "text": [
      "model saved successfully at /Users/akg/jupyter/company_interview/sapient/bert_ner/BERT_NER_L_12 ...\n"
     ]
    },
    {
     "data": {
      "text/plain": [
       "True"
      ]
     },
     "execution_count": 128,
     "metadata": {},
     "output_type": "execute_result"
    }
   ],
   "source": [
    "dir_to_save = \"/Users/akg/jupyter/company_interview/sapient/bert_ner\"\n",
    "model_name = \"BERT_NER_L_12\"\n",
    "\n",
    "model_dir_path = f\"{dir_to_save}/{model_name}\"\n",
    "\n",
    "# save the model\n",
    "save_model(model=model, saved_model_path=model_dir_path)"
   ]
  },
  {
   "cell_type": "markdown",
   "id": "549544b4-ab97-46c2-92fa-9f13119bc591",
   "metadata": {},
   "source": [
    "#### 3. Save the Tokenizer"
   ]
  },
  {
   "cell_type": "code",
   "execution_count": 129,
   "id": "b368d2ce-33a2-416a-922a-ec66bdb1a55c",
   "metadata": {},
   "outputs": [
    {
     "name": "stdout",
     "output_type": "stream",
     "text": [
      "tokenizer saved successfully at /Users/akg/jupyter/company_interview/sapient/bert_ner/BERT_TOKENIZER ...\n"
     ]
    },
    {
     "data": {
      "text/plain": [
       "True"
      ]
     },
     "execution_count": 129,
     "metadata": {},
     "output_type": "execute_result"
    }
   ],
   "source": [
    "dir_to_save = \"/Users/akg/jupyter/company_interview/sapient/bert_ner\"\n",
    "tokenizer_name = \"BERT_TOKENIZER\"\n",
    "\n",
    "tokenizer_dir_path = f\"{dir_to_save}/{tokenizer_name}\"\n",
    "\n",
    "# save the model\n",
    "save_tokenizer(tokenizer=tokenizer, saved_tokenizer_path=tokenizer_dir_path)"
   ]
  },
  {
   "cell_type": "markdown",
   "id": "fb3e7054-7d6c-481f-8b1f-4d6f4ee579de",
   "metadata": {},
   "source": [
    "#### 4. Load the Model and Tokenizer (for future use)"
   ]
  },
  {
   "cell_type": "code",
   "execution_count": 130,
   "id": "eedb9c5a-fdb8-4f8d-b520-086b93a57cfb",
   "metadata": {},
   "outputs": [
    {
     "name": "stdout",
     "output_type": "stream",
     "text": [
      "model loaded successfully\n",
      "tokenizer loaded successfully\n"
     ]
    }
   ],
   "source": [
    "# load the saved model\n",
    "loaded_model = load_model(model_dir_path)\n",
    "\n",
    "# load the saved tokenizer\n",
    "loaded_tokenizer = load_tokenizer(tokenizer_dir_path)"
   ]
  },
  {
   "cell_type": "markdown",
   "id": "0629bef7-8acc-47fa-9525-2a1b72f67777",
   "metadata": {},
   "source": [
    "#### 5. Lets check the Loaded model and tokenizer"
   ]
  },
  {
   "cell_type": "code",
   "execution_count": 131,
   "id": "a8231486-6084-4da8-826d-71a503aa348c",
   "metadata": {},
   "outputs": [],
   "source": [
    "new_sent_ = \"In 2016 , the company merged two of its divisions , \\\n",
    "SapientNitro and Razorfish to form SapientRazorfish which was led by Alan Wexler .\\\n",
    "A few years later in 2019 , SapientRazorfish and Sapient Consulting were consolidated into one brand , \\\n",
    "Publicis Sapient under the leadership of CEO Nigel Vaz .\""
   ]
  },
  {
   "cell_type": "code",
   "execution_count": 132,
   "id": "f19d5656-1f33-4b11-9cfb-ee0cb7e217fe",
   "metadata": {},
   "outputs": [],
   "source": [
    "# We will use loaded model and loaded tokenizer\n",
    "new_pred_ = make_prediction(sentence=new_sent_, model=loaded_model, tokenizer=loaded_tokenizer, device='cpu')"
   ]
  },
  {
   "cell_type": "markdown",
   "id": "7ec3010e-f123-43c4-a0c2-cd4f2b438f85",
   "metadata": {},
   "source": [
    "#### 6. View pred as DF"
   ]
  },
  {
   "cell_type": "code",
   "execution_count": 133,
   "id": "00af6656-9b55-4ca3-b745-3698d73ddf0e",
   "metadata": {},
   "outputs": [
    {
     "data": {
      "text/html": [
       "<div>\n",
       "<style scoped>\n",
       "    .dataframe tbody tr th:only-of-type {\n",
       "        vertical-align: middle;\n",
       "    }\n",
       "\n",
       "    .dataframe tbody tr th {\n",
       "        vertical-align: top;\n",
       "    }\n",
       "\n",
       "    .dataframe thead th {\n",
       "        text-align: right;\n",
       "    }\n",
       "</style>\n",
       "<table border=\"1\" class=\"dataframe\">\n",
       "  <thead>\n",
       "    <tr style=\"text-align: right;\">\n",
       "      <th></th>\n",
       "      <th>0</th>\n",
       "      <th>1</th>\n",
       "      <th>2</th>\n",
       "      <th>3</th>\n",
       "      <th>4</th>\n",
       "      <th>5</th>\n",
       "      <th>6</th>\n",
       "      <th>7</th>\n",
       "      <th>8</th>\n",
       "      <th>9</th>\n",
       "      <th>10</th>\n",
       "      <th>11</th>\n",
       "      <th>12</th>\n",
       "      <th>13</th>\n",
       "      <th>14</th>\n",
       "      <th>15</th>\n",
       "      <th>16</th>\n",
       "      <th>17</th>\n",
       "      <th>18</th>\n",
       "      <th>19</th>\n",
       "      <th>20</th>\n",
       "      <th>21</th>\n",
       "      <th>22</th>\n",
       "      <th>23</th>\n",
       "      <th>24</th>\n",
       "      <th>25</th>\n",
       "      <th>26</th>\n",
       "      <th>27</th>\n",
       "      <th>28</th>\n",
       "      <th>29</th>\n",
       "      <th>30</th>\n",
       "      <th>31</th>\n",
       "      <th>32</th>\n",
       "      <th>33</th>\n",
       "      <th>34</th>\n",
       "      <th>35</th>\n",
       "      <th>36</th>\n",
       "      <th>37</th>\n",
       "      <th>38</th>\n",
       "      <th>39</th>\n",
       "      <th>40</th>\n",
       "      <th>41</th>\n",
       "      <th>42</th>\n",
       "      <th>43</th>\n",
       "      <th>44</th>\n",
       "      <th>45</th>\n",
       "      <th>46</th>\n",
       "      <th>47</th>\n",
       "      <th>48</th>\n",
       "      <th>49</th>\n",
       "    </tr>\n",
       "  </thead>\n",
       "  <tbody>\n",
       "    <tr>\n",
       "      <th>Token</th>\n",
       "      <td>In</td>\n",
       "      <td>2016</td>\n",
       "      <td>,</td>\n",
       "      <td>the</td>\n",
       "      <td>company</td>\n",
       "      <td>merged</td>\n",
       "      <td>two</td>\n",
       "      <td>of</td>\n",
       "      <td>its</td>\n",
       "      <td>divisions</td>\n",
       "      <td>,</td>\n",
       "      <td>SapientNitro</td>\n",
       "      <td>and</td>\n",
       "      <td>Razorfish</td>\n",
       "      <td>to</td>\n",
       "      <td>form</td>\n",
       "      <td>SapientRazorfish</td>\n",
       "      <td>which</td>\n",
       "      <td>was</td>\n",
       "      <td>led</td>\n",
       "      <td>by</td>\n",
       "      <td>Alan</td>\n",
       "      <td>Wexler</td>\n",
       "      <td>.A</td>\n",
       "      <td>few</td>\n",
       "      <td>years</td>\n",
       "      <td>later</td>\n",
       "      <td>in</td>\n",
       "      <td>2019</td>\n",
       "      <td>,</td>\n",
       "      <td>SapientRazorfish</td>\n",
       "      <td>and</td>\n",
       "      <td>Sapient</td>\n",
       "      <td>Consulting</td>\n",
       "      <td>were</td>\n",
       "      <td>consolidated</td>\n",
       "      <td>into</td>\n",
       "      <td>one</td>\n",
       "      <td>brand</td>\n",
       "      <td>,</td>\n",
       "      <td>Publicis</td>\n",
       "      <td>Sapient</td>\n",
       "      <td>under</td>\n",
       "      <td>the</td>\n",
       "      <td>leadership</td>\n",
       "      <td>of</td>\n",
       "      <td>CEO</td>\n",
       "      <td>Nigel</td>\n",
       "      <td>Vaz</td>\n",
       "      <td>.</td>\n",
       "    </tr>\n",
       "    <tr>\n",
       "      <th>Pred_Label</th>\n",
       "      <td>O</td>\n",
       "      <td>B-tim</td>\n",
       "      <td>O</td>\n",
       "      <td>O</td>\n",
       "      <td>O</td>\n",
       "      <td>O</td>\n",
       "      <td>O</td>\n",
       "      <td>O</td>\n",
       "      <td>O</td>\n",
       "      <td>O</td>\n",
       "      <td>O</td>\n",
       "      <td>B-org</td>\n",
       "      <td>O</td>\n",
       "      <td>B-org</td>\n",
       "      <td>O</td>\n",
       "      <td>O</td>\n",
       "      <td>B-org</td>\n",
       "      <td>O</td>\n",
       "      <td>O</td>\n",
       "      <td>O</td>\n",
       "      <td>O</td>\n",
       "      <td>B-per</td>\n",
       "      <td>I-per</td>\n",
       "      <td>O</td>\n",
       "      <td>O</td>\n",
       "      <td>O</td>\n",
       "      <td>O</td>\n",
       "      <td>O</td>\n",
       "      <td>B-tim</td>\n",
       "      <td>O</td>\n",
       "      <td>B-org</td>\n",
       "      <td>O</td>\n",
       "      <td>B-org</td>\n",
       "      <td>O</td>\n",
       "      <td>O</td>\n",
       "      <td>O</td>\n",
       "      <td>O</td>\n",
       "      <td>O</td>\n",
       "      <td>O</td>\n",
       "      <td>O</td>\n",
       "      <td>B-org</td>\n",
       "      <td>B-org</td>\n",
       "      <td>O</td>\n",
       "      <td>O</td>\n",
       "      <td>O</td>\n",
       "      <td>O</td>\n",
       "      <td>O</td>\n",
       "      <td>B-per</td>\n",
       "      <td>I-per</td>\n",
       "      <td>O</td>\n",
       "    </tr>\n",
       "  </tbody>\n",
       "</table>\n",
       "</div>"
      ],
      "text/plain": [
       "            0      1  2    3        4       5    6   7    8          9  10  \\\n",
       "Token       In   2016  ,  the  company  merged  two  of  its  divisions  ,   \n",
       "Pred_Label   O  B-tim  O    O        O       O    O   O    O          O  O   \n",
       "\n",
       "                      11   12         13  14    15                16     17  \\\n",
       "Token       SapientNitro  and  Razorfish  to  form  SapientRazorfish  which   \n",
       "Pred_Label         B-org    O      B-org   O     O             B-org      O   \n",
       "\n",
       "             18   19  20     21      22  23   24     25     26  27     28 29  \\\n",
       "Token       was  led  by   Alan  Wexler  .A  few  years  later  in   2019  ,   \n",
       "Pred_Label    O    O   O  B-per   I-per   O    O      O      O   O  B-tim  O   \n",
       "\n",
       "                          30   31       32          33    34            35  \\\n",
       "Token       SapientRazorfish  and  Sapient  Consulting  were  consolidated   \n",
       "Pred_Label             B-org    O    B-org           O     O             O   \n",
       "\n",
       "              36   37     38 39        40       41     42   43          44  \\\n",
       "Token       into  one  brand  ,  Publicis  Sapient  under  the  leadership   \n",
       "Pred_Label     O    O      O  O     B-org    B-org      O    O           O   \n",
       "\n",
       "            45   46     47     48 49  \n",
       "Token       of  CEO  Nigel    Vaz  .  \n",
       "Pred_Label   O    O  B-per  I-per  O  "
      ]
     },
     "execution_count": 133,
     "metadata": {},
     "output_type": "execute_result"
    }
   ],
   "source": [
    "new_df_ = pd.DataFrame(new_pred_, columns=['Token','Pred_Label'])\n",
    "new_df_.T"
   ]
  },
  {
   "cell_type": "markdown",
   "id": "fc691180-a04c-4b01-a95c-0e705b13cdf1",
   "metadata": {},
   "source": [
    "<p> Again, with our <font color=brown><b>loaded model and tokenizer</b></font>, the <b>results</b> are very promising &#x1F60A</p>"
   ]
  },
  {
   "cell_type": "markdown",
   "id": "129a296d-4503-4d62-b3e4-4eb9bd0dbdfe",
   "metadata": {},
   "source": [
    "<p><i style='color:brown'><b>\"Where some see uncertainty, we see possibilities.\"</b></i> &#x1F60A</p>"
   ]
  }
 ],
 "metadata": {
  "kernelspec": {
   "display_name": "jup_env",
   "language": "python",
   "name": "jup_env"
  },
  "language_info": {
   "codemirror_mode": {
    "name": "ipython",
    "version": 3
   },
   "file_extension": ".py",
   "mimetype": "text/x-python",
   "name": "python",
   "nbconvert_exporter": "python",
   "pygments_lexer": "ipython3",
   "version": "3.12.3"
  }
 },
 "nbformat": 4,
 "nbformat_minor": 5
}
